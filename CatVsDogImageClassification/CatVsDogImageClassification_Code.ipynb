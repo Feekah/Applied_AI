{
  "cells": [
    {
      "cell_type": "markdown",
      "source": [
        "# **Feline vs. Canine: The Ultimate Showdown of Image Classification**\n",
        "\n",
        "\n",
        "\n",
        ">\n",
        "\n"
      ],
      "metadata": {
        "id": "dkO94s4eS4Rw"
      }
    },
    {
      "cell_type": "code",
      "execution_count": null,
      "metadata": {
        "id": "3es8QvDsYmoq"
      },
      "outputs": [],
      "source": [
        "# import libraries\n",
        "import os\n",
        "import pandas as pd\n",
        "import numpy as np\n",
        "\n",
        "from PIL import Image\n",
        "from PIL import ImageOps\n",
        "\n",
        "import cv2\n",
        "from skimage.feature import hog\n",
        "from sklearn.model_selection import train_test_split\n",
        "from sklearn.decomposition import PCA\n",
        "\n",
        "# libraries for data plotting\n",
        "import plotly.express as px\n",
        "import plotly.graph_objects as go\n",
        "import matplotlib.pyplot as plt\n",
        "import seaborn as sns\n",
        "\n",
        "# library for evaluation\n",
        "from sklearn import metrics\n",
        "\n",
        "# libraries for ML algorithms\n",
        "from sklearn import svm\n",
        "from sklearn.ensemble import RandomForestClassifier\n",
        "\n",
        "from random import randint\n",
        "from random import seed\n",
        "from sklearn.preprocessing import LabelEncoder\n",
        "RANDOM_SEED = 100"
      ]
    },
    {
      "cell_type": "markdown",
      "metadata": {
        "id": "wgUunytVzS49"
      },
      "source": [
        "##Let the games begin!\n",
        "### Folder Unzipping"
      ]
    },
    {
      "cell_type": "code",
      "execution_count": null,
      "metadata": {
        "colab": {
          "base_uri": "https://localhost:8080/"
        },
        "id": "rsT0VtuXP1h5",
        "outputId": "05b97340-8e3e-40c4-fe3d-e6e609207434"
      },
      "outputs": [
        {
          "output_type": "stream",
          "name": "stdout",
          "text": [
            "Downloading...\n",
            "From: https://drive.google.com/uc?id=1ea-X2EK6a49Ond-YJZ6Dt0nqCQFpW0Pi\n",
            "To: /content/data.zip\n",
            "100% 472M/472M [00:06<00:00, 67.5MB/s]\n"
          ]
        }
      ],
      "source": [
        "#An easier way to unzips the libraries\n",
        "#This downloads the zip file directly\n",
        "\n",
        "!pip install --q --upgrade --no-cache-dir gdown\n",
        "!gdown 1ea-X2EK6a49Ond-YJZ6Dt0nqCQFpW0Pi"
      ]
    },
    {
      "cell_type": "code",
      "execution_count": null,
      "metadata": {
        "id": "DxGnjshSP5eg"
      },
      "outputs": [],
      "source": [
        "import zipfile\n",
        "with zipfile.ZipFile('data.zip', 'r') as zip_ref:\n",
        "    zip_ref.extractall('.')"
      ]
    },
    {
      "cell_type": "markdown",
      "metadata": {
        "id": "RLLNcRTAY4Es"
      },
      "source": [
        "##How about the game server?\n",
        "###Loading the data sets"
      ]
    },
    {
      "cell_type": "code",
      "execution_count": null,
      "metadata": {
        "colab": {
          "base_uri": "https://localhost:8080/"
        },
        "id": "QXIG_cOKY1ig",
        "outputId": "3b35828a-c08a-4ab8-fcec-addeacf35cfd"
      },
      "outputs": [
        {
          "output_type": "stream",
          "name": "stdout",
          "text": [
            "Number of train entries: 10000\n",
            "Number of test entries: 1000\n"
          ]
        }
      ],
      "source": [
        "#load training data\n",
        "df_train = pd.read_csv('train.csv')\n",
        "\n",
        "#Load the test data\n",
        "df_test = pd.read_csv('test.csv')\n",
        "\n",
        "\n",
        "# summarise the details\n",
        "print(f'Number of train entries: {len(df_train)}')\n",
        "print(f'Number of test entries: {len(df_test)}')\n"
      ]
    },
    {
      "cell_type": "markdown",
      "source": [
        "##Are the cats and dogs in uniform?\n",
        "### Encoding the training data"
      ],
      "metadata": {
        "id": "I7_SchhuTlQ0"
      }
    },
    {
      "cell_type": "code",
      "execution_count": null,
      "metadata": {
        "id": "LPqz2Wt0Y71t"
      },
      "outputs": [],
      "source": [
        "#Create an encoder model\n",
        "le = LabelEncoder()\n",
        "\n",
        "#Fit the model on train data\n",
        "le.fit(df_train['label'])\n",
        "\n",
        "#Transform the label column and add the transformed column as 'encoded-data'\n",
        "df_train['encoded_data'] = le.transform(df_train['label'])"
      ]
    },
    {
      "cell_type": "code",
      "execution_count": null,
      "metadata": {
        "colab": {
          "base_uri": "https://localhost:8080/",
          "height": 206
        },
        "id": "w7GBOM12Zfb0",
        "outputId": "844478d5-1e38-42b9-ca60-139e058dcb0c"
      },
      "outputs": [
        {
          "output_type": "execute_result",
          "data": {
            "text/plain": [
              "   id label  encoded_data\n",
              "0   1   cat             0\n",
              "1   2   dog             1\n",
              "2   3   cat             0\n",
              "3   4   cat             0\n",
              "4   5   cat             0"
            ],
            "text/html": [
              "\n",
              "  <div id=\"df-3f6f13d4-669f-46b2-b1fb-5f1748a88044\">\n",
              "    <div class=\"colab-df-container\">\n",
              "      <div>\n",
              "<style scoped>\n",
              "    .dataframe tbody tr th:only-of-type {\n",
              "        vertical-align: middle;\n",
              "    }\n",
              "\n",
              "    .dataframe tbody tr th {\n",
              "        vertical-align: top;\n",
              "    }\n",
              "\n",
              "    .dataframe thead th {\n",
              "        text-align: right;\n",
              "    }\n",
              "</style>\n",
              "<table border=\"1\" class=\"dataframe\">\n",
              "  <thead>\n",
              "    <tr style=\"text-align: right;\">\n",
              "      <th></th>\n",
              "      <th>id</th>\n",
              "      <th>label</th>\n",
              "      <th>encoded_data</th>\n",
              "    </tr>\n",
              "  </thead>\n",
              "  <tbody>\n",
              "    <tr>\n",
              "      <th>0</th>\n",
              "      <td>1</td>\n",
              "      <td>cat</td>\n",
              "      <td>0</td>\n",
              "    </tr>\n",
              "    <tr>\n",
              "      <th>1</th>\n",
              "      <td>2</td>\n",
              "      <td>dog</td>\n",
              "      <td>1</td>\n",
              "    </tr>\n",
              "    <tr>\n",
              "      <th>2</th>\n",
              "      <td>3</td>\n",
              "      <td>cat</td>\n",
              "      <td>0</td>\n",
              "    </tr>\n",
              "    <tr>\n",
              "      <th>3</th>\n",
              "      <td>4</td>\n",
              "      <td>cat</td>\n",
              "      <td>0</td>\n",
              "    </tr>\n",
              "    <tr>\n",
              "      <th>4</th>\n",
              "      <td>5</td>\n",
              "      <td>cat</td>\n",
              "      <td>0</td>\n",
              "    </tr>\n",
              "  </tbody>\n",
              "</table>\n",
              "</div>\n",
              "      <button class=\"colab-df-convert\" onclick=\"convertToInteractive('df-3f6f13d4-669f-46b2-b1fb-5f1748a88044')\"\n",
              "              title=\"Convert this dataframe to an interactive table.\"\n",
              "              style=\"display:none;\">\n",
              "        \n",
              "  <svg xmlns=\"http://www.w3.org/2000/svg\" height=\"24px\"viewBox=\"0 0 24 24\"\n",
              "       width=\"24px\">\n",
              "    <path d=\"M0 0h24v24H0V0z\" fill=\"none\"/>\n",
              "    <path d=\"M18.56 5.44l.94 2.06.94-2.06 2.06-.94-2.06-.94-.94-2.06-.94 2.06-2.06.94zm-11 1L8.5 8.5l.94-2.06 2.06-.94-2.06-.94L8.5 2.5l-.94 2.06-2.06.94zm10 10l.94 2.06.94-2.06 2.06-.94-2.06-.94-.94-2.06-.94 2.06-2.06.94z\"/><path d=\"M17.41 7.96l-1.37-1.37c-.4-.4-.92-.59-1.43-.59-.52 0-1.04.2-1.43.59L10.3 9.45l-7.72 7.72c-.78.78-.78 2.05 0 2.83L4 21.41c.39.39.9.59 1.41.59.51 0 1.02-.2 1.41-.59l7.78-7.78 2.81-2.81c.8-.78.8-2.07 0-2.86zM5.41 20L4 18.59l7.72-7.72 1.47 1.35L5.41 20z\"/>\n",
              "  </svg>\n",
              "      </button>\n",
              "      \n",
              "  <style>\n",
              "    .colab-df-container {\n",
              "      display:flex;\n",
              "      flex-wrap:wrap;\n",
              "      gap: 12px;\n",
              "    }\n",
              "\n",
              "    .colab-df-convert {\n",
              "      background-color: #E8F0FE;\n",
              "      border: none;\n",
              "      border-radius: 50%;\n",
              "      cursor: pointer;\n",
              "      display: none;\n",
              "      fill: #1967D2;\n",
              "      height: 32px;\n",
              "      padding: 0 0 0 0;\n",
              "      width: 32px;\n",
              "    }\n",
              "\n",
              "    .colab-df-convert:hover {\n",
              "      background-color: #E2EBFA;\n",
              "      box-shadow: 0px 1px 2px rgba(60, 64, 67, 0.3), 0px 1px 3px 1px rgba(60, 64, 67, 0.15);\n",
              "      fill: #174EA6;\n",
              "    }\n",
              "\n",
              "    [theme=dark] .colab-df-convert {\n",
              "      background-color: #3B4455;\n",
              "      fill: #D2E3FC;\n",
              "    }\n",
              "\n",
              "    [theme=dark] .colab-df-convert:hover {\n",
              "      background-color: #434B5C;\n",
              "      box-shadow: 0px 1px 3px 1px rgba(0, 0, 0, 0.15);\n",
              "      filter: drop-shadow(0px 1px 2px rgba(0, 0, 0, 0.3));\n",
              "      fill: #FFFFFF;\n",
              "    }\n",
              "  </style>\n",
              "\n",
              "      <script>\n",
              "        const buttonEl =\n",
              "          document.querySelector('#df-3f6f13d4-669f-46b2-b1fb-5f1748a88044 button.colab-df-convert');\n",
              "        buttonEl.style.display =\n",
              "          google.colab.kernel.accessAllowed ? 'block' : 'none';\n",
              "\n",
              "        async function convertToInteractive(key) {\n",
              "          const element = document.querySelector('#df-3f6f13d4-669f-46b2-b1fb-5f1748a88044');\n",
              "          const dataTable =\n",
              "            await google.colab.kernel.invokeFunction('convertToInteractive',\n",
              "                                                     [key], {});\n",
              "          if (!dataTable) return;\n",
              "\n",
              "          const docLinkHtml = 'Like what you see? Visit the ' +\n",
              "            '<a target=\"_blank\" href=https://colab.research.google.com/notebooks/data_table.ipynb>data table notebook</a>'\n",
              "            + ' to learn more about interactive tables.';\n",
              "          element.innerHTML = '';\n",
              "          dataTable['output_type'] = 'display_data';\n",
              "          await google.colab.output.renderOutput(dataTable, element);\n",
              "          const docLink = document.createElement('div');\n",
              "          docLink.innerHTML = docLinkHtml;\n",
              "          element.appendChild(docLink);\n",
              "        }\n",
              "      </script>\n",
              "    </div>\n",
              "  </div>\n",
              "  "
            ]
          },
          "metadata": {},
          "execution_count": 9
        }
      ],
      "source": [
        "#Check the data\n",
        "df_train.head()"
      ]
    },
    {
      "cell_type": "markdown",
      "source": [
        "## Can Plotly tell us how many cats and dogs?"
      ],
      "metadata": {
        "id": "h7pV9Hs7VCj0"
      }
    },
    {
      "cell_type": "code",
      "source": [
        "counts = df_train['label'].value_counts()\n",
        "counts = counts.reset_index()\n",
        "counts.columns = ['animal', 'count']\n",
        "\n",
        "fig = px.scatter(counts, x=\"animal\", y=\"count\",\n",
        "                 size=\"count\", size_max=150, color=\"count\",\n",
        "                 hover_name=\"count\", text=\"animal\",\n",
        "                 title=\"Animals countplot\")\n",
        "\n",
        "# Set the x-axis and y-axis labels\n",
        "fig.update_layout(xaxis_title=\"Animal type\", yaxis_title=\"count\", height=600, width=1000, template=\"plotly_dark\")\n",
        "\n",
        "\n",
        "# Show the chart\n",
        "fig.show()"
      ],
      "metadata": {
        "colab": {
          "base_uri": "https://localhost:8080/",
          "height": 617
        },
        "id": "wJLSNKEsSH6Z",
        "outputId": "476a2dbf-bf96-4938-bd5f-60aba0f60f62"
      },
      "execution_count": null,
      "outputs": [
        {
          "output_type": "display_data",
          "data": {
            "text/html": [
              "<html>\n",
              "<head><meta charset=\"utf-8\" /></head>\n",
              "<body>\n",
              "    <div>            <script src=\"https://cdnjs.cloudflare.com/ajax/libs/mathjax/2.7.5/MathJax.js?config=TeX-AMS-MML_SVG\"></script><script type=\"text/javascript\">if (window.MathJax) {MathJax.Hub.Config({SVG: {font: \"STIX-Web\"}});}</script>                <script type=\"text/javascript\">window.PlotlyConfig = {MathJaxConfig: 'local'};</script>\n",
              "        <script src=\"https://cdn.plot.ly/plotly-2.8.3.min.js\"></script>                <div id=\"b629a17e-a5a7-4aa3-b7e8-71261ad7e4f1\" class=\"plotly-graph-div\" style=\"height:600px; width:1000px;\"></div>            <script type=\"text/javascript\">                                    window.PLOTLYENV=window.PLOTLYENV || {};                                    if (document.getElementById(\"b629a17e-a5a7-4aa3-b7e8-71261ad7e4f1\")) {                    Plotly.newPlot(                        \"b629a17e-a5a7-4aa3-b7e8-71261ad7e4f1\",                        [{\"hovertemplate\":\"<b>%{hovertext}</b><br><br>animal=%{text}<br>count=%{marker.color}<extra></extra>\",\"hovertext\":[5011.0,4989.0],\"legendgroup\":\"\",\"marker\":{\"color\":[5011,4989],\"coloraxis\":\"coloraxis\",\"size\":[5011,4989],\"sizemode\":\"area\",\"sizeref\":0.2227111111111111,\"symbol\":\"circle\"},\"mode\":\"markers+text\",\"name\":\"\",\"orientation\":\"v\",\"showlegend\":false,\"text\":[\"dog\",\"cat\"],\"x\":[\"dog\",\"cat\"],\"xaxis\":\"x\",\"y\":[5011,4989],\"yaxis\":\"y\",\"type\":\"scatter\"}],                        {\"template\":{\"data\":{\"barpolar\":[{\"marker\":{\"line\":{\"color\":\"rgb(17,17,17)\",\"width\":0.5},\"pattern\":{\"fillmode\":\"overlay\",\"size\":10,\"solidity\":0.2}},\"type\":\"barpolar\"}],\"bar\":[{\"error_x\":{\"color\":\"#f2f5fa\"},\"error_y\":{\"color\":\"#f2f5fa\"},\"marker\":{\"line\":{\"color\":\"rgb(17,17,17)\",\"width\":0.5},\"pattern\":{\"fillmode\":\"overlay\",\"size\":10,\"solidity\":0.2}},\"type\":\"bar\"}],\"carpet\":[{\"aaxis\":{\"endlinecolor\":\"#A2B1C6\",\"gridcolor\":\"#506784\",\"linecolor\":\"#506784\",\"minorgridcolor\":\"#506784\",\"startlinecolor\":\"#A2B1C6\"},\"baxis\":{\"endlinecolor\":\"#A2B1C6\",\"gridcolor\":\"#506784\",\"linecolor\":\"#506784\",\"minorgridcolor\":\"#506784\",\"startlinecolor\":\"#A2B1C6\"},\"type\":\"carpet\"}],\"choropleth\":[{\"colorbar\":{\"outlinewidth\":0,\"ticks\":\"\"},\"type\":\"choropleth\"}],\"contourcarpet\":[{\"colorbar\":{\"outlinewidth\":0,\"ticks\":\"\"},\"type\":\"contourcarpet\"}],\"contour\":[{\"colorbar\":{\"outlinewidth\":0,\"ticks\":\"\"},\"colorscale\":[[0.0,\"#0d0887\"],[0.1111111111111111,\"#46039f\"],[0.2222222222222222,\"#7201a8\"],[0.3333333333333333,\"#9c179e\"],[0.4444444444444444,\"#bd3786\"],[0.5555555555555556,\"#d8576b\"],[0.6666666666666666,\"#ed7953\"],[0.7777777777777778,\"#fb9f3a\"],[0.8888888888888888,\"#fdca26\"],[1.0,\"#f0f921\"]],\"type\":\"contour\"}],\"heatmapgl\":[{\"colorbar\":{\"outlinewidth\":0,\"ticks\":\"\"},\"colorscale\":[[0.0,\"#0d0887\"],[0.1111111111111111,\"#46039f\"],[0.2222222222222222,\"#7201a8\"],[0.3333333333333333,\"#9c179e\"],[0.4444444444444444,\"#bd3786\"],[0.5555555555555556,\"#d8576b\"],[0.6666666666666666,\"#ed7953\"],[0.7777777777777778,\"#fb9f3a\"],[0.8888888888888888,\"#fdca26\"],[1.0,\"#f0f921\"]],\"type\":\"heatmapgl\"}],\"heatmap\":[{\"colorbar\":{\"outlinewidth\":0,\"ticks\":\"\"},\"colorscale\":[[0.0,\"#0d0887\"],[0.1111111111111111,\"#46039f\"],[0.2222222222222222,\"#7201a8\"],[0.3333333333333333,\"#9c179e\"],[0.4444444444444444,\"#bd3786\"],[0.5555555555555556,\"#d8576b\"],[0.6666666666666666,\"#ed7953\"],[0.7777777777777778,\"#fb9f3a\"],[0.8888888888888888,\"#fdca26\"],[1.0,\"#f0f921\"]],\"type\":\"heatmap\"}],\"histogram2dcontour\":[{\"colorbar\":{\"outlinewidth\":0,\"ticks\":\"\"},\"colorscale\":[[0.0,\"#0d0887\"],[0.1111111111111111,\"#46039f\"],[0.2222222222222222,\"#7201a8\"],[0.3333333333333333,\"#9c179e\"],[0.4444444444444444,\"#bd3786\"],[0.5555555555555556,\"#d8576b\"],[0.6666666666666666,\"#ed7953\"],[0.7777777777777778,\"#fb9f3a\"],[0.8888888888888888,\"#fdca26\"],[1.0,\"#f0f921\"]],\"type\":\"histogram2dcontour\"}],\"histogram2d\":[{\"colorbar\":{\"outlinewidth\":0,\"ticks\":\"\"},\"colorscale\":[[0.0,\"#0d0887\"],[0.1111111111111111,\"#46039f\"],[0.2222222222222222,\"#7201a8\"],[0.3333333333333333,\"#9c179e\"],[0.4444444444444444,\"#bd3786\"],[0.5555555555555556,\"#d8576b\"],[0.6666666666666666,\"#ed7953\"],[0.7777777777777778,\"#fb9f3a\"],[0.8888888888888888,\"#fdca26\"],[1.0,\"#f0f921\"]],\"type\":\"histogram2d\"}],\"histogram\":[{\"marker\":{\"pattern\":{\"fillmode\":\"overlay\",\"size\":10,\"solidity\":0.2}},\"type\":\"histogram\"}],\"mesh3d\":[{\"colorbar\":{\"outlinewidth\":0,\"ticks\":\"\"},\"type\":\"mesh3d\"}],\"parcoords\":[{\"line\":{\"colorbar\":{\"outlinewidth\":0,\"ticks\":\"\"}},\"type\":\"parcoords\"}],\"pie\":[{\"automargin\":true,\"type\":\"pie\"}],\"scatter3d\":[{\"line\":{\"colorbar\":{\"outlinewidth\":0,\"ticks\":\"\"}},\"marker\":{\"colorbar\":{\"outlinewidth\":0,\"ticks\":\"\"}},\"type\":\"scatter3d\"}],\"scattercarpet\":[{\"marker\":{\"colorbar\":{\"outlinewidth\":0,\"ticks\":\"\"}},\"type\":\"scattercarpet\"}],\"scattergeo\":[{\"marker\":{\"colorbar\":{\"outlinewidth\":0,\"ticks\":\"\"}},\"type\":\"scattergeo\"}],\"scattergl\":[{\"marker\":{\"line\":{\"color\":\"#283442\"}},\"type\":\"scattergl\"}],\"scattermapbox\":[{\"marker\":{\"colorbar\":{\"outlinewidth\":0,\"ticks\":\"\"}},\"type\":\"scattermapbox\"}],\"scatterpolargl\":[{\"marker\":{\"colorbar\":{\"outlinewidth\":0,\"ticks\":\"\"}},\"type\":\"scatterpolargl\"}],\"scatterpolar\":[{\"marker\":{\"colorbar\":{\"outlinewidth\":0,\"ticks\":\"\"}},\"type\":\"scatterpolar\"}],\"scatter\":[{\"marker\":{\"line\":{\"color\":\"#283442\"}},\"type\":\"scatter\"}],\"scatterternary\":[{\"marker\":{\"colorbar\":{\"outlinewidth\":0,\"ticks\":\"\"}},\"type\":\"scatterternary\"}],\"surface\":[{\"colorbar\":{\"outlinewidth\":0,\"ticks\":\"\"},\"colorscale\":[[0.0,\"#0d0887\"],[0.1111111111111111,\"#46039f\"],[0.2222222222222222,\"#7201a8\"],[0.3333333333333333,\"#9c179e\"],[0.4444444444444444,\"#bd3786\"],[0.5555555555555556,\"#d8576b\"],[0.6666666666666666,\"#ed7953\"],[0.7777777777777778,\"#fb9f3a\"],[0.8888888888888888,\"#fdca26\"],[1.0,\"#f0f921\"]],\"type\":\"surface\"}],\"table\":[{\"cells\":{\"fill\":{\"color\":\"#506784\"},\"line\":{\"color\":\"rgb(17,17,17)\"}},\"header\":{\"fill\":{\"color\":\"#2a3f5f\"},\"line\":{\"color\":\"rgb(17,17,17)\"}},\"type\":\"table\"}]},\"layout\":{\"annotationdefaults\":{\"arrowcolor\":\"#f2f5fa\",\"arrowhead\":0,\"arrowwidth\":1},\"autotypenumbers\":\"strict\",\"coloraxis\":{\"colorbar\":{\"outlinewidth\":0,\"ticks\":\"\"}},\"colorscale\":{\"diverging\":[[0,\"#8e0152\"],[0.1,\"#c51b7d\"],[0.2,\"#de77ae\"],[0.3,\"#f1b6da\"],[0.4,\"#fde0ef\"],[0.5,\"#f7f7f7\"],[0.6,\"#e6f5d0\"],[0.7,\"#b8e186\"],[0.8,\"#7fbc41\"],[0.9,\"#4d9221\"],[1,\"#276419\"]],\"sequential\":[[0.0,\"#0d0887\"],[0.1111111111111111,\"#46039f\"],[0.2222222222222222,\"#7201a8\"],[0.3333333333333333,\"#9c179e\"],[0.4444444444444444,\"#bd3786\"],[0.5555555555555556,\"#d8576b\"],[0.6666666666666666,\"#ed7953\"],[0.7777777777777778,\"#fb9f3a\"],[0.8888888888888888,\"#fdca26\"],[1.0,\"#f0f921\"]],\"sequentialminus\":[[0.0,\"#0d0887\"],[0.1111111111111111,\"#46039f\"],[0.2222222222222222,\"#7201a8\"],[0.3333333333333333,\"#9c179e\"],[0.4444444444444444,\"#bd3786\"],[0.5555555555555556,\"#d8576b\"],[0.6666666666666666,\"#ed7953\"],[0.7777777777777778,\"#fb9f3a\"],[0.8888888888888888,\"#fdca26\"],[1.0,\"#f0f921\"]]},\"colorway\":[\"#636efa\",\"#EF553B\",\"#00cc96\",\"#ab63fa\",\"#FFA15A\",\"#19d3f3\",\"#FF6692\",\"#B6E880\",\"#FF97FF\",\"#FECB52\"],\"font\":{\"color\":\"#f2f5fa\"},\"geo\":{\"bgcolor\":\"rgb(17,17,17)\",\"lakecolor\":\"rgb(17,17,17)\",\"landcolor\":\"rgb(17,17,17)\",\"showlakes\":true,\"showland\":true,\"subunitcolor\":\"#506784\"},\"hoverlabel\":{\"align\":\"left\"},\"hovermode\":\"closest\",\"mapbox\":{\"style\":\"dark\"},\"paper_bgcolor\":\"rgb(17,17,17)\",\"plot_bgcolor\":\"rgb(17,17,17)\",\"polar\":{\"angularaxis\":{\"gridcolor\":\"#506784\",\"linecolor\":\"#506784\",\"ticks\":\"\"},\"bgcolor\":\"rgb(17,17,17)\",\"radialaxis\":{\"gridcolor\":\"#506784\",\"linecolor\":\"#506784\",\"ticks\":\"\"}},\"scene\":{\"xaxis\":{\"backgroundcolor\":\"rgb(17,17,17)\",\"gridcolor\":\"#506784\",\"gridwidth\":2,\"linecolor\":\"#506784\",\"showbackground\":true,\"ticks\":\"\",\"zerolinecolor\":\"#C8D4E3\"},\"yaxis\":{\"backgroundcolor\":\"rgb(17,17,17)\",\"gridcolor\":\"#506784\",\"gridwidth\":2,\"linecolor\":\"#506784\",\"showbackground\":true,\"ticks\":\"\",\"zerolinecolor\":\"#C8D4E3\"},\"zaxis\":{\"backgroundcolor\":\"rgb(17,17,17)\",\"gridcolor\":\"#506784\",\"gridwidth\":2,\"linecolor\":\"#506784\",\"showbackground\":true,\"ticks\":\"\",\"zerolinecolor\":\"#C8D4E3\"}},\"shapedefaults\":{\"line\":{\"color\":\"#f2f5fa\"}},\"sliderdefaults\":{\"bgcolor\":\"#C8D4E3\",\"bordercolor\":\"rgb(17,17,17)\",\"borderwidth\":1,\"tickwidth\":0},\"ternary\":{\"aaxis\":{\"gridcolor\":\"#506784\",\"linecolor\":\"#506784\",\"ticks\":\"\"},\"baxis\":{\"gridcolor\":\"#506784\",\"linecolor\":\"#506784\",\"ticks\":\"\"},\"bgcolor\":\"rgb(17,17,17)\",\"caxis\":{\"gridcolor\":\"#506784\",\"linecolor\":\"#506784\",\"ticks\":\"\"}},\"title\":{\"x\":0.05},\"updatemenudefaults\":{\"bgcolor\":\"#506784\",\"borderwidth\":0},\"xaxis\":{\"automargin\":true,\"gridcolor\":\"#283442\",\"linecolor\":\"#506784\",\"ticks\":\"\",\"title\":{\"standoff\":15},\"zerolinecolor\":\"#283442\",\"zerolinewidth\":2},\"yaxis\":{\"automargin\":true,\"gridcolor\":\"#283442\",\"linecolor\":\"#506784\",\"ticks\":\"\",\"title\":{\"standoff\":15},\"zerolinecolor\":\"#283442\",\"zerolinewidth\":2}}},\"xaxis\":{\"anchor\":\"y\",\"domain\":[0.0,1.0],\"title\":{\"text\":\"Animal type\"}},\"yaxis\":{\"anchor\":\"x\",\"domain\":[0.0,1.0],\"title\":{\"text\":\"count\"}},\"coloraxis\":{\"colorbar\":{\"title\":{\"text\":\"count\"}},\"colorscale\":[[0.0,\"#0d0887\"],[0.1111111111111111,\"#46039f\"],[0.2222222222222222,\"#7201a8\"],[0.3333333333333333,\"#9c179e\"],[0.4444444444444444,\"#bd3786\"],[0.5555555555555556,\"#d8576b\"],[0.6666666666666666,\"#ed7953\"],[0.7777777777777778,\"#fb9f3a\"],[0.8888888888888888,\"#fdca26\"],[1.0,\"#f0f921\"]]},\"legend\":{\"tracegroupgap\":0,\"itemsizing\":\"constant\"},\"title\":{\"text\":\"Animals countplot\"},\"height\":600,\"width\":1000},                        {\"responsive\": true}                    ).then(function(){\n",
              "                            \n",
              "var gd = document.getElementById('b629a17e-a5a7-4aa3-b7e8-71261ad7e4f1');\n",
              "var x = new MutationObserver(function (mutations, observer) {{\n",
              "        var display = window.getComputedStyle(gd).display;\n",
              "        if (!display || display === 'none') {{\n",
              "            console.log([gd, 'removed!']);\n",
              "            Plotly.purge(gd);\n",
              "            observer.disconnect();\n",
              "        }}\n",
              "}});\n",
              "\n",
              "// Listen for the removal of the full notebook cells\n",
              "var notebookContainer = gd.closest('#notebook-container');\n",
              "if (notebookContainer) {{\n",
              "    x.observe(notebookContainer, {childList: true});\n",
              "}}\n",
              "\n",
              "// Listen for the clearing of the current output cell\n",
              "var outputEl = gd.closest('.output');\n",
              "if (outputEl) {{\n",
              "    x.observe(outputEl, {childList: true});\n",
              "}}\n",
              "\n",
              "                        })                };                            </script>        </div>\n",
              "</body>\n",
              "</html>"
            ]
          },
          "metadata": {}
        }
      ]
    },
    {
      "cell_type": "markdown",
      "metadata": {
        "id": "0T1JqzBw02ov"
      },
      "source": [
        "## Loading the digital cats and Dogs\n",
        "###Loading the test and train images"
      ]
    },
    {
      "cell_type": "code",
      "execution_count": null,
      "metadata": {
        "id": "ihQijjmibPXj"
      },
      "outputs": [],
      "source": [
        "#Create a function that loads the images and resizes if necessary, and returns the images\n",
        "def load_images(ids, folder_path, dim):\n",
        "  images = []\n",
        "  for id in ids:\n",
        "    image_path = os.path.join(folder_path, f'{id}.jpg')\n",
        "    img = cv2.imread(image_path)\n",
        "\n",
        "# Resize function\n",
        "    if img.shape[0] != dim[1] or img.shape[1] != dim[0]:\n",
        "      img = cv2.resize(img, dim)\n",
        "    images.append(img)\n",
        "  return images"
      ]
    },
    {
      "cell_type": "markdown",
      "source": [
        "## Ensuring they follow the rules :)-\n",
        "###Resizing the images if necessary"
      ],
      "metadata": {
        "id": "rgoleND1VNaK"
      }
    },
    {
      "cell_type": "code",
      "execution_count": null,
      "metadata": {
        "colab": {
          "base_uri": "https://localhost:8080/"
        },
        "id": "0ayw62e4kgZt",
        "outputId": "143b4707-3704-4f80-c258-aebead443113"
      },
      "outputs": [
        {
          "output_type": "stream",
          "name": "stdout",
          "text": [
            "Number of training images loaded: 10000\n",
            "Number of testing images loaded: 1000\n"
          ]
        }
      ],
      "source": [
        "#Specify the base dimensions\n",
        "base_dim = (200, 200)\n",
        "\n",
        "# load train images\n",
        "train_image_folder = os.path.join('train_images')\n",
        "train_images = load_images(df_train['id'], train_image_folder, base_dim)\n",
        "print(f'Number of training images loaded: {len(train_images)}')\n",
        "\n",
        "# load test images\n",
        "test_image_folder = os.path.join('test_images')\n",
        "test_images = load_images(df_test['id'], test_image_folder, base_dim)\n",
        "print(f'Number of testing images loaded: {len(test_images)}')"
      ]
    },
    {
      "cell_type": "markdown",
      "metadata": {
        "id": "LDgfRkS1kV9Q"
      },
      "source": [
        "## The Scoreboard :)-\n",
        "### Function for Evaluation"
      ]
    },
    {
      "cell_type": "code",
      "execution_count": null,
      "metadata": {
        "id": "UKtAoOUcujQa"
      },
      "outputs": [],
      "source": [
        "# method to plot confusion matrix\n",
        "def plot_confusion_matrix(matrix):\n",
        "    plt.clf()\n",
        "    plt.imshow(matrix, interpolation='nearest', cmap=plt.cm.Set2_r)\n",
        "    classNames = ['0', '1']\n",
        "    plt.title('Confusion Matrix')\n",
        "    plt.ylabel('Actual')\n",
        "    plt.xlabel('Predicted')\n",
        "    tick_marks = np.arange(len(classNames))\n",
        "    plt.xticks(tick_marks, classNames)\n",
        "    plt.yticks(tick_marks, classNames)\n",
        "    s = [['TN','FP'], ['FN', 'TP']]\n",
        "\n",
        "    for i in range(2):\n",
        "        for j in range(2):\n",
        "            plt.text(j,i, str(s[i][j])+\" = \"+str(matrix[i][j]))\n",
        "    plt.show()\n",
        "\n",
        "# method to calculate evaluation results\n",
        "def evaluate(actuals, predictions):\n",
        "  accuracy = metrics.accuracy_score(actuals, predictions)\n",
        "  confusion_matrix = metrics.confusion_matrix(actuals, predictions, labels=[0, 1])\n",
        "  return accuracy, confusion_matrix"
      ]
    },
    {
      "cell_type": "markdown",
      "metadata": {
        "id": "oUAtz0IKIlCd"
      },
      "source": [
        "## The Referees )-:\n",
        "###Model building"
      ]
    },
    {
      "cell_type": "code",
      "execution_count": null,
      "metadata": {
        "id": "miHFLfq69Bn9"
      },
      "outputs": [],
      "source": [
        "#Define SVM --linear\n",
        "def build_svm_lin_model(X_train, X_val, y_train, y_val):\n",
        "  clf = svm.SVC(kernel='linear', random_state=RANDOM_SEED)\n",
        "  clf.fit(X_train, y_train)\n",
        "  return clf"
      ]
    },
    {
      "cell_type": "code",
      "execution_count": null,
      "metadata": {
        "id": "Q5G9lgNczanE"
      },
      "outputs": [],
      "source": [
        "#Define SVM --rbf\n",
        "def build_svm_rbf_model(X_train, X_val, y_train, y_val):\n",
        "  clf = svm.SVC(kernel='rbf', random_state=RANDOM_SEED)\n",
        "  clf.fit(X_train, y_train)\n",
        "  return clf"
      ]
    },
    {
      "cell_type": "code",
      "execution_count": null,
      "metadata": {
        "id": "iMGDAGdZzgGJ"
      },
      "outputs": [],
      "source": [
        "#Define SVM --poly\n",
        "def build_svm_poly_model(X_train, X_val, y_train, y_val):\n",
        "  clf = svm.SVC(kernel='poly', random_state=RANDOM_SEED)\n",
        "  clf.fit(X_train, y_train)\n",
        "  return clf"
      ]
    },
    {
      "cell_type": "code",
      "execution_count": null,
      "metadata": {
        "id": "ED8PyqSRzlhC"
      },
      "outputs": [],
      "source": [
        "#Define SVM --sigmoid\n",
        "def build_svm_sigm_model(X_train, X_val, y_train, y_val):\n",
        "  clf = svm.SVC(kernel='sigmoid', random_state=RANDOM_SEED)\n",
        "  clf.fit(X_train, y_train)\n",
        "  return clf"
      ]
    },
    {
      "cell_type": "code",
      "source": [
        "#Define random forest\n",
        "def build_rfc_model(X_train, X_val, y_train, y_val):\n",
        "  clf = RandomForestClassifier(n_estimators=100, max_depth=10, random_state=RANDOM_SEED)\n",
        "  clf.fit(X_train, y_train)\n",
        "  return clf"
      ],
      "metadata": {
        "id": "aZ32hQmMqCb6"
      },
      "execution_count": null,
      "outputs": []
    },
    {
      "cell_type": "markdown",
      "metadata": {
        "id": "55iL9ZFD1FwB"
      },
      "source": [
        "## Judge 1\n",
        "### Feature Extraction: grayscaling only"
      ]
    },
    {
      "cell_type": "code",
      "execution_count": null,
      "metadata": {
        "id": "7i7UIVwGlAbo"
      },
      "outputs": [],
      "source": [
        "#Create a function for grayscaling, vectorizing, and feature extraction\n",
        "\n",
        "def get_features_m1(images):\n",
        "  features_list = []\n",
        "  for img in images:\n",
        "    #Grayscaling\n",
        "    img_grayscaled = cv2.cvtColor(img, cv2.COLOR_BGR2GRAY)\n",
        "\n",
        "    #Vectorization\n",
        "    features = img_grayscaled.flatten()\n",
        "\n",
        "    #Appending the new features to a list\n",
        "    features_list.append(features)\n",
        "\n",
        "  #Converting the list to an array\n",
        "  features_list = np.array(features_list)\n",
        "\n",
        "  #Return the list\n",
        "  return features_list"
      ]
    },
    {
      "cell_type": "code",
      "execution_count": null,
      "metadata": {
        "colab": {
          "base_uri": "https://localhost:8080/"
        },
        "id": "fMAMCltH9wIt",
        "outputId": "851b8205-1a14-479a-a179-54fcb66f110e"
      },
      "outputs": [
        {
          "output_type": "stream",
          "name": "stdout",
          "text": [
            "(10000, 22500)\n"
          ]
        }
      ],
      "source": [
        "# Run the get_features function on the train images and print the shape\n",
        "features_train = get_features_m1(train_images)\n",
        "print(features_train.shape)"
      ]
    },
    {
      "cell_type": "code",
      "execution_count": null,
      "metadata": {
        "id": "7OavUvCD9x9H"
      },
      "outputs": [],
      "source": [
        "# data split for train and validation\n",
        "X_train, X_val, y_train, y_val = train_test_split(features_train, df_train['encoded_data'], test_size=0.3, random_state=RANDOM_SEED)"
      ]
    },
    {
      "cell_type": "markdown",
      "metadata": {
        "id": "Pud585YJ1lZq"
      },
      "source": [
        "# **Let the games Begin!**\n",
        "### Model Training"
      ]
    },
    {
      "cell_type": "markdown",
      "metadata": {
        "id": "reHMYa0mIZ_k"
      },
      "source": [
        "#### Model 1\n",
        "\n",
        "- gray scaling<br>\n",
        "- image vector<br>\n",
        "- SVM Linear <br>"
      ]
    },
    {
      "cell_type": "code",
      "execution_count": null,
      "metadata": {
        "id": "Bhp0j0Du1SGq"
      },
      "outputs": [],
      "source": [
        "# train model\n",
        "m1 = build_svm_lin_model(X_train, X_val, y_train, y_val)"
      ]
    },
    {
      "cell_type": "code",
      "execution_count": null,
      "metadata": {
        "colab": {
          "base_uri": "https://localhost:8080/",
          "height": 313
        },
        "id": "fx4pGnMu-EAh",
        "outputId": "257c9b6c-f1a8-4532-865c-2f47d76feaf7"
      },
      "outputs": [
        {
          "output_type": "stream",
          "name": "stdout",
          "text": [
            "Accuracy: 0.516\n"
          ]
        },
        {
          "output_type": "display_data",
          "data": {
            "text/plain": [
              "<Figure size 432x288 with 1 Axes>"
            ],
            "image/png": "[encoded data removed]"
          },
          "metadata": {
            "needs_background": "light"
          }
        }
      ],
      "source": [
        "# make predictions on validation data\n",
        "y_pred = m1.predict(X_val)\n",
        "\n",
        "# evaluate model\n",
        "accuracy, confusion_matrix = evaluate(y_val, y_pred)\n",
        "print(f'Accuracy: {accuracy}')\n",
        "plot_confusion_matrix(confusion_matrix)\n"
      ]
    },
    {
      "cell_type": "markdown",
      "metadata": {
        "id": "V7VyYQ174Z8w"
      },
      "source": [
        "#### Model 2\n",
        "\n",
        "- gray scaling<br>\n",
        "- image vector<br>\n",
        "- SVM rbf <br>"
      ]
    },
    {
      "cell_type": "code",
      "execution_count": null,
      "metadata": {
        "id": "bVHrwrhq4kDB"
      },
      "outputs": [],
      "source": [
        "# train model\n",
        "m2 = build_svm_rbf_model(X_train, X_val, y_train, y_val)"
      ]
    },
    {
      "cell_type": "code",
      "execution_count": null,
      "metadata": {
        "colab": {
          "base_uri": "https://localhost:8080/",
          "height": 313
        },
        "id": "MXSXcdi5HfAe",
        "outputId": "8a424146-d29b-4a04-9013-f4ee126c8679"
      },
      "outputs": [
        {
          "output_type": "stream",
          "name": "stdout",
          "text": [
            "Accuracy: 0.6423333333333333\n"
          ]
        },
        {
          "output_type": "display_data",
          "data": {
            "text/plain": [
              "<Figure size 432x288 with 1 Axes>"
            ],
            "image/png": "[encoded data removed]"
          },
          "metadata": {
            "needs_background": "light"
          }
        }
      ],
      "source": [
        "# make predictions on validation data\n",
        "y_pred = m2.predict(X_val)\n",
        "\n",
        "# evaluate model\n",
        "accuracy, confusion_matrix = evaluate(y_val, y_pred)\n",
        "print(f'Accuracy: {accuracy}')\n",
        "plot_confusion_matrix(confusion_matrix)"
      ]
    },
    {
      "cell_type": "markdown",
      "metadata": {
        "id": "Krv2i_CC463c"
      },
      "source": [
        "#### Model 3\n",
        "\n",
        "- gray scaling<br>\n",
        "- image vector<br>\n",
        "- SVM poly <br>"
      ]
    },
    {
      "cell_type": "code",
      "execution_count": null,
      "metadata": {
        "id": "sDWBvmC74rly"
      },
      "outputs": [],
      "source": [
        "# train model\n",
        "m3 = build_svm_poly_model(X_train, X_val, y_train, y_val)"
      ]
    },
    {
      "cell_type": "code",
      "execution_count": null,
      "metadata": {
        "colab": {
          "base_uri": "https://localhost:8080/",
          "height": 313
        },
        "id": "XE0tE36DHfAf",
        "outputId": "7ae13ed2-1bfb-4ec9-e953-7d9dd44aa98c"
      },
      "outputs": [
        {
          "output_type": "stream",
          "name": "stdout",
          "text": [
            "Accuracy: 0.5986666666666667\n"
          ]
        },
        {
          "output_type": "display_data",
          "data": {
            "text/plain": [
              "<Figure size 432x288 with 1 Axes>"
            ],
            "image/png": "[encoded data removed]"
          },
          "metadata": {
            "needs_background": "light"
          }
        }
      ],
      "source": [
        "# make predictions on validation data\n",
        "y_pred = m3.predict(X_val)\n",
        "\n",
        "# evaluate model\n",
        "accuracy, confusion_matrix = evaluate(y_val, y_pred)\n",
        "print(f'Accuracy: {accuracy}')\n",
        "plot_confusion_matrix(confusion_matrix)"
      ]
    },
    {
      "cell_type": "markdown",
      "metadata": {
        "id": "yUUsteLu4-vk"
      },
      "source": [
        "#### Model 4\n",
        "\n",
        "- gray scaling<br>\n",
        "- image vector<br>\n",
        "- SVM sigm <br>"
      ]
    },
    {
      "cell_type": "code",
      "execution_count": null,
      "metadata": {
        "id": "TYyTLSu44tUK"
      },
      "outputs": [],
      "source": [
        "# train model\n",
        "m4 = build_svm_sigm_model(X_train, X_val, y_train, y_val)"
      ]
    },
    {
      "cell_type": "code",
      "source": [
        "# make predictions on validation data\n",
        "y_pred = m4.predict(X_val)\n",
        "\n",
        "# evaluate model\n",
        "accuracy, confusion_matrix = evaluate(y_val, y_pred)\n",
        "print(f'Accuracy: {accuracy}')\n",
        "plot_confusion_matrix(confusion_matrix)"
      ],
      "metadata": {
        "colab": {
          "base_uri": "https://localhost:8080/",
          "height": 313
        },
        "id": "ieQE18CvYzeN",
        "outputId": "f25939a2-15c4-41f3-eb18-4232e74c328b"
      },
      "execution_count": null,
      "outputs": [
        {
          "output_type": "stream",
          "name": "stdout",
          "text": [
            "Accuracy: 0.527\n"
          ]
        },
        {
          "output_type": "display_data",
          "data": {
            "text/plain": [
              "<Figure size 432x288 with 1 Axes>"
            ],
            "image/png": "[encoded data removed]"
          },
          "metadata": {
            "needs_background": "light"
          }
        }
      ]
    },
    {
      "cell_type": "markdown",
      "metadata": {
        "id": "GEJqr6diwVsC"
      },
      "source": [
        "## Feature Extraction with Gaussian smoothing"
      ]
    },
    {
      "cell_type": "code",
      "execution_count": null,
      "metadata": {
        "id": "-1wrVZN6Lk8Z"
      },
      "outputs": [],
      "source": [
        "#Function for grayscaling, blurring, and vectorizing\n",
        "def get_features_m2(images):\n",
        "  features_list = []\n",
        "  for img in images:\n",
        "    #Grayscaling\n",
        "    img_grayscaled = cv2.cvtColor(img, cv2.COLOR_BGR2GRAY)\n",
        "\n",
        "    #Blurring the image\n",
        "    img_blurred = cv2.GaussianBlur(img_grayscaled,(3,3), 2)\n",
        "\n",
        "\n",
        "    # vectorise/ feature extraction\n",
        "    features = img_blurred.flatten()\n",
        "\n",
        "    #Append the features to a list\n",
        "    features_list.append(features)\n",
        "\n",
        "  #Convert feature list to np array\n",
        "  features_list = np.array(features_list)\n",
        "\n",
        "  #Return the array\n",
        "  return features_list"
      ]
    },
    {
      "cell_type": "markdown",
      "metadata": {
        "id": "c9dSvZPLJ693"
      },
      "source": [
        "#### Model 5\n",
        "\n",
        "- gray scaling, smoothing: Gaussian <br>\n",
        "- image vector<br>\n",
        "- SVM --rbf <br>\n"
      ]
    },
    {
      "cell_type": "code",
      "execution_count": null,
      "metadata": {
        "colab": {
          "base_uri": "https://localhost:8080/"
        },
        "id": "VyqYkWS2CDKt",
        "outputId": "3575ff2a-7989-4b8d-bd94-12792dc2231e"
      },
      "outputs": [
        {
          "output_type": "stream",
          "name": "stdout",
          "text": [
            "(10000, 40000)\n"
          ]
        }
      ],
      "source": [
        "# feature extraction\n",
        "features_train = get_features_m2(train_images)\n",
        "print(features_train.shape)"
      ]
    },
    {
      "cell_type": "code",
      "execution_count": null,
      "metadata": {
        "id": "wVNI-d7ICJWq"
      },
      "outputs": [],
      "source": [
        "# data split for train and validation\n",
        "X_train, X_val, y_train, y_val = train_test_split(features_train, df_train['encoded_data'], test_size=0.3, random_state=RANDOM_SEED)\n",
        "\n",
        "# train model\n"
      ]
    },
    {
      "cell_type": "code",
      "source": [
        "m5 = build_svm_rbf_model(X_train, X_val, y_train, y_val)"
      ],
      "metadata": {
        "id": "jiOVDTz6Yfmm"
      },
      "execution_count": null,
      "outputs": []
    },
    {
      "cell_type": "code",
      "execution_count": null,
      "metadata": {
        "colab": {
          "base_uri": "https://localhost:8080/",
          "height": 313
        },
        "id": "WuvkEuXlCM1f",
        "outputId": "4af72414-5411-45cc-9355-5aeba4fb79c3"
      },
      "outputs": [
        {
          "output_type": "stream",
          "name": "stdout",
          "text": [
            "Accuracy: 0.64\n"
          ]
        },
        {
          "output_type": "display_data",
          "data": {
            "text/plain": [
              "<Figure size 432x288 with 1 Axes>"
            ],
            "image/png": "[encoded data removed]"
          },
          "metadata": {
            "needs_background": "light"
          }
        }
      ],
      "source": [
        "# make predictions on validation data\n",
        "y_pred = m5.predict(X_val)\n",
        "\n",
        "# evaluate model\n",
        "accuracy, confusion_matrix = evaluate(y_val, y_pred)\n",
        "print(f'Accuracy: {accuracy}')\n",
        "plot_confusion_matrix(confusion_matrix)"
      ]
    },
    {
      "cell_type": "markdown",
      "source": [
        "## Feature Extraction using Edge map to Vector"
      ],
      "metadata": {
        "id": "tvVjYypoR6HS"
      }
    },
    {
      "cell_type": "code",
      "execution_count": null,
      "metadata": {
        "id": "7ItJEMkMWp0D"
      },
      "outputs": [],
      "source": [
        "# method to get image features\n",
        "def get_features_m3(images):\n",
        "  features_list = []\n",
        "  for img in images:\n",
        "    # image preprocessing\n",
        "    img_grayscaled = cv2.cvtColor(img, cv2.COLOR_BGR2GRAY)\n",
        "\n",
        "    # feature extraction\n",
        "    edges_canny = cv2.Canny(img_grayscaled, 100, 200)\n",
        "    features = edges_canny.flatten()\n",
        "\n",
        "    features_list.append(features)\n",
        "\n",
        "  features_list = np.array(features_list)\n",
        "  return features_list"
      ]
    },
    {
      "cell_type": "markdown",
      "metadata": {
        "id": "2a7LyRtpLuyK"
      },
      "source": [
        "#### Model 6\n",
        "\n",
        "- gray scaling <br>\n",
        "- edge map to vector<br>\n",
        "- SVM - **rbf** <br>\n"
      ]
    },
    {
      "cell_type": "code",
      "execution_count": null,
      "metadata": {
        "colab": {
          "base_uri": "https://localhost:8080/"
        },
        "id": "YY2zWztbEwgz",
        "outputId": "817ee613-7818-4899-c385-0274d0ef2922"
      },
      "outputs": [
        {
          "output_type": "stream",
          "name": "stdout",
          "text": [
            "(10000, 40000)\n"
          ]
        }
      ],
      "source": [
        "# feature extraction\n",
        "features_train = get_features_m3(train_images)\n",
        "print(features_train.shape)"
      ]
    },
    {
      "cell_type": "code",
      "execution_count": null,
      "metadata": {
        "id": "s-xVEl7hE1_3"
      },
      "outputs": [],
      "source": [
        "# data split for train and validation\n",
        "X_train, X_val, y_train, y_val = train_test_split(features_train, df_train['encoded_data'], test_size=0.3, random_state=RANDOM_SEED)\n",
        "\n",
        "# train model\n",
        "m6 = build_svm_rbf_model(X_train, X_val, y_train, y_val)"
      ]
    },
    {
      "cell_type": "code",
      "execution_count": null,
      "metadata": {
        "colab": {
          "base_uri": "https://localhost:8080/",
          "height": 313
        },
        "id": "IQnkRttbE65I",
        "outputId": "6dbff89a-04ff-464b-bd85-3a1fb5ba3c95"
      },
      "outputs": [
        {
          "output_type": "stream",
          "name": "stdout",
          "text": [
            "Accuracy: 0.6083333333333333\n"
          ]
        },
        {
          "output_type": "display_data",
          "data": {
            "text/plain": [
              "<Figure size 432x288 with 1 Axes>"
            ],
            "image/png": "[encoded data removed]"
          },
          "metadata": {
            "needs_background": "light"
          }
        }
      ],
      "source": [
        "# make predictions on validation data\n",
        "y_pred = m6.predict(X_val)\n",
        "\n",
        "# evaluate model\n",
        "accuracy, confusion_matrix = evaluate(y_val, y_pred)\n",
        "print(f'Accuracy: {accuracy}')\n",
        "plot_confusion_matrix(confusion_matrix)"
      ]
    },
    {
      "cell_type": "markdown",
      "source": [
        "##Feature Extraction with HOG vectorization"
      ],
      "metadata": {
        "id": "ncU7uEm3SMo_"
      }
    },
    {
      "cell_type": "code",
      "execution_count": null,
      "metadata": {
        "id": "GYfhPrDnbbVn"
      },
      "outputs": [],
      "source": [
        "# method to get image features\n",
        "def get_features_m4(images):\n",
        "  features_list = []\n",
        "  for img in images:\n",
        "    # image preprocessing\n",
        "    img_grayscaled = cv2.cvtColor(img, cv2.COLOR_BGR2GRAY)\n",
        "\n",
        "    # Resize image if necessary\n",
        "    img_resized = cv2.resize(img_grayscaled, (64, 128))\n",
        "\n",
        "    # feature extraction\n",
        "    features, hog_image = hog(img_resized, orientations=9, pixels_per_cell=(8, 8),\n",
        "                    cells_per_block=(2, 2), visualize=True)\n",
        "\n",
        "    features_list.append(features)\n",
        "\n",
        "  features_list = np.array(features_list)\n",
        "  return features_list"
      ]
    },
    {
      "cell_type": "markdown",
      "metadata": {
        "id": "SBgJHmuhZJgR"
      },
      "source": [
        "#### Model 7\n",
        "- gray scaling <br>\n",
        "- HOG features<br>\n",
        "- SVM rbf<br>"
      ]
    },
    {
      "cell_type": "code",
      "execution_count": null,
      "metadata": {
        "id": "EDkF__oWG_EZ",
        "colab": {
          "base_uri": "https://localhost:8080/"
        },
        "outputId": "3e00aa75-82b4-4c5f-eee7-c1c4967a43cf"
      },
      "outputs": [
        {
          "output_type": "stream",
          "name": "stdout",
          "text": [
            "(10000, 3780)\n"
          ]
        }
      ],
      "source": [
        "# feature extraction\n",
        "features_train = get_features_m4(train_images)\n",
        "print(features_train.shape)"
      ]
    },
    {
      "cell_type": "code",
      "execution_count": null,
      "metadata": {
        "id": "Gn9K9lpqHEZ3"
      },
      "outputs": [],
      "source": [
        "# data split for train and validation\n",
        "X_train, X_val, y_train, y_val = train_test_split(features_train, df_train['encoded_data'], test_size=0.3, random_state=RANDOM_SEED)\n",
        "\n",
        "# train model\n",
        "m7 = build_svm_rbf_model(X_train, X_val, y_train, y_val)"
      ]
    },
    {
      "cell_type": "code",
      "execution_count": null,
      "metadata": {
        "id": "8PE3qd5UHFAX",
        "colab": {
          "base_uri": "https://localhost:8080/",
          "height": 313
        },
        "outputId": "f4bf5e1b-bf4c-4dfb-e87a-d06d5eea659e"
      },
      "outputs": [
        {
          "output_type": "stream",
          "name": "stdout",
          "text": [
            "Accuracy: 0.7346666666666667\n"
          ]
        },
        {
          "output_type": "display_data",
          "data": {
            "text/plain": [
              "<Figure size 432x288 with 1 Axes>"
            ],
            "image/png": "[encoded data removed]"
          },
          "metadata": {
            "needs_background": "light"
          }
        }
      ],
      "source": [
        "# make predictions on validation data\n",
        "y_pred = m7.predict(X_val)\n",
        "\n",
        "# evaluate model\n",
        "accuracy, confusion_matrix = evaluate(y_val, y_pred)\n",
        "print(f'Accuracy: {accuracy}')\n",
        "plot_confusion_matrix(confusion_matrix)"
      ]
    },
    {
      "cell_type": "markdown",
      "source": [
        "## Feature extraction with image vector and edge map to vector"
      ],
      "metadata": {
        "id": "OEGp6y5VSufn"
      }
    },
    {
      "cell_type": "code",
      "execution_count": null,
      "metadata": {
        "id": "wZtbSAjUkpUC"
      },
      "outputs": [],
      "source": [
        "# method to get image features\n",
        "def get_features_m5(images):\n",
        "  features_list = []\n",
        "  for img in images:\n",
        "    # image preprocessing\n",
        "    img_grayscaled = cv2.cvtColor(img, cv2.COLOR_BGR2GRAY)\n",
        "\n",
        "    # feature extraction\n",
        "    edges_canny = cv2.Canny(img_grayscaled, 100, 200)\n",
        "    features1 = img_grayscaled.flatten()\n",
        "    features2 = edges_canny.flatten()\n",
        "    features = np.hstack((features1, features2))\n",
        "\n",
        "    features_list.append(features)\n",
        "\n",
        "  features_list = np.array(features_list)\n",
        "  return features_list"
      ]
    },
    {
      "cell_type": "markdown",
      "metadata": {
        "id": "LJNCXRbPk3bj"
      },
      "source": [
        "#### Model 8\n",
        "\n",
        "\n",
        "- gray scaling <br>\n",
        "- image vector + edge map vector<br>\n",
        "- SVM --rbf<br>"
      ]
    },
    {
      "cell_type": "code",
      "execution_count": null,
      "metadata": {
        "id": "VkuoF3aIJJS2",
        "colab": {
          "base_uri": "https://localhost:8080/"
        },
        "outputId": "0590b3ce-0744-476c-9984-670970063974"
      },
      "outputs": [
        {
          "output_type": "stream",
          "name": "stdout",
          "text": [
            "(10000, 80000)\n"
          ]
        }
      ],
      "source": [
        "# feature extraction\n",
        "features_train = get_features_m5(train_images)\n",
        "print(features_train.shape)"
      ]
    },
    {
      "cell_type": "code",
      "execution_count": null,
      "metadata": {
        "id": "xNpWlh3GJMoI"
      },
      "outputs": [],
      "source": [
        "# data split for train and validation\n",
        "X_train, X_val, y_train, y_val = train_test_split(features_train, df_train['encoded_data'], test_size=0.3, random_state=RANDOM_SEED)\n",
        "\n",
        "# train model\n",
        "m8 = build_svm_rbf_model(X_train, X_val, y_train, y_val)"
      ]
    },
    {
      "cell_type": "code",
      "execution_count": null,
      "metadata": {
        "id": "OKke5I8mJUP8",
        "colab": {
          "base_uri": "https://localhost:8080/",
          "height": 313
        },
        "outputId": "3f0ab16a-330b-402e-e593-1d426a72031b"
      },
      "outputs": [
        {
          "output_type": "stream",
          "name": "stdout",
          "text": [
            "Accuracy: 0.5786666666666667\n"
          ]
        },
        {
          "output_type": "display_data",
          "data": {
            "text/plain": [
              "<Figure size 432x288 with 1 Axes>"
            ],
            "image/png": "[encoded data removed]"
          },
          "metadata": {
            "needs_background": "light"
          }
        }
      ],
      "source": [
        "# make predictions on validation data\n",
        "y_pred = m8.predict(X_val)\n",
        "\n",
        "# evaluate model\n",
        "accuracy, confusion_matrix = evaluate(y_val, y_pred)\n",
        "print(f'Accuracy: {accuracy}')\n",
        "plot_confusion_matrix(confusion_matrix)"
      ]
    },
    {
      "cell_type": "markdown",
      "source": [
        "## Feature Extraction with Bilateral Filtering"
      ],
      "metadata": {
        "id": "qSE_GKG7fm6B"
      }
    },
    {
      "cell_type": "code",
      "source": [
        "#Function for grayscaling, blurring, and vectorizing\n",
        "def get_features_m6(images):\n",
        "  features_list = []\n",
        "  for img in images:\n",
        "    #Grayscaling\n",
        "    img_grayscaled = cv2.cvtColor(img, cv2.COLOR_BGR2GRAY)\n",
        "\n",
        "    #Blurring the image\n",
        "    img_blurred = cv2.bilateralFilter(img_grayscaled, 7, 60, 60)\n",
        "\n",
        "       # Resize image if necessary\n",
        "    img_resized = cv2.resize(img_grayscaled, (64, 128))\n",
        "\n",
        "    # feature extraction\n",
        "    features, hog_image = hog(img_resized, orientations=9, pixels_per_cell=(8, 8),\n",
        "                    cells_per_block=(2, 2), visualize=True)\n",
        "\n",
        "    features_list.append(features)\n",
        "\n",
        "  features_list = np.array(features_list)\n",
        "  return features_list"
      ],
      "metadata": {
        "id": "N98DcEnwav9Z"
      },
      "execution_count": null,
      "outputs": []
    },
    {
      "cell_type": "markdown",
      "source": [
        "#### Model 9\n",
        "- Grayscaling, Bilateral Filtering <br>\n",
        "- HOG features<br>\n",
        "- SVM rbf<br>"
      ],
      "metadata": {
        "id": "aDUHvYDXbQit"
      }
    },
    {
      "cell_type": "code",
      "source": [
        "# feature extraction\n",
        "features_train = get_features_m6(train_images)\n",
        "print(features_train.shape)"
      ],
      "metadata": {
        "colab": {
          "base_uri": "https://localhost:8080/"
        },
        "id": "QtbBAypSbj-M",
        "outputId": "56e4b8ae-614e-4a0c-ad33-30b9e5fb7f13"
      },
      "execution_count": null,
      "outputs": [
        {
          "output_type": "stream",
          "name": "stdout",
          "text": [
            "(10000, 3780)\n"
          ]
        }
      ]
    },
    {
      "cell_type": "code",
      "source": [
        "# data split for train and validation\n",
        "X_train, X_val, y_train, y_val = train_test_split(features_train, df_train['encoded_data'], test_size=0.3, random_state=RANDOM_SEED)\n",
        "\n",
        "# train model\n",
        "m9 = build_svm_rbf_model(X_train, X_val, y_train, y_val)"
      ],
      "metadata": {
        "id": "QOgKDpAxdQtu"
      },
      "execution_count": null,
      "outputs": []
    },
    {
      "cell_type": "code",
      "source": [
        "# make predictions on validation data\n",
        "y_pred = m9.predict(X_val)\n",
        "\n",
        "# evaluate model\n",
        "accuracy, confusion_matrix = evaluate(y_val, y_pred)\n",
        "print(f'Accuracy: {accuracy}')\n",
        "plot_confusion_matrix(confusion_matrix)"
      ],
      "metadata": {
        "colab": {
          "base_uri": "https://localhost:8080/",
          "height": 313
        },
        "id": "L5G7n87keVjF",
        "outputId": "8f36e058-af04-4338-f0d2-96dd0e5b262c"
      },
      "execution_count": null,
      "outputs": [
        {
          "output_type": "stream",
          "name": "stdout",
          "text": [
            "Accuracy: 0.7346666666666667\n"
          ]
        },
        {
          "output_type": "display_data",
          "data": {
            "text/plain": [
              "<Figure size 432x288 with 1 Axes>"
            ],
            "image/png": "[encoded data removed]"
          },
          "metadata": {
            "needs_background": "light"
          }
        }
      ]
    },
    {
      "cell_type": "markdown",
      "source": [
        "#### Model 10\n",
        "- grayscalying, bilateral filtering <br>\n",
        "- HOG features<br>\n",
        "- Random forest<br>"
      ],
      "metadata": {
        "id": "uJmCBF4IrJVa"
      }
    },
    {
      "cell_type": "code",
      "source": [
        "# data split for train and validation\n",
        "X_train, X_val, y_train, y_val = train_test_split(features_train, df_train['encoded_data'], test_size=0.3, random_state=RANDOM_SEED)\n",
        "\n",
        "# train model\n",
        "m10 = build_rfc_model(X_train, X_val, y_train, y_val)"
      ],
      "metadata": {
        "id": "R4dNunS7ppb7"
      },
      "execution_count": null,
      "outputs": []
    },
    {
      "cell_type": "code",
      "source": [
        "# make predictions on validation data\n",
        "y_pred = m10.predict(X_val)\n",
        "\n",
        "# evaluate model\n",
        "accuracy, confusion_matrix = evaluate(y_val, y_pred)\n",
        "print(f'Accuracy: {accuracy}')\n",
        "plot_confusion_matrix(confusion_matrix)"
      ],
      "metadata": {
        "colab": {
          "base_uri": "https://localhost:8080/",
          "height": 313
        },
        "id": "_R3AxvDTq_vY",
        "outputId": "ae560db3-445e-48a0-fc44-efd96869ef11"
      },
      "execution_count": null,
      "outputs": [
        {
          "output_type": "stream",
          "name": "stdout",
          "text": [
            "Accuracy: 0.701\n"
          ]
        },
        {
          "output_type": "display_data",
          "data": {
            "text/plain": [
              "<Figure size 432x288 with 1 Axes>"
            ],
            "image/png": "[encoded data removed]"
          },
          "metadata": {
            "needs_background": "light"
          }
        }
      ]
    },
    {
      "cell_type": "markdown",
      "source": [
        "#### Model 11\n",
        "- grayscalying, bilateral filtering <br>\n",
        "- HOG features<br>\n",
        "- PCA <br>\n",
        "- SVM - rbf<br>"
      ],
      "metadata": {
        "id": "6Et5qSmRutPm"
      }
    },
    {
      "cell_type": "code",
      "source": [
        "# feature extraction\n",
        "features_train = get_features_m6(train_images)\n",
        "print(features_train.shape)"
      ],
      "metadata": {
        "colab": {
          "base_uri": "https://localhost:8080/"
        },
        "id": "1n6AOs0uv0C8",
        "outputId": "30d1c1a5-c3b1-4916-af7c-ba6207b519b2"
      },
      "execution_count": null,
      "outputs": [
        {
          "output_type": "stream",
          "name": "stdout",
          "text": [
            "(10000, 3780)\n"
          ]
        }
      ]
    },
    {
      "cell_type": "code",
      "source": [
        "# PCA\n",
        "from sklearn.decomposition import PCA\n",
        "\n",
        "# create PCA object\n",
        "pca = PCA(n_components=min(features_train.shape[0], features_train.shape[1]-1))\n",
        "\n",
        "# fit PCA to features\n",
        "pca.fit(features_train)\n",
        "\n",
        "# transform features using PCA\n",
        "features_train_pca = pca.transform(features_train)\n",
        "\n"
      ],
      "metadata": {
        "id": "777tQTTK0n1a"
      },
      "execution_count": null,
      "outputs": []
    },
    {
      "cell_type": "code",
      "source": [
        "# data split for train and validation\n",
        "X_train, X_val, y_train, y_val = train_test_split(features_train_pca, df_train['encoded_data'], test_size=0.3, random_state=RANDOM_SEED)\n",
        "\n",
        "# train model\n",
        "m11 = build_svm_rbf_model(X_train, X_val, y_train, y_val)"
      ],
      "metadata": {
        "id": "K8On9nD3u6Ff"
      },
      "execution_count": null,
      "outputs": []
    },
    {
      "cell_type": "code",
      "source": [
        "# make predictions on validation data\n",
        "y_pred = m11.predict(X_val)\n",
        "\n",
        "# evaluate model\n",
        "accuracy, confusion_matrix = evaluate(y_val, y_pred)\n",
        "print(f'Accuracy: {accuracy}')\n",
        "plot_confusion_matrix(confusion_matrix)"
      ],
      "metadata": {
        "colab": {
          "base_uri": "https://localhost:8080/",
          "height": 313
        },
        "id": "q-owEba5vTo6",
        "outputId": "87c0a8d6-dbe6-40dc-d109-872d4b03f79c"
      },
      "execution_count": null,
      "outputs": [
        {
          "output_type": "stream",
          "name": "stdout",
          "text": [
            "Accuracy: 0.736\n"
          ]
        },
        {
          "output_type": "display_data",
          "data": {
            "text/plain": [
              "<Figure size 432x288 with 1 Axes>"
            ],
            "image/png": "[encoded data removed]"
          },
          "metadata": {
            "needs_background": "light"
          }
        }
      ]
    },
    {
      "cell_type": "markdown",
      "source": [
        "#### Model 12\n",
        "- grayscalying, bilateral filtering <br>\n",
        "- HOG features<br>\n",
        "- PCA <br>\n",
        "- SVM - rbf<br>"
      ],
      "metadata": {
        "id": "hBgFNzVY4FKB"
      }
    },
    {
      "cell_type": "code",
      "source": [
        "# PCA\n",
        "from sklearn.decomposition import PCA\n",
        "\n",
        "# create PCA object\n",
        "pca = PCA(n_components=100)\n",
        "\n",
        "# fit PCA to features\n",
        "pca.fit(features_train)\n",
        "\n",
        "# transform features using PCA\n",
        "features_train_pca = pca.transform(features_train)\n"
      ],
      "metadata": {
        "id": "ccetnRho5Bol"
      },
      "execution_count": null,
      "outputs": []
    },
    {
      "cell_type": "code",
      "source": [
        "# data split for train and validation\n",
        "X_train, X_val, y_train, y_val = train_test_split(features_train_pca, df_train['encoded_data'], test_size=0.3, random_state=RANDOM_SEED)\n",
        "\n",
        "# train model\n",
        "m12 = build_svm_rbf_model(X_train, X_val, y_train, y_val)"
      ],
      "metadata": {
        "id": "VNc2d_3R6pxW"
      },
      "execution_count": null,
      "outputs": []
    },
    {
      "cell_type": "code",
      "source": [
        "# make predictions on validation data\n",
        "y_pred = m12.predict(X_val)\n",
        "\n",
        "# evaluate model\n",
        "accuracy, confusion_matrix = evaluate(y_val, y_pred)\n",
        "print(f'Accuracy: {accuracy}')\n",
        "plot_confusion_matrix(confusion_matrix)"
      ],
      "metadata": {
        "colab": {
          "base_uri": "https://localhost:8080/",
          "height": 313
        },
        "id": "7LneiQxP6tqT",
        "outputId": "7eab1ff6-beba-4bee-fa83-4ff4636e339d"
      },
      "execution_count": null,
      "outputs": [
        {
          "output_type": "stream",
          "name": "stdout",
          "text": [
            "Accuracy: 0.7503333333333333\n"
          ]
        },
        {
          "output_type": "display_data",
          "data": {
            "text/plain": [
              "<Figure size 432x288 with 1 Axes>"
            ],
            "image/png": "[encoded data removed]"
          },
          "metadata": {
            "needs_background": "light"
          }
        }
      ]
    },
    {
      "cell_type": "markdown",
      "source": [
        "##Feature Extraction using Morphology, GaussianBlur, adaptiveThreshold"
      ],
      "metadata": {
        "id": "wMwc_OGekAm5"
      }
    },
    {
      "cell_type": "code",
      "source": [
        "def get_features_m7(images):\n",
        "  features_list = []\n",
        "  for img in images:\n",
        "    # convert image to grayscale\n",
        "    img_grayscaled = cv2.cvtColor(img, cv2.COLOR_BGR2GRAY)\n",
        "\n",
        "    # apply Gaussian blur to reduce noise\n",
        "    # apply Gaussian blur to reduce noise\n",
        "    img_blurred = cv2.GaussianBlur(img_grayscaled, (3,3), 0)\n",
        "\n",
        "    # apply adaptive thresholding to enhance contrast\n",
        "    img_thresh = cv2.adaptiveThreshold(img_blurred, 280, cv2.ADAPTIVE_THRESH_MEAN_C, cv2.THRESH_BINARY_INV, 11, 5)\n",
        "\n",
        "    # apply morphology operations to remove small objects and fill gaps\n",
        "    kernel = np.ones((3,3), np.uint8)\n",
        "    img_morph = cv2.morphologyEx(img_thresh, cv2.MORPH_OPEN, kernel)\n",
        "    img_morph = cv2.morphologyEx(img_thresh, cv2.MORPH_CLOSE, kernel)\n",
        "\n",
        "\n",
        "    # Resize image if necessary\n",
        "    img_resized = cv2.resize(img_morph, (64, 128))\n",
        "\n",
        "    # feature extraction\n",
        "    features, hog_image = hog(img_resized, orientations=9, pixels_per_cell=(8, 8),\n",
        "                    cells_per_block=(2, 2), block_norm='L2-Hys',transform_sqrt=True, feature_vector=True, visualize=True)\n",
        "\n",
        "    features_list.append(features)\n",
        "\n",
        "  features_list = np.array(features_list)\n",
        "  return features_list"
      ],
      "metadata": {
        "id": "SkB708oqSy19"
      },
      "execution_count": null,
      "outputs": []
    },
    {
      "cell_type": "code",
      "source": [
        "# feature extraction\n",
        "features_train = get_features_m7(train_images)\n",
        "print(features_train.shape)"
      ],
      "metadata": {
        "colab": {
          "base_uri": "https://localhost:8080/"
        },
        "id": "tkwnZlkSY6vI",
        "outputId": "4688c5ae-ac82-4ac6-abc0-ca2a12c3848b"
      },
      "execution_count": null,
      "outputs": [
        {
          "output_type": "stream",
          "name": "stdout",
          "text": [
            "(10000, 3780)\n"
          ]
        }
      ]
    },
    {
      "cell_type": "code",
      "source": [
        "# PCA\n",
        "from sklearn.decomposition import PCA\n",
        "\n",
        "# create PCA object\n",
        "pca = PCA(n_components=107)\n",
        "\n",
        "# fit PCA to features\n",
        "pca.fit(features_train)\n",
        "\n",
        "# transform features using PCA\n",
        "features_train_pca = pca.transform(features_train)"
      ],
      "metadata": {
        "id": "CCR3dpttF_t_"
      },
      "execution_count": null,
      "outputs": []
    },
    {
      "cell_type": "code",
      "source": [
        "# data split for train and validation\n",
        "X_train, X_val, y_train, y_val = train_test_split(features_train_pca, df_train['encoded_data'], test_size=0.3, random_state=RANDOM_SEED)\n",
        "\n",
        "# train model\n",
        "m13 = build_svm_rbf_model(X_train, X_val, y_train, y_val)"
      ],
      "metadata": {
        "id": "bMbK0FkoGE6c"
      },
      "execution_count": null,
      "outputs": []
    },
    {
      "cell_type": "code",
      "source": [
        "# make predictions on validation data\n",
        "y_pred = m13.predict(X_val)\n",
        "\n",
        "# evaluate model\n",
        "accuracy, confusion_matrix = evaluate(y_val, y_pred)\n",
        "print(f'Accuracy: {accuracy}')\n",
        "plot_confusion_matrix(confusion_matrix)"
      ],
      "metadata": {
        "colab": {
          "base_uri": "https://localhost:8080/",
          "height": 313
        },
        "id": "kWgjYOluGI3e",
        "outputId": "45f786b5-548a-4426-a5ef-254a7bc6879e"
      },
      "execution_count": null,
      "outputs": [
        {
          "output_type": "stream",
          "name": "stdout",
          "text": [
            "Accuracy: 0.7703333333333333\n"
          ]
        },
        {
          "output_type": "display_data",
          "data": {
            "text/plain": [
              "<Figure size 432x288 with 1 Axes>"
            ],
            "image/png": "[encoded data removed]"
          },
          "metadata": {
            "needs_background": "light"
          }
        }
      ]
    },
    {
      "cell_type": "markdown",
      "metadata": {
        "id": "5UJMm7fpKRqn"
      },
      "source": [
        "#### Summary\n",
        "\n",
        "|Model | Preprocessing | Vectorization Technique   |ML Model|PCA| Accuracy|\n",
        "|------|---------------|------------|---------|--------|--------|\n",
        "|M1  | gray scaling | Image Vector|SVM - Linear|No| 0.516 |\n",
        "|M2    | gray scaling | Image Vector |SVM - rbf|No| 0.641 |\n",
        "|M3    | gray scaling | Image Vector |SVM poly|No| 0.599 |\n",
        "|M4    | gray scaling | Image Vector |SVM - Sigmoid|No| 0.527 |\n",
        "|M5    | gray scaling, smoothing   | Image Vector |SVM - rbf|No| 0.64 |\n",
        "|M6    | gray scaling| Edge map to Vector |SVM - rbf|No| 0.608 |\n",
        "|M7    | gray scaling | HOG |SVM - rbf|No| 0.735 |\n",
        "|M8    | gray scaling | Image Vector and Edge Map to Vector | SVM - linear |No|0.57866|\n",
        "|M9    | gray scaling, Bilateral filtering | HOG |SVM - rbf|No| 0.735 |\n",
        "|M10    | gray scaling | HOG |Random Forest|No| 0.701 |\n",
        "|M11    | gray scaling | HOG |SVM - rbf|Yes| 0.736 |\n",
        "|M12    | gray scaling | HOG |SVM - rbf|Yes(n_components = 107)| 0.752 |\n",
        "|M13    | gray scaling, Gaussian smoothing, adaptive thresholding, Morphology | HOG |SVM - rbf|Yes(n_components = 107)| 0.771 |\n",
        "\n"
      ]
    },
    {
      "cell_type": "markdown",
      "metadata": {
        "id": "ETGu_xdgeoPj"
      },
      "source": [
        "## Make predictions on test images using model 13"
      ]
    },
    {
      "cell_type": "code",
      "execution_count": null,
      "metadata": {
        "id": "kfV9V13ckoBM",
        "colab": {
          "base_uri": "https://localhost:8080/"
        },
        "outputId": "751e6bc2-278a-4ef1-c4de-c3b2b742b857"
      },
      "outputs": [
        {
          "output_type": "stream",
          "name": "stdout",
          "text": [
            "(1000, 3780)\n",
            "[1 0 0 0 0 1 1 1 1 1 0 1 0 0 1 1 1 1 0 0 1 1 1 0 1 0 1 0 0 0 1 0 1 0 0 1 0\n",
            " 0 1 1 0 1 0 0 0 0 0 1 0 1 0 0 0 1 0 0 0 0 0 0 1 0 0 0 1 0 0 0 1 1 1 0 0 0\n",
            " 1 0 0 1 1 0 1 1 0 0 1 0 0 0 0 1 1 1 0 1 0 0 0 0 1 1 0 0 0 0 0 0 0 0 0 1 0\n",
            " 1 1 0 0 0 1 1 1 1 1 0 0 1 1 1 1 1 1 0 1 1 0 1 1 0 0 1 0 1 0 0 0 1 0 0 1 1\n",
            " 1 1 0 1 0 1 0 0 0 0 0 0 0 0 0 1 1 0 0 1 0 0 1 1 0 1 1 1 1 0 0 0 0 0 1 1 0\n",
            " 0 0 0 0 0 0 0 1 0 0 1 1 1 1 0 1 1 1 0 1 1 1 1 1 0 0 1 1 1 0 1 0 0 0 1 0 0\n",
            " 0 0 0 0 0 1 0 1 0 0 0 0 0 1 1 1 0 0 0 1 1 1 1 0 0 0 1 1 0 0 0 1 1 1 0 1 1\n",
            " 0 1 0 1 0 1 0 0 1 1 1 1 0 1 1 1 1 0 1 0 0 0 1 0 0 0 0 0 0 1 1 0 0 1 1 1 1\n",
            " 0 1 1 1 1 0 1 1 0 0 0 0 0 1 0 1 0 1 1 0 0 0 1 0 1 0 0 0 1 1 0 0 0 1 1 0 1\n",
            " 0 0 1 0 1 1 1 1 0 1 1 0 1 0 1 0 0 0 0 1 0 1 0 1 0 0 0 1 0 1 0 0 1 0 1 1 1\n",
            " 0 0 0 0 0 1 0 1 0 1 0 1 0 0 1 1 1 0 0 0 0 0 1 0 1 1 0 1 0 1 0 1 1 1 0 0 0\n",
            " 0 1 1 0 0 1 0 1 0 1 0 0 0 0 0 0 0 1 0 1 0 0 1 1 0 1 1 0 1 0 0 0 0 1 0 0 1\n",
            " 1 0 1 0 1 0 1 0 1 1 0 0 0 0 1 1 0 1 0 1 1 0 0 1 0 1 0 1 0 0 1 0 1 1 0 0 0\n",
            " 0 0 0 1 1 0 1 1 1 0 0 1 0 0 0 1 0 0 0 1 0 0 0 0 1 0 0 1 0 0 0 1 0 1 0 0 0\n",
            " 1 0 1 1 1 1 1 0 1 0 1 0 1 0 1 0 0 0 1 1 0 1 0 1 1 0 0 0 0 0 0 1 0 0 1 1 1\n",
            " 0 1 1 0 1 1 0 0 0 0 0 1 1 0 0 1 0 1 0 1 0 0 1 0 1 0 0 0 0 0 0 1 0 1 0 0 1\n",
            " 0 1 1 0 0 1 0 0 1 1 0 0 1 0 0 1 1 1 0 0 1 1 1 1 0 1 1 0 1 1 0 0 1 0 0 1 1\n",
            " 1 0 1 0 1 0 0 0 1 0 1 0 1 0 0 0 0 1 1 1 1 1 0 1 1 0 1 1 0 0 0 0 0 0 0 1 1\n",
            " 1 1 0 0 1 0 1 1 1 1 0 0 0 1 0 0 1 0 0 1 0 1 1 1 0 0 0 0 0 1 1 1 0 0 0 0 1\n",
            " 0 1 1 1 0 1 0 1 1 1 0 0 0 0 0 0 0 1 1 1 1 1 0 0 0 1 1 1 0 0 1 0 1 0 0 1 0\n",
            " 0 1 0 1 1 1 0 1 0 0 1 1 1 0 1 1 1 1 0 1 1 0 1 0 1 0 0 1 1 0 0 0 0 0 1 0 0\n",
            " 1 1 1 1 1 1 1 0 1 0 0 0 0 1 1 0 0 1 1 1 1 0 1 1 0 1 1 1 1 0 0 0 0 1 1 0 0\n",
            " 0 0 1 1 1 1 1 0 1 0 0 0 0 1 1 1 0 0 0 1 1 0 1 1 0 0 1 0 1 1 1 1 1 1 1 0 0\n",
            " 0 0 0 1 0 1 0 1 1 0 0 0 0 0 0 0 0 1 0 0 1 1 0 1 0 0 1 0 1 1 0 0 0 0 0 1 1\n",
            " 1 1 1 1 0 1 0 0 0 0 0 0 1 1 0 0 1 0 1 1 1 0 0 1 0 1 1 1 1 0 1 0 0 1 0 1 1\n",
            " 1 0 0 1 0 0 1 0 0 0 0 1 1 1 0 0 1 0 0 0 1 1 0 0 0 1 1 0 0 0 0 0 0 1 0 1 0\n",
            " 0 1 0 0 0 1 1 1 1 0 0 0 0 0 1 1 0 0 1 0 1 0 0 0 0 0 0 0 0 1 1 1 0 0 0 0 1\n",
            " 1]\n"
          ]
        }
      ],
      "source": [
        "# feature extraction\n",
        "features_test = get_features_m7(test_images)\n",
        "print(features_test.shape)\n",
        "\n",
        "pca.fit(features_test)\n",
        "# transform features using PCA\n",
        "features_test_pca = pca.transform(features_test)\n",
        "\n",
        "# get model predictions\n",
        "predictions = m13.predict(features_test_pca)\n",
        "print(predictions)"
      ]
    },
    {
      "cell_type": "code",
      "source": [
        "#Add the predictions as a column in the test dataframe\n",
        "df_test['prediction'] = predictions\n",
        "df_test.head()"
      ],
      "metadata": {
        "colab": {
          "base_uri": "https://localhost:8080/",
          "height": 206
        },
        "id": "laqKkIks1aWV",
        "outputId": "01d469c4-e4d9-4f22-fd47-803c4d4d0b96"
      },
      "execution_count": null,
      "outputs": [
        {
          "output_type": "execute_result",
          "data": {
            "text/plain": [
              "   id  prediction\n",
              "0   1           1\n",
              "1   2           0\n",
              "2   3           0\n",
              "3   4           0\n",
              "4   5           0"
            ],
            "text/html": [
              "\n",
              "  <div id=\"df-abd54b20-01b4-4294-8d7f-a2547aead804\">\n",
              "    <div class=\"colab-df-container\">\n",
              "      <div>\n",
              "<style scoped>\n",
              "    .dataframe tbody tr th:only-of-type {\n",
              "        vertical-align: middle;\n",
              "    }\n",
              "\n",
              "    .dataframe tbody tr th {\n",
              "        vertical-align: top;\n",
              "    }\n",
              "\n",
              "    .dataframe thead th {\n",
              "        text-align: right;\n",
              "    }\n",
              "</style>\n",
              "<table border=\"1\" class=\"dataframe\">\n",
              "  <thead>\n",
              "    <tr style=\"text-align: right;\">\n",
              "      <th></th>\n",
              "      <th>id</th>\n",
              "      <th>prediction</th>\n",
              "    </tr>\n",
              "  </thead>\n",
              "  <tbody>\n",
              "    <tr>\n",
              "      <th>0</th>\n",
              "      <td>1</td>\n",
              "      <td>1</td>\n",
              "    </tr>\n",
              "    <tr>\n",
              "      <th>1</th>\n",
              "      <td>2</td>\n",
              "      <td>0</td>\n",
              "    </tr>\n",
              "    <tr>\n",
              "      <th>2</th>\n",
              "      <td>3</td>\n",
              "      <td>0</td>\n",
              "    </tr>\n",
              "    <tr>\n",
              "      <th>3</th>\n",
              "      <td>4</td>\n",
              "      <td>0</td>\n",
              "    </tr>\n",
              "    <tr>\n",
              "      <th>4</th>\n",
              "      <td>5</td>\n",
              "      <td>0</td>\n",
              "    </tr>\n",
              "  </tbody>\n",
              "</table>\n",
              "</div>\n",
              "      <button class=\"colab-df-convert\" onclick=\"convertToInteractive('df-abd54b20-01b4-4294-8d7f-a2547aead804')\"\n",
              "              title=\"Convert this dataframe to an interactive table.\"\n",
              "              style=\"display:none;\">\n",
              "        \n",
              "  <svg xmlns=\"http://www.w3.org/2000/svg\" height=\"24px\"viewBox=\"0 0 24 24\"\n",
              "       width=\"24px\">\n",
              "    <path d=\"M0 0h24v24H0V0z\" fill=\"none\"/>\n",
              "    <path d=\"M18.56 5.44l.94 2.06.94-2.06 2.06-.94-2.06-.94-.94-2.06-.94 2.06-2.06.94zm-11 1L8.5 8.5l.94-2.06 2.06-.94-2.06-.94L8.5 2.5l-.94 2.06-2.06.94zm10 10l.94 2.06.94-2.06 2.06-.94-2.06-.94-.94-2.06-.94 2.06-2.06.94z\"/><path d=\"M17.41 7.96l-1.37-1.37c-.4-.4-.92-.59-1.43-.59-.52 0-1.04.2-1.43.59L10.3 9.45l-7.72 7.72c-.78.78-.78 2.05 0 2.83L4 21.41c.39.39.9.59 1.41.59.51 0 1.02-.2 1.41-.59l7.78-7.78 2.81-2.81c.8-.78.8-2.07 0-2.86zM5.41 20L4 18.59l7.72-7.72 1.47 1.35L5.41 20z\"/>\n",
              "  </svg>\n",
              "      </button>\n",
              "      \n",
              "  <style>\n",
              "    .colab-df-container {\n",
              "      display:flex;\n",
              "      flex-wrap:wrap;\n",
              "      gap: 12px;\n",
              "    }\n",
              "\n",
              "    .colab-df-convert {\n",
              "      background-color: #E8F0FE;\n",
              "      border: none;\n",
              "      border-radius: 50%;\n",
              "      cursor: pointer;\n",
              "      display: none;\n",
              "      fill: #1967D2;\n",
              "      height: 32px;\n",
              "      padding: 0 0 0 0;\n",
              "      width: 32px;\n",
              "    }\n",
              "\n",
              "    .colab-df-convert:hover {\n",
              "      background-color: #E2EBFA;\n",
              "      box-shadow: 0px 1px 2px rgba(60, 64, 67, 0.3), 0px 1px 3px 1px rgba(60, 64, 67, 0.15);\n",
              "      fill: #174EA6;\n",
              "    }\n",
              "\n",
              "    [theme=dark] .colab-df-convert {\n",
              "      background-color: #3B4455;\n",
              "      fill: #D2E3FC;\n",
              "    }\n",
              "\n",
              "    [theme=dark] .colab-df-convert:hover {\n",
              "      background-color: #434B5C;\n",
              "      box-shadow: 0px 1px 3px 1px rgba(0, 0, 0, 0.15);\n",
              "      filter: drop-shadow(0px 1px 2px rgba(0, 0, 0, 0.3));\n",
              "      fill: #FFFFFF;\n",
              "    }\n",
              "  </style>\n",
              "\n",
              "      <script>\n",
              "        const buttonEl =\n",
              "          document.querySelector('#df-abd54b20-01b4-4294-8d7f-a2547aead804 button.colab-df-convert');\n",
              "        buttonEl.style.display =\n",
              "          google.colab.kernel.accessAllowed ? 'block' : 'none';\n",
              "\n",
              "        async function convertToInteractive(key) {\n",
              "          const element = document.querySelector('#df-abd54b20-01b4-4294-8d7f-a2547aead804');\n",
              "          const dataTable =\n",
              "            await google.colab.kernel.invokeFunction('convertToInteractive',\n",
              "                                                     [key], {});\n",
              "          if (!dataTable) return;\n",
              "\n",
              "          const docLinkHtml = 'Like what you see? Visit the ' +\n",
              "            '<a target=\"_blank\" href=https://colab.research.google.com/notebooks/data_table.ipynb>data table notebook</a>'\n",
              "            + ' to learn more about interactive tables.';\n",
              "          element.innerHTML = '';\n",
              "          dataTable['output_type'] = 'display_data';\n",
              "          await google.colab.output.renderOutput(dataTable, element);\n",
              "          const docLink = document.createElement('div');\n",
              "          docLink.innerHTML = docLinkHtml;\n",
              "          element.appendChild(docLink);\n",
              "        }\n",
              "      </script>\n",
              "    </div>\n",
              "  </div>\n",
              "  "
            ]
          },
          "metadata": {},
          "execution_count": 116
        }
      ]
    },
    {
      "cell_type": "markdown",
      "source": [
        "## Decoding the predictions"
      ],
      "metadata": {
        "id": "AGf8pA1E2bAE"
      }
    },
    {
      "cell_type": "code",
      "source": [
        "df_test['prediction'] = df_test['prediction'].map({0: 'cat', 1: 'dog'})"
      ],
      "metadata": {
        "id": "223Qb6yc1N0-"
      },
      "execution_count": null,
      "outputs": []
    },
    {
      "cell_type": "code",
      "source": [
        "df_test.head()"
      ],
      "metadata": {
        "colab": {
          "base_uri": "https://localhost:8080/",
          "height": 206
        },
        "id": "OkKan4fl13EB",
        "outputId": "ba10b1f8-b472-4f3c-9e73-23bebcbc6348"
      },
      "execution_count": null,
      "outputs": [
        {
          "output_type": "execute_result",
          "data": {
            "text/plain": [
              "   id prediction\n",
              "0   1        dog\n",
              "1   2        cat\n",
              "2   3        cat\n",
              "3   4        cat\n",
              "4   5        cat"
            ],
            "text/html": [
              "\n",
              "  <div id=\"df-d53a3f32-81e6-44ae-a0eb-fa60ae5fa8ff\">\n",
              "    <div class=\"colab-df-container\">\n",
              "      <div>\n",
              "<style scoped>\n",
              "    .dataframe tbody tr th:only-of-type {\n",
              "        vertical-align: middle;\n",
              "    }\n",
              "\n",
              "    .dataframe tbody tr th {\n",
              "        vertical-align: top;\n",
              "    }\n",
              "\n",
              "    .dataframe thead th {\n",
              "        text-align: right;\n",
              "    }\n",
              "</style>\n",
              "<table border=\"1\" class=\"dataframe\">\n",
              "  <thead>\n",
              "    <tr style=\"text-align: right;\">\n",
              "      <th></th>\n",
              "      <th>id</th>\n",
              "      <th>prediction</th>\n",
              "    </tr>\n",
              "  </thead>\n",
              "  <tbody>\n",
              "    <tr>\n",
              "      <th>0</th>\n",
              "      <td>1</td>\n",
              "      <td>dog</td>\n",
              "    </tr>\n",
              "    <tr>\n",
              "      <th>1</th>\n",
              "      <td>2</td>\n",
              "      <td>cat</td>\n",
              "    </tr>\n",
              "    <tr>\n",
              "      <th>2</th>\n",
              "      <td>3</td>\n",
              "      <td>cat</td>\n",
              "    </tr>\n",
              "    <tr>\n",
              "      <th>3</th>\n",
              "      <td>4</td>\n",
              "      <td>cat</td>\n",
              "    </tr>\n",
              "    <tr>\n",
              "      <th>4</th>\n",
              "      <td>5</td>\n",
              "      <td>cat</td>\n",
              "    </tr>\n",
              "  </tbody>\n",
              "</table>\n",
              "</div>\n",
              "      <button class=\"colab-df-convert\" onclick=\"convertToInteractive('df-d53a3f32-81e6-44ae-a0eb-fa60ae5fa8ff')\"\n",
              "              title=\"Convert this dataframe to an interactive table.\"\n",
              "              style=\"display:none;\">\n",
              "        \n",
              "  <svg xmlns=\"http://www.w3.org/2000/svg\" height=\"24px\"viewBox=\"0 0 24 24\"\n",
              "       width=\"24px\">\n",
              "    <path d=\"M0 0h24v24H0V0z\" fill=\"none\"/>\n",
              "    <path d=\"M18.56 5.44l.94 2.06.94-2.06 2.06-.94-2.06-.94-.94-2.06-.94 2.06-2.06.94zm-11 1L8.5 8.5l.94-2.06 2.06-.94-2.06-.94L8.5 2.5l-.94 2.06-2.06.94zm10 10l.94 2.06.94-2.06 2.06-.94-2.06-.94-.94-2.06-.94 2.06-2.06.94z\"/><path d=\"M17.41 7.96l-1.37-1.37c-.4-.4-.92-.59-1.43-.59-.52 0-1.04.2-1.43.59L10.3 9.45l-7.72 7.72c-.78.78-.78 2.05 0 2.83L4 21.41c.39.39.9.59 1.41.59.51 0 1.02-.2 1.41-.59l7.78-7.78 2.81-2.81c.8-.78.8-2.07 0-2.86zM5.41 20L4 18.59l7.72-7.72 1.47 1.35L5.41 20z\"/>\n",
              "  </svg>\n",
              "      </button>\n",
              "      \n",
              "  <style>\n",
              "    .colab-df-container {\n",
              "      display:flex;\n",
              "      flex-wrap:wrap;\n",
              "      gap: 12px;\n",
              "    }\n",
              "\n",
              "    .colab-df-convert {\n",
              "      background-color: #E8F0FE;\n",
              "      border: none;\n",
              "      border-radius: 50%;\n",
              "      cursor: pointer;\n",
              "      display: none;\n",
              "      fill: #1967D2;\n",
              "      height: 32px;\n",
              "      padding: 0 0 0 0;\n",
              "      width: 32px;\n",
              "    }\n",
              "\n",
              "    .colab-df-convert:hover {\n",
              "      background-color: #E2EBFA;\n",
              "      box-shadow: 0px 1px 2px rgba(60, 64, 67, 0.3), 0px 1px 3px 1px rgba(60, 64, 67, 0.15);\n",
              "      fill: #174EA6;\n",
              "    }\n",
              "\n",
              "    [theme=dark] .colab-df-convert {\n",
              "      background-color: #3B4455;\n",
              "      fill: #D2E3FC;\n",
              "    }\n",
              "\n",
              "    [theme=dark] .colab-df-convert:hover {\n",
              "      background-color: #434B5C;\n",
              "      box-shadow: 0px 1px 3px 1px rgba(0, 0, 0, 0.15);\n",
              "      filter: drop-shadow(0px 1px 2px rgba(0, 0, 0, 0.3));\n",
              "      fill: #FFFFFF;\n",
              "    }\n",
              "  </style>\n",
              "\n",
              "      <script>\n",
              "        const buttonEl =\n",
              "          document.querySelector('#df-d53a3f32-81e6-44ae-a0eb-fa60ae5fa8ff button.colab-df-convert');\n",
              "        buttonEl.style.display =\n",
              "          google.colab.kernel.accessAllowed ? 'block' : 'none';\n",
              "\n",
              "        async function convertToInteractive(key) {\n",
              "          const element = document.querySelector('#df-d53a3f32-81e6-44ae-a0eb-fa60ae5fa8ff');\n",
              "          const dataTable =\n",
              "            await google.colab.kernel.invokeFunction('convertToInteractive',\n",
              "                                                     [key], {});\n",
              "          if (!dataTable) return;\n",
              "\n",
              "          const docLinkHtml = 'Like what you see? Visit the ' +\n",
              "            '<a target=\"_blank\" href=https://colab.research.google.com/notebooks/data_table.ipynb>data table notebook</a>'\n",
              "            + ' to learn more about interactive tables.';\n",
              "          element.innerHTML = '';\n",
              "          dataTable['output_type'] = 'display_data';\n",
              "          await google.colab.output.renderOutput(dataTable, element);\n",
              "          const docLink = document.createElement('div');\n",
              "          docLink.innerHTML = docLinkHtml;\n",
              "          element.appendChild(docLink);\n",
              "        }\n",
              "      </script>\n",
              "    </div>\n",
              "  </div>\n",
              "  "
            ]
          },
          "metadata": {},
          "execution_count": 118
        }
      ]
    },
    {
      "cell_type": "code",
      "source": [
        "#save to csv\n",
        "df_test.to_csv('/content/test_prediction.csv', index=False)"
      ],
      "metadata": {
        "id": "kdGgutBetpQh"
      },
      "execution_count": null,
      "outputs": []
    },
    {
      "cell_type": "code",
      "source": [
        "import json\n",
        "test_file_path = \"/content/test_prediction.csv\"\n",
        "df_test = pd.read_csv(test_file_path)\n",
        "df_test = df_test[[\"id\", \"prediction\"]]\n",
        "\n",
        "data = []\n",
        "for index, row in df_test.iterrows():\n",
        "    data.append({'id': row['id'], 'prediction': row['prediction']})\n",
        "\n",
        "print(data[0:5])\n",
        "\n",
        "submission_file_path = \"submission.json\"\n",
        "with open(submission_file_path, 'w') as fp:\n",
        "    fp.write('\\n'.join(json.dumps(i) for i in data))"
      ],
      "metadata": {
        "colab": {
          "base_uri": "https://localhost:8080/"
        },
        "id": "S2Pe7qVbt7UB",
        "outputId": "40c36707-61ac-44ad-f9c3-d846caa7afb3"
      },
      "execution_count": null,
      "outputs": [
        {
          "output_type": "stream",
          "name": "stdout",
          "text": [
            "[{'id': 1, 'prediction': 'dog'}, {'id': 2, 'prediction': 'cat'}, {'id': 3, 'prediction': 'cat'}, {'id': 4, 'prediction': 'cat'}, {'id': 5, 'prediction': 'cat'}]\n"
          ]
        }
      ]
    },
    {
      "cell_type": "markdown",
      "source": [
        "# Muchas!!"
      ],
      "metadata": {
        "id": "NSs7pmVjJhVM"
      }
    }
  ],
  "metadata": {
    "colab": {
      "provenance": []
    },
    "gpuClass": "standard",
    "kernelspec": {
      "display_name": "Python 3 (ipykernel)",
      "language": "python",
      "name": "python3"
    },
    "language_info": {
      "codemirror_mode": {
        "name": "ipython",
        "version": 3
      },
      "file_extension": ".py",
      "mimetype": "text/x-python",
      "name": "python",
      "nbconvert_exporter": "python",
      "pygments_lexer": "ipython3",
      "version": "3.8.8"
    }
  },
  "nbformat": 4,
  "nbformat_minor": 0
}