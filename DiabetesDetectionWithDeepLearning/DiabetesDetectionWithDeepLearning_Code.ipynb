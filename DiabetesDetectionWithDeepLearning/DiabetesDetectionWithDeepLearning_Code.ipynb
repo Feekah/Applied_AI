{
  "nbformat": 4,
  "nbformat_minor": 0,
  "metadata": {
    "colab": {
      "provenance": []
    },
    "kernelspec": {
      "name": "python3",
      "display_name": "Python 3"
    },
    "language_info": {
      "name": "python"
    }
  },
  "cells": [
    {
      "cell_type": "markdown",
      "source": [
        "# **Diabetes Prediction With Deep Learning**"
      ],
      "metadata": {
        "id": "mL9LXT6n7qxd"
      }
    },
    {
      "cell_type": "code",
      "execution_count": null,
      "metadata": {
        "id": "r_iaLCja14S5"
      },
      "outputs": [],
      "source": [
        "# import libraries\n",
        "import pandas as pd\n",
        "import seaborn as sns\n",
        "from sklearn.preprocessing import LabelEncoder\n",
        "from sklearn.model_selection import train_test_split\n",
        "import tensorflow as tf\n",
        "from tensorflow import keras\n",
        "from tensorflow.keras import layers\n",
        "from sklearn import metrics\n",
        "import plotly.express as px\n",
        "import plotly.graph_objects as go\n",
        "# set random seeds to get reproducible results\n",
        "import os\n",
        "seed = 100\n",
        "os.environ['PYTHONHASHSEED']=str(seed)\n",
        "keras.utils.set_random_seed(seed) # set all random seeds for the program (Python, NumPy, and TensorFlow)"
      ]
    },
    {
      "cell_type": "code",
      "source": [
        "#load train data\n",
        "df = pd.read_csv('train.csv')\n",
        "print(f'Number of entries: {len(df)}')\n",
        "df.head()"
      ],
      "metadata": {
        "colab": {
          "base_uri": "https://localhost:8080/",
          "height": 224
        },
        "id": "H8LmoHjb2fXk",
        "outputId": "2cbe5ab8-40b2-4306-d123-f61a2eb05afb"
      },
      "execution_count": null,
      "outputs": [
        {
          "output_type": "stream",
          "name": "stdout",
          "text": [
            "Number of entries: 668\n"
          ]
        },
        {
          "output_type": "execute_result",
          "data": {
            "text/plain": [
              "   id  A1   A2  A3  A4   A5    A6     A7  A8  class\n",
              "0   1   6  148  72  35    0  33.6  0.627  50      1\n",
              "1   2   1   85  66  29    0  26.6  0.351  31      0\n",
              "2   3   8  183  64   0    0  23.3  0.672  32      1\n",
              "3   4   1   89  66  23   94  28.1  0.167  21      0\n",
              "4   5   0  137  40  35  168  43.1  2.288  33      1"
            ],
            "text/html": [
              "\n",
              "  <div id=\"df-4efcd377-78fc-485a-b3eb-134d737be21c\">\n",
              "    <div class=\"colab-df-container\">\n",
              "      <div>\n",
              "<style scoped>\n",
              "    .dataframe tbody tr th:only-of-type {\n",
              "        vertical-align: middle;\n",
              "    }\n",
              "\n",
              "    .dataframe tbody tr th {\n",
              "        vertical-align: top;\n",
              "    }\n",
              "\n",
              "    .dataframe thead th {\n",
              "        text-align: right;\n",
              "    }\n",
              "</style>\n",
              "<table border=\"1\" class=\"dataframe\">\n",
              "  <thead>\n",
              "    <tr style=\"text-align: right;\">\n",
              "      <th></th>\n",
              "      <th>id</th>\n",
              "      <th>A1</th>\n",
              "      <th>A2</th>\n",
              "      <th>A3</th>\n",
              "      <th>A4</th>\n",
              "      <th>A5</th>\n",
              "      <th>A6</th>\n",
              "      <th>A7</th>\n",
              "      <th>A8</th>\n",
              "      <th>class</th>\n",
              "    </tr>\n",
              "  </thead>\n",
              "  <tbody>\n",
              "    <tr>\n",
              "      <th>0</th>\n",
              "      <td>1</td>\n",
              "      <td>6</td>\n",
              "      <td>148</td>\n",
              "      <td>72</td>\n",
              "      <td>35</td>\n",
              "      <td>0</td>\n",
              "      <td>33.6</td>\n",
              "      <td>0.627</td>\n",
              "      <td>50</td>\n",
              "      <td>1</td>\n",
              "    </tr>\n",
              "    <tr>\n",
              "      <th>1</th>\n",
              "      <td>2</td>\n",
              "      <td>1</td>\n",
              "      <td>85</td>\n",
              "      <td>66</td>\n",
              "      <td>29</td>\n",
              "      <td>0</td>\n",
              "      <td>26.6</td>\n",
              "      <td>0.351</td>\n",
              "      <td>31</td>\n",
              "      <td>0</td>\n",
              "    </tr>\n",
              "    <tr>\n",
              "      <th>2</th>\n",
              "      <td>3</td>\n",
              "      <td>8</td>\n",
              "      <td>183</td>\n",
              "      <td>64</td>\n",
              "      <td>0</td>\n",
              "      <td>0</td>\n",
              "      <td>23.3</td>\n",
              "      <td>0.672</td>\n",
              "      <td>32</td>\n",
              "      <td>1</td>\n",
              "    </tr>\n",
              "    <tr>\n",
              "      <th>3</th>\n",
              "      <td>4</td>\n",
              "      <td>1</td>\n",
              "      <td>89</td>\n",
              "      <td>66</td>\n",
              "      <td>23</td>\n",
              "      <td>94</td>\n",
              "      <td>28.1</td>\n",
              "      <td>0.167</td>\n",
              "      <td>21</td>\n",
              "      <td>0</td>\n",
              "    </tr>\n",
              "    <tr>\n",
              "      <th>4</th>\n",
              "      <td>5</td>\n",
              "      <td>0</td>\n",
              "      <td>137</td>\n",
              "      <td>40</td>\n",
              "      <td>35</td>\n",
              "      <td>168</td>\n",
              "      <td>43.1</td>\n",
              "      <td>2.288</td>\n",
              "      <td>33</td>\n",
              "      <td>1</td>\n",
              "    </tr>\n",
              "  </tbody>\n",
              "</table>\n",
              "</div>\n",
              "      <button class=\"colab-df-convert\" onclick=\"convertToInteractive('df-4efcd377-78fc-485a-b3eb-134d737be21c')\"\n",
              "              title=\"Convert this dataframe to an interactive table.\"\n",
              "              style=\"display:none;\">\n",
              "        \n",
              "  <svg xmlns=\"http://www.w3.org/2000/svg\" height=\"24px\"viewBox=\"0 0 24 24\"\n",
              "       width=\"24px\">\n",
              "    <path d=\"M0 0h24v24H0V0z\" fill=\"none\"/>\n",
              "    <path d=\"M18.56 5.44l.94 2.06.94-2.06 2.06-.94-2.06-.94-.94-2.06-.94 2.06-2.06.94zm-11 1L8.5 8.5l.94-2.06 2.06-.94-2.06-.94L8.5 2.5l-.94 2.06-2.06.94zm10 10l.94 2.06.94-2.06 2.06-.94-2.06-.94-.94-2.06-.94 2.06-2.06.94z\"/><path d=\"M17.41 7.96l-1.37-1.37c-.4-.4-.92-.59-1.43-.59-.52 0-1.04.2-1.43.59L10.3 9.45l-7.72 7.72c-.78.78-.78 2.05 0 2.83L4 21.41c.39.39.9.59 1.41.59.51 0 1.02-.2 1.41-.59l7.78-7.78 2.81-2.81c.8-.78.8-2.07 0-2.86zM5.41 20L4 18.59l7.72-7.72 1.47 1.35L5.41 20z\"/>\n",
              "  </svg>\n",
              "      </button>\n",
              "      \n",
              "  <style>\n",
              "    .colab-df-container {\n",
              "      display:flex;\n",
              "      flex-wrap:wrap;\n",
              "      gap: 12px;\n",
              "    }\n",
              "\n",
              "    .colab-df-convert {\n",
              "      background-color: #E8F0FE;\n",
              "      border: none;\n",
              "      border-radius: 50%;\n",
              "      cursor: pointer;\n",
              "      display: none;\n",
              "      fill: #1967D2;\n",
              "      height: 32px;\n",
              "      padding: 0 0 0 0;\n",
              "      width: 32px;\n",
              "    }\n",
              "\n",
              "    .colab-df-convert:hover {\n",
              "      background-color: #E2EBFA;\n",
              "      box-shadow: 0px 1px 2px rgba(60, 64, 67, 0.3), 0px 1px 3px 1px rgba(60, 64, 67, 0.15);\n",
              "      fill: #174EA6;\n",
              "    }\n",
              "\n",
              "    [theme=dark] .colab-df-convert {\n",
              "      background-color: #3B4455;\n",
              "      fill: #D2E3FC;\n",
              "    }\n",
              "\n",
              "    [theme=dark] .colab-df-convert:hover {\n",
              "      background-color: #434B5C;\n",
              "      box-shadow: 0px 1px 3px 1px rgba(0, 0, 0, 0.15);\n",
              "      filter: drop-shadow(0px 1px 2px rgba(0, 0, 0, 0.3));\n",
              "      fill: #FFFFFF;\n",
              "    }\n",
              "  </style>\n",
              "\n",
              "      <script>\n",
              "        const buttonEl =\n",
              "          document.querySelector('#df-4efcd377-78fc-485a-b3eb-134d737be21c button.colab-df-convert');\n",
              "        buttonEl.style.display =\n",
              "          google.colab.kernel.accessAllowed ? 'block' : 'none';\n",
              "\n",
              "        async function convertToInteractive(key) {\n",
              "          const element = document.querySelector('#df-4efcd377-78fc-485a-b3eb-134d737be21c');\n",
              "          const dataTable =\n",
              "            await google.colab.kernel.invokeFunction('convertToInteractive',\n",
              "                                                     [key], {});\n",
              "          if (!dataTable) return;\n",
              "\n",
              "          const docLinkHtml = 'Like what you see? Visit the ' +\n",
              "            '<a target=\"_blank\" href=https://colab.research.google.com/notebooks/data_table.ipynb>data table notebook</a>'\n",
              "            + ' to learn more about interactive tables.';\n",
              "          element.innerHTML = '';\n",
              "          dataTable['output_type'] = 'display_data';\n",
              "          await google.colab.output.renderOutput(dataTable, element);\n",
              "          const docLink = document.createElement('div');\n",
              "          docLink.innerHTML = docLinkHtml;\n",
              "          element.appendChild(docLink);\n",
              "        }\n",
              "      </script>\n",
              "    </div>\n",
              "  </div>\n",
              "  "
            ]
          },
          "metadata": {},
          "execution_count": 2
        }
      ]
    },
    {
      "cell_type": "code",
      "source": [
        "counts = df['class'].value_counts()\n",
        "counts = counts.reset_index()\n",
        "counts.columns = ['condition', 'count']\n",
        "\n",
        "fig = px.scatter(counts, x=\"condition\", y=\"count\",\n",
        "                 size=\"count\", size_max=200, color=\"count\",\n",
        "                 hover_name=\"count\", text=\"condition\",\n",
        "                 title=\"Diabetes countplot\")\n",
        "\n",
        "# Set the x-axis and y-axis labels\n",
        "fig.update_layout(xaxis_title=\"Positive or negative\", yaxis_title=\"count\", height=600, width=1000, template=\"plotly_dark\")\n",
        "\n",
        "\n",
        "# Show the chart\n",
        "fig.show()"
      ],
      "metadata": {
        "colab": {
          "base_uri": "https://localhost:8080/",
          "height": 617
        },
        "id": "1I7McvId26TP",
        "outputId": "36c842f2-c505-40cf-c0b0-39107392a2e6"
      },
      "execution_count": null,
      "outputs": [
        {
          "output_type": "display_data",
          "data": {
            "text/html": [
              "<html>\n",
              "<head><meta charset=\"utf-8\" /></head>\n",
              "<body>\n",
              "    <div>            <script src=\"https://cdnjs.cloudflare.com/ajax/libs/mathjax/2.7.5/MathJax.js?config=TeX-AMS-MML_SVG\"></script><script type=\"text/javascript\">if (window.MathJax) {MathJax.Hub.Config({SVG: {font: \"STIX-Web\"}});}</script>                <script type=\"text/javascript\">window.PlotlyConfig = {MathJaxConfig: 'local'};</script>\n",
              "        <script src=\"https://cdn.plot.ly/plotly-2.8.3.min.js\"></script>                <div id=\"0b0984d5-e9fd-40a4-b063-50dd65bcbb1c\" class=\"plotly-graph-div\" style=\"height:600px; width:1000px;\"></div>            <script type=\"text/javascript\">                                    window.PLOTLYENV=window.PLOTLYENV || {};                                    if (document.getElementById(\"0b0984d5-e9fd-40a4-b063-50dd65bcbb1c\")) {                    Plotly.newPlot(                        \"0b0984d5-e9fd-40a4-b063-50dd65bcbb1c\",                        [{\"hovertemplate\":\"<b>%{hovertext}</b><br><br>condition=%{text}<br>count=%{marker.color}<extra></extra>\",\"hovertext\":[437.0,231.0],\"legendgroup\":\"\",\"marker\":{\"color\":[437,231],\"coloraxis\":\"coloraxis\",\"size\":[437,231],\"sizemode\":\"area\",\"sizeref\":0.010925,\"symbol\":\"circle\"},\"mode\":\"markers+text\",\"name\":\"\",\"orientation\":\"v\",\"showlegend\":false,\"text\":[0.0,1.0],\"x\":[0,1],\"xaxis\":\"x\",\"y\":[437,231],\"yaxis\":\"y\",\"type\":\"scatter\"}],                        {\"template\":{\"data\":{\"barpolar\":[{\"marker\":{\"line\":{\"color\":\"rgb(17,17,17)\",\"width\":0.5},\"pattern\":{\"fillmode\":\"overlay\",\"size\":10,\"solidity\":0.2}},\"type\":\"barpolar\"}],\"bar\":[{\"error_x\":{\"color\":\"#f2f5fa\"},\"error_y\":{\"color\":\"#f2f5fa\"},\"marker\":{\"line\":{\"color\":\"rgb(17,17,17)\",\"width\":0.5},\"pattern\":{\"fillmode\":\"overlay\",\"size\":10,\"solidity\":0.2}},\"type\":\"bar\"}],\"carpet\":[{\"aaxis\":{\"endlinecolor\":\"#A2B1C6\",\"gridcolor\":\"#506784\",\"linecolor\":\"#506784\",\"minorgridcolor\":\"#506784\",\"startlinecolor\":\"#A2B1C6\"},\"baxis\":{\"endlinecolor\":\"#A2B1C6\",\"gridcolor\":\"#506784\",\"linecolor\":\"#506784\",\"minorgridcolor\":\"#506784\",\"startlinecolor\":\"#A2B1C6\"},\"type\":\"carpet\"}],\"choropleth\":[{\"colorbar\":{\"outlinewidth\":0,\"ticks\":\"\"},\"type\":\"choropleth\"}],\"contourcarpet\":[{\"colorbar\":{\"outlinewidth\":0,\"ticks\":\"\"},\"type\":\"contourcarpet\"}],\"contour\":[{\"colorbar\":{\"outlinewidth\":0,\"ticks\":\"\"},\"colorscale\":[[0.0,\"#0d0887\"],[0.1111111111111111,\"#46039f\"],[0.2222222222222222,\"#7201a8\"],[0.3333333333333333,\"#9c179e\"],[0.4444444444444444,\"#bd3786\"],[0.5555555555555556,\"#d8576b\"],[0.6666666666666666,\"#ed7953\"],[0.7777777777777778,\"#fb9f3a\"],[0.8888888888888888,\"#fdca26\"],[1.0,\"#f0f921\"]],\"type\":\"contour\"}],\"heatmapgl\":[{\"colorbar\":{\"outlinewidth\":0,\"ticks\":\"\"},\"colorscale\":[[0.0,\"#0d0887\"],[0.1111111111111111,\"#46039f\"],[0.2222222222222222,\"#7201a8\"],[0.3333333333333333,\"#9c179e\"],[0.4444444444444444,\"#bd3786\"],[0.5555555555555556,\"#d8576b\"],[0.6666666666666666,\"#ed7953\"],[0.7777777777777778,\"#fb9f3a\"],[0.8888888888888888,\"#fdca26\"],[1.0,\"#f0f921\"]],\"type\":\"heatmapgl\"}],\"heatmap\":[{\"colorbar\":{\"outlinewidth\":0,\"ticks\":\"\"},\"colorscale\":[[0.0,\"#0d0887\"],[0.1111111111111111,\"#46039f\"],[0.2222222222222222,\"#7201a8\"],[0.3333333333333333,\"#9c179e\"],[0.4444444444444444,\"#bd3786\"],[0.5555555555555556,\"#d8576b\"],[0.6666666666666666,\"#ed7953\"],[0.7777777777777778,\"#fb9f3a\"],[0.8888888888888888,\"#fdca26\"],[1.0,\"#f0f921\"]],\"type\":\"heatmap\"}],\"histogram2dcontour\":[{\"colorbar\":{\"outlinewidth\":0,\"ticks\":\"\"},\"colorscale\":[[0.0,\"#0d0887\"],[0.1111111111111111,\"#46039f\"],[0.2222222222222222,\"#7201a8\"],[0.3333333333333333,\"#9c179e\"],[0.4444444444444444,\"#bd3786\"],[0.5555555555555556,\"#d8576b\"],[0.6666666666666666,\"#ed7953\"],[0.7777777777777778,\"#fb9f3a\"],[0.8888888888888888,\"#fdca26\"],[1.0,\"#f0f921\"]],\"type\":\"histogram2dcontour\"}],\"histogram2d\":[{\"colorbar\":{\"outlinewidth\":0,\"ticks\":\"\"},\"colorscale\":[[0.0,\"#0d0887\"],[0.1111111111111111,\"#46039f\"],[0.2222222222222222,\"#7201a8\"],[0.3333333333333333,\"#9c179e\"],[0.4444444444444444,\"#bd3786\"],[0.5555555555555556,\"#d8576b\"],[0.6666666666666666,\"#ed7953\"],[0.7777777777777778,\"#fb9f3a\"],[0.8888888888888888,\"#fdca26\"],[1.0,\"#f0f921\"]],\"type\":\"histogram2d\"}],\"histogram\":[{\"marker\":{\"pattern\":{\"fillmode\":\"overlay\",\"size\":10,\"solidity\":0.2}},\"type\":\"histogram\"}],\"mesh3d\":[{\"colorbar\":{\"outlinewidth\":0,\"ticks\":\"\"},\"type\":\"mesh3d\"}],\"parcoords\":[{\"line\":{\"colorbar\":{\"outlinewidth\":0,\"ticks\":\"\"}},\"type\":\"parcoords\"}],\"pie\":[{\"automargin\":true,\"type\":\"pie\"}],\"scatter3d\":[{\"line\":{\"colorbar\":{\"outlinewidth\":0,\"ticks\":\"\"}},\"marker\":{\"colorbar\":{\"outlinewidth\":0,\"ticks\":\"\"}},\"type\":\"scatter3d\"}],\"scattercarpet\":[{\"marker\":{\"colorbar\":{\"outlinewidth\":0,\"ticks\":\"\"}},\"type\":\"scattercarpet\"}],\"scattergeo\":[{\"marker\":{\"colorbar\":{\"outlinewidth\":0,\"ticks\":\"\"}},\"type\":\"scattergeo\"}],\"scattergl\":[{\"marker\":{\"line\":{\"color\":\"#283442\"}},\"type\":\"scattergl\"}],\"scattermapbox\":[{\"marker\":{\"colorbar\":{\"outlinewidth\":0,\"ticks\":\"\"}},\"type\":\"scattermapbox\"}],\"scatterpolargl\":[{\"marker\":{\"colorbar\":{\"outlinewidth\":0,\"ticks\":\"\"}},\"type\":\"scatterpolargl\"}],\"scatterpolar\":[{\"marker\":{\"colorbar\":{\"outlinewidth\":0,\"ticks\":\"\"}},\"type\":\"scatterpolar\"}],\"scatter\":[{\"marker\":{\"line\":{\"color\":\"#283442\"}},\"type\":\"scatter\"}],\"scatterternary\":[{\"marker\":{\"colorbar\":{\"outlinewidth\":0,\"ticks\":\"\"}},\"type\":\"scatterternary\"}],\"surface\":[{\"colorbar\":{\"outlinewidth\":0,\"ticks\":\"\"},\"colorscale\":[[0.0,\"#0d0887\"],[0.1111111111111111,\"#46039f\"],[0.2222222222222222,\"#7201a8\"],[0.3333333333333333,\"#9c179e\"],[0.4444444444444444,\"#bd3786\"],[0.5555555555555556,\"#d8576b\"],[0.6666666666666666,\"#ed7953\"],[0.7777777777777778,\"#fb9f3a\"],[0.8888888888888888,\"#fdca26\"],[1.0,\"#f0f921\"]],\"type\":\"surface\"}],\"table\":[{\"cells\":{\"fill\":{\"color\":\"#506784\"},\"line\":{\"color\":\"rgb(17,17,17)\"}},\"header\":{\"fill\":{\"color\":\"#2a3f5f\"},\"line\":{\"color\":\"rgb(17,17,17)\"}},\"type\":\"table\"}]},\"layout\":{\"annotationdefaults\":{\"arrowcolor\":\"#f2f5fa\",\"arrowhead\":0,\"arrowwidth\":1},\"autotypenumbers\":\"strict\",\"coloraxis\":{\"colorbar\":{\"outlinewidth\":0,\"ticks\":\"\"}},\"colorscale\":{\"diverging\":[[0,\"#8e0152\"],[0.1,\"#c51b7d\"],[0.2,\"#de77ae\"],[0.3,\"#f1b6da\"],[0.4,\"#fde0ef\"],[0.5,\"#f7f7f7\"],[0.6,\"#e6f5d0\"],[0.7,\"#b8e186\"],[0.8,\"#7fbc41\"],[0.9,\"#4d9221\"],[1,\"#276419\"]],\"sequential\":[[0.0,\"#0d0887\"],[0.1111111111111111,\"#46039f\"],[0.2222222222222222,\"#7201a8\"],[0.3333333333333333,\"#9c179e\"],[0.4444444444444444,\"#bd3786\"],[0.5555555555555556,\"#d8576b\"],[0.6666666666666666,\"#ed7953\"],[0.7777777777777778,\"#fb9f3a\"],[0.8888888888888888,\"#fdca26\"],[1.0,\"#f0f921\"]],\"sequentialminus\":[[0.0,\"#0d0887\"],[0.1111111111111111,\"#46039f\"],[0.2222222222222222,\"#7201a8\"],[0.3333333333333333,\"#9c179e\"],[0.4444444444444444,\"#bd3786\"],[0.5555555555555556,\"#d8576b\"],[0.6666666666666666,\"#ed7953\"],[0.7777777777777778,\"#fb9f3a\"],[0.8888888888888888,\"#fdca26\"],[1.0,\"#f0f921\"]]},\"colorway\":[\"#636efa\",\"#EF553B\",\"#00cc96\",\"#ab63fa\",\"#FFA15A\",\"#19d3f3\",\"#FF6692\",\"#B6E880\",\"#FF97FF\",\"#FECB52\"],\"font\":{\"color\":\"#f2f5fa\"},\"geo\":{\"bgcolor\":\"rgb(17,17,17)\",\"lakecolor\":\"rgb(17,17,17)\",\"landcolor\":\"rgb(17,17,17)\",\"showlakes\":true,\"showland\":true,\"subunitcolor\":\"#506784\"},\"hoverlabel\":{\"align\":\"left\"},\"hovermode\":\"closest\",\"mapbox\":{\"style\":\"dark\"},\"paper_bgcolor\":\"rgb(17,17,17)\",\"plot_bgcolor\":\"rgb(17,17,17)\",\"polar\":{\"angularaxis\":{\"gridcolor\":\"#506784\",\"linecolor\":\"#506784\",\"ticks\":\"\"},\"bgcolor\":\"rgb(17,17,17)\",\"radialaxis\":{\"gridcolor\":\"#506784\",\"linecolor\":\"#506784\",\"ticks\":\"\"}},\"scene\":{\"xaxis\":{\"backgroundcolor\":\"rgb(17,17,17)\",\"gridcolor\":\"#506784\",\"gridwidth\":2,\"linecolor\":\"#506784\",\"showbackground\":true,\"ticks\":\"\",\"zerolinecolor\":\"#C8D4E3\"},\"yaxis\":{\"backgroundcolor\":\"rgb(17,17,17)\",\"gridcolor\":\"#506784\",\"gridwidth\":2,\"linecolor\":\"#506784\",\"showbackground\":true,\"ticks\":\"\",\"zerolinecolor\":\"#C8D4E3\"},\"zaxis\":{\"backgroundcolor\":\"rgb(17,17,17)\",\"gridcolor\":\"#506784\",\"gridwidth\":2,\"linecolor\":\"#506784\",\"showbackground\":true,\"ticks\":\"\",\"zerolinecolor\":\"#C8D4E3\"}},\"shapedefaults\":{\"line\":{\"color\":\"#f2f5fa\"}},\"sliderdefaults\":{\"bgcolor\":\"#C8D4E3\",\"bordercolor\":\"rgb(17,17,17)\",\"borderwidth\":1,\"tickwidth\":0},\"ternary\":{\"aaxis\":{\"gridcolor\":\"#506784\",\"linecolor\":\"#506784\",\"ticks\":\"\"},\"baxis\":{\"gridcolor\":\"#506784\",\"linecolor\":\"#506784\",\"ticks\":\"\"},\"bgcolor\":\"rgb(17,17,17)\",\"caxis\":{\"gridcolor\":\"#506784\",\"linecolor\":\"#506784\",\"ticks\":\"\"}},\"title\":{\"x\":0.05},\"updatemenudefaults\":{\"bgcolor\":\"#506784\",\"borderwidth\":0},\"xaxis\":{\"automargin\":true,\"gridcolor\":\"#283442\",\"linecolor\":\"#506784\",\"ticks\":\"\",\"title\":{\"standoff\":15},\"zerolinecolor\":\"#283442\",\"zerolinewidth\":2},\"yaxis\":{\"automargin\":true,\"gridcolor\":\"#283442\",\"linecolor\":\"#506784\",\"ticks\":\"\",\"title\":{\"standoff\":15},\"zerolinecolor\":\"#283442\",\"zerolinewidth\":2}}},\"xaxis\":{\"anchor\":\"y\",\"domain\":[0.0,1.0],\"title\":{\"text\":\"Positive or negative\"}},\"yaxis\":{\"anchor\":\"x\",\"domain\":[0.0,1.0],\"title\":{\"text\":\"count\"}},\"coloraxis\":{\"colorbar\":{\"title\":{\"text\":\"count\"}},\"colorscale\":[[0.0,\"#0d0887\"],[0.1111111111111111,\"#46039f\"],[0.2222222222222222,\"#7201a8\"],[0.3333333333333333,\"#9c179e\"],[0.4444444444444444,\"#bd3786\"],[0.5555555555555556,\"#d8576b\"],[0.6666666666666666,\"#ed7953\"],[0.7777777777777778,\"#fb9f3a\"],[0.8888888888888888,\"#fdca26\"],[1.0,\"#f0f921\"]]},\"legend\":{\"tracegroupgap\":0,\"itemsizing\":\"constant\"},\"title\":{\"text\":\"Diabetes countplot\"},\"height\":600,\"width\":1000},                        {\"responsive\": true}                    ).then(function(){\n",
              "                            \n",
              "var gd = document.getElementById('0b0984d5-e9fd-40a4-b063-50dd65bcbb1c');\n",
              "var x = new MutationObserver(function (mutations, observer) {{\n",
              "        var display = window.getComputedStyle(gd).display;\n",
              "        if (!display || display === 'none') {{\n",
              "            console.log([gd, 'removed!']);\n",
              "            Plotly.purge(gd);\n",
              "            observer.disconnect();\n",
              "        }}\n",
              "}});\n",
              "\n",
              "// Listen for the removal of the full notebook cells\n",
              "var notebookContainer = gd.closest('#notebook-container');\n",
              "if (notebookContainer) {{\n",
              "    x.observe(notebookContainer, {childList: true});\n",
              "}}\n",
              "\n",
              "// Listen for the clearing of the current output cell\n",
              "var outputEl = gd.closest('.output');\n",
              "if (outputEl) {{\n",
              "    x.observe(outputEl, {childList: true});\n",
              "}}\n",
              "\n",
              "                        })                };                            </script>        </div>\n",
              "</body>\n",
              "</html>"
            ]
          },
          "metadata": {}
        }
      ]
    },
    {
      "cell_type": "code",
      "source": [
        "# extract labels\n",
        "y = df['class']\n",
        "print(y.value_counts())"
      ],
      "metadata": {
        "colab": {
          "base_uri": "https://localhost:8080/"
        },
        "id": "Q_LrY6sB3SQq",
        "outputId": "63089cd7-7e9c-4257-d62e-34c3d1d3a8a2"
      },
      "execution_count": null,
      "outputs": [
        {
          "output_type": "stream",
          "name": "stdout",
          "text": [
            "0    437\n",
            "1    231\n",
            "Name: class, dtype: int64\n"
          ]
        }
      ]
    },
    {
      "cell_type": "code",
      "source": [
        "# remove unnecessary columns\n",
        "X = df.drop(['id', 'class'], axis=1)\n",
        "\n",
        "print(X.info())\n",
        "X.head()"
      ],
      "metadata": {
        "colab": {
          "base_uri": "https://localhost:8080/",
          "height": 492
        },
        "id": "PVy-2f2X3WVH",
        "outputId": "76b58788-1720-4957-81c9-ad595d53cbfa"
      },
      "execution_count": null,
      "outputs": [
        {
          "output_type": "stream",
          "name": "stdout",
          "text": [
            "<class 'pandas.core.frame.DataFrame'>\n",
            "RangeIndex: 668 entries, 0 to 667\n",
            "Data columns (total 8 columns):\n",
            " #   Column  Non-Null Count  Dtype  \n",
            "---  ------  --------------  -----  \n",
            " 0   A1      668 non-null    int64  \n",
            " 1   A2      668 non-null    int64  \n",
            " 2   A3      668 non-null    int64  \n",
            " 3   A4      668 non-null    int64  \n",
            " 4   A5      668 non-null    int64  \n",
            " 5   A6      668 non-null    float64\n",
            " 6   A7      668 non-null    float64\n",
            " 7   A8      668 non-null    int64  \n",
            "dtypes: float64(2), int64(6)\n",
            "memory usage: 41.9 KB\n",
            "None\n"
          ]
        },
        {
          "output_type": "execute_result",
          "data": {
            "text/plain": [
              "   A1   A2  A3  A4   A5    A6     A7  A8\n",
              "0   6  148  72  35    0  33.6  0.627  50\n",
              "1   1   85  66  29    0  26.6  0.351  31\n",
              "2   8  183  64   0    0  23.3  0.672  32\n",
              "3   1   89  66  23   94  28.1  0.167  21\n",
              "4   0  137  40  35  168  43.1  2.288  33"
            ],
            "text/html": [
              "\n",
              "  <div id=\"df-a88a96a9-6ff2-4972-a97a-9cb5dd0c1966\">\n",
              "    <div class=\"colab-df-container\">\n",
              "      <div>\n",
              "<style scoped>\n",
              "    .dataframe tbody tr th:only-of-type {\n",
              "        vertical-align: middle;\n",
              "    }\n",
              "\n",
              "    .dataframe tbody tr th {\n",
              "        vertical-align: top;\n",
              "    }\n",
              "\n",
              "    .dataframe thead th {\n",
              "        text-align: right;\n",
              "    }\n",
              "</style>\n",
              "<table border=\"1\" class=\"dataframe\">\n",
              "  <thead>\n",
              "    <tr style=\"text-align: right;\">\n",
              "      <th></th>\n",
              "      <th>A1</th>\n",
              "      <th>A2</th>\n",
              "      <th>A3</th>\n",
              "      <th>A4</th>\n",
              "      <th>A5</th>\n",
              "      <th>A6</th>\n",
              "      <th>A7</th>\n",
              "      <th>A8</th>\n",
              "    </tr>\n",
              "  </thead>\n",
              "  <tbody>\n",
              "    <tr>\n",
              "      <th>0</th>\n",
              "      <td>6</td>\n",
              "      <td>148</td>\n",
              "      <td>72</td>\n",
              "      <td>35</td>\n",
              "      <td>0</td>\n",
              "      <td>33.6</td>\n",
              "      <td>0.627</td>\n",
              "      <td>50</td>\n",
              "    </tr>\n",
              "    <tr>\n",
              "      <th>1</th>\n",
              "      <td>1</td>\n",
              "      <td>85</td>\n",
              "      <td>66</td>\n",
              "      <td>29</td>\n",
              "      <td>0</td>\n",
              "      <td>26.6</td>\n",
              "      <td>0.351</td>\n",
              "      <td>31</td>\n",
              "    </tr>\n",
              "    <tr>\n",
              "      <th>2</th>\n",
              "      <td>8</td>\n",
              "      <td>183</td>\n",
              "      <td>64</td>\n",
              "      <td>0</td>\n",
              "      <td>0</td>\n",
              "      <td>23.3</td>\n",
              "      <td>0.672</td>\n",
              "      <td>32</td>\n",
              "    </tr>\n",
              "    <tr>\n",
              "      <th>3</th>\n",
              "      <td>1</td>\n",
              "      <td>89</td>\n",
              "      <td>66</td>\n",
              "      <td>23</td>\n",
              "      <td>94</td>\n",
              "      <td>28.1</td>\n",
              "      <td>0.167</td>\n",
              "      <td>21</td>\n",
              "    </tr>\n",
              "    <tr>\n",
              "      <th>4</th>\n",
              "      <td>0</td>\n",
              "      <td>137</td>\n",
              "      <td>40</td>\n",
              "      <td>35</td>\n",
              "      <td>168</td>\n",
              "      <td>43.1</td>\n",
              "      <td>2.288</td>\n",
              "      <td>33</td>\n",
              "    </tr>\n",
              "  </tbody>\n",
              "</table>\n",
              "</div>\n",
              "      <button class=\"colab-df-convert\" onclick=\"convertToInteractive('df-a88a96a9-6ff2-4972-a97a-9cb5dd0c1966')\"\n",
              "              title=\"Convert this dataframe to an interactive table.\"\n",
              "              style=\"display:none;\">\n",
              "        \n",
              "  <svg xmlns=\"http://www.w3.org/2000/svg\" height=\"24px\"viewBox=\"0 0 24 24\"\n",
              "       width=\"24px\">\n",
              "    <path d=\"M0 0h24v24H0V0z\" fill=\"none\"/>\n",
              "    <path d=\"M18.56 5.44l.94 2.06.94-2.06 2.06-.94-2.06-.94-.94-2.06-.94 2.06-2.06.94zm-11 1L8.5 8.5l.94-2.06 2.06-.94-2.06-.94L8.5 2.5l-.94 2.06-2.06.94zm10 10l.94 2.06.94-2.06 2.06-.94-2.06-.94-.94-2.06-.94 2.06-2.06.94z\"/><path d=\"M17.41 7.96l-1.37-1.37c-.4-.4-.92-.59-1.43-.59-.52 0-1.04.2-1.43.59L10.3 9.45l-7.72 7.72c-.78.78-.78 2.05 0 2.83L4 21.41c.39.39.9.59 1.41.59.51 0 1.02-.2 1.41-.59l7.78-7.78 2.81-2.81c.8-.78.8-2.07 0-2.86zM5.41 20L4 18.59l7.72-7.72 1.47 1.35L5.41 20z\"/>\n",
              "  </svg>\n",
              "      </button>\n",
              "      \n",
              "  <style>\n",
              "    .colab-df-container {\n",
              "      display:flex;\n",
              "      flex-wrap:wrap;\n",
              "      gap: 12px;\n",
              "    }\n",
              "\n",
              "    .colab-df-convert {\n",
              "      background-color: #E8F0FE;\n",
              "      border: none;\n",
              "      border-radius: 50%;\n",
              "      cursor: pointer;\n",
              "      display: none;\n",
              "      fill: #1967D2;\n",
              "      height: 32px;\n",
              "      padding: 0 0 0 0;\n",
              "      width: 32px;\n",
              "    }\n",
              "\n",
              "    .colab-df-convert:hover {\n",
              "      background-color: #E2EBFA;\n",
              "      box-shadow: 0px 1px 2px rgba(60, 64, 67, 0.3), 0px 1px 3px 1px rgba(60, 64, 67, 0.15);\n",
              "      fill: #174EA6;\n",
              "    }\n",
              "\n",
              "    [theme=dark] .colab-df-convert {\n",
              "      background-color: #3B4455;\n",
              "      fill: #D2E3FC;\n",
              "    }\n",
              "\n",
              "    [theme=dark] .colab-df-convert:hover {\n",
              "      background-color: #434B5C;\n",
              "      box-shadow: 0px 1px 3px 1px rgba(0, 0, 0, 0.15);\n",
              "      filter: drop-shadow(0px 1px 2px rgba(0, 0, 0, 0.3));\n",
              "      fill: #FFFFFF;\n",
              "    }\n",
              "  </style>\n",
              "\n",
              "      <script>\n",
              "        const buttonEl =\n",
              "          document.querySelector('#df-a88a96a9-6ff2-4972-a97a-9cb5dd0c1966 button.colab-df-convert');\n",
              "        buttonEl.style.display =\n",
              "          google.colab.kernel.accessAllowed ? 'block' : 'none';\n",
              "\n",
              "        async function convertToInteractive(key) {\n",
              "          const element = document.querySelector('#df-a88a96a9-6ff2-4972-a97a-9cb5dd0c1966');\n",
              "          const dataTable =\n",
              "            await google.colab.kernel.invokeFunction('convertToInteractive',\n",
              "                                                     [key], {});\n",
              "          if (!dataTable) return;\n",
              "\n",
              "          const docLinkHtml = 'Like what you see? Visit the ' +\n",
              "            '<a target=\"_blank\" href=https://colab.research.google.com/notebooks/data_table.ipynb>data table notebook</a>'\n",
              "            + ' to learn more about interactive tables.';\n",
              "          element.innerHTML = '';\n",
              "          dataTable['output_type'] = 'display_data';\n",
              "          await google.colab.output.renderOutput(dataTable, element);\n",
              "          const docLink = document.createElement('div');\n",
              "          docLink.innerHTML = docLinkHtml;\n",
              "          element.appendChild(docLink);\n",
              "        }\n",
              "      </script>\n",
              "    </div>\n",
              "  </div>\n",
              "  "
            ]
          },
          "metadata": {},
          "execution_count": 11
        }
      ]
    },
    {
      "cell_type": "markdown",
      "source": [
        "## Model Building\n",
        "### let's use a simple model with 8 features and 2 hidden layers"
      ],
      "metadata": {
        "id": "N2OJozKd3mat"
      }
    },
    {
      "cell_type": "markdown",
      "source": [
        "## Splitting the data"
      ],
      "metadata": {
        "id": "fBWrwehm323Q"
      }
    },
    {
      "cell_type": "code",
      "source": [
        "# split data to train and validation sets\n",
        "X_train, X_val, y_train, y_val = train_test_split(X, y, test_size=0.3, random_state=100)\n",
        "print(f'training data set size: {len(X_train)}')\n",
        "print(f'validation data set size: {len(X_val)}')"
      ],
      "metadata": {
        "colab": {
          "base_uri": "https://localhost:8080/"
        },
        "id": "zYrYjA-535v9",
        "outputId": "add7f9e7-ff45-4679-cf89-c2ecc82a2fb9"
      },
      "execution_count": null,
      "outputs": [
        {
          "output_type": "stream",
          "name": "stdout",
          "text": [
            "training data set size: 467\n",
            "validation data set size: 201\n"
          ]
        }
      ]
    },
    {
      "cell_type": "code",
      "source": [
        "# define the keras model\n",
        "model1 = keras.Sequential()\n",
        "model1.add(layers.Dense(12, input_dim=8, activation='relu'))\n",
        "model1.add(layers.Dense(8, activation='relu'))\n",
        "model1.add(layers.Dense(1, activation='sigmoid'))\n",
        "\n",
        "model1.summary()"
      ],
      "metadata": {
        "colab": {
          "base_uri": "https://localhost:8080/"
        },
        "id": "qEXU6RIP4G9O",
        "outputId": "2cff3306-fa27-4297-f76c-3c5a3205db0b"
      },
      "execution_count": null,
      "outputs": [
        {
          "output_type": "stream",
          "name": "stdout",
          "text": [
            "Model: \"sequential\"\n",
            "_________________________________________________________________\n",
            " Layer (type)                Output Shape              Param #   \n",
            "=================================================================\n",
            " dense (Dense)               (None, 12)                108       \n",
            "                                                                 \n",
            " dense_1 (Dense)             (None, 8)                 104       \n",
            "                                                                 \n",
            " dense_2 (Dense)             (None, 1)                 9         \n",
            "                                                                 \n",
            "=================================================================\n",
            "Total params: 221\n",
            "Trainable params: 221\n",
            "Non-trainable params: 0\n",
            "_________________________________________________________________\n"
          ]
        }
      ]
    },
    {
      "cell_type": "code",
      "source": [
        "# compile the keras model\n",
        "model1.compile(loss='binary_crossentropy', optimizer='adam', metrics=['accuracy'])"
      ],
      "metadata": {
        "id": "TMkia95v4ODp"
      },
      "execution_count": null,
      "outputs": []
    },
    {
      "cell_type": "code",
      "source": [
        "# train model\n",
        "model1.fit(X_train, y_train, batch_size=45, epochs=100, validation_data=(X_val, y_val))"
      ],
      "metadata": {
        "colab": {
          "base_uri": "https://localhost:8080/"
        },
        "id": "EKp-vyR-4W6V",
        "outputId": "99b9e469-04a3-46af-b7cd-860f32df8d68"
      },
      "execution_count": null,
      "outputs": [
        {
          "output_type": "stream",
          "name": "stdout",
          "text": [
            "Epoch 1/100\n",
            "11/11 [==============================] - 0s 19ms/step - loss: 0.5530 - accuracy: 0.7259 - val_loss: 0.6384 - val_accuracy: 0.6965\n",
            "Epoch 2/100\n",
            "11/11 [==============================] - 0s 9ms/step - loss: 0.5654 - accuracy: 0.7088 - val_loss: 0.6077 - val_accuracy: 0.6965\n",
            "Epoch 3/100\n",
            "11/11 [==============================] - 0s 11ms/step - loss: 0.5581 - accuracy: 0.7323 - val_loss: 0.6014 - val_accuracy: 0.7114\n",
            "Epoch 4/100\n",
            "11/11 [==============================] - 0s 13ms/step - loss: 0.5605 - accuracy: 0.7238 - val_loss: 0.6043 - val_accuracy: 0.7065\n",
            "Epoch 5/100\n",
            "11/11 [==============================] - 0s 18ms/step - loss: 0.5522 - accuracy: 0.7238 - val_loss: 0.5929 - val_accuracy: 0.7015\n",
            "Epoch 6/100\n",
            "11/11 [==============================] - 0s 13ms/step - loss: 0.5495 - accuracy: 0.7302 - val_loss: 0.6145 - val_accuracy: 0.7015\n",
            "Epoch 7/100\n",
            "11/11 [==============================] - 0s 15ms/step - loss: 0.5549 - accuracy: 0.7281 - val_loss: 0.6162 - val_accuracy: 0.6766\n",
            "Epoch 8/100\n",
            "11/11 [==============================] - 0s 11ms/step - loss: 0.5685 - accuracy: 0.7109 - val_loss: 0.6063 - val_accuracy: 0.7164\n",
            "Epoch 9/100\n",
            "11/11 [==============================] - 0s 14ms/step - loss: 0.5417 - accuracy: 0.7238 - val_loss: 0.5978 - val_accuracy: 0.6965\n",
            "Epoch 10/100\n",
            "11/11 [==============================] - 0s 11ms/step - loss: 0.5429 - accuracy: 0.7388 - val_loss: 0.5934 - val_accuracy: 0.7114\n",
            "Epoch 11/100\n",
            "11/11 [==============================] - 0s 9ms/step - loss: 0.5444 - accuracy: 0.7259 - val_loss: 0.6045 - val_accuracy: 0.7065\n",
            "Epoch 12/100\n",
            "11/11 [==============================] - 0s 9ms/step - loss: 0.5473 - accuracy: 0.7452 - val_loss: 0.5896 - val_accuracy: 0.7164\n",
            "Epoch 13/100\n",
            "11/11 [==============================] - 0s 10ms/step - loss: 0.5414 - accuracy: 0.7388 - val_loss: 0.5973 - val_accuracy: 0.7065\n",
            "Epoch 14/100\n",
            "11/11 [==============================] - 0s 9ms/step - loss: 0.5441 - accuracy: 0.7452 - val_loss: 0.5990 - val_accuracy: 0.7015\n",
            "Epoch 15/100\n",
            "11/11 [==============================] - 0s 9ms/step - loss: 0.5567 - accuracy: 0.7195 - val_loss: 0.6018 - val_accuracy: 0.7015\n",
            "Epoch 16/100\n",
            "11/11 [==============================] - 0s 9ms/step - loss: 0.5431 - accuracy: 0.7323 - val_loss: 0.5938 - val_accuracy: 0.7264\n",
            "Epoch 17/100\n",
            "11/11 [==============================] - 0s 10ms/step - loss: 0.5372 - accuracy: 0.7409 - val_loss: 0.5852 - val_accuracy: 0.7164\n",
            "Epoch 18/100\n",
            "11/11 [==============================] - 0s 8ms/step - loss: 0.5482 - accuracy: 0.7088 - val_loss: 0.5898 - val_accuracy: 0.7164\n",
            "Epoch 19/100\n",
            "11/11 [==============================] - 0s 9ms/step - loss: 0.5393 - accuracy: 0.7259 - val_loss: 0.5917 - val_accuracy: 0.7264\n",
            "Epoch 20/100\n",
            "11/11 [==============================] - 0s 9ms/step - loss: 0.5374 - accuracy: 0.7537 - val_loss: 0.5903 - val_accuracy: 0.7164\n",
            "Epoch 21/100\n",
            "11/11 [==============================] - 0s 10ms/step - loss: 0.5339 - accuracy: 0.7409 - val_loss: 0.5926 - val_accuracy: 0.7164\n",
            "Epoch 22/100\n",
            "11/11 [==============================] - 0s 8ms/step - loss: 0.5402 - accuracy: 0.7430 - val_loss: 0.5970 - val_accuracy: 0.7015\n",
            "Epoch 23/100\n",
            "11/11 [==============================] - 0s 11ms/step - loss: 0.5504 - accuracy: 0.7388 - val_loss: 0.5872 - val_accuracy: 0.7264\n",
            "Epoch 24/100\n",
            "11/11 [==============================] - 0s 9ms/step - loss: 0.5357 - accuracy: 0.7302 - val_loss: 0.5904 - val_accuracy: 0.7114\n",
            "Epoch 25/100\n",
            "11/11 [==============================] - 0s 8ms/step - loss: 0.5363 - accuracy: 0.7388 - val_loss: 0.5923 - val_accuracy: 0.7264\n",
            "Epoch 26/100\n",
            "11/11 [==============================] - 0s 9ms/step - loss: 0.5382 - accuracy: 0.7323 - val_loss: 0.5895 - val_accuracy: 0.7114\n",
            "Epoch 27/100\n",
            "11/11 [==============================] - 0s 7ms/step - loss: 0.5375 - accuracy: 0.7430 - val_loss: 0.6001 - val_accuracy: 0.7065\n",
            "Epoch 28/100\n",
            "11/11 [==============================] - 0s 6ms/step - loss: 0.5398 - accuracy: 0.7366 - val_loss: 0.6057 - val_accuracy: 0.7015\n",
            "Epoch 29/100\n",
            "11/11 [==============================] - 0s 7ms/step - loss: 0.5414 - accuracy: 0.7323 - val_loss: 0.5918 - val_accuracy: 0.7065\n",
            "Epoch 30/100\n",
            "11/11 [==============================] - 0s 6ms/step - loss: 0.5344 - accuracy: 0.7388 - val_loss: 0.5871 - val_accuracy: 0.7214\n",
            "Epoch 31/100\n",
            "11/11 [==============================] - 0s 6ms/step - loss: 0.5358 - accuracy: 0.7495 - val_loss: 0.5883 - val_accuracy: 0.7264\n",
            "Epoch 32/100\n",
            "11/11 [==============================] - 0s 8ms/step - loss: 0.5426 - accuracy: 0.7216 - val_loss: 0.5859 - val_accuracy: 0.7313\n",
            "Epoch 33/100\n",
            "11/11 [==============================] - 0s 8ms/step - loss: 0.5335 - accuracy: 0.7473 - val_loss: 0.5873 - val_accuracy: 0.7214\n",
            "Epoch 34/100\n",
            "11/11 [==============================] - 0s 7ms/step - loss: 0.5311 - accuracy: 0.7516 - val_loss: 0.5853 - val_accuracy: 0.7214\n",
            "Epoch 35/100\n",
            "11/11 [==============================] - 0s 7ms/step - loss: 0.5359 - accuracy: 0.7452 - val_loss: 0.5816 - val_accuracy: 0.7313\n",
            "Epoch 36/100\n",
            "11/11 [==============================] - 0s 8ms/step - loss: 0.5309 - accuracy: 0.7302 - val_loss: 0.5858 - val_accuracy: 0.7164\n",
            "Epoch 37/100\n",
            "11/11 [==============================] - 0s 8ms/step - loss: 0.5320 - accuracy: 0.7345 - val_loss: 0.5865 - val_accuracy: 0.7363\n",
            "Epoch 38/100\n",
            "11/11 [==============================] - 0s 7ms/step - loss: 0.5345 - accuracy: 0.7388 - val_loss: 0.5815 - val_accuracy: 0.7413\n",
            "Epoch 39/100\n",
            "11/11 [==============================] - 0s 7ms/step - loss: 0.5409 - accuracy: 0.7345 - val_loss: 0.5939 - val_accuracy: 0.7114\n",
            "Epoch 40/100\n",
            "11/11 [==============================] - 0s 7ms/step - loss: 0.5423 - accuracy: 0.7238 - val_loss: 0.6021 - val_accuracy: 0.7065\n",
            "Epoch 41/100\n",
            "11/11 [==============================] - 0s 7ms/step - loss: 0.5436 - accuracy: 0.7430 - val_loss: 0.5782 - val_accuracy: 0.7214\n",
            "Epoch 42/100\n",
            "11/11 [==============================] - 0s 6ms/step - loss: 0.5403 - accuracy: 0.7537 - val_loss: 0.5979 - val_accuracy: 0.7164\n",
            "Epoch 43/100\n",
            "11/11 [==============================] - 0s 6ms/step - loss: 0.5484 - accuracy: 0.7238 - val_loss: 0.6043 - val_accuracy: 0.6965\n",
            "Epoch 44/100\n",
            "11/11 [==============================] - 0s 7ms/step - loss: 0.5475 - accuracy: 0.7216 - val_loss: 0.5703 - val_accuracy: 0.7065\n",
            "Epoch 45/100\n",
            "11/11 [==============================] - 0s 7ms/step - loss: 0.5439 - accuracy: 0.7281 - val_loss: 0.5864 - val_accuracy: 0.7114\n",
            "Epoch 46/100\n",
            "11/11 [==============================] - 0s 8ms/step - loss: 0.5403 - accuracy: 0.7281 - val_loss: 0.6608 - val_accuracy: 0.6866\n",
            "Epoch 47/100\n",
            "11/11 [==============================] - 0s 9ms/step - loss: 0.5644 - accuracy: 0.7131 - val_loss: 0.5856 - val_accuracy: 0.7114\n",
            "Epoch 48/100\n",
            "11/11 [==============================] - 0s 8ms/step - loss: 0.5496 - accuracy: 0.7216 - val_loss: 0.5825 - val_accuracy: 0.6915\n",
            "Epoch 49/100\n",
            "11/11 [==============================] - 0s 6ms/step - loss: 0.5512 - accuracy: 0.7109 - val_loss: 0.6014 - val_accuracy: 0.7114\n",
            "Epoch 50/100\n",
            "11/11 [==============================] - 0s 6ms/step - loss: 0.5258 - accuracy: 0.7580 - val_loss: 0.5817 - val_accuracy: 0.7214\n",
            "Epoch 51/100\n",
            "11/11 [==============================] - 0s 7ms/step - loss: 0.5300 - accuracy: 0.7495 - val_loss: 0.5763 - val_accuracy: 0.7114\n",
            "Epoch 52/100\n",
            "11/11 [==============================] - 0s 7ms/step - loss: 0.5250 - accuracy: 0.7516 - val_loss: 0.5734 - val_accuracy: 0.7363\n",
            "Epoch 53/100\n",
            "11/11 [==============================] - 0s 6ms/step - loss: 0.5316 - accuracy: 0.7516 - val_loss: 0.5765 - val_accuracy: 0.7164\n",
            "Epoch 54/100\n",
            "11/11 [==============================] - 0s 7ms/step - loss: 0.5330 - accuracy: 0.7345 - val_loss: 0.5903 - val_accuracy: 0.7015\n",
            "Epoch 55/100\n",
            "11/11 [==============================] - 0s 7ms/step - loss: 0.5319 - accuracy: 0.7409 - val_loss: 0.5779 - val_accuracy: 0.7214\n",
            "Epoch 56/100\n",
            "11/11 [==============================] - 0s 9ms/step - loss: 0.5282 - accuracy: 0.7559 - val_loss: 0.5837 - val_accuracy: 0.7363\n",
            "Epoch 57/100\n",
            "11/11 [==============================] - 0s 8ms/step - loss: 0.5266 - accuracy: 0.7452 - val_loss: 0.5813 - val_accuracy: 0.7214\n",
            "Epoch 58/100\n",
            "11/11 [==============================] - 0s 7ms/step - loss: 0.5298 - accuracy: 0.7559 - val_loss: 0.5771 - val_accuracy: 0.7214\n",
            "Epoch 59/100\n",
            "11/11 [==============================] - 0s 9ms/step - loss: 0.5241 - accuracy: 0.7537 - val_loss: 0.5759 - val_accuracy: 0.7264\n",
            "Epoch 60/100\n",
            "11/11 [==============================] - 0s 10ms/step - loss: 0.5242 - accuracy: 0.7537 - val_loss: 0.5760 - val_accuracy: 0.7264\n",
            "Epoch 61/100\n",
            "11/11 [==============================] - 0s 7ms/step - loss: 0.5233 - accuracy: 0.7645 - val_loss: 0.5896 - val_accuracy: 0.7264\n",
            "Epoch 62/100\n",
            "11/11 [==============================] - 0s 10ms/step - loss: 0.5338 - accuracy: 0.7580 - val_loss: 0.5775 - val_accuracy: 0.7264\n",
            "Epoch 63/100\n",
            "11/11 [==============================] - 0s 8ms/step - loss: 0.5295 - accuracy: 0.7537 - val_loss: 0.5758 - val_accuracy: 0.7413\n",
            "Epoch 64/100\n",
            "11/11 [==============================] - 0s 7ms/step - loss: 0.5227 - accuracy: 0.7602 - val_loss: 0.5784 - val_accuracy: 0.7214\n",
            "Epoch 65/100\n",
            "11/11 [==============================] - 0s 8ms/step - loss: 0.5196 - accuracy: 0.7452 - val_loss: 0.5829 - val_accuracy: 0.7363\n",
            "Epoch 66/100\n",
            "11/11 [==============================] - 0s 6ms/step - loss: 0.5284 - accuracy: 0.7323 - val_loss: 0.5786 - val_accuracy: 0.7214\n",
            "Epoch 67/100\n",
            "11/11 [==============================] - 0s 7ms/step - loss: 0.5212 - accuracy: 0.7602 - val_loss: 0.5720 - val_accuracy: 0.7363\n",
            "Epoch 68/100\n",
            "11/11 [==============================] - 0s 7ms/step - loss: 0.5207 - accuracy: 0.7537 - val_loss: 0.5692 - val_accuracy: 0.7264\n",
            "Epoch 69/100\n",
            "11/11 [==============================] - 0s 7ms/step - loss: 0.5199 - accuracy: 0.7537 - val_loss: 0.5769 - val_accuracy: 0.7363\n",
            "Epoch 70/100\n",
            "11/11 [==============================] - 0s 7ms/step - loss: 0.5336 - accuracy: 0.7473 - val_loss: 0.5881 - val_accuracy: 0.7114\n",
            "Epoch 71/100\n",
            "11/11 [==============================] - 0s 8ms/step - loss: 0.5249 - accuracy: 0.7430 - val_loss: 0.5736 - val_accuracy: 0.7264\n",
            "Epoch 72/100\n",
            "11/11 [==============================] - 0s 7ms/step - loss: 0.5283 - accuracy: 0.7516 - val_loss: 0.5856 - val_accuracy: 0.7164\n",
            "Epoch 73/100\n",
            "11/11 [==============================] - 0s 7ms/step - loss: 0.5255 - accuracy: 0.7452 - val_loss: 0.5734 - val_accuracy: 0.7214\n",
            "Epoch 74/100\n",
            "11/11 [==============================] - 0s 7ms/step - loss: 0.5176 - accuracy: 0.7537 - val_loss: 0.5870 - val_accuracy: 0.7164\n",
            "Epoch 75/100\n",
            "11/11 [==============================] - 0s 7ms/step - loss: 0.5224 - accuracy: 0.7537 - val_loss: 0.5796 - val_accuracy: 0.7114\n",
            "Epoch 76/100\n",
            "11/11 [==============================] - 0s 6ms/step - loss: 0.5266 - accuracy: 0.7366 - val_loss: 0.5683 - val_accuracy: 0.7214\n",
            "Epoch 77/100\n",
            "11/11 [==============================] - 0s 7ms/step - loss: 0.5199 - accuracy: 0.7602 - val_loss: 0.5753 - val_accuracy: 0.7214\n",
            "Epoch 78/100\n",
            "11/11 [==============================] - 0s 6ms/step - loss: 0.5232 - accuracy: 0.7388 - val_loss: 0.5811 - val_accuracy: 0.7164\n",
            "Epoch 79/100\n",
            "11/11 [==============================] - 0s 8ms/step - loss: 0.5289 - accuracy: 0.7409 - val_loss: 0.5738 - val_accuracy: 0.7363\n",
            "Epoch 80/100\n",
            "11/11 [==============================] - 0s 6ms/step - loss: 0.5189 - accuracy: 0.7516 - val_loss: 0.5782 - val_accuracy: 0.7413\n",
            "Epoch 81/100\n",
            "11/11 [==============================] - 0s 7ms/step - loss: 0.5202 - accuracy: 0.7666 - val_loss: 0.5768 - val_accuracy: 0.7214\n",
            "Epoch 82/100\n",
            "11/11 [==============================] - 0s 7ms/step - loss: 0.5186 - accuracy: 0.7559 - val_loss: 0.5741 - val_accuracy: 0.7164\n",
            "Epoch 83/100\n",
            "11/11 [==============================] - 0s 6ms/step - loss: 0.5166 - accuracy: 0.7559 - val_loss: 0.5818 - val_accuracy: 0.7214\n",
            "Epoch 84/100\n",
            "11/11 [==============================] - 0s 6ms/step - loss: 0.5311 - accuracy: 0.7388 - val_loss: 0.5742 - val_accuracy: 0.7313\n",
            "Epoch 85/100\n",
            "11/11 [==============================] - 0s 8ms/step - loss: 0.5412 - accuracy: 0.7409 - val_loss: 0.5792 - val_accuracy: 0.7214\n",
            "Epoch 86/100\n",
            "11/11 [==============================] - 0s 7ms/step - loss: 0.5171 - accuracy: 0.7602 - val_loss: 0.5713 - val_accuracy: 0.7313\n",
            "Epoch 87/100\n",
            "11/11 [==============================] - 0s 7ms/step - loss: 0.5181 - accuracy: 0.7559 - val_loss: 0.5837 - val_accuracy: 0.7363\n",
            "Epoch 88/100\n",
            "11/11 [==============================] - 0s 6ms/step - loss: 0.5199 - accuracy: 0.7516 - val_loss: 0.5928 - val_accuracy: 0.7015\n",
            "Epoch 89/100\n",
            "11/11 [==============================] - 0s 6ms/step - loss: 0.5276 - accuracy: 0.7537 - val_loss: 0.5895 - val_accuracy: 0.7015\n",
            "Epoch 90/100\n",
            "11/11 [==============================] - 0s 9ms/step - loss: 0.5314 - accuracy: 0.7452 - val_loss: 0.5621 - val_accuracy: 0.7313\n",
            "Epoch 91/100\n",
            "11/11 [==============================] - 0s 7ms/step - loss: 0.5126 - accuracy: 0.7516 - val_loss: 0.5723 - val_accuracy: 0.7313\n",
            "Epoch 92/100\n",
            "11/11 [==============================] - 0s 8ms/step - loss: 0.5160 - accuracy: 0.7602 - val_loss: 0.5794 - val_accuracy: 0.7413\n",
            "Epoch 93/100\n",
            "11/11 [==============================] - 0s 8ms/step - loss: 0.5205 - accuracy: 0.7602 - val_loss: 0.5897 - val_accuracy: 0.7015\n",
            "Epoch 94/100\n",
            "11/11 [==============================] - 0s 8ms/step - loss: 0.5276 - accuracy: 0.7516 - val_loss: 0.5694 - val_accuracy: 0.7264\n",
            "Epoch 95/100\n",
            "11/11 [==============================] - 0s 7ms/step - loss: 0.5131 - accuracy: 0.7559 - val_loss: 0.5672 - val_accuracy: 0.7313\n",
            "Epoch 96/100\n",
            "11/11 [==============================] - 0s 9ms/step - loss: 0.5138 - accuracy: 0.7602 - val_loss: 0.5837 - val_accuracy: 0.7164\n",
            "Epoch 97/100\n",
            "11/11 [==============================] - 0s 9ms/step - loss: 0.5394 - accuracy: 0.7302 - val_loss: 0.5683 - val_accuracy: 0.7413\n",
            "Epoch 98/100\n",
            "11/11 [==============================] - 0s 8ms/step - loss: 0.5181 - accuracy: 0.7473 - val_loss: 0.5744 - val_accuracy: 0.7264\n",
            "Epoch 99/100\n",
            "11/11 [==============================] - 0s 8ms/step - loss: 0.5358 - accuracy: 0.7495 - val_loss: 0.5774 - val_accuracy: 0.7164\n",
            "Epoch 100/100\n",
            "11/11 [==============================] - 0s 9ms/step - loss: 0.5222 - accuracy: 0.7709 - val_loss: 0.5765 - val_accuracy: 0.7264\n"
          ]
        },
        {
          "output_type": "execute_result",
          "data": {
            "text/plain": [
              "<keras.callbacks.History at 0x7f68a0cc63a0>"
            ]
          },
          "metadata": {},
          "execution_count": 171
        }
      ]
    },
    {
      "cell_type": "markdown",
      "source": [
        "##Let's calculate the validation accuracy"
      ],
      "metadata": {
        "id": "tSFN4kyK4hUg"
      }
    },
    {
      "cell_type": "code",
      "source": [
        "# get model predictions\n",
        "y_pred = model1.predict(X_val)\n",
        "print(y_pred[:20])"
      ],
      "metadata": {
        "colab": {
          "base_uri": "https://localhost:8080/"
        },
        "id": "O3nsKt6Z4frX",
        "outputId": "248f09cc-9dea-40f7-810d-c34792691055"
      },
      "execution_count": null,
      "outputs": [
        {
          "output_type": "stream",
          "name": "stdout",
          "text": [
            "7/7 [==============================] - 0s 4ms/step\n",
            "[[0.18297721]\n",
            " [0.09044032]\n",
            " [0.16465206]\n",
            " [0.24072677]\n",
            " [0.40788078]\n",
            " [0.00923567]\n",
            " [0.4318643 ]\n",
            " [0.22168751]\n",
            " [0.3195449 ]\n",
            " [0.11932524]\n",
            " [0.27842098]\n",
            " [0.11713725]\n",
            " [0.05053964]\n",
            " [0.19609019]\n",
            " [0.22153142]\n",
            " [0.3060912 ]\n",
            " [0.7089891 ]\n",
            " [0.2467063 ]\n",
            " [0.21907848]\n",
            " [0.17753765]]\n"
          ]
        }
      ]
    },
    {
      "cell_type": "code",
      "source": [
        "# convert to categorical predictions\n",
        "y_pred_categorical = [1 if pred > 0.5 else 0 for pred in y_pred]\n",
        "print(y_pred_categorical[:20])"
      ],
      "metadata": {
        "colab": {
          "base_uri": "https://localhost:8080/"
        },
        "id": "xTumjraf49Eg",
        "outputId": "067c0f38-eb8e-4c9d-dea3-eff1ef9d4b4d"
      },
      "execution_count": null,
      "outputs": [
        {
          "output_type": "stream",
          "name": "stdout",
          "text": [
            "[0, 0, 0, 0, 0, 0, 0, 0, 0, 0, 0, 0, 0, 0, 0, 0, 1, 0, 0, 0]\n"
          ]
        }
      ]
    },
    {
      "cell_type": "code",
      "source": [
        "# measure accuracy\n",
        "accuracy = metrics.accuracy_score(y_val, y_pred_categorical)\n",
        "print(f'Accuracy: {accuracy}')"
      ],
      "metadata": {
        "colab": {
          "base_uri": "https://localhost:8080/"
        },
        "id": "tFla_uso40Tk",
        "outputId": "8bf11f4c-bb6c-4e1f-f66f-1534198efedc"
      },
      "execution_count": null,
      "outputs": [
        {
          "output_type": "stream",
          "name": "stdout",
          "text": [
            "Accuracy: 0.7263681592039801\n"
          ]
        }
      ]
    },
    {
      "cell_type": "code",
      "source": [
        "# clear session\n",
        "keras.backend.clear_session()\n",
        "\n",
        "# set random seed\n",
        "keras.utils.set_random_seed(seed) # set all random seeds for the program (Python, NumPy, and TensorFlow)"
      ],
      "metadata": {
        "id": "nV6DADYJ_G1u"
      },
      "execution_count": null,
      "outputs": []
    },
    {
      "cell_type": "markdown",
      "source": [
        "## M2"
      ],
      "metadata": {
        "id": "LnalNTBgGXXy"
      }
    },
    {
      "cell_type": "code",
      "source": [
        "# define the keras model\n",
        "model2 = keras.Sequential()\n",
        "model2.add(layers.Dense(64, input_dim=8, activation='relu'))\n",
        "model2.add(layers.Dense(32, activation='relu'))\n",
        "model2.add(layers.Dense(1, activation='sigmoid'))\n",
        "\n",
        "model2.summary()"
      ],
      "metadata": {
        "colab": {
          "base_uri": "https://localhost:8080/"
        },
        "id": "-cui1sm0GhQo",
        "outputId": "aa35c556-402b-45ef-c524-3508dad56f87"
      },
      "execution_count": null,
      "outputs": [
        {
          "output_type": "stream",
          "name": "stdout",
          "text": [
            "Model: \"sequential\"\n",
            "_________________________________________________________________\n",
            " Layer (type)                Output Shape              Param #   \n",
            "=================================================================\n",
            " dense (Dense)               (None, 64)                576       \n",
            "                                                                 \n",
            " dense_1 (Dense)             (None, 32)                2080      \n",
            "                                                                 \n",
            " dense_2 (Dense)             (None, 1)                 33        \n",
            "                                                                 \n",
            "=================================================================\n",
            "Total params: 2,689\n",
            "Trainable params: 2,689\n",
            "Non-trainable params: 0\n",
            "_________________________________________________________________\n"
          ]
        }
      ]
    },
    {
      "cell_type": "code",
      "source": [
        "# compile the keras model\n",
        "model2.compile(loss='binary_crossentropy', optimizer='adam', metrics=['accuracy'])"
      ],
      "metadata": {
        "id": "2XMvFNvhJERY"
      },
      "execution_count": null,
      "outputs": []
    },
    {
      "cell_type": "code",
      "source": [
        "# train model\n",
        "model2.fit(X_train, y_train, batch_size=45, epochs=100, validation_data=(X_val, y_val))"
      ],
      "metadata": {
        "colab": {
          "base_uri": "https://localhost:8080/"
        },
        "id": "G1TAVZQDJJTU",
        "outputId": "db5b2a3d-568f-4b34-fd74-332ab590a296"
      },
      "execution_count": null,
      "outputs": [
        {
          "output_type": "stream",
          "name": "stdout",
          "text": [
            "Epoch 1/100\n",
            "11/11 [==============================] - 1s 26ms/step - loss: 11.6219 - accuracy: 0.3919 - val_loss: 3.0763 - val_accuracy: 0.6567\n",
            "Epoch 2/100\n",
            "11/11 [==============================] - 0s 7ms/step - loss: 3.0240 - accuracy: 0.6552 - val_loss: 2.1139 - val_accuracy: 0.5721\n",
            "Epoch 3/100\n",
            "11/11 [==============================] - 0s 6ms/step - loss: 2.0263 - accuracy: 0.5353 - val_loss: 1.1909 - val_accuracy: 0.6219\n",
            "Epoch 4/100\n",
            "11/11 [==============================] - 0s 6ms/step - loss: 1.2582 - accuracy: 0.6210 - val_loss: 1.1112 - val_accuracy: 0.5672\n",
            "Epoch 5/100\n",
            "11/11 [==============================] - 0s 8ms/step - loss: 1.0293 - accuracy: 0.6081 - val_loss: 0.8124 - val_accuracy: 0.6219\n",
            "Epoch 6/100\n",
            "11/11 [==============================] - 0s 6ms/step - loss: 0.7749 - accuracy: 0.6039 - val_loss: 0.7130 - val_accuracy: 0.6269\n",
            "Epoch 7/100\n",
            "11/11 [==============================] - 0s 6ms/step - loss: 0.6935 - accuracy: 0.6895 - val_loss: 0.6403 - val_accuracy: 0.7015\n",
            "Epoch 8/100\n",
            "11/11 [==============================] - 0s 6ms/step - loss: 0.6672 - accuracy: 0.6296 - val_loss: 0.6576 - val_accuracy: 0.6766\n",
            "Epoch 9/100\n",
            "11/11 [==============================] - 0s 8ms/step - loss: 0.6364 - accuracy: 0.6981 - val_loss: 0.6611 - val_accuracy: 0.7065\n",
            "Epoch 10/100\n",
            "11/11 [==============================] - 0s 9ms/step - loss: 0.6624 - accuracy: 0.6745 - val_loss: 0.7515 - val_accuracy: 0.6318\n",
            "Epoch 11/100\n",
            "11/11 [==============================] - 0s 10ms/step - loss: 0.6377 - accuracy: 0.6702 - val_loss: 0.6240 - val_accuracy: 0.7065\n",
            "Epoch 12/100\n",
            "11/11 [==============================] - 0s 8ms/step - loss: 0.6020 - accuracy: 0.6916 - val_loss: 0.6494 - val_accuracy: 0.6866\n",
            "Epoch 13/100\n",
            "11/11 [==============================] - 0s 8ms/step - loss: 0.6167 - accuracy: 0.6681 - val_loss: 0.6709 - val_accuracy: 0.6617\n",
            "Epoch 14/100\n",
            "11/11 [==============================] - 0s 8ms/step - loss: 0.6197 - accuracy: 0.6981 - val_loss: 0.6643 - val_accuracy: 0.6517\n",
            "Epoch 15/100\n",
            "11/11 [==============================] - 0s 9ms/step - loss: 0.6589 - accuracy: 0.6852 - val_loss: 0.6782 - val_accuracy: 0.6567\n",
            "Epoch 16/100\n",
            "11/11 [==============================] - 0s 8ms/step - loss: 0.6943 - accuracy: 0.6767 - val_loss: 0.7813 - val_accuracy: 0.6318\n",
            "Epoch 17/100\n",
            "11/11 [==============================] - 0s 9ms/step - loss: 0.5981 - accuracy: 0.7024 - val_loss: 0.6105 - val_accuracy: 0.7214\n",
            "Epoch 18/100\n",
            "11/11 [==============================] - 0s 8ms/step - loss: 0.6116 - accuracy: 0.6638 - val_loss: 0.6814 - val_accuracy: 0.7114\n",
            "Epoch 19/100\n",
            "11/11 [==============================] - 0s 9ms/step - loss: 0.6893 - accuracy: 0.6809 - val_loss: 0.6273 - val_accuracy: 0.7313\n",
            "Epoch 20/100\n",
            "11/11 [==============================] - 0s 8ms/step - loss: 0.5817 - accuracy: 0.6981 - val_loss: 0.6503 - val_accuracy: 0.6766\n",
            "Epoch 21/100\n",
            "11/11 [==============================] - 0s 7ms/step - loss: 0.5987 - accuracy: 0.7152 - val_loss: 0.6298 - val_accuracy: 0.7065\n",
            "Epoch 22/100\n",
            "11/11 [==============================] - 0s 7ms/step - loss: 0.5636 - accuracy: 0.7238 - val_loss: 0.6099 - val_accuracy: 0.7114\n",
            "Epoch 23/100\n",
            "11/11 [==============================] - 0s 8ms/step - loss: 0.5872 - accuracy: 0.6959 - val_loss: 0.7492 - val_accuracy: 0.6567\n",
            "Epoch 24/100\n",
            "11/11 [==============================] - 0s 7ms/step - loss: 0.6253 - accuracy: 0.7002 - val_loss: 0.6086 - val_accuracy: 0.7164\n",
            "Epoch 25/100\n",
            "11/11 [==============================] - 0s 6ms/step - loss: 0.5600 - accuracy: 0.7388 - val_loss: 0.6444 - val_accuracy: 0.6965\n",
            "Epoch 26/100\n",
            "11/11 [==============================] - 0s 7ms/step - loss: 0.5829 - accuracy: 0.7002 - val_loss: 0.5972 - val_accuracy: 0.7214\n",
            "Epoch 27/100\n",
            "11/11 [==============================] - 0s 8ms/step - loss: 0.5766 - accuracy: 0.7152 - val_loss: 0.6006 - val_accuracy: 0.7264\n",
            "Epoch 28/100\n",
            "11/11 [==============================] - 0s 6ms/step - loss: 0.5475 - accuracy: 0.7109 - val_loss: 0.6184 - val_accuracy: 0.7065\n",
            "Epoch 29/100\n",
            "11/11 [==============================] - 0s 7ms/step - loss: 0.5758 - accuracy: 0.6916 - val_loss: 0.5957 - val_accuracy: 0.7413\n",
            "Epoch 30/100\n",
            "11/11 [==============================] - 0s 6ms/step - loss: 0.5525 - accuracy: 0.7259 - val_loss: 0.6099 - val_accuracy: 0.7164\n",
            "Epoch 31/100\n",
            "11/11 [==============================] - 0s 7ms/step - loss: 0.5554 - accuracy: 0.7281 - val_loss: 0.6107 - val_accuracy: 0.7114\n",
            "Epoch 32/100\n",
            "11/11 [==============================] - 0s 7ms/step - loss: 0.5738 - accuracy: 0.7024 - val_loss: 0.6139 - val_accuracy: 0.7065\n",
            "Epoch 33/100\n",
            "11/11 [==============================] - 0s 8ms/step - loss: 0.5527 - accuracy: 0.7195 - val_loss: 0.5908 - val_accuracy: 0.7164\n",
            "Epoch 34/100\n",
            "11/11 [==============================] - 0s 6ms/step - loss: 0.5847 - accuracy: 0.7002 - val_loss: 0.5933 - val_accuracy: 0.7164\n",
            "Epoch 35/100\n",
            "11/11 [==============================] - 0s 8ms/step - loss: 0.5596 - accuracy: 0.7066 - val_loss: 0.6222 - val_accuracy: 0.6866\n",
            "Epoch 36/100\n",
            "11/11 [==============================] - 0s 6ms/step - loss: 0.5693 - accuracy: 0.7152 - val_loss: 0.6227 - val_accuracy: 0.7015\n",
            "Epoch 37/100\n",
            "11/11 [==============================] - 0s 7ms/step - loss: 0.5635 - accuracy: 0.7195 - val_loss: 0.6728 - val_accuracy: 0.6716\n",
            "Epoch 38/100\n",
            "11/11 [==============================] - 0s 6ms/step - loss: 0.5923 - accuracy: 0.7024 - val_loss: 0.6125 - val_accuracy: 0.7214\n",
            "Epoch 39/100\n",
            "11/11 [==============================] - 0s 6ms/step - loss: 0.5779 - accuracy: 0.6959 - val_loss: 0.6690 - val_accuracy: 0.7114\n",
            "Epoch 40/100\n",
            "11/11 [==============================] - 0s 7ms/step - loss: 0.5638 - accuracy: 0.7045 - val_loss: 0.5831 - val_accuracy: 0.7214\n",
            "Epoch 41/100\n",
            "11/11 [==============================] - 0s 6ms/step - loss: 0.5455 - accuracy: 0.7345 - val_loss: 0.6086 - val_accuracy: 0.7413\n",
            "Epoch 42/100\n",
            "11/11 [==============================] - 0s 6ms/step - loss: 0.5301 - accuracy: 0.7152 - val_loss: 0.6185 - val_accuracy: 0.6866\n",
            "Epoch 43/100\n",
            "11/11 [==============================] - 0s 7ms/step - loss: 0.5693 - accuracy: 0.7195 - val_loss: 0.6671 - val_accuracy: 0.6866\n",
            "Epoch 44/100\n",
            "11/11 [==============================] - 0s 7ms/step - loss: 0.6915 - accuracy: 0.6831 - val_loss: 0.7686 - val_accuracy: 0.5771\n",
            "Epoch 45/100\n",
            "11/11 [==============================] - 0s 6ms/step - loss: 0.5899 - accuracy: 0.7002 - val_loss: 0.6429 - val_accuracy: 0.6915\n",
            "Epoch 46/100\n",
            "11/11 [==============================] - 0s 7ms/step - loss: 0.5384 - accuracy: 0.7066 - val_loss: 0.5890 - val_accuracy: 0.7413\n",
            "Epoch 47/100\n",
            "11/11 [==============================] - 0s 6ms/step - loss: 0.5275 - accuracy: 0.7131 - val_loss: 0.6154 - val_accuracy: 0.7114\n",
            "Epoch 48/100\n",
            "11/11 [==============================] - 0s 8ms/step - loss: 0.5663 - accuracy: 0.7302 - val_loss: 0.6034 - val_accuracy: 0.7015\n",
            "Epoch 49/100\n",
            "11/11 [==============================] - 0s 9ms/step - loss: 0.5435 - accuracy: 0.7045 - val_loss: 0.6059 - val_accuracy: 0.7164\n",
            "Epoch 50/100\n",
            "11/11 [==============================] - 0s 9ms/step - loss: 0.5255 - accuracy: 0.7216 - val_loss: 0.6141 - val_accuracy: 0.7363\n",
            "Epoch 51/100\n",
            "11/11 [==============================] - 0s 9ms/step - loss: 0.5321 - accuracy: 0.7088 - val_loss: 0.5853 - val_accuracy: 0.7313\n",
            "Epoch 52/100\n",
            "11/11 [==============================] - 0s 13ms/step - loss: 0.5436 - accuracy: 0.7366 - val_loss: 0.6407 - val_accuracy: 0.7015\n",
            "Epoch 53/100\n",
            "11/11 [==============================] - 0s 10ms/step - loss: 0.5858 - accuracy: 0.6831 - val_loss: 0.7612 - val_accuracy: 0.6617\n",
            "Epoch 54/100\n",
            "11/11 [==============================] - 0s 9ms/step - loss: 0.5760 - accuracy: 0.6981 - val_loss: 0.5995 - val_accuracy: 0.7164\n",
            "Epoch 55/100\n",
            "11/11 [==============================] - 0s 9ms/step - loss: 0.5960 - accuracy: 0.7088 - val_loss: 0.6613 - val_accuracy: 0.7164\n",
            "Epoch 56/100\n",
            "11/11 [==============================] - 0s 10ms/step - loss: 0.6303 - accuracy: 0.7238 - val_loss: 0.6711 - val_accuracy: 0.6915\n",
            "Epoch 57/100\n",
            "11/11 [==============================] - 0s 11ms/step - loss: 0.5816 - accuracy: 0.6916 - val_loss: 0.6681 - val_accuracy: 0.6915\n",
            "Epoch 58/100\n",
            "11/11 [==============================] - 0s 10ms/step - loss: 0.5887 - accuracy: 0.7045 - val_loss: 0.8030 - val_accuracy: 0.6070\n",
            "Epoch 59/100\n",
            "11/11 [==============================] - 0s 10ms/step - loss: 0.5615 - accuracy: 0.7195 - val_loss: 0.6048 - val_accuracy: 0.7313\n",
            "Epoch 60/100\n",
            "11/11 [==============================] - 0s 10ms/step - loss: 0.5063 - accuracy: 0.7388 - val_loss: 0.6387 - val_accuracy: 0.7015\n",
            "Epoch 61/100\n",
            "11/11 [==============================] - 0s 11ms/step - loss: 0.5222 - accuracy: 0.7302 - val_loss: 0.7043 - val_accuracy: 0.6667\n",
            "Epoch 62/100\n",
            "11/11 [==============================] - 0s 8ms/step - loss: 0.5503 - accuracy: 0.7173 - val_loss: 0.6211 - val_accuracy: 0.7164\n",
            "Epoch 63/100\n",
            "11/11 [==============================] - 0s 8ms/step - loss: 0.5863 - accuracy: 0.7323 - val_loss: 0.7034 - val_accuracy: 0.6915\n",
            "Epoch 64/100\n",
            "11/11 [==============================] - 0s 10ms/step - loss: 0.6216 - accuracy: 0.6959 - val_loss: 0.6601 - val_accuracy: 0.6816\n",
            "Epoch 65/100\n",
            "11/11 [==============================] - 0s 10ms/step - loss: 0.5527 - accuracy: 0.7430 - val_loss: 0.6322 - val_accuracy: 0.7313\n",
            "Epoch 66/100\n",
            "11/11 [==============================] - 0s 11ms/step - loss: 0.5765 - accuracy: 0.7002 - val_loss: 0.6425 - val_accuracy: 0.6915\n",
            "Epoch 67/100\n",
            "11/11 [==============================] - 0s 16ms/step - loss: 0.6055 - accuracy: 0.7002 - val_loss: 0.6291 - val_accuracy: 0.7015\n",
            "Epoch 68/100\n",
            "11/11 [==============================] - 0s 11ms/step - loss: 0.5105 - accuracy: 0.7281 - val_loss: 0.6141 - val_accuracy: 0.7363\n",
            "Epoch 69/100\n",
            "11/11 [==============================] - 0s 15ms/step - loss: 0.5217 - accuracy: 0.7195 - val_loss: 0.6724 - val_accuracy: 0.6766\n",
            "Epoch 70/100\n",
            "11/11 [==============================] - 0s 11ms/step - loss: 0.4997 - accuracy: 0.7388 - val_loss: 0.6886 - val_accuracy: 0.6716\n",
            "Epoch 71/100\n",
            "11/11 [==============================] - 0s 14ms/step - loss: 0.5613 - accuracy: 0.7281 - val_loss: 0.9023 - val_accuracy: 0.6368\n",
            "Epoch 72/100\n",
            "11/11 [==============================] - 0s 7ms/step - loss: 0.5652 - accuracy: 0.7281 - val_loss: 0.6519 - val_accuracy: 0.7015\n",
            "Epoch 73/100\n",
            "11/11 [==============================] - 0s 8ms/step - loss: 0.5161 - accuracy: 0.7409 - val_loss: 0.7447 - val_accuracy: 0.6716\n",
            "Epoch 74/100\n",
            "11/11 [==============================] - 0s 8ms/step - loss: 0.5330 - accuracy: 0.7173 - val_loss: 0.7299 - val_accuracy: 0.6318\n",
            "Epoch 75/100\n",
            "11/11 [==============================] - 0s 8ms/step - loss: 0.5543 - accuracy: 0.7152 - val_loss: 0.6197 - val_accuracy: 0.7164\n",
            "Epoch 76/100\n",
            "11/11 [==============================] - 0s 8ms/step - loss: 0.5175 - accuracy: 0.7430 - val_loss: 0.6168 - val_accuracy: 0.7264\n",
            "Epoch 77/100\n",
            "11/11 [==============================] - 0s 8ms/step - loss: 0.5101 - accuracy: 0.7516 - val_loss: 0.6038 - val_accuracy: 0.7264\n",
            "Epoch 78/100\n",
            "11/11 [==============================] - 0s 9ms/step - loss: 0.5216 - accuracy: 0.7516 - val_loss: 0.6735 - val_accuracy: 0.6816\n",
            "Epoch 79/100\n",
            "11/11 [==============================] - 0s 8ms/step - loss: 0.5887 - accuracy: 0.7281 - val_loss: 0.6867 - val_accuracy: 0.6716\n",
            "Epoch 80/100\n",
            "11/11 [==============================] - 0s 8ms/step - loss: 0.5759 - accuracy: 0.7024 - val_loss: 0.6550 - val_accuracy: 0.6915\n",
            "Epoch 81/100\n",
            "11/11 [==============================] - 0s 9ms/step - loss: 0.5086 - accuracy: 0.7302 - val_loss: 0.6215 - val_accuracy: 0.7214\n",
            "Epoch 82/100\n",
            "11/11 [==============================] - 0s 8ms/step - loss: 0.4987 - accuracy: 0.7537 - val_loss: 0.6194 - val_accuracy: 0.7264\n",
            "Epoch 83/100\n",
            "11/11 [==============================] - 0s 8ms/step - loss: 0.4947 - accuracy: 0.7366 - val_loss: 0.6077 - val_accuracy: 0.7413\n",
            "Epoch 84/100\n",
            "11/11 [==============================] - 0s 7ms/step - loss: 0.5131 - accuracy: 0.7516 - val_loss: 0.8043 - val_accuracy: 0.6219\n",
            "Epoch 85/100\n",
            "11/11 [==============================] - 0s 9ms/step - loss: 0.5609 - accuracy: 0.7238 - val_loss: 0.6290 - val_accuracy: 0.7214\n",
            "Epoch 86/100\n",
            "11/11 [==============================] - 0s 7ms/step - loss: 0.5123 - accuracy: 0.7409 - val_loss: 0.6191 - val_accuracy: 0.7313\n",
            "Epoch 87/100\n",
            "11/11 [==============================] - 0s 9ms/step - loss: 0.5099 - accuracy: 0.7409 - val_loss: 0.6345 - val_accuracy: 0.7413\n",
            "Epoch 88/100\n",
            "11/11 [==============================] - 0s 8ms/step - loss: 0.4817 - accuracy: 0.7602 - val_loss: 0.6164 - val_accuracy: 0.7413\n",
            "Epoch 89/100\n",
            "11/11 [==============================] - 0s 8ms/step - loss: 0.4809 - accuracy: 0.7730 - val_loss: 0.6688 - val_accuracy: 0.6866\n",
            "Epoch 90/100\n",
            "11/11 [==============================] - 0s 9ms/step - loss: 0.5029 - accuracy: 0.7345 - val_loss: 0.6012 - val_accuracy: 0.7413\n",
            "Epoch 91/100\n",
            "11/11 [==============================] - 0s 9ms/step - loss: 0.4738 - accuracy: 0.7687 - val_loss: 0.6297 - val_accuracy: 0.7313\n",
            "Epoch 92/100\n",
            "11/11 [==============================] - 0s 7ms/step - loss: 0.5055 - accuracy: 0.7345 - val_loss: 0.6313 - val_accuracy: 0.7214\n",
            "Epoch 93/100\n",
            "11/11 [==============================] - 0s 7ms/step - loss: 0.5100 - accuracy: 0.7430 - val_loss: 0.7502 - val_accuracy: 0.6667\n",
            "Epoch 94/100\n",
            "11/11 [==============================] - 0s 6ms/step - loss: 0.4974 - accuracy: 0.7473 - val_loss: 0.6527 - val_accuracy: 0.7114\n",
            "Epoch 95/100\n",
            "11/11 [==============================] - 0s 7ms/step - loss: 0.4772 - accuracy: 0.7516 - val_loss: 0.6545 - val_accuracy: 0.7065\n",
            "Epoch 96/100\n",
            "11/11 [==============================] - 0s 6ms/step - loss: 0.4746 - accuracy: 0.7409 - val_loss: 0.6718 - val_accuracy: 0.6866\n",
            "Epoch 97/100\n",
            "11/11 [==============================] - 0s 7ms/step - loss: 0.5728 - accuracy: 0.7131 - val_loss: 0.7410 - val_accuracy: 0.6866\n",
            "Epoch 98/100\n",
            "11/11 [==============================] - 0s 8ms/step - loss: 0.5890 - accuracy: 0.7109 - val_loss: 0.7918 - val_accuracy: 0.6468\n",
            "Epoch 99/100\n",
            "11/11 [==============================] - 0s 6ms/step - loss: 0.6705 - accuracy: 0.7109 - val_loss: 0.9114 - val_accuracy: 0.5871\n",
            "Epoch 100/100\n",
            "11/11 [==============================] - 0s 8ms/step - loss: 0.5982 - accuracy: 0.7323 - val_loss: 0.6941 - val_accuracy: 0.6866\n"
          ]
        },
        {
          "output_type": "execute_result",
          "data": {
            "text/plain": [
              "<keras.callbacks.History at 0x7f68a0930c40>"
            ]
          },
          "metadata": {},
          "execution_count": 183
        }
      ]
    },
    {
      "cell_type": "code",
      "source": [
        "# get model predictions\n",
        "y_pred = model2.predict(X_val)\n",
        "print(y_pred[:10])"
      ],
      "metadata": {
        "colab": {
          "base_uri": "https://localhost:8080/"
        },
        "id": "GIyQ7-4OJqJS",
        "outputId": "1d77720f-9136-4f8b-f959-ac79851d5bb3"
      },
      "execution_count": null,
      "outputs": [
        {
          "output_type": "stream",
          "name": "stdout",
          "text": [
            "7/7 [==============================] - 0s 2ms/step\n",
            "[[2.4484600e-01]\n",
            " [2.1778463e-01]\n",
            " [6.5356886e-01]\n",
            " [2.6924753e-01]\n",
            " [9.5903951e-01]\n",
            " [5.6636939e-04]\n",
            " [6.6409713e-01]\n",
            " [2.9108113e-01]\n",
            " [7.9367244e-01]\n",
            " [1.2974343e-01]]\n"
          ]
        }
      ]
    },
    {
      "cell_type": "code",
      "source": [
        "# convert to categorical predictions\n",
        "y_pred_categorical = [1 if pred > 0.5 else 0 for pred in y_pred]\n",
        "print(y_pred_categorical[:10])"
      ],
      "metadata": {
        "colab": {
          "base_uri": "https://localhost:8080/"
        },
        "id": "S9oM4PsLJxN2",
        "outputId": "6ba07faa-8782-478a-d639-67f7e78a2054"
      },
      "execution_count": null,
      "outputs": [
        {
          "output_type": "stream",
          "name": "stdout",
          "text": [
            "[0, 0, 1, 0, 1, 0, 1, 0, 1, 0]\n"
          ]
        }
      ]
    },
    {
      "cell_type": "code",
      "source": [
        "# measure accuracy\n",
        "accuracy = metrics.accuracy_score(y_val, y_pred_categorical)\n",
        "print(f'Accuracy: {accuracy}')"
      ],
      "metadata": {
        "colab": {
          "base_uri": "https://localhost:8080/"
        },
        "id": "Sh0tr5SSJ2-G",
        "outputId": "4a1a479f-6761-4c04-f351-f17d6c522ec3"
      },
      "execution_count": null,
      "outputs": [
        {
          "output_type": "stream",
          "name": "stdout",
          "text": [
            "Accuracy: 0.6865671641791045\n"
          ]
        }
      ]
    },
    {
      "cell_type": "markdown",
      "source": [
        "## Model 3\n",
        "### Early Stopping"
      ],
      "metadata": {
        "id": "xFSLRjbUKFdu"
      }
    },
    {
      "cell_type": "code",
      "source": [
        "# clear session\n",
        "keras.backend.clear_session()\n",
        "\n",
        "# set random seed\n",
        "keras.utils.set_random_seed(seed) # set all random seeds for the program (Python, NumPy, and TensorFlow)"
      ],
      "metadata": {
        "id": "AIiSXL82Kjre"
      },
      "execution_count": null,
      "outputs": []
    },
    {
      "cell_type": "code",
      "source": [
        "callback = keras.callbacks.EarlyStopping(monitor='val_accuracy', patience=7, restore_best_weights=True)\n",
        "\n",
        "# define the keras model\n",
        "model3 = keras.Sequential()\n",
        "model3.add(layers.Dense(12, input_dim=8, activation='relu'))\n",
        "model3.add(layers.Dense(8, activation='relu'))\n",
        "model3.add(layers.Dense(1, activation='sigmoid'))\n",
        "\n",
        "model3.summary()"
      ],
      "metadata": {
        "colab": {
          "base_uri": "https://localhost:8080/"
        },
        "id": "xkqYPPhgKobs",
        "outputId": "a2afb457-a9ff-4b10-e5bf-9c518bde8858"
      },
      "execution_count": null,
      "outputs": [
        {
          "output_type": "stream",
          "name": "stdout",
          "text": [
            "Model: \"sequential\"\n",
            "_________________________________________________________________\n",
            " Layer (type)                Output Shape              Param #   \n",
            "=================================================================\n",
            " dense (Dense)               (None, 12)                108       \n",
            "                                                                 \n",
            " dense_1 (Dense)             (None, 8)                 104       \n",
            "                                                                 \n",
            " dense_2 (Dense)             (None, 1)                 9         \n",
            "                                                                 \n",
            "=================================================================\n",
            "Total params: 221\n",
            "Trainable params: 221\n",
            "Non-trainable params: 0\n",
            "_________________________________________________________________\n"
          ]
        }
      ]
    },
    {
      "cell_type": "code",
      "source": [
        "# compile the keras model\n",
        "model3.compile(loss='binary_crossentropy', optimizer='adam', metrics=['accuracy'])\n",
        "\n",
        "# train model with early stopping\n",
        "model3.fit(X_train, y_train, batch_size=45, epochs=100, validation_data=(X_val, y_val), callbacks=[callback])"
      ],
      "metadata": {
        "colab": {
          "base_uri": "https://localhost:8080/"
        },
        "id": "e_Eqjl7mLBNl",
        "outputId": "ece66478-bb56-498d-c9f8-7d19484dfd12"
      },
      "execution_count": null,
      "outputs": [
        {
          "output_type": "stream",
          "name": "stdout",
          "text": [
            "Epoch 1/100\n",
            "11/11 [==============================] - 2s 32ms/step - loss: 10.1286 - accuracy: 0.6531 - val_loss: 6.9240 - val_accuracy: 0.6617\n",
            "Epoch 2/100\n",
            "11/11 [==============================] - 0s 8ms/step - loss: 7.0210 - accuracy: 0.6146 - val_loss: 4.7866 - val_accuracy: 0.5721\n",
            "Epoch 3/100\n",
            "11/11 [==============================] - 0s 8ms/step - loss: 5.4148 - accuracy: 0.5054 - val_loss: 3.7598 - val_accuracy: 0.5572\n",
            "Epoch 4/100\n",
            "11/11 [==============================] - 0s 9ms/step - loss: 4.3913 - accuracy: 0.4711 - val_loss: 2.9785 - val_accuracy: 0.5025\n",
            "Epoch 5/100\n",
            "11/11 [==============================] - 0s 9ms/step - loss: 3.5255 - accuracy: 0.4668 - val_loss: 2.2756 - val_accuracy: 0.5323\n",
            "Epoch 6/100\n",
            "11/11 [==============================] - 0s 7ms/step - loss: 2.8640 - accuracy: 0.5225 - val_loss: 1.7900 - val_accuracy: 0.5672\n",
            "Epoch 7/100\n",
            "11/11 [==============================] - 0s 7ms/step - loss: 2.3617 - accuracy: 0.5310 - val_loss: 1.4204 - val_accuracy: 0.4826\n",
            "Epoch 8/100\n",
            "11/11 [==============================] - 0s 10ms/step - loss: 1.9162 - accuracy: 0.5203 - val_loss: 1.1849 - val_accuracy: 0.5373\n"
          ]
        },
        {
          "output_type": "execute_result",
          "data": {
            "text/plain": [
              "<keras.callbacks.History at 0x7f689bc4d040>"
            ]
          },
          "metadata": {},
          "execution_count": 193
        }
      ]
    },
    {
      "cell_type": "code",
      "source": [
        "# get model predictions\n",
        "y_pred = model3.predict(X_val)\n",
        "\n",
        "# convert to categorical predictions\n",
        "y_pred_categorical = [1 if pred > 0.5 else 0 for pred in y_pred]\n",
        "print(y_pred_categorical[:10])\n",
        "\n",
        "# measure accuracy\n",
        "accuracy = metrics.accuracy_score(y_val, y_pred_categorical)\n",
        "print(f'Accuracy: {accuracy}')"
      ],
      "metadata": {
        "colab": {
          "base_uri": "https://localhost:8080/"
        },
        "id": "QOfl7wfQLn3F",
        "outputId": "85acfb7a-4514-48f3-800b-d402521d94bb"
      },
      "execution_count": null,
      "outputs": [
        {
          "output_type": "stream",
          "name": "stdout",
          "text": [
            "7/7 [==============================] - 0s 2ms/step\n",
            "[0, 0, 0, 0, 0, 0, 0, 0, 0, 0]\n",
            "Accuracy: 0.6616915422885572\n"
          ]
        }
      ]
    },
    {
      "cell_type": "markdown",
      "source": [
        "##M4\n",
        "### L1 and L2 Regularization"
      ],
      "metadata": {
        "id": "-YIeGbwo0plJ"
      }
    },
    {
      "cell_type": "code",
      "source": [
        "from keras import regularizers\n",
        "\n",
        "# define the keras model with L1 and L2 regularization\n",
        "model4 = keras.Sequential()\n",
        "model4.add(layers.Dense(12, input_dim=8, activation='relu', kernel_regularizer=regularizers.l1_l2(l1=0.001, l2=0.001)))\n",
        "model4.add(layers.Dense(8, activation='relu', kernel_regularizer=regularizers.l1_l2(l1=0.001, l2=0.001)))\n",
        "model4.add(layers.Dense(4, activation='relu', kernel_regularizer=regularizers.l1_l2(l1=0.001, l2=0.001)))\n",
        "model4.add(layers.Dense(1, activation='relu'))\n",
        "\n",
        "model4.summary()\n",
        "\n",
        "\n",
        "\n",
        "# Compile the model\n",
        "model4.compile(optimizer='adam', loss='binary_crossentropy', metrics=['accuracy'])"
      ],
      "metadata": {
        "colab": {
          "base_uri": "https://localhost:8080/"
        },
        "id": "8kAZ5LhkyMk_",
        "outputId": "42cbfa68-2f06-4d79-a074-2564ed489988"
      },
      "execution_count": null,
      "outputs": [
        {
          "output_type": "stream",
          "name": "stdout",
          "text": [
            "Model: \"sequential\"\n",
            "_________________________________________________________________\n",
            " Layer (type)                Output Shape              Param #   \n",
            "=================================================================\n",
            " dense (Dense)               (None, 12)                108       \n",
            "                                                                 \n",
            " dense_1 (Dense)             (None, 8)                 104       \n",
            "                                                                 \n",
            " dense_2 (Dense)             (None, 4)                 36        \n",
            "                                                                 \n",
            " dense_3 (Dense)             (None, 1)                 5         \n",
            "                                                                 \n",
            "=================================================================\n",
            "Total params: 253\n",
            "Trainable params: 253\n",
            "Non-trainable params: 0\n",
            "_________________________________________________________________\n"
          ]
        }
      ]
    },
    {
      "cell_type": "code",
      "source": [
        "# train model without early stopping\n",
        "model4.fit(X_train, y_train, batch_size=42, epochs=125, validation_data=(X_val, y_val))"
      ],
      "metadata": {
        "colab": {
          "base_uri": "https://localhost:8080/"
        },
        "id": "oerVqvCHzAGM",
        "outputId": "f46d5d5e-8e8e-4302-ef0a-e421f18535c1"
      },
      "execution_count": null,
      "outputs": [
        {
          "output_type": "stream",
          "name": "stdout",
          "text": [
            "Epoch 1/125\n",
            "12/12 [==============================] - 0s 24ms/step - loss: 0.4634 - accuracy: 0.7645 - val_loss: 0.4776 - val_accuracy: 0.7910\n",
            "Epoch 2/125\n",
            "12/12 [==============================] - 0s 23ms/step - loss: 0.4626 - accuracy: 0.7709 - val_loss: 0.4873 - val_accuracy: 0.7960\n",
            "Epoch 3/125\n",
            "12/12 [==============================] - 0s 18ms/step - loss: 0.4627 - accuracy: 0.7687 - val_loss: 0.4716 - val_accuracy: 0.8010\n",
            "Epoch 4/125\n",
            "12/12 [==============================] - 0s 16ms/step - loss: 0.4634 - accuracy: 0.7623 - val_loss: 0.4775 - val_accuracy: 0.8010\n",
            "Epoch 5/125\n",
            "12/12 [==============================] - 0s 18ms/step - loss: 0.4643 - accuracy: 0.7623 - val_loss: 0.5360 - val_accuracy: 0.7910\n",
            "Epoch 6/125\n",
            "12/12 [==============================] - 0s 19ms/step - loss: 0.4629 - accuracy: 0.7687 - val_loss: 0.4637 - val_accuracy: 0.7960\n",
            "Epoch 7/125\n",
            "12/12 [==============================] - 0s 6ms/step - loss: 0.4625 - accuracy: 0.7645 - val_loss: 0.4707 - val_accuracy: 0.7960\n",
            "Epoch 8/125\n",
            "12/12 [==============================] - 0s 6ms/step - loss: 0.4619 - accuracy: 0.7623 - val_loss: 0.4693 - val_accuracy: 0.8010\n",
            "Epoch 9/125\n",
            "12/12 [==============================] - 0s 6ms/step - loss: 0.4620 - accuracy: 0.7645 - val_loss: 0.4725 - val_accuracy: 0.8060\n",
            "Epoch 10/125\n",
            "12/12 [==============================] - 0s 9ms/step - loss: 0.4614 - accuracy: 0.7687 - val_loss: 0.4643 - val_accuracy: 0.7910\n",
            "Epoch 11/125\n",
            "12/12 [==============================] - 0s 6ms/step - loss: 0.4603 - accuracy: 0.7666 - val_loss: 0.4726 - val_accuracy: 0.7960\n",
            "Epoch 12/125\n",
            "12/12 [==============================] - 0s 6ms/step - loss: 0.4625 - accuracy: 0.7645 - val_loss: 0.4662 - val_accuracy: 0.8060\n",
            "Epoch 13/125\n",
            "12/12 [==============================] - 0s 6ms/step - loss: 0.4611 - accuracy: 0.7602 - val_loss: 0.4710 - val_accuracy: 0.8010\n",
            "Epoch 14/125\n",
            "12/12 [==============================] - 0s 8ms/step - loss: 0.4609 - accuracy: 0.7730 - val_loss: 0.5351 - val_accuracy: 0.8010\n",
            "Epoch 15/125\n",
            "12/12 [==============================] - 0s 6ms/step - loss: 0.4607 - accuracy: 0.7730 - val_loss: 0.5346 - val_accuracy: 0.7960\n",
            "Epoch 16/125\n",
            "12/12 [==============================] - 0s 6ms/step - loss: 0.4601 - accuracy: 0.7773 - val_loss: 0.5372 - val_accuracy: 0.8010\n",
            "Epoch 17/125\n",
            "12/12 [==============================] - 0s 8ms/step - loss: 0.4613 - accuracy: 0.7730 - val_loss: 0.4749 - val_accuracy: 0.8060\n",
            "Epoch 18/125\n",
            "12/12 [==============================] - 0s 7ms/step - loss: 0.4608 - accuracy: 0.7666 - val_loss: 0.5337 - val_accuracy: 0.7960\n",
            "Epoch 19/125\n",
            "12/12 [==============================] - 0s 6ms/step - loss: 0.4613 - accuracy: 0.7709 - val_loss: 0.5346 - val_accuracy: 0.8109\n",
            "Epoch 20/125\n",
            "12/12 [==============================] - 0s 6ms/step - loss: 0.4592 - accuracy: 0.7645 - val_loss: 0.4729 - val_accuracy: 0.8010\n",
            "Epoch 21/125\n",
            "12/12 [==============================] - 0s 7ms/step - loss: 0.4590 - accuracy: 0.7709 - val_loss: 0.5357 - val_accuracy: 0.7960\n",
            "Epoch 22/125\n",
            "12/12 [==============================] - 0s 8ms/step - loss: 0.4595 - accuracy: 0.7580 - val_loss: 0.4769 - val_accuracy: 0.8010\n",
            "Epoch 23/125\n",
            "12/12 [==============================] - 0s 7ms/step - loss: 0.4576 - accuracy: 0.7687 - val_loss: 0.5340 - val_accuracy: 0.8010\n",
            "Epoch 24/125\n",
            "12/12 [==============================] - 0s 6ms/step - loss: 0.4584 - accuracy: 0.7645 - val_loss: 0.4791 - val_accuracy: 0.7960\n",
            "Epoch 25/125\n",
            "12/12 [==============================] - 0s 6ms/step - loss: 0.4591 - accuracy: 0.7709 - val_loss: 0.5361 - val_accuracy: 0.7960\n",
            "Epoch 26/125\n",
            "12/12 [==============================] - 0s 7ms/step - loss: 0.4596 - accuracy: 0.7752 - val_loss: 0.5372 - val_accuracy: 0.7910\n",
            "Epoch 27/125\n",
            "12/12 [==============================] - 0s 6ms/step - loss: 0.4583 - accuracy: 0.7752 - val_loss: 0.5367 - val_accuracy: 0.7910\n",
            "Epoch 28/125\n",
            "12/12 [==============================] - 0s 8ms/step - loss: 0.4585 - accuracy: 0.7730 - val_loss: 0.5341 - val_accuracy: 0.7910\n",
            "Epoch 29/125\n",
            "12/12 [==============================] - 0s 7ms/step - loss: 0.4579 - accuracy: 0.7709 - val_loss: 0.5388 - val_accuracy: 0.7910\n",
            "Epoch 30/125\n",
            "12/12 [==============================] - 0s 6ms/step - loss: 0.4571 - accuracy: 0.7687 - val_loss: 0.4842 - val_accuracy: 0.8010\n",
            "Epoch 31/125\n",
            "12/12 [==============================] - 0s 6ms/step - loss: 0.4589 - accuracy: 0.7602 - val_loss: 0.4793 - val_accuracy: 0.8060\n",
            "Epoch 32/125\n",
            "12/12 [==============================] - 0s 6ms/step - loss: 0.4567 - accuracy: 0.7623 - val_loss: 0.5381 - val_accuracy: 0.7960\n",
            "Epoch 33/125\n",
            "12/12 [==============================] - 0s 6ms/step - loss: 0.4578 - accuracy: 0.7687 - val_loss: 0.4844 - val_accuracy: 0.7910\n",
            "Epoch 34/125\n",
            "12/12 [==============================] - 0s 7ms/step - loss: 0.4576 - accuracy: 0.7709 - val_loss: 0.5422 - val_accuracy: 0.7910\n",
            "Epoch 35/125\n",
            "12/12 [==============================] - 0s 7ms/step - loss: 0.4590 - accuracy: 0.7666 - val_loss: 0.6687 - val_accuracy: 0.8159\n",
            "Epoch 36/125\n",
            "12/12 [==============================] - 0s 6ms/step - loss: 0.4618 - accuracy: 0.7645 - val_loss: 0.5256 - val_accuracy: 0.8109\n",
            "Epoch 37/125\n",
            "12/12 [==============================] - 0s 6ms/step - loss: 0.4601 - accuracy: 0.7559 - val_loss: 0.4767 - val_accuracy: 0.8159\n",
            "Epoch 38/125\n",
            "12/12 [==============================] - 0s 6ms/step - loss: 0.4582 - accuracy: 0.7623 - val_loss: 0.5429 - val_accuracy: 0.7960\n",
            "Epoch 39/125\n",
            "12/12 [==============================] - 0s 7ms/step - loss: 0.4583 - accuracy: 0.7687 - val_loss: 0.5414 - val_accuracy: 0.8010\n",
            "Epoch 40/125\n",
            "12/12 [==============================] - 0s 6ms/step - loss: 0.4587 - accuracy: 0.7709 - val_loss: 0.5506 - val_accuracy: 0.7960\n",
            "Epoch 41/125\n",
            "12/12 [==============================] - 0s 6ms/step - loss: 0.4574 - accuracy: 0.7709 - val_loss: 0.5442 - val_accuracy: 0.7960\n",
            "Epoch 42/125\n",
            "12/12 [==============================] - 0s 7ms/step - loss: 0.4573 - accuracy: 0.7666 - val_loss: 0.4760 - val_accuracy: 0.7960\n",
            "Epoch 43/125\n",
            "12/12 [==============================] - 0s 7ms/step - loss: 0.4592 - accuracy: 0.7752 - val_loss: 0.5374 - val_accuracy: 0.8159\n",
            "Epoch 44/125\n",
            "12/12 [==============================] - 0s 7ms/step - loss: 0.4567 - accuracy: 0.7666 - val_loss: 0.4772 - val_accuracy: 0.8060\n",
            "Epoch 45/125\n",
            "12/12 [==============================] - 0s 6ms/step - loss: 0.4575 - accuracy: 0.7623 - val_loss: 0.5399 - val_accuracy: 0.8010\n",
            "Epoch 46/125\n",
            "12/12 [==============================] - 0s 8ms/step - loss: 0.4587 - accuracy: 0.7709 - val_loss: 0.5447 - val_accuracy: 0.8060\n",
            "Epoch 47/125\n",
            "12/12 [==============================] - 0s 6ms/step - loss: 0.4578 - accuracy: 0.7687 - val_loss: 0.5404 - val_accuracy: 0.8060\n",
            "Epoch 48/125\n",
            "12/12 [==============================] - 0s 7ms/step - loss: 0.4545 - accuracy: 0.7687 - val_loss: 0.5367 - val_accuracy: 0.8060\n",
            "Epoch 49/125\n",
            "12/12 [==============================] - 0s 6ms/step - loss: 0.4547 - accuracy: 0.7687 - val_loss: 0.4813 - val_accuracy: 0.7910\n",
            "Epoch 50/125\n",
            "12/12 [==============================] - 0s 8ms/step - loss: 0.4552 - accuracy: 0.7709 - val_loss: 0.6010 - val_accuracy: 0.7960\n",
            "Epoch 51/125\n",
            "12/12 [==============================] - 0s 6ms/step - loss: 0.4551 - accuracy: 0.7730 - val_loss: 0.5394 - val_accuracy: 0.7960\n",
            "Epoch 52/125\n",
            "12/12 [==============================] - 0s 6ms/step - loss: 0.4557 - accuracy: 0.7645 - val_loss: 0.4680 - val_accuracy: 0.8010\n",
            "Epoch 53/125\n",
            "12/12 [==============================] - 0s 6ms/step - loss: 0.4568 - accuracy: 0.7623 - val_loss: 0.5995 - val_accuracy: 0.8060\n",
            "Epoch 54/125\n",
            "12/12 [==============================] - 0s 6ms/step - loss: 0.4559 - accuracy: 0.7752 - val_loss: 0.5981 - val_accuracy: 0.8010\n",
            "Epoch 55/125\n",
            "12/12 [==============================] - 0s 7ms/step - loss: 0.4560 - accuracy: 0.7709 - val_loss: 0.5953 - val_accuracy: 0.8010\n",
            "Epoch 56/125\n",
            "12/12 [==============================] - 0s 7ms/step - loss: 0.4549 - accuracy: 0.7709 - val_loss: 0.5305 - val_accuracy: 0.7910\n",
            "Epoch 57/125\n",
            "12/12 [==============================] - 0s 7ms/step - loss: 0.4544 - accuracy: 0.7730 - val_loss: 0.5459 - val_accuracy: 0.8010\n",
            "Epoch 58/125\n",
            "12/12 [==============================] - 0s 6ms/step - loss: 0.4571 - accuracy: 0.7623 - val_loss: 0.6006 - val_accuracy: 0.8010\n",
            "Epoch 59/125\n",
            "12/12 [==============================] - 0s 6ms/step - loss: 0.4566 - accuracy: 0.7773 - val_loss: 0.5947 - val_accuracy: 0.7960\n",
            "Epoch 60/125\n",
            "12/12 [==============================] - 0s 8ms/step - loss: 0.4551 - accuracy: 0.7687 - val_loss: 0.5968 - val_accuracy: 0.7960\n",
            "Epoch 61/125\n",
            "12/12 [==============================] - 0s 6ms/step - loss: 0.4553 - accuracy: 0.7730 - val_loss: 0.5924 - val_accuracy: 0.8060\n",
            "Epoch 62/125\n",
            "12/12 [==============================] - 0s 6ms/step - loss: 0.4545 - accuracy: 0.7730 - val_loss: 0.5182 - val_accuracy: 0.8109\n",
            "Epoch 63/125\n",
            "12/12 [==============================] - 0s 7ms/step - loss: 0.4553 - accuracy: 0.7816 - val_loss: 0.5265 - val_accuracy: 0.8159\n",
            "Epoch 64/125\n",
            "12/12 [==============================] - 0s 6ms/step - loss: 0.4537 - accuracy: 0.7752 - val_loss: 0.5428 - val_accuracy: 0.7960\n",
            "Epoch 65/125\n",
            "12/12 [==============================] - 0s 7ms/step - loss: 0.4537 - accuracy: 0.7773 - val_loss: 0.5315 - val_accuracy: 0.8060\n",
            "Epoch 66/125\n",
            "12/12 [==============================] - 0s 6ms/step - loss: 0.4544 - accuracy: 0.7752 - val_loss: 0.5273 - val_accuracy: 0.8060\n",
            "Epoch 67/125\n",
            "12/12 [==============================] - 0s 7ms/step - loss: 0.4531 - accuracy: 0.7752 - val_loss: 0.5329 - val_accuracy: 0.7960\n",
            "Epoch 68/125\n",
            "12/12 [==============================] - 0s 7ms/step - loss: 0.4549 - accuracy: 0.7752 - val_loss: 0.5357 - val_accuracy: 0.8060\n",
            "Epoch 69/125\n",
            "12/12 [==============================] - 0s 7ms/step - loss: 0.4543 - accuracy: 0.7709 - val_loss: 0.5476 - val_accuracy: 0.8060\n",
            "Epoch 70/125\n",
            "12/12 [==============================] - 0s 7ms/step - loss: 0.4532 - accuracy: 0.7816 - val_loss: 0.5971 - val_accuracy: 0.8010\n",
            "Epoch 71/125\n",
            "12/12 [==============================] - 0s 6ms/step - loss: 0.4519 - accuracy: 0.7794 - val_loss: 0.5347 - val_accuracy: 0.8109\n",
            "Epoch 72/125\n",
            "12/12 [==============================] - 0s 6ms/step - loss: 0.4529 - accuracy: 0.7752 - val_loss: 0.5445 - val_accuracy: 0.8010\n",
            "Epoch 73/125\n",
            "12/12 [==============================] - 0s 6ms/step - loss: 0.4513 - accuracy: 0.7794 - val_loss: 0.5506 - val_accuracy: 0.8010\n",
            "Epoch 74/125\n",
            "12/12 [==============================] - 0s 9ms/step - loss: 0.4523 - accuracy: 0.7752 - val_loss: 0.5368 - val_accuracy: 0.8109\n",
            "Epoch 75/125\n",
            "12/12 [==============================] - 0s 7ms/step - loss: 0.4528 - accuracy: 0.7752 - val_loss: 0.4768 - val_accuracy: 0.8159\n",
            "Epoch 76/125\n",
            "12/12 [==============================] - 0s 6ms/step - loss: 0.4501 - accuracy: 0.7794 - val_loss: 0.5920 - val_accuracy: 0.8060\n",
            "Epoch 77/125\n",
            "12/12 [==============================] - 0s 6ms/step - loss: 0.4572 - accuracy: 0.7816 - val_loss: 0.5404 - val_accuracy: 0.8060\n",
            "Epoch 78/125\n",
            "12/12 [==============================] - 0s 7ms/step - loss: 0.4494 - accuracy: 0.7794 - val_loss: 0.5980 - val_accuracy: 0.8060\n",
            "Epoch 79/125\n",
            "12/12 [==============================] - 0s 6ms/step - loss: 0.4523 - accuracy: 0.7730 - val_loss: 0.5521 - val_accuracy: 0.8010\n",
            "Epoch 80/125\n",
            "12/12 [==============================] - 0s 7ms/step - loss: 0.4526 - accuracy: 0.7794 - val_loss: 0.5922 - val_accuracy: 0.7910\n",
            "Epoch 81/125\n",
            "12/12 [==============================] - 0s 7ms/step - loss: 0.4527 - accuracy: 0.7687 - val_loss: 0.6514 - val_accuracy: 0.8060\n",
            "Epoch 82/125\n",
            "12/12 [==============================] - 0s 7ms/step - loss: 0.4528 - accuracy: 0.7752 - val_loss: 0.5957 - val_accuracy: 0.8010\n",
            "Epoch 83/125\n",
            "12/12 [==============================] - 0s 9ms/step - loss: 0.4513 - accuracy: 0.7837 - val_loss: 0.5466 - val_accuracy: 0.8060\n",
            "Epoch 84/125\n",
            "12/12 [==============================] - 0s 8ms/step - loss: 0.4532 - accuracy: 0.7709 - val_loss: 0.4710 - val_accuracy: 0.8109\n",
            "Epoch 85/125\n",
            "12/12 [==============================] - 0s 9ms/step - loss: 0.4527 - accuracy: 0.7752 - val_loss: 0.5521 - val_accuracy: 0.8060\n",
            "Epoch 86/125\n",
            "12/12 [==============================] - 0s 9ms/step - loss: 0.4508 - accuracy: 0.7794 - val_loss: 0.5976 - val_accuracy: 0.8060\n",
            "Epoch 87/125\n",
            "12/12 [==============================] - 0s 9ms/step - loss: 0.4506 - accuracy: 0.7816 - val_loss: 0.5511 - val_accuracy: 0.7960\n",
            "Epoch 88/125\n",
            "12/12 [==============================] - 0s 9ms/step - loss: 0.4540 - accuracy: 0.7752 - val_loss: 0.6041 - val_accuracy: 0.8010\n",
            "Epoch 89/125\n",
            "12/12 [==============================] - 0s 9ms/step - loss: 0.4505 - accuracy: 0.7837 - val_loss: 0.6052 - val_accuracy: 0.8010\n",
            "Epoch 90/125\n",
            "12/12 [==============================] - 0s 9ms/step - loss: 0.4506 - accuracy: 0.7730 - val_loss: 0.4957 - val_accuracy: 0.8010\n",
            "Epoch 91/125\n",
            "12/12 [==============================] - 0s 9ms/step - loss: 0.4498 - accuracy: 0.7730 - val_loss: 0.6030 - val_accuracy: 0.7910\n",
            "Epoch 92/125\n",
            "12/12 [==============================] - 0s 9ms/step - loss: 0.4501 - accuracy: 0.7816 - val_loss: 0.6047 - val_accuracy: 0.8060\n",
            "Epoch 93/125\n",
            "12/12 [==============================] - 0s 10ms/step - loss: 0.4498 - accuracy: 0.7794 - val_loss: 0.6018 - val_accuracy: 0.8060\n",
            "Epoch 94/125\n",
            "12/12 [==============================] - 0s 9ms/step - loss: 0.4497 - accuracy: 0.7794 - val_loss: 0.6165 - val_accuracy: 0.8060\n",
            "Epoch 95/125\n",
            "12/12 [==============================] - 0s 8ms/step - loss: 0.4476 - accuracy: 0.7837 - val_loss: 0.6055 - val_accuracy: 0.8010\n",
            "Epoch 96/125\n",
            "12/12 [==============================] - 0s 8ms/step - loss: 0.4492 - accuracy: 0.7794 - val_loss: 0.5991 - val_accuracy: 0.8159\n",
            "Epoch 97/125\n",
            "12/12 [==============================] - 0s 8ms/step - loss: 0.4497 - accuracy: 0.7794 - val_loss: 0.6046 - val_accuracy: 0.8109\n",
            "Epoch 98/125\n",
            "12/12 [==============================] - 0s 8ms/step - loss: 0.4541 - accuracy: 0.7730 - val_loss: 0.6006 - val_accuracy: 0.8060\n",
            "Epoch 99/125\n",
            "12/12 [==============================] - 0s 8ms/step - loss: 0.4488 - accuracy: 0.7816 - val_loss: 0.6003 - val_accuracy: 0.8010\n",
            "Epoch 100/125\n",
            "12/12 [==============================] - 0s 10ms/step - loss: 0.4478 - accuracy: 0.7773 - val_loss: 0.5983 - val_accuracy: 0.8109\n",
            "Epoch 101/125\n",
            "12/12 [==============================] - 0s 8ms/step - loss: 0.4479 - accuracy: 0.7794 - val_loss: 0.6065 - val_accuracy: 0.8060\n",
            "Epoch 102/125\n",
            "12/12 [==============================] - 0s 9ms/step - loss: 0.4515 - accuracy: 0.7752 - val_loss: 0.6046 - val_accuracy: 0.8109\n",
            "Epoch 103/125\n",
            "12/12 [==============================] - 0s 10ms/step - loss: 0.4495 - accuracy: 0.7816 - val_loss: 0.5441 - val_accuracy: 0.8109\n",
            "Epoch 104/125\n",
            "12/12 [==============================] - 0s 9ms/step - loss: 0.4509 - accuracy: 0.7752 - val_loss: 0.5347 - val_accuracy: 0.8010\n",
            "Epoch 105/125\n",
            "12/12 [==============================] - 0s 8ms/step - loss: 0.4526 - accuracy: 0.7709 - val_loss: 0.5852 - val_accuracy: 0.8159\n",
            "Epoch 106/125\n",
            "12/12 [==============================] - 0s 9ms/step - loss: 0.4487 - accuracy: 0.7944 - val_loss: 0.6479 - val_accuracy: 0.8159\n",
            "Epoch 107/125\n",
            "12/12 [==============================] - 0s 9ms/step - loss: 0.4479 - accuracy: 0.7816 - val_loss: 0.5484 - val_accuracy: 0.8109\n",
            "Epoch 108/125\n",
            "12/12 [==============================] - 0s 7ms/step - loss: 0.4552 - accuracy: 0.7752 - val_loss: 0.6539 - val_accuracy: 0.7960\n",
            "Epoch 109/125\n",
            "12/12 [==============================] - 0s 7ms/step - loss: 0.4823 - accuracy: 0.7537 - val_loss: 0.6136 - val_accuracy: 0.8010\n",
            "Epoch 110/125\n",
            "12/12 [==============================] - 0s 7ms/step - loss: 0.4623 - accuracy: 0.7709 - val_loss: 0.5426 - val_accuracy: 0.8010\n",
            "Epoch 111/125\n",
            "12/12 [==============================] - 0s 6ms/step - loss: 0.4617 - accuracy: 0.7687 - val_loss: 0.5520 - val_accuracy: 0.8209\n",
            "Epoch 112/125\n",
            "12/12 [==============================] - 0s 6ms/step - loss: 0.4588 - accuracy: 0.7773 - val_loss: 0.6074 - val_accuracy: 0.8010\n",
            "Epoch 113/125\n",
            "12/12 [==============================] - 0s 7ms/step - loss: 0.4568 - accuracy: 0.7859 - val_loss: 0.6604 - val_accuracy: 0.8010\n",
            "Epoch 114/125\n",
            "12/12 [==============================] - 0s 6ms/step - loss: 0.4593 - accuracy: 0.7645 - val_loss: 0.6504 - val_accuracy: 0.8060\n",
            "Epoch 115/125\n",
            "12/12 [==============================] - 0s 6ms/step - loss: 0.4595 - accuracy: 0.7687 - val_loss: 0.6749 - val_accuracy: 0.8209\n",
            "Epoch 116/125\n",
            "12/12 [==============================] - 0s 6ms/step - loss: 0.4538 - accuracy: 0.7752 - val_loss: 0.5359 - val_accuracy: 0.7910\n",
            "Epoch 117/125\n",
            "12/12 [==============================] - 0s 7ms/step - loss: 0.4573 - accuracy: 0.7773 - val_loss: 0.5386 - val_accuracy: 0.7960\n",
            "Epoch 118/125\n",
            "12/12 [==============================] - 0s 6ms/step - loss: 0.4543 - accuracy: 0.7859 - val_loss: 0.6785 - val_accuracy: 0.8109\n",
            "Epoch 119/125\n",
            "12/12 [==============================] - 0s 7ms/step - loss: 0.4571 - accuracy: 0.7752 - val_loss: 0.6804 - val_accuracy: 0.8060\n",
            "Epoch 120/125\n",
            "12/12 [==============================] - 0s 6ms/step - loss: 0.4534 - accuracy: 0.7794 - val_loss: 0.6877 - val_accuracy: 0.7960\n",
            "Epoch 121/125\n",
            "12/12 [==============================] - 0s 8ms/step - loss: 0.4539 - accuracy: 0.7730 - val_loss: 0.5613 - val_accuracy: 0.7861\n",
            "Epoch 122/125\n",
            "12/12 [==============================] - 0s 7ms/step - loss: 0.4528 - accuracy: 0.7752 - val_loss: 0.6109 - val_accuracy: 0.8060\n",
            "Epoch 123/125\n",
            "12/12 [==============================] - 0s 8ms/step - loss: 0.4554 - accuracy: 0.7709 - val_loss: 0.6119 - val_accuracy: 0.7960\n",
            "Epoch 124/125\n",
            "12/12 [==============================] - 0s 8ms/step - loss: 0.4511 - accuracy: 0.7752 - val_loss: 0.6496 - val_accuracy: 0.8060\n",
            "Epoch 125/125\n",
            "12/12 [==============================] - 0s 7ms/step - loss: 0.4522 - accuracy: 0.7709 - val_loss: 0.5970 - val_accuracy: 0.8209\n"
          ]
        },
        {
          "output_type": "execute_result",
          "data": {
            "text/plain": [
              "<keras.callbacks.History at 0x7fdcedf82e80>"
            ]
          },
          "metadata": {},
          "execution_count": 27
        }
      ]
    },
    {
      "cell_type": "code",
      "source": [
        "# get model predictions\n",
        "y_pred = model4.predict(X_val)\n",
        "\n",
        "# convert to categorical predictions\n",
        "y_pred_categorical = [1 if pred > 0.5 else 0 for pred in y_pred]\n",
        "print(y_pred_categorical[:10])\n",
        "\n",
        "# measure accuracy\n",
        "accuracy = metrics.accuracy_score(y_val, y_pred_categorical)\n",
        "print(f'Accuracy: {accuracy}')"
      ],
      "metadata": {
        "colab": {
          "base_uri": "https://localhost:8080/"
        },
        "id": "SeAMOXYKzN7C",
        "outputId": "2d931606-d696-49bb-e9fc-de45652ed220"
      },
      "execution_count": null,
      "outputs": [
        {
          "output_type": "stream",
          "name": "stdout",
          "text": [
            "7/7 [==============================] - 0s 3ms/step\n",
            "[0, 0, 0, 0, 1, 0, 1, 0, 0, 0]\n",
            "Accuracy: 0.8208955223880597\n"
          ]
        }
      ]
    },
    {
      "cell_type": "markdown",
      "source": [
        "#### Summary\n",
        "\n",
        "|Model | Number of hidden layers, neurons | Epoch  |Batch size|Early Stopping| Accuracy|\n",
        "|------|---------------|------------|---------|--------|--------|\n",
        "|M1 | 2,8 | 100|45|No| 0.726|\n",
        "|M2   | 2,8 | 100|45|Yes| 0.6865 |\n",
        "|M3   | 2,8| 100|45|Yes| 0.6619\n",
        "|M4   | 3,8| 125 |42|No, with L1 and L2 Regularization| 0.8209"
      ],
      "metadata": {
        "id": "i087ND2tRGr0"
      }
    },
    {
      "cell_type": "markdown",
      "source": [
        "## Predict"
      ],
      "metadata": {
        "id": "tv5UuGkbSEFM"
      }
    },
    {
      "cell_type": "code",
      "source": [
        "df_test = pd.read_csv('test.csv')\n",
        "\n",
        "# summarise the details\n",
        "print(f'Number of entries: {len(df_test)}')\n",
        "\n",
        "X_test = df_test.drop(['id'], axis=1)\n",
        "print(X_test.info())"
      ],
      "metadata": {
        "colab": {
          "base_uri": "https://localhost:8080/"
        },
        "id": "BbJ-bn77SDhc",
        "outputId": "1c4b6cba-226a-4b08-a0ab-8cc27e7411c1"
      },
      "execution_count": null,
      "outputs": [
        {
          "output_type": "stream",
          "name": "stdout",
          "text": [
            "Number of entries: 100\n",
            "<class 'pandas.core.frame.DataFrame'>\n",
            "RangeIndex: 100 entries, 0 to 99\n",
            "Data columns (total 8 columns):\n",
            " #   Column  Non-Null Count  Dtype  \n",
            "---  ------  --------------  -----  \n",
            " 0   A1      100 non-null    int64  \n",
            " 1   A2      100 non-null    int64  \n",
            " 2   A3      100 non-null    int64  \n",
            " 3   A4      100 non-null    int64  \n",
            " 4   A5      100 non-null    int64  \n",
            " 5   A6      100 non-null    float64\n",
            " 6   A7      100 non-null    float64\n",
            " 7   A8      100 non-null    int64  \n",
            "dtypes: float64(2), int64(6)\n",
            "memory usage: 6.4 KB\n",
            "None\n"
          ]
        }
      ]
    },
    {
      "cell_type": "code",
      "source": [
        "test_pred = model4.predict(X_test)\n",
        "print(test_pred)\n",
        "\n",
        "test_pred_categorical = [1 if pred > 0.5 else 0 for pred in test_pred]\n",
        "print(test_pred_categorical)\n"
      ],
      "metadata": {
        "colab": {
          "base_uri": "https://localhost:8080/"
        },
        "id": "hpKRlvk0VI5k",
        "outputId": "4750d72e-8b55-42b5-dda8-5693d5392590"
      },
      "execution_count": null,
      "outputs": [
        {
          "output_type": "stream",
          "name": "stdout",
          "text": [
            "4/4 [==============================] - 0s 3ms/step\n",
            "[[0.41292864]\n",
            " [0.6882069 ]\n",
            " [0.8273219 ]\n",
            " [0.07378696]\n",
            " [0.27512586]\n",
            " [0.4985994 ]\n",
            " [0.26091456]\n",
            " [0.8078294 ]\n",
            " [0.49760455]\n",
            " [0.1316018 ]\n",
            " [0.39264482]\n",
            " [0.16876067]\n",
            " [0.        ]\n",
            " [0.9194529 ]\n",
            " [0.20593901]\n",
            " [0.31075448]\n",
            " [0.09307902]\n",
            " [0.36548233]\n",
            " [0.23612909]\n",
            " [0.2770449 ]\n",
            " [0.26270628]\n",
            " [0.5252879 ]\n",
            " [0.17658709]\n",
            " [0.7290636 ]\n",
            " [0.3893944 ]\n",
            " [0.6423561 ]\n",
            " [0.        ]\n",
            " [0.48078978]\n",
            " [0.6586178 ]\n",
            " [0.29798377]\n",
            " [0.32806903]\n",
            " [0.46343052]\n",
            " [0.36294013]\n",
            " [0.46863353]\n",
            " [0.6328267 ]\n",
            " [0.33841938]\n",
            " [0.16748242]\n",
            " [0.        ]\n",
            " [0.        ]\n",
            " [0.4034347 ]\n",
            " [0.6783767 ]\n",
            " [0.27450132]\n",
            " [0.48341995]\n",
            " [0.3699587 ]\n",
            " [1.0486205 ]\n",
            " [0.312001  ]\n",
            " [0.12916245]\n",
            " [0.85423994]\n",
            " [0.7248579 ]\n",
            " [0.20992891]\n",
            " [0.30959392]\n",
            " [0.4736246 ]\n",
            " [0.13721918]\n",
            " [0.3528223 ]\n",
            " [0.5274674 ]\n",
            " [0.33057368]\n",
            " [0.16183977]\n",
            " [0.3327793 ]\n",
            " [0.30218327]\n",
            " [0.367445  ]\n",
            " [0.4318698 ]\n",
            " [0.1056485 ]\n",
            " [0.3477416 ]\n",
            " [0.2661841 ]\n",
            " [0.81649244]\n",
            " [0.24296407]\n",
            " [0.09048007]\n",
            " [0.24014111]\n",
            " [0.13488041]\n",
            " [0.03497447]\n",
            " [0.2668293 ]\n",
            " [0.2467799 ]\n",
            " [0.5722901 ]\n",
            " [0.2824769 ]\n",
            " [0.1660151 ]\n",
            " [0.48428106]\n",
            " [0.82274723]\n",
            " [0.3497635 ]\n",
            " [0.5243728 ]\n",
            " [0.        ]\n",
            " [0.88076544]\n",
            " [0.4770437 ]\n",
            " [0.3962595 ]\n",
            " [0.4000734 ]\n",
            " [0.18451698]\n",
            " [0.6378059 ]\n",
            " [0.7377593 ]\n",
            " [0.38290328]\n",
            " [0.5626466 ]\n",
            " [0.33822453]\n",
            " [0.21507911]\n",
            " [0.81415486]\n",
            " [0.08283247]\n",
            " [1.1280606 ]\n",
            " [0.08137693]\n",
            " [0.5359149 ]\n",
            " [0.4051054 ]\n",
            " [0.2910366 ]\n",
            " [0.31878847]\n",
            " [0.        ]]\n",
            "[0, 1, 1, 0, 0, 0, 0, 1, 0, 0, 0, 0, 0, 1, 0, 0, 0, 0, 0, 0, 0, 1, 0, 1, 0, 1, 0, 0, 1, 0, 0, 0, 0, 0, 1, 0, 0, 0, 0, 0, 1, 0, 0, 0, 1, 0, 0, 1, 1, 0, 0, 0, 0, 0, 1, 0, 0, 0, 0, 0, 0, 0, 0, 0, 1, 0, 0, 0, 0, 0, 0, 0, 1, 0, 0, 0, 1, 0, 1, 0, 1, 0, 0, 0, 0, 1, 1, 0, 1, 0, 0, 1, 0, 1, 0, 1, 0, 0, 0, 0]\n"
          ]
        }
      ]
    },
    {
      "cell_type": "code",
      "source": [
        "# create data frame for submission\n",
        "df_test = pd.DataFrame(df_test['id'])\n",
        "df_test['prediction'] = test_pred_categorical\n",
        "# save data frame to .csv file\n",
        "df_test.to_csv('/content/test-predictions.csv', index=False)"
      ],
      "metadata": {
        "id": "H3GM-1_MVg9t"
      },
      "execution_count": null,
      "outputs": []
    },
    {
      "cell_type": "code",
      "source": [
        "import json\n",
        "\n",
        "import pandas as pd\n",
        "\n",
        "test_file_path = \"/content/test-predictions.csv\"\n",
        "df_test = pd.read_csv(test_file_path)\n",
        "df_test = df_test[[\"id\", \"prediction\"]]\n",
        "\n",
        "data = []\n",
        "for index, row in df_test.iterrows():\n",
        "    data.append({'id': int(row['id']), 'prediction': int(row['prediction'])})\n",
        "\n",
        "print(data[0:5])\n",
        "\n",
        "submission_file_path = \"submission.json\"\n",
        "with open(submission_file_path, 'w') as fp:\n",
        "    fp.write('\\n'.join(json.dumps(i) for i in data))"
      ],
      "metadata": {
        "colab": {
          "base_uri": "https://localhost:8080/"
        },
        "id": "-eR_P8pka06C",
        "outputId": "d5aad006-f369-4b0d-cb08-3b10d901851b"
      },
      "execution_count": null,
      "outputs": [
        {
          "output_type": "stream",
          "name": "stdout",
          "text": [
            "[{'id': 1, 'prediction': 0}, {'id': 2, 'prediction': 1}, {'id': 3, 'prediction': 1}, {'id': 4, 'prediction': 0}, {'id': 5, 'prediction': 0}]\n"
          ]
        }
      ]
    }
  ]
}