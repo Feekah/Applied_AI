{
  "cells": [
    {
      "cell_type": "markdown",
      "source": [
        "# **Heart Rate Prediction Using Time Series**"
      ],
      "metadata": {
        "id": "-1k9PXGoqvDx"
      }
    },
    {
      "cell_type": "code",
      "source": [
        "!pip install pmdarima"
      ],
      "metadata": {
        "colab": {
          "base_uri": "https://localhost:8080/"
        },
        "id": "JnWhj2ShrWTs",
        "outputId": "4d6b23a5-bd03-46fa-cf9e-3537b90c302c"
      },
      "execution_count": 2,
      "outputs": [
        {
          "output_type": "stream",
          "name": "stdout",
          "text": [
            "Looking in indexes: https://pypi.org/simple, https://us-python.pkg.dev/colab-wheels/public/simple/\n",
            "Collecting pmdarima\n",
            "  Downloading pmdarima-2.0.3-cp310-cp310-manylinux_2_17_x86_64.manylinux2014_x86_64.manylinux_2_28_x86_64.whl (1.8 MB)\n",
            "\u001b[2K     \u001b[90m━━━━━━━━━━━━━━━━━━━━━━━━━━━━━━━━━━━━━━━━\u001b[0m \u001b[32m1.8/1.8 MB\u001b[0m \u001b[31m19.3 MB/s\u001b[0m eta \u001b[36m0:00:00\u001b[0m\n",
            "\u001b[?25hRequirement already satisfied: joblib>=0.11 in /usr/local/lib/python3.10/dist-packages (from pmdarima) (1.2.0)\n",
            "Requirement already satisfied: Cython!=0.29.18,!=0.29.31,>=0.29 in /usr/local/lib/python3.10/dist-packages (from pmdarima) (0.29.35)\n",
            "Requirement already satisfied: numpy>=1.21.2 in /usr/local/lib/python3.10/dist-packages (from pmdarima) (1.22.4)\n",
            "Requirement already satisfied: pandas>=0.19 in /usr/local/lib/python3.10/dist-packages (from pmdarima) (1.5.3)\n",
            "Requirement already satisfied: scikit-learn>=0.22 in /usr/local/lib/python3.10/dist-packages (from pmdarima) (1.2.2)\n",
            "Requirement already satisfied: scipy>=1.3.2 in /usr/local/lib/python3.10/dist-packages (from pmdarima) (1.10.1)\n",
            "Requirement already satisfied: statsmodels>=0.13.2 in /usr/local/lib/python3.10/dist-packages (from pmdarima) (0.13.5)\n",
            "Requirement already satisfied: urllib3 in /usr/local/lib/python3.10/dist-packages (from pmdarima) (1.26.16)\n",
            "Requirement already satisfied: setuptools!=50.0.0,>=38.6.0 in /usr/local/lib/python3.10/dist-packages (from pmdarima) (67.7.2)\n",
            "Requirement already satisfied: python-dateutil>=2.8.1 in /usr/local/lib/python3.10/dist-packages (from pandas>=0.19->pmdarima) (2.8.2)\n",
            "Requirement already satisfied: pytz>=2020.1 in /usr/local/lib/python3.10/dist-packages (from pandas>=0.19->pmdarima) (2022.7.1)\n",
            "Requirement already satisfied: threadpoolctl>=2.0.0 in /usr/local/lib/python3.10/dist-packages (from scikit-learn>=0.22->pmdarima) (3.1.0)\n",
            "Requirement already satisfied: patsy>=0.5.2 in /usr/local/lib/python3.10/dist-packages (from statsmodels>=0.13.2->pmdarima) (0.5.3)\n",
            "Requirement already satisfied: packaging>=21.3 in /usr/local/lib/python3.10/dist-packages (from statsmodels>=0.13.2->pmdarima) (23.1)\n",
            "Requirement already satisfied: six in /usr/local/lib/python3.10/dist-packages (from patsy>=0.5.2->statsmodels>=0.13.2->pmdarima) (1.16.0)\n",
            "Installing collected packages: pmdarima\n",
            "Successfully installed pmdarima-2.0.3\n"
          ]
        }
      ]
    },
    {
      "cell_type": "code",
      "execution_count": 3,
      "metadata": {
        "id": "CDCI8K0eZrLg"
      },
      "outputs": [],
      "source": [
        "import numpy as np\n",
        "import pandas as pd\n",
        "\n",
        "# Data Visualization\n",
        "import seaborn as sns\n",
        "import matplotlib.pyplot as plt\n",
        "import matplotlib as mpl\n",
        "import plotly.express as px\n",
        "import plotly.graph_objects as go\n",
        "\n",
        "\n",
        "# Statistics\n",
        "from statsmodels.tsa.arima.model import ARIMA, ARIMAResults, SARIMAXSpecification\n",
        "import pmdarima as pm\n",
        "from pmdarima import auto_arima\n",
        "from statsmodels.tsa.statespace.sarimax import SARIMAX\n",
        "from statsmodels.tsa.api import ExponentialSmoothing, SimpleExpSmoothing\n",
        "from statsmodels.tsa.stattools import adfuller,kpss,coint,bds,q_stat,grangercausalitytests,levinson_durbin\n",
        "from statsmodels.tsa.seasonal import seasonal_decompose\n",
        "from statsmodels.tsa.stattools import adfuller, kpss\n",
        "from statsmodels.stats.stattools import durbin_watson\n",
        "from statsmodels.graphics.tsaplots import plot_acf, plot_pacf\n",
        "from scipy.special import inv_boxcox\n",
        "from scipy.stats import boxcox\n",
        "from scipy.interpolate import interp1d\n",
        "from sklearn.metrics import mean_absolute_error, mean_squared_error\n",
        "from dateutil.parser import parse\n",
        "from statsmodels.tools.eval_measures import rmse\n",
        "\n",
        "%matplotlib inline\n",
        "plt.rcParams.update({'figure.figsize': (12, 8), 'figure.dpi': 100})\n",
        "import warnings\n",
        "warnings.filterwarnings(\"ignore\")"
      ]
    },
    {
      "cell_type": "code",
      "execution_count": null,
      "metadata": {
        "id": "JGF9D0o2ZrLi",
        "outputId": "509ce02e-6126-4a71-ab1c-5d652070dfcc"
      },
      "outputs": [
        {
          "data": {
            "text/html": [
              "<div>\n",
              "<style scoped>\n",
              "    .dataframe tbody tr th:only-of-type {\n",
              "        vertical-align: middle;\n",
              "    }\n",
              "\n",
              "    .dataframe tbody tr th {\n",
              "        vertical-align: top;\n",
              "    }\n",
              "\n",
              "    .dataframe thead th {\n",
              "        text-align: right;\n",
              "    }\n",
              "</style>\n",
              "<table border=\"1\" class=\"dataframe\">\n",
              "  <thead>\n",
              "    <tr style=\"text-align: right;\">\n",
              "      <th></th>\n",
              "      <th>Lifetouch Heart Rate</th>\n",
              "      <th>Lifetouch Respiration Rate</th>\n",
              "      <th>Oximeter SpO2</th>\n",
              "      <th>Oximeter Pulse</th>\n",
              "    </tr>\n",
              "    <tr>\n",
              "      <th>Timestamp (GMT)</th>\n",
              "      <th></th>\n",
              "      <th></th>\n",
              "      <th></th>\n",
              "      <th></th>\n",
              "    </tr>\n",
              "  </thead>\n",
              "  <tbody>\n",
              "    <tr>\n",
              "      <th>2015-08-17 15:09:00</th>\n",
              "      <td>139.0</td>\n",
              "      <td>41</td>\n",
              "      <td>NaN</td>\n",
              "      <td>NaN</td>\n",
              "    </tr>\n",
              "    <tr>\n",
              "      <th>2015-08-17 15:10:00</th>\n",
              "      <td>144.0</td>\n",
              "      <td>40</td>\n",
              "      <td>92.0</td>\n",
              "      <td>140.0</td>\n",
              "    </tr>\n",
              "    <tr>\n",
              "      <th>2015-08-17 15:11:00</th>\n",
              "      <td>140.0</td>\n",
              "      <td>42</td>\n",
              "      <td>89.0</td>\n",
              "      <td>144.0</td>\n",
              "    </tr>\n",
              "    <tr>\n",
              "      <th>2015-08-17 15:12:00</th>\n",
              "      <td>138.0</td>\n",
              "      <td>45</td>\n",
              "      <td>93.0</td>\n",
              "      <td>141.0</td>\n",
              "    </tr>\n",
              "    <tr>\n",
              "      <th>2015-08-17 15:13:00</th>\n",
              "      <td>133.0</td>\n",
              "      <td>42</td>\n",
              "      <td>94.0</td>\n",
              "      <td>134.0</td>\n",
              "    </tr>\n",
              "  </tbody>\n",
              "</table>\n",
              "</div>"
            ],
            "text/plain": [
              "                     Lifetouch Heart Rate  Lifetouch Respiration Rate  \\\n",
              "Timestamp (GMT)                                                         \n",
              "2015-08-17 15:09:00                 139.0                          41   \n",
              "2015-08-17 15:10:00                 144.0                          40   \n",
              "2015-08-17 15:11:00                 140.0                          42   \n",
              "2015-08-17 15:12:00                 138.0                          45   \n",
              "2015-08-17 15:13:00                 133.0                          42   \n",
              "\n",
              "                     Oximeter SpO2  Oximeter Pulse  \n",
              "Timestamp (GMT)                                     \n",
              "2015-08-17 15:09:00            NaN             NaN  \n",
              "2015-08-17 15:10:00           92.0           140.0  \n",
              "2015-08-17 15:11:00           89.0           144.0  \n",
              "2015-08-17 15:12:00           93.0           141.0  \n",
              "2015-08-17 15:13:00           94.0           134.0  "
            ]
          },
          "execution_count": 65,
          "metadata": {},
          "output_type": "execute_result"
        }
      ],
      "source": [
        "#Reading in the data\n",
        "df = pd.read_csv('PT_Train.csv', index_col=0, parse_dates=True)\n",
        "\n",
        "#Casting the heart rate column to float\n",
        "df['Lifetouch Heart Rate'] = df['Lifetouch Heart Rate'].astype(float)\n",
        "\n",
        "# First 5 rows of the dataset\n",
        "df.head()"
      ]
    },
    {
      "cell_type": "code",
      "execution_count": null,
      "metadata": {
        "id": "Rpt7EG01ZrLj",
        "outputId": "076f02fe-cd16-430d-f520-56c7645668bb"
      },
      "outputs": [
        {
          "data": {
            "text/html": [
              "<div>\n",
              "<style scoped>\n",
              "    .dataframe tbody tr th:only-of-type {\n",
              "        vertical-align: middle;\n",
              "    }\n",
              "\n",
              "    .dataframe tbody tr th {\n",
              "        vertical-align: top;\n",
              "    }\n",
              "\n",
              "    .dataframe thead th {\n",
              "        text-align: right;\n",
              "    }\n",
              "</style>\n",
              "<table border=\"1\" class=\"dataframe\">\n",
              "  <thead>\n",
              "    <tr style=\"text-align: right;\">\n",
              "      <th></th>\n",
              "      <th>Lifetouch Heart Rate</th>\n",
              "      <th>Lifetouch Respiration Rate</th>\n",
              "      <th>Oximeter SpO2</th>\n",
              "      <th>Oximeter Pulse</th>\n",
              "    </tr>\n",
              "    <tr>\n",
              "      <th>Timestamp (GMT)</th>\n",
              "      <th></th>\n",
              "      <th></th>\n",
              "      <th></th>\n",
              "      <th></th>\n",
              "    </tr>\n",
              "  </thead>\n",
              "  <tbody>\n",
              "    <tr>\n",
              "      <th>2015-08-17 18:50:00</th>\n",
              "      <td>159.0</td>\n",
              "      <td>51</td>\n",
              "      <td>NaN</td>\n",
              "      <td>NaN</td>\n",
              "    </tr>\n",
              "    <tr>\n",
              "      <th>2015-08-17 18:51:00</th>\n",
              "      <td>151.0</td>\n",
              "      <td>64</td>\n",
              "      <td>NaN</td>\n",
              "      <td>NaN</td>\n",
              "    </tr>\n",
              "    <tr>\n",
              "      <th>2015-08-17 18:52:00</th>\n",
              "      <td>140.0</td>\n",
              "      <td>64</td>\n",
              "      <td>NaN</td>\n",
              "      <td>NaN</td>\n",
              "    </tr>\n",
              "    <tr>\n",
              "      <th>2015-08-17 18:53:00</th>\n",
              "      <td>140.0</td>\n",
              "      <td>55</td>\n",
              "      <td>NaN</td>\n",
              "      <td>NaN</td>\n",
              "    </tr>\n",
              "    <tr>\n",
              "      <th>2015-08-17 18:54:00</th>\n",
              "      <td>138.0</td>\n",
              "      <td>54</td>\n",
              "      <td>NaN</td>\n",
              "      <td>NaN</td>\n",
              "    </tr>\n",
              "  </tbody>\n",
              "</table>\n",
              "</div>"
            ],
            "text/plain": [
              "                     Lifetouch Heart Rate  Lifetouch Respiration Rate  \\\n",
              "Timestamp (GMT)                                                         \n",
              "2015-08-17 18:50:00                 159.0                          51   \n",
              "2015-08-17 18:51:00                 151.0                          64   \n",
              "2015-08-17 18:52:00                 140.0                          64   \n",
              "2015-08-17 18:53:00                 140.0                          55   \n",
              "2015-08-17 18:54:00                 138.0                          54   \n",
              "\n",
              "                     Oximeter SpO2  Oximeter Pulse  \n",
              "Timestamp (GMT)                                     \n",
              "2015-08-17 18:50:00            NaN             NaN  \n",
              "2015-08-17 18:51:00            NaN             NaN  \n",
              "2015-08-17 18:52:00            NaN             NaN  \n",
              "2015-08-17 18:53:00            NaN             NaN  \n",
              "2015-08-17 18:54:00            NaN             NaN  "
            ]
          },
          "execution_count": 66,
          "metadata": {},
          "output_type": "execute_result"
        }
      ],
      "source": [
        "df.tail()"
      ]
    },
    {
      "cell_type": "code",
      "execution_count": null,
      "metadata": {
        "id": "Q1N2CnijZrLj",
        "outputId": "21282d32-529f-4c4d-89a6-7f8c8032977d"
      },
      "outputs": [
        {
          "data": {
            "text/html": [
              "<div>\n",
              "<style scoped>\n",
              "    .dataframe tbody tr th:only-of-type {\n",
              "        vertical-align: middle;\n",
              "    }\n",
              "\n",
              "    .dataframe tbody tr th {\n",
              "        vertical-align: top;\n",
              "    }\n",
              "\n",
              "    .dataframe thead th {\n",
              "        text-align: right;\n",
              "    }\n",
              "</style>\n",
              "<table border=\"1\" class=\"dataframe\">\n",
              "  <thead>\n",
              "    <tr style=\"text-align: right;\">\n",
              "      <th></th>\n",
              "      <th>Lifetouch Heart Rate</th>\n",
              "      <th>Lifetouch Respiration Rate</th>\n",
              "      <th>Oximeter SpO2</th>\n",
              "      <th>Oximeter Pulse</th>\n",
              "    </tr>\n",
              "  </thead>\n",
              "  <tbody>\n",
              "    <tr>\n",
              "      <th>count</th>\n",
              "      <td>226.000000</td>\n",
              "      <td>226.000000</td>\n",
              "      <td>191.000000</td>\n",
              "      <td>191.000000</td>\n",
              "    </tr>\n",
              "    <tr>\n",
              "      <th>mean</th>\n",
              "      <td>2315.615044</td>\n",
              "      <td>2219.216814</td>\n",
              "      <td>83.450262</td>\n",
              "      <td>126.335079</td>\n",
              "    </tr>\n",
              "    <tr>\n",
              "      <th>std</th>\n",
              "      <td>11351.588825</td>\n",
              "      <td>11370.093548</td>\n",
              "      <td>29.802974</td>\n",
              "      <td>46.348142</td>\n",
              "    </tr>\n",
              "    <tr>\n",
              "      <th>min</th>\n",
              "      <td>106.000000</td>\n",
              "      <td>34.000000</td>\n",
              "      <td>-1.000000</td>\n",
              "      <td>-1.000000</td>\n",
              "    </tr>\n",
              "    <tr>\n",
              "      <th>25%</th>\n",
              "      <td>136.000000</td>\n",
              "      <td>38.000000</td>\n",
              "      <td>92.000000</td>\n",
              "      <td>134.000000</td>\n",
              "    </tr>\n",
              "    <tr>\n",
              "      <th>50%</th>\n",
              "      <td>145.000000</td>\n",
              "      <td>46.000000</td>\n",
              "      <td>93.000000</td>\n",
              "      <td>139.000000</td>\n",
              "    </tr>\n",
              "    <tr>\n",
              "      <th>75%</th>\n",
              "      <td>156.000000</td>\n",
              "      <td>53.000000</td>\n",
              "      <td>95.000000</td>\n",
              "      <td>149.000000</td>\n",
              "    </tr>\n",
              "    <tr>\n",
              "      <th>max</th>\n",
              "      <td>61442.000000</td>\n",
              "      <td>61442.000000</td>\n",
              "      <td>98.000000</td>\n",
              "      <td>166.000000</td>\n",
              "    </tr>\n",
              "  </tbody>\n",
              "</table>\n",
              "</div>"
            ],
            "text/plain": [
              "       Lifetouch Heart Rate  Lifetouch Respiration Rate  Oximeter SpO2  \\\n",
              "count            226.000000                  226.000000     191.000000   \n",
              "mean            2315.615044                 2219.216814      83.450262   \n",
              "std            11351.588825                11370.093548      29.802974   \n",
              "min              106.000000                   34.000000      -1.000000   \n",
              "25%              136.000000                   38.000000      92.000000   \n",
              "50%              145.000000                   46.000000      93.000000   \n",
              "75%              156.000000                   53.000000      95.000000   \n",
              "max            61442.000000                61442.000000      98.000000   \n",
              "\n",
              "       Oximeter Pulse  \n",
              "count      191.000000  \n",
              "mean       126.335079  \n",
              "std         46.348142  \n",
              "min         -1.000000  \n",
              "25%        134.000000  \n",
              "50%        139.000000  \n",
              "75%        149.000000  \n",
              "max        166.000000  "
            ]
          },
          "execution_count": 67,
          "metadata": {},
          "output_type": "execute_result"
        }
      ],
      "source": [
        "# Summary of the dataset\n",
        "df.describe()"
      ]
    },
    {
      "cell_type": "code",
      "execution_count": null,
      "metadata": {
        "id": "UgxgXxdfZrLj",
        "outputId": "d8921401-4d63-4af9-d476-719506b9cd5d"
      },
      "outputs": [
        {
          "data": {
            "text/plain": [
              "Lifetouch Heart Rate           0\n",
              "Lifetouch Respiration Rate     0\n",
              "Oximeter SpO2                 35\n",
              "Oximeter Pulse                35\n",
              "dtype: int64"
            ]
          },
          "execution_count": 68,
          "metadata": {},
          "output_type": "execute_result"
        }
      ],
      "source": [
        "#checking for null values\n",
        "df.isna().sum()"
      ]
    },
    {
      "cell_type": "code",
      "execution_count": null,
      "metadata": {
        "id": "rDt3myzzZrLk"
      },
      "outputs": [],
      "source": [
        "\n",
        "# Select how you wish to treat missing values according to the input\n",
        "df = df.ffill()\n",
        "df = df.bfill()\n",
        ""
      ]
    },
    {
      "cell_type": "code",
      "execution_count": null,
      "metadata": {
        "id": "yMgZTVRiZrLk",
        "outputId": "3e4b5248-a9b9-4757-d91d-c6f0056a4952"
      },
      "outputs": [
        {
          "data": {
            "text/plain": [
              "Lifetouch Heart Rate          0\n",
              "Lifetouch Respiration Rate    0\n",
              "Oximeter SpO2                 0\n",
              "Oximeter Pulse                0\n",
              "dtype: int64"
            ]
          },
          "execution_count": 70,
          "metadata": {},
          "output_type": "execute_result"
        }
      ],
      "source": [
        "# Missing values for every column\n",
        "df.isna().sum()"
      ]
    },
    {
      "cell_type": "code",
      "execution_count": null,
      "metadata": {
        "id": "ii9sBtFTZrLk"
      },
      "outputs": [],
      "source": [
        "#Replacing the missing values with np.nan\n",
        "df = df.replace({'Lifetouch Heart Rate':{61441:np.nan, 61442:np.nan}, 'Lifetouch Respiration Rate':{61441:np.nan, 61442:np.nan}})"
      ]
    },
    {
      "cell_type": "code",
      "execution_count": null,
      "metadata": {
        "id": "qoT8dGXbZrLk"
      },
      "outputs": [],
      "source": [
        "#Replacing the missing values with the previous value\n",
        "df = df.ffill()"
      ]
    },
    {
      "cell_type": "code",
      "execution_count": null,
      "metadata": {
        "id": "F-fbZS45ZrLk",
        "outputId": "02a68331-1b30-4a36-ac7e-a2147af047ae"
      },
      "outputs": [
        {
          "data": {
            "text/plain": [
              "Lifetouch Heart Rate          0\n",
              "Lifetouch Respiration Rate    0\n",
              "Oximeter SpO2                 0\n",
              "Oximeter Pulse                0\n",
              "dtype: int64"
            ]
          },
          "execution_count": 73,
          "metadata": {},
          "output_type": "execute_result"
        }
      ],
      "source": [
        "# Missing values for every column\n",
        "df.isna().sum()"
      ]
    },
    {
      "cell_type": "markdown",
      "metadata": {
        "id": "hiWqQwqHZrLl"
      },
      "source": [
        "## Visualizations with Plotly"
      ]
    },
    {
      "cell_type": "code",
      "execution_count": null,
      "metadata": {
        "id": "4K_4E1bcZrLm",
        "outputId": "f9b1cdc9-91ba-455f-eebc-6084830885c0"
      },
      "outputs": [
        {
          "data": {
            "application/vnd.plotly.v1+json": {
              "config": {
                "plotlyServerURL": "https://plot.ly"
              },
              "data": [
                {
                  "hovertemplate": "variable=Lifetouch Heart Rate<br>Timestamp (GMT)=%{x}<br>value=%{y}<extra></extra>",
                  "legendgroup": "Lifetouch Heart Rate",
                  "line": {
                    "color": "red",
                    "dash": "solid"
                  },
                  "marker": {
                    "symbol": "circle"
                  },
                  "mode": "lines",
                  "name": "Lifetouch Heart Rate",
                  "orientation": "v",
                  "showlegend": true,
                  "type": "scatter",
                  "x": [
                    "2015-08-17T15:09:00",
                    "2015-08-17T15:10:00",
                    "2015-08-17T15:11:00",
                    "2015-08-17T15:12:00",
                    "2015-08-17T15:13:00",
                    "2015-08-17T15:14:00",
                    "2015-08-17T15:15:00",
                    "2015-08-17T15:16:00",
                    "2015-08-17T15:17:00",
                    "2015-08-17T15:18:00",
                    "2015-08-17T15:19:00",
                    "2015-08-17T15:20:00",
                    "2015-08-17T15:21:00",
                    "2015-08-17T15:22:00",
                    "2015-08-17T15:23:00",
                    "2015-08-17T15:24:00",
                    "2015-08-17T15:25:00",
                    "2015-08-17T15:26:00",
                    "2015-08-17T15:27:00",
                    "2015-08-17T15:28:00",
                    "2015-08-17T15:29:00",
                    "2015-08-17T15:30:00",
                    "2015-08-17T15:31:00",
                    "2015-08-17T15:32:00",
                    "2015-08-17T15:33:00",
                    "2015-08-17T15:34:00",
                    "2015-08-17T15:35:00",
                    "2015-08-17T15:36:00",
                    "2015-08-17T15:37:00",
                    "2015-08-17T15:38:00",
                    "2015-08-17T15:39:00",
                    "2015-08-17T15:40:00",
                    "2015-08-17T15:41:00",
                    "2015-08-17T15:42:00",
                    "2015-08-17T15:43:00",
                    "2015-08-17T15:44:00",
                    "2015-08-17T15:45:00",
                    "2015-08-17T15:46:00",
                    "2015-08-17T15:47:00",
                    "2015-08-17T15:48:00",
                    "2015-08-17T15:49:00",
                    "2015-08-17T15:50:00",
                    "2015-08-17T15:51:00",
                    "2015-08-17T15:52:00",
                    "2015-08-17T15:53:00",
                    "2015-08-17T15:54:00",
                    "2015-08-17T15:55:00",
                    "2015-08-17T15:56:00",
                    "2015-08-17T15:57:00",
                    "2015-08-17T15:58:00",
                    "2015-08-17T15:59:00",
                    "2015-08-17T16:00:00",
                    "2015-08-17T16:01:00",
                    "2015-08-17T16:02:00",
                    "2015-08-17T16:03:00",
                    "2015-08-17T16:04:00",
                    "2015-08-17T16:05:00",
                    "2015-08-17T16:06:00",
                    "2015-08-17T16:07:00",
                    "2015-08-17T16:08:00",
                    "2015-08-17T16:09:00",
                    "2015-08-17T16:10:00",
                    "2015-08-17T16:11:00",
                    "2015-08-17T16:12:00",
                    "2015-08-17T16:13:00",
                    "2015-08-17T16:14:00",
                    "2015-08-17T16:15:00",
                    "2015-08-17T16:16:00",
                    "2015-08-17T16:17:00",
                    "2015-08-17T16:18:00",
                    "2015-08-17T16:19:00",
                    "2015-08-17T16:20:00",
                    "2015-08-17T16:21:00",
                    "2015-08-17T16:22:00",
                    "2015-08-17T16:23:00",
                    "2015-08-17T16:24:00",
                    "2015-08-17T16:25:00",
                    "2015-08-17T16:26:00",
                    "2015-08-17T16:27:00",
                    "2015-08-17T16:28:00",
                    "2015-08-17T16:29:00",
                    "2015-08-17T16:30:00",
                    "2015-08-17T16:31:00",
                    "2015-08-17T16:32:00",
                    "2015-08-17T16:33:00",
                    "2015-08-17T16:34:00",
                    "2015-08-17T16:35:00",
                    "2015-08-17T16:36:00",
                    "2015-08-17T16:37:00",
                    "2015-08-17T16:38:00",
                    "2015-08-17T16:39:00",
                    "2015-08-17T16:40:00",
                    "2015-08-17T16:41:00",
                    "2015-08-17T16:42:00",
                    "2015-08-17T16:43:00",
                    "2015-08-17T16:44:00",
                    "2015-08-17T16:45:00",
                    "2015-08-17T16:46:00",
                    "2015-08-17T16:47:00",
                    "2015-08-17T16:48:00",
                    "2015-08-17T16:49:00",
                    "2015-08-17T16:50:00",
                    "2015-08-17T16:51:00",
                    "2015-08-17T16:52:00",
                    "2015-08-17T16:53:00",
                    "2015-08-17T16:54:00",
                    "2015-08-17T16:55:00",
                    "2015-08-17T16:56:00",
                    "2015-08-17T16:57:00",
                    "2015-08-17T16:58:00",
                    "2015-08-17T16:59:00",
                    "2015-08-17T17:00:00",
                    "2015-08-17T17:01:00",
                    "2015-08-17T17:02:00",
                    "2015-08-17T17:03:00",
                    "2015-08-17T17:04:00",
                    "2015-08-17T17:05:00",
                    "2015-08-17T17:06:00",
                    "2015-08-17T17:07:00",
                    "2015-08-17T17:08:00",
                    "2015-08-17T17:09:00",
                    "2015-08-17T17:10:00",
                    "2015-08-17T17:11:00",
                    "2015-08-17T17:12:00",
                    "2015-08-17T17:13:00",
                    "2015-08-17T17:14:00",
                    "2015-08-17T17:15:00",
                    "2015-08-17T17:16:00",
                    "2015-08-17T17:17:00",
                    "2015-08-17T17:18:00",
                    "2015-08-17T17:19:00",
                    "2015-08-17T17:20:00",
                    "2015-08-17T17:21:00",
                    "2015-08-17T17:22:00",
                    "2015-08-17T17:23:00",
                    "2015-08-17T17:24:00",
                    "2015-08-17T17:25:00",
                    "2015-08-17T17:26:00",
                    "2015-08-17T17:27:00",
                    "2015-08-17T17:28:00",
                    "2015-08-17T17:29:00",
                    "2015-08-17T17:30:00",
                    "2015-08-17T17:31:00",
                    "2015-08-17T17:32:00",
                    "2015-08-17T17:33:00",
                    "2015-08-17T17:34:00",
                    "2015-08-17T17:35:00",
                    "2015-08-17T17:36:00",
                    "2015-08-17T17:37:00",
                    "2015-08-17T17:38:00",
                    "2015-08-17T17:39:00",
                    "2015-08-17T17:40:00",
                    "2015-08-17T17:41:00",
                    "2015-08-17T17:42:00",
                    "2015-08-17T17:43:00",
                    "2015-08-17T17:44:00",
                    "2015-08-17T17:45:00",
                    "2015-08-17T17:46:00",
                    "2015-08-17T17:47:00",
                    "2015-08-17T17:48:00",
                    "2015-08-17T17:49:00",
                    "2015-08-17T17:50:00",
                    "2015-08-17T17:51:00",
                    "2015-08-17T17:52:00",
                    "2015-08-17T17:53:00",
                    "2015-08-17T17:54:00",
                    "2015-08-17T17:55:00",
                    "2015-08-17T17:56:00",
                    "2015-08-17T17:57:00",
                    "2015-08-17T17:58:00",
                    "2015-08-17T17:59:00",
                    "2015-08-17T18:00:00",
                    "2015-08-17T18:01:00",
                    "2015-08-17T18:02:00",
                    "2015-08-17T18:03:00",
                    "2015-08-17T18:04:00",
                    "2015-08-17T18:05:00",
                    "2015-08-17T18:06:00",
                    "2015-08-17T18:07:00",
                    "2015-08-17T18:08:00",
                    "2015-08-17T18:09:00",
                    "2015-08-17T18:10:00",
                    "2015-08-17T18:11:00",
                    "2015-08-17T18:12:00",
                    "2015-08-17T18:13:00",
                    "2015-08-17T18:14:00",
                    "2015-08-17T18:15:00",
                    "2015-08-17T18:16:00",
                    "2015-08-17T18:17:00",
                    "2015-08-17T18:18:00",
                    "2015-08-17T18:19:00",
                    "2015-08-17T18:20:00",
                    "2015-08-17T18:21:00",
                    "2015-08-17T18:22:00",
                    "2015-08-17T18:23:00",
                    "2015-08-17T18:24:00",
                    "2015-08-17T18:25:00",
                    "2015-08-17T18:26:00",
                    "2015-08-17T18:27:00",
                    "2015-08-17T18:28:00",
                    "2015-08-17T18:29:00",
                    "2015-08-17T18:30:00",
                    "2015-08-17T18:31:00",
                    "2015-08-17T18:32:00",
                    "2015-08-17T18:33:00",
                    "2015-08-17T18:34:00",
                    "2015-08-17T18:35:00",
                    "2015-08-17T18:36:00",
                    "2015-08-17T18:37:00",
                    "2015-08-17T18:38:00",
                    "2015-08-17T18:39:00",
                    "2015-08-17T18:40:00",
                    "2015-08-17T18:41:00",
                    "2015-08-17T18:42:00",
                    "2015-08-17T18:43:00",
                    "2015-08-17T18:44:00",
                    "2015-08-17T18:45:00",
                    "2015-08-17T18:46:00",
                    "2015-08-17T18:47:00",
                    "2015-08-17T18:48:00",
                    "2015-08-17T18:49:00",
                    "2015-08-17T18:50:00",
                    "2015-08-17T18:51:00",
                    "2015-08-17T18:52:00",
                    "2015-08-17T18:53:00",
                    "2015-08-17T18:54:00"
                  ],
                  "xaxis": "x",
                  "y": [
                    139,
                    144,
                    140,
                    138,
                    133,
                    132,
                    132,
                    133,
                    136,
                    137,
                    136,
                    137,
                    139,
                    138,
                    141,
                    139,
                    140,
                    140,
                    139,
                    137,
                    139,
                    139,
                    133,
                    120,
                    139,
                    140,
                    135,
                    141,
                    137,
                    129,
                    129,
                    129,
                    129,
                    129,
                    129,
                    129,
                    129,
                    136,
                    138,
                    142,
                    106,
                    106,
                    143,
                    139,
                    149,
                    154,
                    152,
                    150,
                    144,
                    150,
                    149,
                    149,
                    148,
                    144,
                    142,
                    142,
                    142,
                    141,
                    140,
                    140,
                    139,
                    138,
                    137,
                    137,
                    136,
                    137,
                    136,
                    136,
                    136,
                    136,
                    136,
                    136,
                    137,
                    136,
                    136,
                    136,
                    137,
                    137,
                    136,
                    136,
                    134,
                    134,
                    134,
                    133,
                    132,
                    132,
                    132,
                    132,
                    132,
                    133,
                    133,
                    133,
                    133,
                    133,
                    134,
                    134,
                    133,
                    134,
                    134,
                    133,
                    134,
                    134,
                    133,
                    134,
                    134,
                    134,
                    134,
                    134,
                    138,
                    138,
                    132,
                    133,
                    142,
                    139,
                    146,
                    140,
                    136,
                    134,
                    136,
                    131,
                    137,
                    135,
                    137,
                    137,
                    136,
                    140,
                    142,
                    151,
                    146,
                    154,
                    161,
                    158,
                    160,
                    154,
                    154,
                    158,
                    155,
                    150,
                    153,
                    155,
                    158,
                    163,
                    162,
                    162,
                    163,
                    163,
                    160,
                    159,
                    160,
                    159,
                    166,
                    164,
                    161,
                    167,
                    159,
                    152,
                    152,
                    150,
                    151,
                    155,
                    159,
                    154,
                    157,
                    163,
                    158,
                    163,
                    164,
                    166,
                    169,
                    169,
                    170,
                    172,
                    165,
                    163,
                    156,
                    156,
                    161,
                    161,
                    164,
                    160,
                    158,
                    159,
                    154,
                    158,
                    152,
                    160,
                    155,
                    149,
                    151,
                    148,
                    146,
                    154,
                    155,
                    152,
                    152,
                    156,
                    156,
                    153,
                    154,
                    158,
                    155,
                    150,
                    149,
                    148,
                    156,
                    158,
                    159,
                    160,
                    155,
                    155,
                    148,
                    148,
                    152,
                    152,
                    150,
                    153,
                    158,
                    158,
                    154,
                    155,
                    157,
                    159,
                    151,
                    140,
                    140,
                    138
                  ],
                  "yaxis": "y"
                }
              ],
              "layout": {
                "font": {
                  "color": "white"
                },
                "height": 600,
                "legend": {
                  "title": {
                    "text": "variable"
                  },
                  "tracegroupgap": 0
                },
                "margin": {
                  "t": 60
                },
                "paper_bgcolor": "black",
                "plot_bgcolor": "black",
                "template": {
                  "data": {
                    "bar": [
                      {
                        "error_x": {
                          "color": "#2a3f5f"
                        },
                        "error_y": {
                          "color": "#2a3f5f"
                        },
                        "marker": {
                          "line": {
                            "color": "#E5ECF6",
                            "width": 0.5
                          },
                          "pattern": {
                            "fillmode": "overlay",
                            "size": 10,
                            "solidity": 0.2
                          }
                        },
                        "type": "bar"
                      }
                    ],
                    "barpolar": [
                      {
                        "marker": {
                          "line": {
                            "color": "#E5ECF6",
                            "width": 0.5
                          },
                          "pattern": {
                            "fillmode": "overlay",
                            "size": 10,
                            "solidity": 0.2
                          }
                        },
                        "type": "barpolar"
                      }
                    ],
                    "carpet": [
                      {
                        "aaxis": {
                          "endlinecolor": "#2a3f5f",
                          "gridcolor": "white",
                          "linecolor": "white",
                          "minorgridcolor": "white",
                          "startlinecolor": "#2a3f5f"
                        },
                        "baxis": {
                          "endlinecolor": "#2a3f5f",
                          "gridcolor": "white",
                          "linecolor": "white",
                          "minorgridcolor": "white",
                          "startlinecolor": "#2a3f5f"
                        },
                        "type": "carpet"
                      }
                    ],
                    "choropleth": [
                      {
                        "colorbar": {
                          "outlinewidth": 0,
                          "ticks": ""
                        },
                        "type": "choropleth"
                      }
                    ],
                    "contour": [
                      {
                        "colorbar": {
                          "outlinewidth": 0,
                          "ticks": ""
                        },
                        "colorscale": [
                          [
                            0,
                            "#0d0887"
                          ],
                          [
                            0.1111111111111111,
                            "#46039f"
                          ],
                          [
                            0.2222222222222222,
                            "#7201a8"
                          ],
                          [
                            0.3333333333333333,
                            "#9c179e"
                          ],
                          [
                            0.4444444444444444,
                            "#bd3786"
                          ],
                          [
                            0.5555555555555556,
                            "#d8576b"
                          ],
                          [
                            0.6666666666666666,
                            "#ed7953"
                          ],
                          [
                            0.7777777777777778,
                            "#fb9f3a"
                          ],
                          [
                            0.8888888888888888,
                            "#fdca26"
                          ],
                          [
                            1,
                            "#f0f921"
                          ]
                        ],
                        "type": "contour"
                      }
                    ],
                    "contourcarpet": [
                      {
                        "colorbar": {
                          "outlinewidth": 0,
                          "ticks": ""
                        },
                        "type": "contourcarpet"
                      }
                    ],
                    "heatmap": [
                      {
                        "colorbar": {
                          "outlinewidth": 0,
                          "ticks": ""
                        },
                        "colorscale": [
                          [
                            0,
                            "#0d0887"
                          ],
                          [
                            0.1111111111111111,
                            "#46039f"
                          ],
                          [
                            0.2222222222222222,
                            "#7201a8"
                          ],
                          [
                            0.3333333333333333,
                            "#9c179e"
                          ],
                          [
                            0.4444444444444444,
                            "#bd3786"
                          ],
                          [
                            0.5555555555555556,
                            "#d8576b"
                          ],
                          [
                            0.6666666666666666,
                            "#ed7953"
                          ],
                          [
                            0.7777777777777778,
                            "#fb9f3a"
                          ],
                          [
                            0.8888888888888888,
                            "#fdca26"
                          ],
                          [
                            1,
                            "#f0f921"
                          ]
                        ],
                        "type": "heatmap"
                      }
                    ],
                    "heatmapgl": [
                      {
                        "colorbar": {
                          "outlinewidth": 0,
                          "ticks": ""
                        },
                        "colorscale": [
                          [
                            0,
                            "#0d0887"
                          ],
                          [
                            0.1111111111111111,
                            "#46039f"
                          ],
                          [
                            0.2222222222222222,
                            "#7201a8"
                          ],
                          [
                            0.3333333333333333,
                            "#9c179e"
                          ],
                          [
                            0.4444444444444444,
                            "#bd3786"
                          ],
                          [
                            0.5555555555555556,
                            "#d8576b"
                          ],
                          [
                            0.6666666666666666,
                            "#ed7953"
                          ],
                          [
                            0.7777777777777778,
                            "#fb9f3a"
                          ],
                          [
                            0.8888888888888888,
                            "#fdca26"
                          ],
                          [
                            1,
                            "#f0f921"
                          ]
                        ],
                        "type": "heatmapgl"
                      }
                    ],
                    "histogram": [
                      {
                        "marker": {
                          "pattern": {
                            "fillmode": "overlay",
                            "size": 10,
                            "solidity": 0.2
                          }
                        },
                        "type": "histogram"
                      }
                    ],
                    "histogram2d": [
                      {
                        "colorbar": {
                          "outlinewidth": 0,
                          "ticks": ""
                        },
                        "colorscale": [
                          [
                            0,
                            "#0d0887"
                          ],
                          [
                            0.1111111111111111,
                            "#46039f"
                          ],
                          [
                            0.2222222222222222,
                            "#7201a8"
                          ],
                          [
                            0.3333333333333333,
                            "#9c179e"
                          ],
                          [
                            0.4444444444444444,
                            "#bd3786"
                          ],
                          [
                            0.5555555555555556,
                            "#d8576b"
                          ],
                          [
                            0.6666666666666666,
                            "#ed7953"
                          ],
                          [
                            0.7777777777777778,
                            "#fb9f3a"
                          ],
                          [
                            0.8888888888888888,
                            "#fdca26"
                          ],
                          [
                            1,
                            "#f0f921"
                          ]
                        ],
                        "type": "histogram2d"
                      }
                    ],
                    "histogram2dcontour": [
                      {
                        "colorbar": {
                          "outlinewidth": 0,
                          "ticks": ""
                        },
                        "colorscale": [
                          [
                            0,
                            "#0d0887"
                          ],
                          [
                            0.1111111111111111,
                            "#46039f"
                          ],
                          [
                            0.2222222222222222,
                            "#7201a8"
                          ],
                          [
                            0.3333333333333333,
                            "#9c179e"
                          ],
                          [
                            0.4444444444444444,
                            "#bd3786"
                          ],
                          [
                            0.5555555555555556,
                            "#d8576b"
                          ],
                          [
                            0.6666666666666666,
                            "#ed7953"
                          ],
                          [
                            0.7777777777777778,
                            "#fb9f3a"
                          ],
                          [
                            0.8888888888888888,
                            "#fdca26"
                          ],
                          [
                            1,
                            "#f0f921"
                          ]
                        ],
                        "type": "histogram2dcontour"
                      }
                    ],
                    "mesh3d": [
                      {
                        "colorbar": {
                          "outlinewidth": 0,
                          "ticks": ""
                        },
                        "type": "mesh3d"
                      }
                    ],
                    "parcoords": [
                      {
                        "line": {
                          "colorbar": {
                            "outlinewidth": 0,
                            "ticks": ""
                          }
                        },
                        "type": "parcoords"
                      }
                    ],
                    "pie": [
                      {
                        "automargin": true,
                        "type": "pie"
                      }
                    ],
                    "scatter": [
                      {
                        "fillpattern": {
                          "fillmode": "overlay",
                          "size": 10,
                          "solidity": 0.2
                        },
                        "type": "scatter"
                      }
                    ],
                    "scatter3d": [
                      {
                        "line": {
                          "colorbar": {
                            "outlinewidth": 0,
                            "ticks": ""
                          }
                        },
                        "marker": {
                          "colorbar": {
                            "outlinewidth": 0,
                            "ticks": ""
                          }
                        },
                        "type": "scatter3d"
                      }
                    ],
                    "scattercarpet": [
                      {
                        "marker": {
                          "colorbar": {
                            "outlinewidth": 0,
                            "ticks": ""
                          }
                        },
                        "type": "scattercarpet"
                      }
                    ],
                    "scattergeo": [
                      {
                        "marker": {
                          "colorbar": {
                            "outlinewidth": 0,
                            "ticks": ""
                          }
                        },
                        "type": "scattergeo"
                      }
                    ],
                    "scattergl": [
                      {
                        "marker": {
                          "colorbar": {
                            "outlinewidth": 0,
                            "ticks": ""
                          }
                        },
                        "type": "scattergl"
                      }
                    ],
                    "scattermapbox": [
                      {
                        "marker": {
                          "colorbar": {
                            "outlinewidth": 0,
                            "ticks": ""
                          }
                        },
                        "type": "scattermapbox"
                      }
                    ],
                    "scatterpolar": [
                      {
                        "marker": {
                          "colorbar": {
                            "outlinewidth": 0,
                            "ticks": ""
                          }
                        },
                        "type": "scatterpolar"
                      }
                    ],
                    "scatterpolargl": [
                      {
                        "marker": {
                          "colorbar": {
                            "outlinewidth": 0,
                            "ticks": ""
                          }
                        },
                        "type": "scatterpolargl"
                      }
                    ],
                    "scatterternary": [
                      {
                        "marker": {
                          "colorbar": {
                            "outlinewidth": 0,
                            "ticks": ""
                          }
                        },
                        "type": "scatterternary"
                      }
                    ],
                    "surface": [
                      {
                        "colorbar": {
                          "outlinewidth": 0,
                          "ticks": ""
                        },
                        "colorscale": [
                          [
                            0,
                            "#0d0887"
                          ],
                          [
                            0.1111111111111111,
                            "#46039f"
                          ],
                          [
                            0.2222222222222222,
                            "#7201a8"
                          ],
                          [
                            0.3333333333333333,
                            "#9c179e"
                          ],
                          [
                            0.4444444444444444,
                            "#bd3786"
                          ],
                          [
                            0.5555555555555556,
                            "#d8576b"
                          ],
                          [
                            0.6666666666666666,
                            "#ed7953"
                          ],
                          [
                            0.7777777777777778,
                            "#fb9f3a"
                          ],
                          [
                            0.8888888888888888,
                            "#fdca26"
                          ],
                          [
                            1,
                            "#f0f921"
                          ]
                        ],
                        "type": "surface"
                      }
                    ],
                    "table": [
                      {
                        "cells": {
                          "fill": {
                            "color": "#EBF0F8"
                          },
                          "line": {
                            "color": "white"
                          }
                        },
                        "header": {
                          "fill": {
                            "color": "#C8D4E3"
                          },
                          "line": {
                            "color": "white"
                          }
                        },
                        "type": "table"
                      }
                    ]
                  },
                  "layout": {
                    "annotationdefaults": {
                      "arrowcolor": "#2a3f5f",
                      "arrowhead": 0,
                      "arrowwidth": 1
                    },
                    "autotypenumbers": "strict",
                    "coloraxis": {
                      "colorbar": {
                        "outlinewidth": 0,
                        "ticks": ""
                      }
                    },
                    "colorscale": {
                      "diverging": [
                        [
                          0,
                          "#8e0152"
                        ],
                        [
                          0.1,
                          "#c51b7d"
                        ],
                        [
                          0.2,
                          "#de77ae"
                        ],
                        [
                          0.3,
                          "#f1b6da"
                        ],
                        [
                          0.4,
                          "#fde0ef"
                        ],
                        [
                          0.5,
                          "#f7f7f7"
                        ],
                        [
                          0.6,
                          "#e6f5d0"
                        ],
                        [
                          0.7,
                          "#b8e186"
                        ],
                        [
                          0.8,
                          "#7fbc41"
                        ],
                        [
                          0.9,
                          "#4d9221"
                        ],
                        [
                          1,
                          "#276419"
                        ]
                      ],
                      "sequential": [
                        [
                          0,
                          "#0d0887"
                        ],
                        [
                          0.1111111111111111,
                          "#46039f"
                        ],
                        [
                          0.2222222222222222,
                          "#7201a8"
                        ],
                        [
                          0.3333333333333333,
                          "#9c179e"
                        ],
                        [
                          0.4444444444444444,
                          "#bd3786"
                        ],
                        [
                          0.5555555555555556,
                          "#d8576b"
                        ],
                        [
                          0.6666666666666666,
                          "#ed7953"
                        ],
                        [
                          0.7777777777777778,
                          "#fb9f3a"
                        ],
                        [
                          0.8888888888888888,
                          "#fdca26"
                        ],
                        [
                          1,
                          "#f0f921"
                        ]
                      ],
                      "sequentialminus": [
                        [
                          0,
                          "#0d0887"
                        ],
                        [
                          0.1111111111111111,
                          "#46039f"
                        ],
                        [
                          0.2222222222222222,
                          "#7201a8"
                        ],
                        [
                          0.3333333333333333,
                          "#9c179e"
                        ],
                        [
                          0.4444444444444444,
                          "#bd3786"
                        ],
                        [
                          0.5555555555555556,
                          "#d8576b"
                        ],
                        [
                          0.6666666666666666,
                          "#ed7953"
                        ],
                        [
                          0.7777777777777778,
                          "#fb9f3a"
                        ],
                        [
                          0.8888888888888888,
                          "#fdca26"
                        ],
                        [
                          1,
                          "#f0f921"
                        ]
                      ]
                    },
                    "colorway": [
                      "#636efa",
                      "#EF553B",
                      "#00cc96",
                      "#ab63fa",
                      "#FFA15A",
                      "#19d3f3",
                      "#FF6692",
                      "#B6E880",
                      "#FF97FF",
                      "#FECB52"
                    ],
                    "font": {
                      "color": "#2a3f5f"
                    },
                    "geo": {
                      "bgcolor": "white",
                      "lakecolor": "white",
                      "landcolor": "#E5ECF6",
                      "showlakes": true,
                      "showland": true,
                      "subunitcolor": "white"
                    },
                    "hoverlabel": {
                      "align": "left"
                    },
                    "hovermode": "closest",
                    "mapbox": {
                      "style": "light"
                    },
                    "paper_bgcolor": "white",
                    "plot_bgcolor": "#E5ECF6",
                    "polar": {
                      "angularaxis": {
                        "gridcolor": "white",
                        "linecolor": "white",
                        "ticks": ""
                      },
                      "bgcolor": "#E5ECF6",
                      "radialaxis": {
                        "gridcolor": "white",
                        "linecolor": "white",
                        "ticks": ""
                      }
                    },
                    "scene": {
                      "xaxis": {
                        "backgroundcolor": "#E5ECF6",
                        "gridcolor": "white",
                        "gridwidth": 2,
                        "linecolor": "white",
                        "showbackground": true,
                        "ticks": "",
                        "zerolinecolor": "white"
                      },
                      "yaxis": {
                        "backgroundcolor": "#E5ECF6",
                        "gridcolor": "white",
                        "gridwidth": 2,
                        "linecolor": "white",
                        "showbackground": true,
                        "ticks": "",
                        "zerolinecolor": "white"
                      },
                      "zaxis": {
                        "backgroundcolor": "#E5ECF6",
                        "gridcolor": "white",
                        "gridwidth": 2,
                        "linecolor": "white",
                        "showbackground": true,
                        "ticks": "",
                        "zerolinecolor": "white"
                      }
                    },
                    "shapedefaults": {
                      "line": {
                        "color": "#2a3f5f"
                      }
                    },
                    "ternary": {
                      "aaxis": {
                        "gridcolor": "white",
                        "linecolor": "white",
                        "ticks": ""
                      },
                      "baxis": {
                        "gridcolor": "white",
                        "linecolor": "white",
                        "ticks": ""
                      },
                      "bgcolor": "#E5ECF6",
                      "caxis": {
                        "gridcolor": "white",
                        "linecolor": "white",
                        "ticks": ""
                      }
                    },
                    "title": {
                      "x": 0.05
                    },
                    "xaxis": {
                      "automargin": true,
                      "gridcolor": "white",
                      "linecolor": "white",
                      "ticks": "",
                      "title": {
                        "standoff": 15
                      },
                      "zerolinecolor": "white",
                      "zerolinewidth": 2
                    },
                    "yaxis": {
                      "automargin": true,
                      "gridcolor": "white",
                      "linecolor": "white",
                      "ticks": "",
                      "title": {
                        "standoff": 15
                      },
                      "zerolinecolor": "white",
                      "zerolinewidth": 2
                    }
                  }
                },
                "title": {
                  "text": "Lifetouch Heart Rate",
                  "x": 0.5,
                  "xanchor": "center",
                  "y": 0.9,
                  "yanchor": "top"
                },
                "width": 900,
                "xaxis": {
                  "anchor": "y",
                  "domain": [
                    0,
                    1
                  ],
                  "gridcolor": "gray",
                  "gridwidth": 1,
                  "showgrid": true,
                  "title": {
                    "text": "Timestamp (GMT)"
                  }
                },
                "yaxis": {
                  "anchor": "x",
                  "domain": [
                    0,
                    1
                  ],
                  "gridcolor": "gray",
                  "gridwidth": 1,
                  "showgrid": true,
                  "title": {
                    "text": "value"
                  }
                }
              }
            }
          },
          "metadata": {},
          "output_type": "display_data"
        }
      ],
      "source": [
        "#Lifetouch Heart Rate\n",
        "\n",
        "fig = px.line(df['Lifetouch Heart Rate'], width=900, height=600)\n",
        "\n",
        "# Set the background color to yellow\n",
        "fig.update_layout(\n",
        "    plot_bgcolor='black',\n",
        "    paper_bgcolor='black',\n",
        "    font=dict(color='white')\n",
        ")\n",
        "\n",
        "# Set the line color to blue\n",
        "fig.update_traces(line_color='red')\n",
        "\n",
        "# Show grid lines\n",
        "fig.update_layout(\n",
        "    xaxis=dict(showgrid=True, gridcolor='gray', gridwidth=1),\n",
        "    yaxis=dict(showgrid=True, gridcolor='gray', gridwidth=1),\n",
        "    title={\n",
        "        'text': \"Lifetouch Heart Rate\",\n",
        "        'y':0.9,\n",
        "        'x':0.5,\n",
        "        'xanchor': 'center',\n",
        "        'yanchor': 'top'\n",
        "    }\n",
        ")\n",
        "\n",
        "fig.show()"
      ]
    },
    {
      "cell_type": "code",
      "execution_count": null,
      "metadata": {
        "id": "nKUz4lAiZrLm",
        "outputId": "8d735142-7627-4a79-f816-f11ff9dbe297"
      },
      "outputs": [
        {
          "data": {
            "application/vnd.plotly.v1+json": {
              "config": {
                "plotlyServerURL": "https://plot.ly"
              },
              "data": [
                {
                  "hovertemplate": "variable=Lifetouch Respiration Rate<br>Timestamp (GMT)=%{x}<br>value=%{y}<extra></extra>",
                  "legendgroup": "Lifetouch Respiration Rate",
                  "line": {
                    "color": "red",
                    "dash": "solid"
                  },
                  "marker": {
                    "symbol": "circle"
                  },
                  "mode": "lines",
                  "name": "Lifetouch Respiration Rate",
                  "orientation": "v",
                  "showlegend": true,
                  "type": "scatter",
                  "x": [
                    "2015-08-17T15:09:00",
                    "2015-08-17T15:10:00",
                    "2015-08-17T15:11:00",
                    "2015-08-17T15:12:00",
                    "2015-08-17T15:13:00",
                    "2015-08-17T15:14:00",
                    "2015-08-17T15:15:00",
                    "2015-08-17T15:16:00",
                    "2015-08-17T15:17:00",
                    "2015-08-17T15:18:00",
                    "2015-08-17T15:19:00",
                    "2015-08-17T15:20:00",
                    "2015-08-17T15:21:00",
                    "2015-08-17T15:22:00",
                    "2015-08-17T15:23:00",
                    "2015-08-17T15:24:00",
                    "2015-08-17T15:25:00",
                    "2015-08-17T15:26:00",
                    "2015-08-17T15:27:00",
                    "2015-08-17T15:28:00",
                    "2015-08-17T15:29:00",
                    "2015-08-17T15:30:00",
                    "2015-08-17T15:31:00",
                    "2015-08-17T15:32:00",
                    "2015-08-17T15:33:00",
                    "2015-08-17T15:34:00",
                    "2015-08-17T15:35:00",
                    "2015-08-17T15:36:00",
                    "2015-08-17T15:37:00",
                    "2015-08-17T15:38:00",
                    "2015-08-17T15:39:00",
                    "2015-08-17T15:40:00",
                    "2015-08-17T15:41:00",
                    "2015-08-17T15:42:00",
                    "2015-08-17T15:43:00",
                    "2015-08-17T15:44:00",
                    "2015-08-17T15:45:00",
                    "2015-08-17T15:46:00",
                    "2015-08-17T15:47:00",
                    "2015-08-17T15:48:00",
                    "2015-08-17T15:49:00",
                    "2015-08-17T15:50:00",
                    "2015-08-17T15:51:00",
                    "2015-08-17T15:52:00",
                    "2015-08-17T15:53:00",
                    "2015-08-17T15:54:00",
                    "2015-08-17T15:55:00",
                    "2015-08-17T15:56:00",
                    "2015-08-17T15:57:00",
                    "2015-08-17T15:58:00",
                    "2015-08-17T15:59:00",
                    "2015-08-17T16:00:00",
                    "2015-08-17T16:01:00",
                    "2015-08-17T16:02:00",
                    "2015-08-17T16:03:00",
                    "2015-08-17T16:04:00",
                    "2015-08-17T16:05:00",
                    "2015-08-17T16:06:00",
                    "2015-08-17T16:07:00",
                    "2015-08-17T16:08:00",
                    "2015-08-17T16:09:00",
                    "2015-08-17T16:10:00",
                    "2015-08-17T16:11:00",
                    "2015-08-17T16:12:00",
                    "2015-08-17T16:13:00",
                    "2015-08-17T16:14:00",
                    "2015-08-17T16:15:00",
                    "2015-08-17T16:16:00",
                    "2015-08-17T16:17:00",
                    "2015-08-17T16:18:00",
                    "2015-08-17T16:19:00",
                    "2015-08-17T16:20:00",
                    "2015-08-17T16:21:00",
                    "2015-08-17T16:22:00",
                    "2015-08-17T16:23:00",
                    "2015-08-17T16:24:00",
                    "2015-08-17T16:25:00",
                    "2015-08-17T16:26:00",
                    "2015-08-17T16:27:00",
                    "2015-08-17T16:28:00",
                    "2015-08-17T16:29:00",
                    "2015-08-17T16:30:00",
                    "2015-08-17T16:31:00",
                    "2015-08-17T16:32:00",
                    "2015-08-17T16:33:00",
                    "2015-08-17T16:34:00",
                    "2015-08-17T16:35:00",
                    "2015-08-17T16:36:00",
                    "2015-08-17T16:37:00",
                    "2015-08-17T16:38:00",
                    "2015-08-17T16:39:00",
                    "2015-08-17T16:40:00",
                    "2015-08-17T16:41:00",
                    "2015-08-17T16:42:00",
                    "2015-08-17T16:43:00",
                    "2015-08-17T16:44:00",
                    "2015-08-17T16:45:00",
                    "2015-08-17T16:46:00",
                    "2015-08-17T16:47:00",
                    "2015-08-17T16:48:00",
                    "2015-08-17T16:49:00",
                    "2015-08-17T16:50:00",
                    "2015-08-17T16:51:00",
                    "2015-08-17T16:52:00",
                    "2015-08-17T16:53:00",
                    "2015-08-17T16:54:00",
                    "2015-08-17T16:55:00",
                    "2015-08-17T16:56:00",
                    "2015-08-17T16:57:00",
                    "2015-08-17T16:58:00",
                    "2015-08-17T16:59:00",
                    "2015-08-17T17:00:00",
                    "2015-08-17T17:01:00",
                    "2015-08-17T17:02:00",
                    "2015-08-17T17:03:00",
                    "2015-08-17T17:04:00",
                    "2015-08-17T17:05:00",
                    "2015-08-17T17:06:00",
                    "2015-08-17T17:07:00",
                    "2015-08-17T17:08:00",
                    "2015-08-17T17:09:00",
                    "2015-08-17T17:10:00",
                    "2015-08-17T17:11:00",
                    "2015-08-17T17:12:00",
                    "2015-08-17T17:13:00",
                    "2015-08-17T17:14:00",
                    "2015-08-17T17:15:00",
                    "2015-08-17T17:16:00",
                    "2015-08-17T17:17:00",
                    "2015-08-17T17:18:00",
                    "2015-08-17T17:19:00",
                    "2015-08-17T17:20:00",
                    "2015-08-17T17:21:00",
                    "2015-08-17T17:22:00",
                    "2015-08-17T17:23:00",
                    "2015-08-17T17:24:00",
                    "2015-08-17T17:25:00",
                    "2015-08-17T17:26:00",
                    "2015-08-17T17:27:00",
                    "2015-08-17T17:28:00",
                    "2015-08-17T17:29:00",
                    "2015-08-17T17:30:00",
                    "2015-08-17T17:31:00",
                    "2015-08-17T17:32:00",
                    "2015-08-17T17:33:00",
                    "2015-08-17T17:34:00",
                    "2015-08-17T17:35:00",
                    "2015-08-17T17:36:00",
                    "2015-08-17T17:37:00",
                    "2015-08-17T17:38:00",
                    "2015-08-17T17:39:00",
                    "2015-08-17T17:40:00",
                    "2015-08-17T17:41:00",
                    "2015-08-17T17:42:00",
                    "2015-08-17T17:43:00",
                    "2015-08-17T17:44:00",
                    "2015-08-17T17:45:00",
                    "2015-08-17T17:46:00",
                    "2015-08-17T17:47:00",
                    "2015-08-17T17:48:00",
                    "2015-08-17T17:49:00",
                    "2015-08-17T17:50:00",
                    "2015-08-17T17:51:00",
                    "2015-08-17T17:52:00",
                    "2015-08-17T17:53:00",
                    "2015-08-17T17:54:00",
                    "2015-08-17T17:55:00",
                    "2015-08-17T17:56:00",
                    "2015-08-17T17:57:00",
                    "2015-08-17T17:58:00",
                    "2015-08-17T17:59:00",
                    "2015-08-17T18:00:00",
                    "2015-08-17T18:01:00",
                    "2015-08-17T18:02:00",
                    "2015-08-17T18:03:00",
                    "2015-08-17T18:04:00",
                    "2015-08-17T18:05:00",
                    "2015-08-17T18:06:00",
                    "2015-08-17T18:07:00",
                    "2015-08-17T18:08:00",
                    "2015-08-17T18:09:00",
                    "2015-08-17T18:10:00",
                    "2015-08-17T18:11:00",
                    "2015-08-17T18:12:00",
                    "2015-08-17T18:13:00",
                    "2015-08-17T18:14:00",
                    "2015-08-17T18:15:00",
                    "2015-08-17T18:16:00",
                    "2015-08-17T18:17:00",
                    "2015-08-17T18:18:00",
                    "2015-08-17T18:19:00",
                    "2015-08-17T18:20:00",
                    "2015-08-17T18:21:00",
                    "2015-08-17T18:22:00",
                    "2015-08-17T18:23:00",
                    "2015-08-17T18:24:00",
                    "2015-08-17T18:25:00",
                    "2015-08-17T18:26:00",
                    "2015-08-17T18:27:00",
                    "2015-08-17T18:28:00",
                    "2015-08-17T18:29:00",
                    "2015-08-17T18:30:00",
                    "2015-08-17T18:31:00",
                    "2015-08-17T18:32:00",
                    "2015-08-17T18:33:00",
                    "2015-08-17T18:34:00",
                    "2015-08-17T18:35:00",
                    "2015-08-17T18:36:00",
                    "2015-08-17T18:37:00",
                    "2015-08-17T18:38:00",
                    "2015-08-17T18:39:00",
                    "2015-08-17T18:40:00",
                    "2015-08-17T18:41:00",
                    "2015-08-17T18:42:00",
                    "2015-08-17T18:43:00",
                    "2015-08-17T18:44:00",
                    "2015-08-17T18:45:00",
                    "2015-08-17T18:46:00",
                    "2015-08-17T18:47:00",
                    "2015-08-17T18:48:00",
                    "2015-08-17T18:49:00",
                    "2015-08-17T18:50:00",
                    "2015-08-17T18:51:00",
                    "2015-08-17T18:52:00",
                    "2015-08-17T18:53:00",
                    "2015-08-17T18:54:00"
                  ],
                  "xaxis": "x",
                  "y": [
                    41,
                    40,
                    42,
                    45,
                    42,
                    41,
                    47,
                    44,
                    45,
                    42,
                    41,
                    46,
                    42,
                    44,
                    42,
                    42,
                    37,
                    45,
                    44,
                    45,
                    44,
                    44,
                    41,
                    36,
                    42,
                    47,
                    46,
                    41,
                    44,
                    42,
                    42,
                    42,
                    42,
                    42,
                    42,
                    42,
                    42,
                    37,
                    39,
                    39,
                    38,
                    38,
                    44,
                    42,
                    49,
                    50,
                    45,
                    48,
                    47,
                    49,
                    48,
                    46,
                    37,
                    41,
                    44,
                    43,
                    43,
                    43,
                    40,
                    40,
                    40,
                    39,
                    40,
                    39,
                    37,
                    38,
                    38,
                    37,
                    37,
                    35,
                    36,
                    36,
                    38,
                    37,
                    35,
                    34,
                    35,
                    36,
                    36,
                    37,
                    36,
                    35,
                    36,
                    36,
                    36,
                    36,
                    36,
                    37,
                    36,
                    36,
                    35,
                    37,
                    38,
                    35,
                    35,
                    36,
                    36,
                    36,
                    36,
                    36,
                    38,
                    38,
                    36,
                    38,
                    37,
                    37,
                    37,
                    38,
                    37,
                    36,
                    35,
                    39,
                    39,
                    43,
                    42,
                    39,
                    39,
                    38,
                    36,
                    39,
                    41,
                    38,
                    37,
                    40,
                    38,
                    38,
                    40,
                    45,
                    46,
                    50,
                    53,
                    53,
                    50,
                    49,
                    51,
                    49,
                    50,
                    47,
                    50,
                    50,
                    49,
                    53,
                    55,
                    52,
                    56,
                    51,
                    52,
                    51,
                    55,
                    48,
                    51,
                    50,
                    55,
                    60,
                    54,
                    57,
                    54,
                    52,
                    56,
                    57,
                    50,
                    62,
                    57,
                    56,
                    58,
                    56,
                    57,
                    54,
                    54,
                    56,
                    58,
                    51,
                    56,
                    64,
                    61,
                    59,
                    53,
                    57,
                    55,
                    55,
                    54,
                    59,
                    58,
                    52,
                    60,
                    48,
                    51,
                    57,
                    56,
                    54,
                    55,
                    46,
                    51,
                    61,
                    53,
                    52,
                    50,
                    57,
                    47,
                    53,
                    52,
                    49,
                    47,
                    49,
                    52,
                    54,
                    42,
                    56,
                    53,
                    52,
                    54,
                    51,
                    55,
                    54,
                    54,
                    51,
                    53,
                    48,
                    49,
                    54,
                    52,
                    51,
                    64,
                    64,
                    55,
                    54
                  ],
                  "yaxis": "y"
                }
              ],
              "layout": {
                "font": {
                  "color": "white"
                },
                "height": 600,
                "legend": {
                  "title": {
                    "text": "variable"
                  },
                  "tracegroupgap": 0
                },
                "margin": {
                  "t": 60
                },
                "paper_bgcolor": "black",
                "plot_bgcolor": "black",
                "template": {
                  "data": {
                    "bar": [
                      {
                        "error_x": {
                          "color": "#2a3f5f"
                        },
                        "error_y": {
                          "color": "#2a3f5f"
                        },
                        "marker": {
                          "line": {
                            "color": "#E5ECF6",
                            "width": 0.5
                          },
                          "pattern": {
                            "fillmode": "overlay",
                            "size": 10,
                            "solidity": 0.2
                          }
                        },
                        "type": "bar"
                      }
                    ],
                    "barpolar": [
                      {
                        "marker": {
                          "line": {
                            "color": "#E5ECF6",
                            "width": 0.5
                          },
                          "pattern": {
                            "fillmode": "overlay",
                            "size": 10,
                            "solidity": 0.2
                          }
                        },
                        "type": "barpolar"
                      }
                    ],
                    "carpet": [
                      {
                        "aaxis": {
                          "endlinecolor": "#2a3f5f",
                          "gridcolor": "white",
                          "linecolor": "white",
                          "minorgridcolor": "white",
                          "startlinecolor": "#2a3f5f"
                        },
                        "baxis": {
                          "endlinecolor": "#2a3f5f",
                          "gridcolor": "white",
                          "linecolor": "white",
                          "minorgridcolor": "white",
                          "startlinecolor": "#2a3f5f"
                        },
                        "type": "carpet"
                      }
                    ],
                    "choropleth": [
                      {
                        "colorbar": {
                          "outlinewidth": 0,
                          "ticks": ""
                        },
                        "type": "choropleth"
                      }
                    ],
                    "contour": [
                      {
                        "colorbar": {
                          "outlinewidth": 0,
                          "ticks": ""
                        },
                        "colorscale": [
                          [
                            0,
                            "#0d0887"
                          ],
                          [
                            0.1111111111111111,
                            "#46039f"
                          ],
                          [
                            0.2222222222222222,
                            "#7201a8"
                          ],
                          [
                            0.3333333333333333,
                            "#9c179e"
                          ],
                          [
                            0.4444444444444444,
                            "#bd3786"
                          ],
                          [
                            0.5555555555555556,
                            "#d8576b"
                          ],
                          [
                            0.6666666666666666,
                            "#ed7953"
                          ],
                          [
                            0.7777777777777778,
                            "#fb9f3a"
                          ],
                          [
                            0.8888888888888888,
                            "#fdca26"
                          ],
                          [
                            1,
                            "#f0f921"
                          ]
                        ],
                        "type": "contour"
                      }
                    ],
                    "contourcarpet": [
                      {
                        "colorbar": {
                          "outlinewidth": 0,
                          "ticks": ""
                        },
                        "type": "contourcarpet"
                      }
                    ],
                    "heatmap": [
                      {
                        "colorbar": {
                          "outlinewidth": 0,
                          "ticks": ""
                        },
                        "colorscale": [
                          [
                            0,
                            "#0d0887"
                          ],
                          [
                            0.1111111111111111,
                            "#46039f"
                          ],
                          [
                            0.2222222222222222,
                            "#7201a8"
                          ],
                          [
                            0.3333333333333333,
                            "#9c179e"
                          ],
                          [
                            0.4444444444444444,
                            "#bd3786"
                          ],
                          [
                            0.5555555555555556,
                            "#d8576b"
                          ],
                          [
                            0.6666666666666666,
                            "#ed7953"
                          ],
                          [
                            0.7777777777777778,
                            "#fb9f3a"
                          ],
                          [
                            0.8888888888888888,
                            "#fdca26"
                          ],
                          [
                            1,
                            "#f0f921"
                          ]
                        ],
                        "type": "heatmap"
                      }
                    ],
                    "heatmapgl": [
                      {
                        "colorbar": {
                          "outlinewidth": 0,
                          "ticks": ""
                        },
                        "colorscale": [
                          [
                            0,
                            "#0d0887"
                          ],
                          [
                            0.1111111111111111,
                            "#46039f"
                          ],
                          [
                            0.2222222222222222,
                            "#7201a8"
                          ],
                          [
                            0.3333333333333333,
                            "#9c179e"
                          ],
                          [
                            0.4444444444444444,
                            "#bd3786"
                          ],
                          [
                            0.5555555555555556,
                            "#d8576b"
                          ],
                          [
                            0.6666666666666666,
                            "#ed7953"
                          ],
                          [
                            0.7777777777777778,
                            "#fb9f3a"
                          ],
                          [
                            0.8888888888888888,
                            "#fdca26"
                          ],
                          [
                            1,
                            "#f0f921"
                          ]
                        ],
                        "type": "heatmapgl"
                      }
                    ],
                    "histogram": [
                      {
                        "marker": {
                          "pattern": {
                            "fillmode": "overlay",
                            "size": 10,
                            "solidity": 0.2
                          }
                        },
                        "type": "histogram"
                      }
                    ],
                    "histogram2d": [
                      {
                        "colorbar": {
                          "outlinewidth": 0,
                          "ticks": ""
                        },
                        "colorscale": [
                          [
                            0,
                            "#0d0887"
                          ],
                          [
                            0.1111111111111111,
                            "#46039f"
                          ],
                          [
                            0.2222222222222222,
                            "#7201a8"
                          ],
                          [
                            0.3333333333333333,
                            "#9c179e"
                          ],
                          [
                            0.4444444444444444,
                            "#bd3786"
                          ],
                          [
                            0.5555555555555556,
                            "#d8576b"
                          ],
                          [
                            0.6666666666666666,
                            "#ed7953"
                          ],
                          [
                            0.7777777777777778,
                            "#fb9f3a"
                          ],
                          [
                            0.8888888888888888,
                            "#fdca26"
                          ],
                          [
                            1,
                            "#f0f921"
                          ]
                        ],
                        "type": "histogram2d"
                      }
                    ],
                    "histogram2dcontour": [
                      {
                        "colorbar": {
                          "outlinewidth": 0,
                          "ticks": ""
                        },
                        "colorscale": [
                          [
                            0,
                            "#0d0887"
                          ],
                          [
                            0.1111111111111111,
                            "#46039f"
                          ],
                          [
                            0.2222222222222222,
                            "#7201a8"
                          ],
                          [
                            0.3333333333333333,
                            "#9c179e"
                          ],
                          [
                            0.4444444444444444,
                            "#bd3786"
                          ],
                          [
                            0.5555555555555556,
                            "#d8576b"
                          ],
                          [
                            0.6666666666666666,
                            "#ed7953"
                          ],
                          [
                            0.7777777777777778,
                            "#fb9f3a"
                          ],
                          [
                            0.8888888888888888,
                            "#fdca26"
                          ],
                          [
                            1,
                            "#f0f921"
                          ]
                        ],
                        "type": "histogram2dcontour"
                      }
                    ],
                    "mesh3d": [
                      {
                        "colorbar": {
                          "outlinewidth": 0,
                          "ticks": ""
                        },
                        "type": "mesh3d"
                      }
                    ],
                    "parcoords": [
                      {
                        "line": {
                          "colorbar": {
                            "outlinewidth": 0,
                            "ticks": ""
                          }
                        },
                        "type": "parcoords"
                      }
                    ],
                    "pie": [
                      {
                        "automargin": true,
                        "type": "pie"
                      }
                    ],
                    "scatter": [
                      {
                        "fillpattern": {
                          "fillmode": "overlay",
                          "size": 10,
                          "solidity": 0.2
                        },
                        "type": "scatter"
                      }
                    ],
                    "scatter3d": [
                      {
                        "line": {
                          "colorbar": {
                            "outlinewidth": 0,
                            "ticks": ""
                          }
                        },
                        "marker": {
                          "colorbar": {
                            "outlinewidth": 0,
                            "ticks": ""
                          }
                        },
                        "type": "scatter3d"
                      }
                    ],
                    "scattercarpet": [
                      {
                        "marker": {
                          "colorbar": {
                            "outlinewidth": 0,
                            "ticks": ""
                          }
                        },
                        "type": "scattercarpet"
                      }
                    ],
                    "scattergeo": [
                      {
                        "marker": {
                          "colorbar": {
                            "outlinewidth": 0,
                            "ticks": ""
                          }
                        },
                        "type": "scattergeo"
                      }
                    ],
                    "scattergl": [
                      {
                        "marker": {
                          "colorbar": {
                            "outlinewidth": 0,
                            "ticks": ""
                          }
                        },
                        "type": "scattergl"
                      }
                    ],
                    "scattermapbox": [
                      {
                        "marker": {
                          "colorbar": {
                            "outlinewidth": 0,
                            "ticks": ""
                          }
                        },
                        "type": "scattermapbox"
                      }
                    ],
                    "scatterpolar": [
                      {
                        "marker": {
                          "colorbar": {
                            "outlinewidth": 0,
                            "ticks": ""
                          }
                        },
                        "type": "scatterpolar"
                      }
                    ],
                    "scatterpolargl": [
                      {
                        "marker": {
                          "colorbar": {
                            "outlinewidth": 0,
                            "ticks": ""
                          }
                        },
                        "type": "scatterpolargl"
                      }
                    ],
                    "scatterternary": [
                      {
                        "marker": {
                          "colorbar": {
                            "outlinewidth": 0,
                            "ticks": ""
                          }
                        },
                        "type": "scatterternary"
                      }
                    ],
                    "surface": [
                      {
                        "colorbar": {
                          "outlinewidth": 0,
                          "ticks": ""
                        },
                        "colorscale": [
                          [
                            0,
                            "#0d0887"
                          ],
                          [
                            0.1111111111111111,
                            "#46039f"
                          ],
                          [
                            0.2222222222222222,
                            "#7201a8"
                          ],
                          [
                            0.3333333333333333,
                            "#9c179e"
                          ],
                          [
                            0.4444444444444444,
                            "#bd3786"
                          ],
                          [
                            0.5555555555555556,
                            "#d8576b"
                          ],
                          [
                            0.6666666666666666,
                            "#ed7953"
                          ],
                          [
                            0.7777777777777778,
                            "#fb9f3a"
                          ],
                          [
                            0.8888888888888888,
                            "#fdca26"
                          ],
                          [
                            1,
                            "#f0f921"
                          ]
                        ],
                        "type": "surface"
                      }
                    ],
                    "table": [
                      {
                        "cells": {
                          "fill": {
                            "color": "#EBF0F8"
                          },
                          "line": {
                            "color": "white"
                          }
                        },
                        "header": {
                          "fill": {
                            "color": "#C8D4E3"
                          },
                          "line": {
                            "color": "white"
                          }
                        },
                        "type": "table"
                      }
                    ]
                  },
                  "layout": {
                    "annotationdefaults": {
                      "arrowcolor": "#2a3f5f",
                      "arrowhead": 0,
                      "arrowwidth": 1
                    },
                    "autotypenumbers": "strict",
                    "coloraxis": {
                      "colorbar": {
                        "outlinewidth": 0,
                        "ticks": ""
                      }
                    },
                    "colorscale": {
                      "diverging": [
                        [
                          0,
                          "#8e0152"
                        ],
                        [
                          0.1,
                          "#c51b7d"
                        ],
                        [
                          0.2,
                          "#de77ae"
                        ],
                        [
                          0.3,
                          "#f1b6da"
                        ],
                        [
                          0.4,
                          "#fde0ef"
                        ],
                        [
                          0.5,
                          "#f7f7f7"
                        ],
                        [
                          0.6,
                          "#e6f5d0"
                        ],
                        [
                          0.7,
                          "#b8e186"
                        ],
                        [
                          0.8,
                          "#7fbc41"
                        ],
                        [
                          0.9,
                          "#4d9221"
                        ],
                        [
                          1,
                          "#276419"
                        ]
                      ],
                      "sequential": [
                        [
                          0,
                          "#0d0887"
                        ],
                        [
                          0.1111111111111111,
                          "#46039f"
                        ],
                        [
                          0.2222222222222222,
                          "#7201a8"
                        ],
                        [
                          0.3333333333333333,
                          "#9c179e"
                        ],
                        [
                          0.4444444444444444,
                          "#bd3786"
                        ],
                        [
                          0.5555555555555556,
                          "#d8576b"
                        ],
                        [
                          0.6666666666666666,
                          "#ed7953"
                        ],
                        [
                          0.7777777777777778,
                          "#fb9f3a"
                        ],
                        [
                          0.8888888888888888,
                          "#fdca26"
                        ],
                        [
                          1,
                          "#f0f921"
                        ]
                      ],
                      "sequentialminus": [
                        [
                          0,
                          "#0d0887"
                        ],
                        [
                          0.1111111111111111,
                          "#46039f"
                        ],
                        [
                          0.2222222222222222,
                          "#7201a8"
                        ],
                        [
                          0.3333333333333333,
                          "#9c179e"
                        ],
                        [
                          0.4444444444444444,
                          "#bd3786"
                        ],
                        [
                          0.5555555555555556,
                          "#d8576b"
                        ],
                        [
                          0.6666666666666666,
                          "#ed7953"
                        ],
                        [
                          0.7777777777777778,
                          "#fb9f3a"
                        ],
                        [
                          0.8888888888888888,
                          "#fdca26"
                        ],
                        [
                          1,
                          "#f0f921"
                        ]
                      ]
                    },
                    "colorway": [
                      "#636efa",
                      "#EF553B",
                      "#00cc96",
                      "#ab63fa",
                      "#FFA15A",
                      "#19d3f3",
                      "#FF6692",
                      "#B6E880",
                      "#FF97FF",
                      "#FECB52"
                    ],
                    "font": {
                      "color": "#2a3f5f"
                    },
                    "geo": {
                      "bgcolor": "white",
                      "lakecolor": "white",
                      "landcolor": "#E5ECF6",
                      "showlakes": true,
                      "showland": true,
                      "subunitcolor": "white"
                    },
                    "hoverlabel": {
                      "align": "left"
                    },
                    "hovermode": "closest",
                    "mapbox": {
                      "style": "light"
                    },
                    "paper_bgcolor": "white",
                    "plot_bgcolor": "#E5ECF6",
                    "polar": {
                      "angularaxis": {
                        "gridcolor": "white",
                        "linecolor": "white",
                        "ticks": ""
                      },
                      "bgcolor": "#E5ECF6",
                      "radialaxis": {
                        "gridcolor": "white",
                        "linecolor": "white",
                        "ticks": ""
                      }
                    },
                    "scene": {
                      "xaxis": {
                        "backgroundcolor": "#E5ECF6",
                        "gridcolor": "white",
                        "gridwidth": 2,
                        "linecolor": "white",
                        "showbackground": true,
                        "ticks": "",
                        "zerolinecolor": "white"
                      },
                      "yaxis": {
                        "backgroundcolor": "#E5ECF6",
                        "gridcolor": "white",
                        "gridwidth": 2,
                        "linecolor": "white",
                        "showbackground": true,
                        "ticks": "",
                        "zerolinecolor": "white"
                      },
                      "zaxis": {
                        "backgroundcolor": "#E5ECF6",
                        "gridcolor": "white",
                        "gridwidth": 2,
                        "linecolor": "white",
                        "showbackground": true,
                        "ticks": "",
                        "zerolinecolor": "white"
                      }
                    },
                    "shapedefaults": {
                      "line": {
                        "color": "#2a3f5f"
                      }
                    },
                    "ternary": {
                      "aaxis": {
                        "gridcolor": "white",
                        "linecolor": "white",
                        "ticks": ""
                      },
                      "baxis": {
                        "gridcolor": "white",
                        "linecolor": "white",
                        "ticks": ""
                      },
                      "bgcolor": "#E5ECF6",
                      "caxis": {
                        "gridcolor": "white",
                        "linecolor": "white",
                        "ticks": ""
                      }
                    },
                    "title": {
                      "x": 0.05
                    },
                    "xaxis": {
                      "automargin": true,
                      "gridcolor": "white",
                      "linecolor": "white",
                      "ticks": "",
                      "title": {
                        "standoff": 15
                      },
                      "zerolinecolor": "white",
                      "zerolinewidth": 2
                    },
                    "yaxis": {
                      "automargin": true,
                      "gridcolor": "white",
                      "linecolor": "white",
                      "ticks": "",
                      "title": {
                        "standoff": 15
                      },
                      "zerolinecolor": "white",
                      "zerolinewidth": 2
                    }
                  }
                },
                "title": {
                  "text": "Lifetouch Respiration Rate",
                  "x": 0.5,
                  "xanchor": "center",
                  "y": 0.9,
                  "yanchor": "top"
                },
                "width": 900,
                "xaxis": {
                  "anchor": "y",
                  "domain": [
                    0,
                    1
                  ],
                  "gridcolor": "gray",
                  "gridwidth": 1,
                  "showgrid": true,
                  "title": {
                    "text": "Timestamp (GMT)"
                  }
                },
                "yaxis": {
                  "anchor": "x",
                  "domain": [
                    0,
                    1
                  ],
                  "gridcolor": "gray",
                  "gridwidth": 1,
                  "showgrid": true,
                  "title": {
                    "text": "value"
                  }
                }
              }
            }
          },
          "metadata": {},
          "output_type": "display_data"
        }
      ],
      "source": [
        "#Lifetouch Respiration Rate\n",
        "\n",
        "fig = px.line(df['Lifetouch Respiration Rate'], width=900, height=600)\n",
        "\n",
        "# Set the background color to yellow\n",
        "fig.update_layout(\n",
        "    plot_bgcolor='black',\n",
        "    paper_bgcolor='black',\n",
        "    font=dict(color='white')\n",
        ")\n",
        "\n",
        "# Set the line color to blue\n",
        "fig.update_traces(line_color='red')\n",
        "\n",
        "# Show grid lines\n",
        "fig.update_layout(\n",
        "    xaxis=dict(showgrid=True, gridcolor='gray', gridwidth=1),\n",
        "    yaxis=dict(showgrid=True, gridcolor='gray', gridwidth=1),\n",
        "    title={\n",
        "        'text': \"Lifetouch Respiration Rate\",\n",
        "        'y':0.9,\n",
        "        'x':0.5,\n",
        "        'xanchor': 'center',\n",
        "        'yanchor': 'top'\n",
        "    }\n",
        ")\n",
        "\n",
        "fig.show()"
      ]
    },
    {
      "cell_type": "code",
      "execution_count": null,
      "metadata": {
        "id": "wfkODylKZrLm",
        "outputId": "c1e541fb-3b2e-4af1-d9cc-6e1bee2b1dbc"
      },
      "outputs": [
        {
          "data": {
            "application/vnd.plotly.v1+json": {
              "config": {
                "plotlyServerURL": "https://plot.ly"
              },
              "data": [
                {
                  "hovertemplate": "variable=Oximeter SpO2<br>Timestamp (GMT)=%{x}<br>value=%{y}<extra></extra>",
                  "legendgroup": "Oximeter SpO2",
                  "line": {
                    "color": "red",
                    "dash": "solid"
                  },
                  "marker": {
                    "symbol": "circle"
                  },
                  "mode": "lines",
                  "name": "Oximeter SpO2",
                  "orientation": "v",
                  "showlegend": true,
                  "type": "scatter",
                  "x": [
                    "2015-08-17T15:09:00",
                    "2015-08-17T15:10:00",
                    "2015-08-17T15:11:00",
                    "2015-08-17T15:12:00",
                    "2015-08-17T15:13:00",
                    "2015-08-17T15:14:00",
                    "2015-08-17T15:15:00",
                    "2015-08-17T15:16:00",
                    "2015-08-17T15:17:00",
                    "2015-08-17T15:18:00",
                    "2015-08-17T15:19:00",
                    "2015-08-17T15:20:00",
                    "2015-08-17T15:21:00",
                    "2015-08-17T15:22:00",
                    "2015-08-17T15:23:00",
                    "2015-08-17T15:24:00",
                    "2015-08-17T15:25:00",
                    "2015-08-17T15:26:00",
                    "2015-08-17T15:27:00",
                    "2015-08-17T15:28:00",
                    "2015-08-17T15:29:00",
                    "2015-08-17T15:30:00",
                    "2015-08-17T15:31:00",
                    "2015-08-17T15:32:00",
                    "2015-08-17T15:33:00",
                    "2015-08-17T15:34:00",
                    "2015-08-17T15:35:00",
                    "2015-08-17T15:36:00",
                    "2015-08-17T15:37:00",
                    "2015-08-17T15:38:00",
                    "2015-08-17T15:39:00",
                    "2015-08-17T15:40:00",
                    "2015-08-17T15:41:00",
                    "2015-08-17T15:42:00",
                    "2015-08-17T15:43:00",
                    "2015-08-17T15:44:00",
                    "2015-08-17T15:45:00",
                    "2015-08-17T15:46:00",
                    "2015-08-17T15:47:00",
                    "2015-08-17T15:48:00",
                    "2015-08-17T15:49:00",
                    "2015-08-17T15:50:00",
                    "2015-08-17T15:51:00",
                    "2015-08-17T15:52:00",
                    "2015-08-17T15:53:00",
                    "2015-08-17T15:54:00",
                    "2015-08-17T15:55:00",
                    "2015-08-17T15:56:00",
                    "2015-08-17T15:57:00",
                    "2015-08-17T15:58:00",
                    "2015-08-17T15:59:00",
                    "2015-08-17T16:00:00",
                    "2015-08-17T16:01:00",
                    "2015-08-17T16:02:00",
                    "2015-08-17T16:03:00",
                    "2015-08-17T16:04:00",
                    "2015-08-17T16:05:00",
                    "2015-08-17T16:06:00",
                    "2015-08-17T16:07:00",
                    "2015-08-17T16:08:00",
                    "2015-08-17T16:09:00",
                    "2015-08-17T16:10:00",
                    "2015-08-17T16:11:00",
                    "2015-08-17T16:12:00",
                    "2015-08-17T16:13:00",
                    "2015-08-17T16:14:00",
                    "2015-08-17T16:15:00",
                    "2015-08-17T16:16:00",
                    "2015-08-17T16:17:00",
                    "2015-08-17T16:18:00",
                    "2015-08-17T16:19:00",
                    "2015-08-17T16:20:00",
                    "2015-08-17T16:21:00",
                    "2015-08-17T16:22:00",
                    "2015-08-17T16:23:00",
                    "2015-08-17T16:24:00",
                    "2015-08-17T16:25:00",
                    "2015-08-17T16:26:00",
                    "2015-08-17T16:27:00",
                    "2015-08-17T16:28:00",
                    "2015-08-17T16:29:00",
                    "2015-08-17T16:30:00",
                    "2015-08-17T16:31:00",
                    "2015-08-17T16:32:00",
                    "2015-08-17T16:33:00",
                    "2015-08-17T16:34:00",
                    "2015-08-17T16:35:00",
                    "2015-08-17T16:36:00",
                    "2015-08-17T16:37:00",
                    "2015-08-17T16:38:00",
                    "2015-08-17T16:39:00",
                    "2015-08-17T16:40:00",
                    "2015-08-17T16:41:00",
                    "2015-08-17T16:42:00",
                    "2015-08-17T16:43:00",
                    "2015-08-17T16:44:00",
                    "2015-08-17T16:45:00",
                    "2015-08-17T16:46:00",
                    "2015-08-17T16:47:00",
                    "2015-08-17T16:48:00",
                    "2015-08-17T16:49:00",
                    "2015-08-17T16:50:00",
                    "2015-08-17T16:51:00",
                    "2015-08-17T16:52:00",
                    "2015-08-17T16:53:00",
                    "2015-08-17T16:54:00",
                    "2015-08-17T16:55:00",
                    "2015-08-17T16:56:00",
                    "2015-08-17T16:57:00",
                    "2015-08-17T16:58:00",
                    "2015-08-17T16:59:00",
                    "2015-08-17T17:00:00",
                    "2015-08-17T17:01:00",
                    "2015-08-17T17:02:00",
                    "2015-08-17T17:03:00",
                    "2015-08-17T17:04:00",
                    "2015-08-17T17:05:00",
                    "2015-08-17T17:06:00",
                    "2015-08-17T17:07:00",
                    "2015-08-17T17:08:00",
                    "2015-08-17T17:09:00",
                    "2015-08-17T17:10:00",
                    "2015-08-17T17:11:00",
                    "2015-08-17T17:12:00",
                    "2015-08-17T17:13:00",
                    "2015-08-17T17:14:00",
                    "2015-08-17T17:15:00",
                    "2015-08-17T17:16:00",
                    "2015-08-17T17:17:00",
                    "2015-08-17T17:18:00",
                    "2015-08-17T17:19:00",
                    "2015-08-17T17:20:00",
                    "2015-08-17T17:21:00",
                    "2015-08-17T17:22:00",
                    "2015-08-17T17:23:00",
                    "2015-08-17T17:24:00",
                    "2015-08-17T17:25:00",
                    "2015-08-17T17:26:00",
                    "2015-08-17T17:27:00",
                    "2015-08-17T17:28:00",
                    "2015-08-17T17:29:00",
                    "2015-08-17T17:30:00",
                    "2015-08-17T17:31:00",
                    "2015-08-17T17:32:00",
                    "2015-08-17T17:33:00",
                    "2015-08-17T17:34:00",
                    "2015-08-17T17:35:00",
                    "2015-08-17T17:36:00",
                    "2015-08-17T17:37:00",
                    "2015-08-17T17:38:00",
                    "2015-08-17T17:39:00",
                    "2015-08-17T17:40:00",
                    "2015-08-17T17:41:00",
                    "2015-08-17T17:42:00",
                    "2015-08-17T17:43:00",
                    "2015-08-17T17:44:00",
                    "2015-08-17T17:45:00",
                    "2015-08-17T17:46:00",
                    "2015-08-17T17:47:00",
                    "2015-08-17T17:48:00",
                    "2015-08-17T17:49:00",
                    "2015-08-17T17:50:00",
                    "2015-08-17T17:51:00",
                    "2015-08-17T17:52:00",
                    "2015-08-17T17:53:00",
                    "2015-08-17T17:54:00",
                    "2015-08-17T17:55:00",
                    "2015-08-17T17:56:00",
                    "2015-08-17T17:57:00",
                    "2015-08-17T17:58:00",
                    "2015-08-17T17:59:00",
                    "2015-08-17T18:00:00",
                    "2015-08-17T18:01:00",
                    "2015-08-17T18:02:00",
                    "2015-08-17T18:03:00",
                    "2015-08-17T18:04:00",
                    "2015-08-17T18:05:00",
                    "2015-08-17T18:06:00",
                    "2015-08-17T18:07:00",
                    "2015-08-17T18:08:00",
                    "2015-08-17T18:09:00",
                    "2015-08-17T18:10:00",
                    "2015-08-17T18:11:00",
                    "2015-08-17T18:12:00",
                    "2015-08-17T18:13:00",
                    "2015-08-17T18:14:00",
                    "2015-08-17T18:15:00",
                    "2015-08-17T18:16:00",
                    "2015-08-17T18:17:00",
                    "2015-08-17T18:18:00",
                    "2015-08-17T18:19:00",
                    "2015-08-17T18:20:00",
                    "2015-08-17T18:21:00",
                    "2015-08-17T18:22:00",
                    "2015-08-17T18:23:00",
                    "2015-08-17T18:24:00",
                    "2015-08-17T18:25:00",
                    "2015-08-17T18:26:00",
                    "2015-08-17T18:27:00",
                    "2015-08-17T18:28:00",
                    "2015-08-17T18:29:00",
                    "2015-08-17T18:30:00",
                    "2015-08-17T18:31:00",
                    "2015-08-17T18:32:00",
                    "2015-08-17T18:33:00",
                    "2015-08-17T18:34:00",
                    "2015-08-17T18:35:00",
                    "2015-08-17T18:36:00",
                    "2015-08-17T18:37:00",
                    "2015-08-17T18:38:00",
                    "2015-08-17T18:39:00",
                    "2015-08-17T18:40:00",
                    "2015-08-17T18:41:00",
                    "2015-08-17T18:42:00",
                    "2015-08-17T18:43:00",
                    "2015-08-17T18:44:00",
                    "2015-08-17T18:45:00",
                    "2015-08-17T18:46:00",
                    "2015-08-17T18:47:00",
                    "2015-08-17T18:48:00",
                    "2015-08-17T18:49:00",
                    "2015-08-17T18:50:00",
                    "2015-08-17T18:51:00",
                    "2015-08-17T18:52:00",
                    "2015-08-17T18:53:00",
                    "2015-08-17T18:54:00"
                  ],
                  "xaxis": "x",
                  "y": [
                    92,
                    92,
                    89,
                    93,
                    94,
                    92,
                    92,
                    92,
                    94,
                    93,
                    93,
                    93,
                    94,
                    94,
                    95,
                    94,
                    94,
                    96,
                    95,
                    95,
                    95,
                    96,
                    96,
                    95,
                    96,
                    96,
                    95,
                    96,
                    96,
                    96,
                    94,
                    92,
                    -1,
                    98,
                    97,
                    96,
                    96,
                    94,
                    93,
                    95,
                    95,
                    94,
                    -1,
                    -1,
                    -1,
                    -1,
                    94,
                    94,
                    93,
                    93,
                    93,
                    93,
                    92,
                    92,
                    93,
                    93,
                    93,
                    93,
                    92,
                    92,
                    92,
                    92,
                    92,
                    92,
                    92,
                    92,
                    92,
                    92,
                    91,
                    92,
                    92,
                    92,
                    92,
                    92,
                    92,
                    92,
                    92,
                    92,
                    92,
                    92,
                    92,
                    92,
                    93,
                    92,
                    93,
                    93,
                    93,
                    93,
                    93,
                    94,
                    93,
                    93,
                    93,
                    93,
                    94,
                    93,
                    93,
                    93,
                    93,
                    93,
                    93,
                    94,
                    94,
                    94,
                    93,
                    94,
                    94,
                    94,
                    94,
                    93,
                    91,
                    93,
                    95,
                    94,
                    94,
                    96,
                    95,
                    94,
                    93,
                    93,
                    94,
                    93,
                    93,
                    94,
                    93,
                    -1,
                    94,
                    95,
                    96,
                    95,
                    95,
                    96,
                    -1,
                    95,
                    96,
                    96,
                    97,
                    97,
                    98,
                    97,
                    98,
                    96,
                    96,
                    96,
                    96,
                    -1,
                    95,
                    96,
                    95,
                    94,
                    -1,
                    -1,
                    -1,
                    -1,
                    96,
                    96,
                    96,
                    96,
                    96,
                    96,
                    95,
                    93,
                    96,
                    -1,
                    -1,
                    -1,
                    -1,
                    -1,
                    -1,
                    -1,
                    -1,
                    -1,
                    -1,
                    -1,
                    -1,
                    -1,
                    -1,
                    -1,
                    -1,
                    94,
                    94,
                    92,
                    91,
                    92,
                    93,
                    93,
                    93,
                    93,
                    93,
                    92,
                    93,
                    94,
                    96,
                    92,
                    94,
                    94,
                    -1,
                    -1,
                    -1,
                    -1,
                    -1,
                    -1,
                    -1,
                    -1,
                    -1,
                    -1,
                    -1,
                    -1,
                    95,
                    96,
                    97,
                    97,
                    98,
                    97,
                    98,
                    98,
                    95,
                    -1,
                    -1,
                    -1,
                    -1,
                    -1,
                    -1,
                    -1,
                    -1,
                    -1
                  ],
                  "yaxis": "y"
                }
              ],
              "layout": {
                "font": {
                  "color": "white"
                },
                "height": 600,
                "legend": {
                  "title": {
                    "text": "variable"
                  },
                  "tracegroupgap": 0
                },
                "margin": {
                  "t": 60
                },
                "paper_bgcolor": "black",
                "plot_bgcolor": "black",
                "template": {
                  "data": {
                    "bar": [
                      {
                        "error_x": {
                          "color": "#2a3f5f"
                        },
                        "error_y": {
                          "color": "#2a3f5f"
                        },
                        "marker": {
                          "line": {
                            "color": "#E5ECF6",
                            "width": 0.5
                          },
                          "pattern": {
                            "fillmode": "overlay",
                            "size": 10,
                            "solidity": 0.2
                          }
                        },
                        "type": "bar"
                      }
                    ],
                    "barpolar": [
                      {
                        "marker": {
                          "line": {
                            "color": "#E5ECF6",
                            "width": 0.5
                          },
                          "pattern": {
                            "fillmode": "overlay",
                            "size": 10,
                            "solidity": 0.2
                          }
                        },
                        "type": "barpolar"
                      }
                    ],
                    "carpet": [
                      {
                        "aaxis": {
                          "endlinecolor": "#2a3f5f",
                          "gridcolor": "white",
                          "linecolor": "white",
                          "minorgridcolor": "white",
                          "startlinecolor": "#2a3f5f"
                        },
                        "baxis": {
                          "endlinecolor": "#2a3f5f",
                          "gridcolor": "white",
                          "linecolor": "white",
                          "minorgridcolor": "white",
                          "startlinecolor": "#2a3f5f"
                        },
                        "type": "carpet"
                      }
                    ],
                    "choropleth": [
                      {
                        "colorbar": {
                          "outlinewidth": 0,
                          "ticks": ""
                        },
                        "type": "choropleth"
                      }
                    ],
                    "contour": [
                      {
                        "colorbar": {
                          "outlinewidth": 0,
                          "ticks": ""
                        },
                        "colorscale": [
                          [
                            0,
                            "#0d0887"
                          ],
                          [
                            0.1111111111111111,
                            "#46039f"
                          ],
                          [
                            0.2222222222222222,
                            "#7201a8"
                          ],
                          [
                            0.3333333333333333,
                            "#9c179e"
                          ],
                          [
                            0.4444444444444444,
                            "#bd3786"
                          ],
                          [
                            0.5555555555555556,
                            "#d8576b"
                          ],
                          [
                            0.6666666666666666,
                            "#ed7953"
                          ],
                          [
                            0.7777777777777778,
                            "#fb9f3a"
                          ],
                          [
                            0.8888888888888888,
                            "#fdca26"
                          ],
                          [
                            1,
                            "#f0f921"
                          ]
                        ],
                        "type": "contour"
                      }
                    ],
                    "contourcarpet": [
                      {
                        "colorbar": {
                          "outlinewidth": 0,
                          "ticks": ""
                        },
                        "type": "contourcarpet"
                      }
                    ],
                    "heatmap": [
                      {
                        "colorbar": {
                          "outlinewidth": 0,
                          "ticks": ""
                        },
                        "colorscale": [
                          [
                            0,
                            "#0d0887"
                          ],
                          [
                            0.1111111111111111,
                            "#46039f"
                          ],
                          [
                            0.2222222222222222,
                            "#7201a8"
                          ],
                          [
                            0.3333333333333333,
                            "#9c179e"
                          ],
                          [
                            0.4444444444444444,
                            "#bd3786"
                          ],
                          [
                            0.5555555555555556,
                            "#d8576b"
                          ],
                          [
                            0.6666666666666666,
                            "#ed7953"
                          ],
                          [
                            0.7777777777777778,
                            "#fb9f3a"
                          ],
                          [
                            0.8888888888888888,
                            "#fdca26"
                          ],
                          [
                            1,
                            "#f0f921"
                          ]
                        ],
                        "type": "heatmap"
                      }
                    ],
                    "heatmapgl": [
                      {
                        "colorbar": {
                          "outlinewidth": 0,
                          "ticks": ""
                        },
                        "colorscale": [
                          [
                            0,
                            "#0d0887"
                          ],
                          [
                            0.1111111111111111,
                            "#46039f"
                          ],
                          [
                            0.2222222222222222,
                            "#7201a8"
                          ],
                          [
                            0.3333333333333333,
                            "#9c179e"
                          ],
                          [
                            0.4444444444444444,
                            "#bd3786"
                          ],
                          [
                            0.5555555555555556,
                            "#d8576b"
                          ],
                          [
                            0.6666666666666666,
                            "#ed7953"
                          ],
                          [
                            0.7777777777777778,
                            "#fb9f3a"
                          ],
                          [
                            0.8888888888888888,
                            "#fdca26"
                          ],
                          [
                            1,
                            "#f0f921"
                          ]
                        ],
                        "type": "heatmapgl"
                      }
                    ],
                    "histogram": [
                      {
                        "marker": {
                          "pattern": {
                            "fillmode": "overlay",
                            "size": 10,
                            "solidity": 0.2
                          }
                        },
                        "type": "histogram"
                      }
                    ],
                    "histogram2d": [
                      {
                        "colorbar": {
                          "outlinewidth": 0,
                          "ticks": ""
                        },
                        "colorscale": [
                          [
                            0,
                            "#0d0887"
                          ],
                          [
                            0.1111111111111111,
                            "#46039f"
                          ],
                          [
                            0.2222222222222222,
                            "#7201a8"
                          ],
                          [
                            0.3333333333333333,
                            "#9c179e"
                          ],
                          [
                            0.4444444444444444,
                            "#bd3786"
                          ],
                          [
                            0.5555555555555556,
                            "#d8576b"
                          ],
                          [
                            0.6666666666666666,
                            "#ed7953"
                          ],
                          [
                            0.7777777777777778,
                            "#fb9f3a"
                          ],
                          [
                            0.8888888888888888,
                            "#fdca26"
                          ],
                          [
                            1,
                            "#f0f921"
                          ]
                        ],
                        "type": "histogram2d"
                      }
                    ],
                    "histogram2dcontour": [
                      {
                        "colorbar": {
                          "outlinewidth": 0,
                          "ticks": ""
                        },
                        "colorscale": [
                          [
                            0,
                            "#0d0887"
                          ],
                          [
                            0.1111111111111111,
                            "#46039f"
                          ],
                          [
                            0.2222222222222222,
                            "#7201a8"
                          ],
                          [
                            0.3333333333333333,
                            "#9c179e"
                          ],
                          [
                            0.4444444444444444,
                            "#bd3786"
                          ],
                          [
                            0.5555555555555556,
                            "#d8576b"
                          ],
                          [
                            0.6666666666666666,
                            "#ed7953"
                          ],
                          [
                            0.7777777777777778,
                            "#fb9f3a"
                          ],
                          [
                            0.8888888888888888,
                            "#fdca26"
                          ],
                          [
                            1,
                            "#f0f921"
                          ]
                        ],
                        "type": "histogram2dcontour"
                      }
                    ],
                    "mesh3d": [
                      {
                        "colorbar": {
                          "outlinewidth": 0,
                          "ticks": ""
                        },
                        "type": "mesh3d"
                      }
                    ],
                    "parcoords": [
                      {
                        "line": {
                          "colorbar": {
                            "outlinewidth": 0,
                            "ticks": ""
                          }
                        },
                        "type": "parcoords"
                      }
                    ],
                    "pie": [
                      {
                        "automargin": true,
                        "type": "pie"
                      }
                    ],
                    "scatter": [
                      {
                        "fillpattern": {
                          "fillmode": "overlay",
                          "size": 10,
                          "solidity": 0.2
                        },
                        "type": "scatter"
                      }
                    ],
                    "scatter3d": [
                      {
                        "line": {
                          "colorbar": {
                            "outlinewidth": 0,
                            "ticks": ""
                          }
                        },
                        "marker": {
                          "colorbar": {
                            "outlinewidth": 0,
                            "ticks": ""
                          }
                        },
                        "type": "scatter3d"
                      }
                    ],
                    "scattercarpet": [
                      {
                        "marker": {
                          "colorbar": {
                            "outlinewidth": 0,
                            "ticks": ""
                          }
                        },
                        "type": "scattercarpet"
                      }
                    ],
                    "scattergeo": [
                      {
                        "marker": {
                          "colorbar": {
                            "outlinewidth": 0,
                            "ticks": ""
                          }
                        },
                        "type": "scattergeo"
                      }
                    ],
                    "scattergl": [
                      {
                        "marker": {
                          "colorbar": {
                            "outlinewidth": 0,
                            "ticks": ""
                          }
                        },
                        "type": "scattergl"
                      }
                    ],
                    "scattermapbox": [
                      {
                        "marker": {
                          "colorbar": {
                            "outlinewidth": 0,
                            "ticks": ""
                          }
                        },
                        "type": "scattermapbox"
                      }
                    ],
                    "scatterpolar": [
                      {
                        "marker": {
                          "colorbar": {
                            "outlinewidth": 0,
                            "ticks": ""
                          }
                        },
                        "type": "scatterpolar"
                      }
                    ],
                    "scatterpolargl": [
                      {
                        "marker": {
                          "colorbar": {
                            "outlinewidth": 0,
                            "ticks": ""
                          }
                        },
                        "type": "scatterpolargl"
                      }
                    ],
                    "scatterternary": [
                      {
                        "marker": {
                          "colorbar": {
                            "outlinewidth": 0,
                            "ticks": ""
                          }
                        },
                        "type": "scatterternary"
                      }
                    ],
                    "surface": [
                      {
                        "colorbar": {
                          "outlinewidth": 0,
                          "ticks": ""
                        },
                        "colorscale": [
                          [
                            0,
                            "#0d0887"
                          ],
                          [
                            0.1111111111111111,
                            "#46039f"
                          ],
                          [
                            0.2222222222222222,
                            "#7201a8"
                          ],
                          [
                            0.3333333333333333,
                            "#9c179e"
                          ],
                          [
                            0.4444444444444444,
                            "#bd3786"
                          ],
                          [
                            0.5555555555555556,
                            "#d8576b"
                          ],
                          [
                            0.6666666666666666,
                            "#ed7953"
                          ],
                          [
                            0.7777777777777778,
                            "#fb9f3a"
                          ],
                          [
                            0.8888888888888888,
                            "#fdca26"
                          ],
                          [
                            1,
                            "#f0f921"
                          ]
                        ],
                        "type": "surface"
                      }
                    ],
                    "table": [
                      {
                        "cells": {
                          "fill": {
                            "color": "#EBF0F8"
                          },
                          "line": {
                            "color": "white"
                          }
                        },
                        "header": {
                          "fill": {
                            "color": "#C8D4E3"
                          },
                          "line": {
                            "color": "white"
                          }
                        },
                        "type": "table"
                      }
                    ]
                  },
                  "layout": {
                    "annotationdefaults": {
                      "arrowcolor": "#2a3f5f",
                      "arrowhead": 0,
                      "arrowwidth": 1
                    },
                    "autotypenumbers": "strict",
                    "coloraxis": {
                      "colorbar": {
                        "outlinewidth": 0,
                        "ticks": ""
                      }
                    },
                    "colorscale": {
                      "diverging": [
                        [
                          0,
                          "#8e0152"
                        ],
                        [
                          0.1,
                          "#c51b7d"
                        ],
                        [
                          0.2,
                          "#de77ae"
                        ],
                        [
                          0.3,
                          "#f1b6da"
                        ],
                        [
                          0.4,
                          "#fde0ef"
                        ],
                        [
                          0.5,
                          "#f7f7f7"
                        ],
                        [
                          0.6,
                          "#e6f5d0"
                        ],
                        [
                          0.7,
                          "#b8e186"
                        ],
                        [
                          0.8,
                          "#7fbc41"
                        ],
                        [
                          0.9,
                          "#4d9221"
                        ],
                        [
                          1,
                          "#276419"
                        ]
                      ],
                      "sequential": [
                        [
                          0,
                          "#0d0887"
                        ],
                        [
                          0.1111111111111111,
                          "#46039f"
                        ],
                        [
                          0.2222222222222222,
                          "#7201a8"
                        ],
                        [
                          0.3333333333333333,
                          "#9c179e"
                        ],
                        [
                          0.4444444444444444,
                          "#bd3786"
                        ],
                        [
                          0.5555555555555556,
                          "#d8576b"
                        ],
                        [
                          0.6666666666666666,
                          "#ed7953"
                        ],
                        [
                          0.7777777777777778,
                          "#fb9f3a"
                        ],
                        [
                          0.8888888888888888,
                          "#fdca26"
                        ],
                        [
                          1,
                          "#f0f921"
                        ]
                      ],
                      "sequentialminus": [
                        [
                          0,
                          "#0d0887"
                        ],
                        [
                          0.1111111111111111,
                          "#46039f"
                        ],
                        [
                          0.2222222222222222,
                          "#7201a8"
                        ],
                        [
                          0.3333333333333333,
                          "#9c179e"
                        ],
                        [
                          0.4444444444444444,
                          "#bd3786"
                        ],
                        [
                          0.5555555555555556,
                          "#d8576b"
                        ],
                        [
                          0.6666666666666666,
                          "#ed7953"
                        ],
                        [
                          0.7777777777777778,
                          "#fb9f3a"
                        ],
                        [
                          0.8888888888888888,
                          "#fdca26"
                        ],
                        [
                          1,
                          "#f0f921"
                        ]
                      ]
                    },
                    "colorway": [
                      "#636efa",
                      "#EF553B",
                      "#00cc96",
                      "#ab63fa",
                      "#FFA15A",
                      "#19d3f3",
                      "#FF6692",
                      "#B6E880",
                      "#FF97FF",
                      "#FECB52"
                    ],
                    "font": {
                      "color": "#2a3f5f"
                    },
                    "geo": {
                      "bgcolor": "white",
                      "lakecolor": "white",
                      "landcolor": "#E5ECF6",
                      "showlakes": true,
                      "showland": true,
                      "subunitcolor": "white"
                    },
                    "hoverlabel": {
                      "align": "left"
                    },
                    "hovermode": "closest",
                    "mapbox": {
                      "style": "light"
                    },
                    "paper_bgcolor": "white",
                    "plot_bgcolor": "#E5ECF6",
                    "polar": {
                      "angularaxis": {
                        "gridcolor": "white",
                        "linecolor": "white",
                        "ticks": ""
                      },
                      "bgcolor": "#E5ECF6",
                      "radialaxis": {
                        "gridcolor": "white",
                        "linecolor": "white",
                        "ticks": ""
                      }
                    },
                    "scene": {
                      "xaxis": {
                        "backgroundcolor": "#E5ECF6",
                        "gridcolor": "white",
                        "gridwidth": 2,
                        "linecolor": "white",
                        "showbackground": true,
                        "ticks": "",
                        "zerolinecolor": "white"
                      },
                      "yaxis": {
                        "backgroundcolor": "#E5ECF6",
                        "gridcolor": "white",
                        "gridwidth": 2,
                        "linecolor": "white",
                        "showbackground": true,
                        "ticks": "",
                        "zerolinecolor": "white"
                      },
                      "zaxis": {
                        "backgroundcolor": "#E5ECF6",
                        "gridcolor": "white",
                        "gridwidth": 2,
                        "linecolor": "white",
                        "showbackground": true,
                        "ticks": "",
                        "zerolinecolor": "white"
                      }
                    },
                    "shapedefaults": {
                      "line": {
                        "color": "#2a3f5f"
                      }
                    },
                    "ternary": {
                      "aaxis": {
                        "gridcolor": "white",
                        "linecolor": "white",
                        "ticks": ""
                      },
                      "baxis": {
                        "gridcolor": "white",
                        "linecolor": "white",
                        "ticks": ""
                      },
                      "bgcolor": "#E5ECF6",
                      "caxis": {
                        "gridcolor": "white",
                        "linecolor": "white",
                        "ticks": ""
                      }
                    },
                    "title": {
                      "x": 0.05
                    },
                    "xaxis": {
                      "automargin": true,
                      "gridcolor": "white",
                      "linecolor": "white",
                      "ticks": "",
                      "title": {
                        "standoff": 15
                      },
                      "zerolinecolor": "white",
                      "zerolinewidth": 2
                    },
                    "yaxis": {
                      "automargin": true,
                      "gridcolor": "white",
                      "linecolor": "white",
                      "ticks": "",
                      "title": {
                        "standoff": 15
                      },
                      "zerolinecolor": "white",
                      "zerolinewidth": 2
                    }
                  }
                },
                "title": {
                  "text": "Oximeter Sp02",
                  "x": 0.5,
                  "xanchor": "center",
                  "y": 0.9,
                  "yanchor": "top"
                },
                "width": 900,
                "xaxis": {
                  "anchor": "y",
                  "domain": [
                    0,
                    1
                  ],
                  "gridcolor": "gray",
                  "gridwidth": 1,
                  "showgrid": true,
                  "title": {
                    "text": "Timestamp (GMT)"
                  }
                },
                "yaxis": {
                  "anchor": "x",
                  "domain": [
                    0,
                    1
                  ],
                  "gridcolor": "gray",
                  "gridwidth": 1,
                  "showgrid": true,
                  "title": {
                    "text": "value"
                  }
                }
              }
            }
          },
          "metadata": {},
          "output_type": "display_data"
        }
      ],
      "source": [
        "#Oximeter SpO2\n",
        "\n",
        "fig = px.line(df['Oximeter SpO2'], width=900, height=600)\n",
        "\n",
        "# Set the background color to yellow\n",
        "fig.update_layout(\n",
        "    plot_bgcolor='black',\n",
        "    paper_bgcolor='black',\n",
        "    font=dict(color='white')\n",
        ")\n",
        "\n",
        "# Set the line color to blue\n",
        "fig.update_traces(line_color='red')\n",
        "\n",
        "# Show grid lines\n",
        "fig.update_layout(\n",
        "    xaxis=dict(showgrid=True, gridcolor='gray', gridwidth=1),\n",
        "    yaxis=dict(showgrid=True, gridcolor='gray', gridwidth=1),\n",
        "    title={\n",
        "        'text': \"Oximeter Sp02\",\n",
        "        'y':0.9,\n",
        "        'x':0.5,\n",
        "        'xanchor': 'center',\n",
        "        'yanchor': 'top'\n",
        "    }\n",
        ")\n",
        "\n",
        "fig.show()"
      ]
    },
    {
      "cell_type": "code",
      "execution_count": null,
      "metadata": {
        "id": "RUIQraRUZrLn",
        "outputId": "772dae25-61be-4f4a-d539-bba2cc12b027"
      },
      "outputs": [
        {
          "data": {
            "application/vnd.plotly.v1+json": {
              "config": {
                "plotlyServerURL": "https://plot.ly"
              },
              "data": [
                {
                  "hovertemplate": "variable=Oximeter Pulse<br>Timestamp (GMT)=%{x}<br>value=%{y}<extra></extra>",
                  "legendgroup": "Oximeter Pulse",
                  "line": {
                    "color": "red",
                    "dash": "solid"
                  },
                  "marker": {
                    "symbol": "circle"
                  },
                  "mode": "lines",
                  "name": "Oximeter Pulse",
                  "orientation": "v",
                  "showlegend": true,
                  "type": "scatter",
                  "x": [
                    "2015-08-17T15:09:00",
                    "2015-08-17T15:10:00",
                    "2015-08-17T15:11:00",
                    "2015-08-17T15:12:00",
                    "2015-08-17T15:13:00",
                    "2015-08-17T15:14:00",
                    "2015-08-17T15:15:00",
                    "2015-08-17T15:16:00",
                    "2015-08-17T15:17:00",
                    "2015-08-17T15:18:00",
                    "2015-08-17T15:19:00",
                    "2015-08-17T15:20:00",
                    "2015-08-17T15:21:00",
                    "2015-08-17T15:22:00",
                    "2015-08-17T15:23:00",
                    "2015-08-17T15:24:00",
                    "2015-08-17T15:25:00",
                    "2015-08-17T15:26:00",
                    "2015-08-17T15:27:00",
                    "2015-08-17T15:28:00",
                    "2015-08-17T15:29:00",
                    "2015-08-17T15:30:00",
                    "2015-08-17T15:31:00",
                    "2015-08-17T15:32:00",
                    "2015-08-17T15:33:00",
                    "2015-08-17T15:34:00",
                    "2015-08-17T15:35:00",
                    "2015-08-17T15:36:00",
                    "2015-08-17T15:37:00",
                    "2015-08-17T15:38:00",
                    "2015-08-17T15:39:00",
                    "2015-08-17T15:40:00",
                    "2015-08-17T15:41:00",
                    "2015-08-17T15:42:00",
                    "2015-08-17T15:43:00",
                    "2015-08-17T15:44:00",
                    "2015-08-17T15:45:00",
                    "2015-08-17T15:46:00",
                    "2015-08-17T15:47:00",
                    "2015-08-17T15:48:00",
                    "2015-08-17T15:49:00",
                    "2015-08-17T15:50:00",
                    "2015-08-17T15:51:00",
                    "2015-08-17T15:52:00",
                    "2015-08-17T15:53:00",
                    "2015-08-17T15:54:00",
                    "2015-08-17T15:55:00",
                    "2015-08-17T15:56:00",
                    "2015-08-17T15:57:00",
                    "2015-08-17T15:58:00",
                    "2015-08-17T15:59:00",
                    "2015-08-17T16:00:00",
                    "2015-08-17T16:01:00",
                    "2015-08-17T16:02:00",
                    "2015-08-17T16:03:00",
                    "2015-08-17T16:04:00",
                    "2015-08-17T16:05:00",
                    "2015-08-17T16:06:00",
                    "2015-08-17T16:07:00",
                    "2015-08-17T16:08:00",
                    "2015-08-17T16:09:00",
                    "2015-08-17T16:10:00",
                    "2015-08-17T16:11:00",
                    "2015-08-17T16:12:00",
                    "2015-08-17T16:13:00",
                    "2015-08-17T16:14:00",
                    "2015-08-17T16:15:00",
                    "2015-08-17T16:16:00",
                    "2015-08-17T16:17:00",
                    "2015-08-17T16:18:00",
                    "2015-08-17T16:19:00",
                    "2015-08-17T16:20:00",
                    "2015-08-17T16:21:00",
                    "2015-08-17T16:22:00",
                    "2015-08-17T16:23:00",
                    "2015-08-17T16:24:00",
                    "2015-08-17T16:25:00",
                    "2015-08-17T16:26:00",
                    "2015-08-17T16:27:00",
                    "2015-08-17T16:28:00",
                    "2015-08-17T16:29:00",
                    "2015-08-17T16:30:00",
                    "2015-08-17T16:31:00",
                    "2015-08-17T16:32:00",
                    "2015-08-17T16:33:00",
                    "2015-08-17T16:34:00",
                    "2015-08-17T16:35:00",
                    "2015-08-17T16:36:00",
                    "2015-08-17T16:37:00",
                    "2015-08-17T16:38:00",
                    "2015-08-17T16:39:00",
                    "2015-08-17T16:40:00",
                    "2015-08-17T16:41:00",
                    "2015-08-17T16:42:00",
                    "2015-08-17T16:43:00",
                    "2015-08-17T16:44:00",
                    "2015-08-17T16:45:00",
                    "2015-08-17T16:46:00",
                    "2015-08-17T16:47:00",
                    "2015-08-17T16:48:00",
                    "2015-08-17T16:49:00",
                    "2015-08-17T16:50:00",
                    "2015-08-17T16:51:00",
                    "2015-08-17T16:52:00",
                    "2015-08-17T16:53:00",
                    "2015-08-17T16:54:00",
                    "2015-08-17T16:55:00",
                    "2015-08-17T16:56:00",
                    "2015-08-17T16:57:00",
                    "2015-08-17T16:58:00",
                    "2015-08-17T16:59:00",
                    "2015-08-17T17:00:00",
                    "2015-08-17T17:01:00",
                    "2015-08-17T17:02:00",
                    "2015-08-17T17:03:00",
                    "2015-08-17T17:04:00",
                    "2015-08-17T17:05:00",
                    "2015-08-17T17:06:00",
                    "2015-08-17T17:07:00",
                    "2015-08-17T17:08:00",
                    "2015-08-17T17:09:00",
                    "2015-08-17T17:10:00",
                    "2015-08-17T17:11:00",
                    "2015-08-17T17:12:00",
                    "2015-08-17T17:13:00",
                    "2015-08-17T17:14:00",
                    "2015-08-17T17:15:00",
                    "2015-08-17T17:16:00",
                    "2015-08-17T17:17:00",
                    "2015-08-17T17:18:00",
                    "2015-08-17T17:19:00",
                    "2015-08-17T17:20:00",
                    "2015-08-17T17:21:00",
                    "2015-08-17T17:22:00",
                    "2015-08-17T17:23:00",
                    "2015-08-17T17:24:00",
                    "2015-08-17T17:25:00",
                    "2015-08-17T17:26:00",
                    "2015-08-17T17:27:00",
                    "2015-08-17T17:28:00",
                    "2015-08-17T17:29:00",
                    "2015-08-17T17:30:00",
                    "2015-08-17T17:31:00",
                    "2015-08-17T17:32:00",
                    "2015-08-17T17:33:00",
                    "2015-08-17T17:34:00",
                    "2015-08-17T17:35:00",
                    "2015-08-17T17:36:00",
                    "2015-08-17T17:37:00",
                    "2015-08-17T17:38:00",
                    "2015-08-17T17:39:00",
                    "2015-08-17T17:40:00",
                    "2015-08-17T17:41:00",
                    "2015-08-17T17:42:00",
                    "2015-08-17T17:43:00",
                    "2015-08-17T17:44:00",
                    "2015-08-17T17:45:00",
                    "2015-08-17T17:46:00",
                    "2015-08-17T17:47:00",
                    "2015-08-17T17:48:00",
                    "2015-08-17T17:49:00",
                    "2015-08-17T17:50:00",
                    "2015-08-17T17:51:00",
                    "2015-08-17T17:52:00",
                    "2015-08-17T17:53:00",
                    "2015-08-17T17:54:00",
                    "2015-08-17T17:55:00",
                    "2015-08-17T17:56:00",
                    "2015-08-17T17:57:00",
                    "2015-08-17T17:58:00",
                    "2015-08-17T17:59:00",
                    "2015-08-17T18:00:00",
                    "2015-08-17T18:01:00",
                    "2015-08-17T18:02:00",
                    "2015-08-17T18:03:00",
                    "2015-08-17T18:04:00",
                    "2015-08-17T18:05:00",
                    "2015-08-17T18:06:00",
                    "2015-08-17T18:07:00",
                    "2015-08-17T18:08:00",
                    "2015-08-17T18:09:00",
                    "2015-08-17T18:10:00",
                    "2015-08-17T18:11:00",
                    "2015-08-17T18:12:00",
                    "2015-08-17T18:13:00",
                    "2015-08-17T18:14:00",
                    "2015-08-17T18:15:00",
                    "2015-08-17T18:16:00",
                    "2015-08-17T18:17:00",
                    "2015-08-17T18:18:00",
                    "2015-08-17T18:19:00",
                    "2015-08-17T18:20:00",
                    "2015-08-17T18:21:00",
                    "2015-08-17T18:22:00",
                    "2015-08-17T18:23:00",
                    "2015-08-17T18:24:00",
                    "2015-08-17T18:25:00",
                    "2015-08-17T18:26:00",
                    "2015-08-17T18:27:00",
                    "2015-08-17T18:28:00",
                    "2015-08-17T18:29:00",
                    "2015-08-17T18:30:00",
                    "2015-08-17T18:31:00",
                    "2015-08-17T18:32:00",
                    "2015-08-17T18:33:00",
                    "2015-08-17T18:34:00",
                    "2015-08-17T18:35:00",
                    "2015-08-17T18:36:00",
                    "2015-08-17T18:37:00",
                    "2015-08-17T18:38:00",
                    "2015-08-17T18:39:00",
                    "2015-08-17T18:40:00",
                    "2015-08-17T18:41:00",
                    "2015-08-17T18:42:00",
                    "2015-08-17T18:43:00",
                    "2015-08-17T18:44:00",
                    "2015-08-17T18:45:00",
                    "2015-08-17T18:46:00",
                    "2015-08-17T18:47:00",
                    "2015-08-17T18:48:00",
                    "2015-08-17T18:49:00",
                    "2015-08-17T18:50:00",
                    "2015-08-17T18:51:00",
                    "2015-08-17T18:52:00",
                    "2015-08-17T18:53:00",
                    "2015-08-17T18:54:00"
                  ],
                  "xaxis": "x",
                  "y": [
                    140,
                    140,
                    144,
                    141,
                    134,
                    134,
                    135,
                    135,
                    136,
                    138,
                    136,
                    137,
                    138,
                    140,
                    141,
                    140,
                    140,
                    139,
                    139,
                    138,
                    140,
                    139,
                    140,
                    139,
                    140,
                    139,
                    140,
                    140,
                    140,
                    139,
                    152,
                    146,
                    -1,
                    143,
                    142,
                    140,
                    144,
                    140,
                    136,
                    143,
                    141,
                    148,
                    -1,
                    -1,
                    -1,
                    -1,
                    153,
                    152,
                    147,
                    148,
                    149,
                    150,
                    148,
                    145,
                    142,
                    143,
                    142,
                    142,
                    141,
                    140,
                    140,
                    138,
                    138,
                    138,
                    137,
                    136,
                    137,
                    136,
                    136,
                    136,
                    136,
                    136,
                    137,
                    137,
                    136,
                    136,
                    136,
                    137,
                    136,
                    136,
                    135,
                    134,
                    134,
                    133,
                    132,
                    132,
                    132,
                    133,
                    132,
                    133,
                    133,
                    134,
                    134,
                    133,
                    134,
                    134,
                    134,
                    134,
                    134,
                    134,
                    134,
                    134,
                    133,
                    133,
                    134,
                    134,
                    134,
                    134,
                    135,
                    140,
                    134,
                    131,
                    141,
                    140,
                    136,
                    140,
                    140,
                    134,
                    135,
                    133,
                    132,
                    136,
                    136,
                    137,
                    137,
                    -1,
                    137,
                    154,
                    143,
                    158,
                    153,
                    137,
                    -1,
                    158,
                    152,
                    153,
                    157,
                    151,
                    150,
                    157,
                    153,
                    164,
                    163,
                    161,
                    163,
                    -1,
                    161,
                    159,
                    155,
                    152,
                    -1,
                    -1,
                    -1,
                    -1,
                    161,
                    161,
                    161,
                    161,
                    161,
                    161,
                    156,
                    152,
                    157,
                    -1,
                    -1,
                    -1,
                    -1,
                    -1,
                    -1,
                    -1,
                    -1,
                    -1,
                    -1,
                    -1,
                    -1,
                    -1,
                    -1,
                    -1,
                    -1,
                    166,
                    157,
                    159,
                    158,
                    156,
                    154,
                    153,
                    157,
                    153,
                    149,
                    151,
                    144,
                    150,
                    153,
                    152,
                    149,
                    153,
                    -1,
                    -1,
                    -1,
                    -1,
                    -1,
                    -1,
                    -1,
                    -1,
                    -1,
                    -1,
                    -1,
                    -1,
                    158,
                    156,
                    152,
                    150,
                    152,
                    142,
                    151,
                    151,
                    31,
                    -1,
                    -1,
                    -1,
                    -1,
                    -1,
                    -1,
                    -1,
                    -1,
                    -1
                  ],
                  "yaxis": "y"
                }
              ],
              "layout": {
                "font": {
                  "color": "white"
                },
                "height": 600,
                "legend": {
                  "title": {
                    "text": "variable"
                  },
                  "tracegroupgap": 0
                },
                "margin": {
                  "t": 60
                },
                "paper_bgcolor": "black",
                "plot_bgcolor": "black",
                "template": {
                  "data": {
                    "bar": [
                      {
                        "error_x": {
                          "color": "#2a3f5f"
                        },
                        "error_y": {
                          "color": "#2a3f5f"
                        },
                        "marker": {
                          "line": {
                            "color": "#E5ECF6",
                            "width": 0.5
                          },
                          "pattern": {
                            "fillmode": "overlay",
                            "size": 10,
                            "solidity": 0.2
                          }
                        },
                        "type": "bar"
                      }
                    ],
                    "barpolar": [
                      {
                        "marker": {
                          "line": {
                            "color": "#E5ECF6",
                            "width": 0.5
                          },
                          "pattern": {
                            "fillmode": "overlay",
                            "size": 10,
                            "solidity": 0.2
                          }
                        },
                        "type": "barpolar"
                      }
                    ],
                    "carpet": [
                      {
                        "aaxis": {
                          "endlinecolor": "#2a3f5f",
                          "gridcolor": "white",
                          "linecolor": "white",
                          "minorgridcolor": "white",
                          "startlinecolor": "#2a3f5f"
                        },
                        "baxis": {
                          "endlinecolor": "#2a3f5f",
                          "gridcolor": "white",
                          "linecolor": "white",
                          "minorgridcolor": "white",
                          "startlinecolor": "#2a3f5f"
                        },
                        "type": "carpet"
                      }
                    ],
                    "choropleth": [
                      {
                        "colorbar": {
                          "outlinewidth": 0,
                          "ticks": ""
                        },
                        "type": "choropleth"
                      }
                    ],
                    "contour": [
                      {
                        "colorbar": {
                          "outlinewidth": 0,
                          "ticks": ""
                        },
                        "colorscale": [
                          [
                            0,
                            "#0d0887"
                          ],
                          [
                            0.1111111111111111,
                            "#46039f"
                          ],
                          [
                            0.2222222222222222,
                            "#7201a8"
                          ],
                          [
                            0.3333333333333333,
                            "#9c179e"
                          ],
                          [
                            0.4444444444444444,
                            "#bd3786"
                          ],
                          [
                            0.5555555555555556,
                            "#d8576b"
                          ],
                          [
                            0.6666666666666666,
                            "#ed7953"
                          ],
                          [
                            0.7777777777777778,
                            "#fb9f3a"
                          ],
                          [
                            0.8888888888888888,
                            "#fdca26"
                          ],
                          [
                            1,
                            "#f0f921"
                          ]
                        ],
                        "type": "contour"
                      }
                    ],
                    "contourcarpet": [
                      {
                        "colorbar": {
                          "outlinewidth": 0,
                          "ticks": ""
                        },
                        "type": "contourcarpet"
                      }
                    ],
                    "heatmap": [
                      {
                        "colorbar": {
                          "outlinewidth": 0,
                          "ticks": ""
                        },
                        "colorscale": [
                          [
                            0,
                            "#0d0887"
                          ],
                          [
                            0.1111111111111111,
                            "#46039f"
                          ],
                          [
                            0.2222222222222222,
                            "#7201a8"
                          ],
                          [
                            0.3333333333333333,
                            "#9c179e"
                          ],
                          [
                            0.4444444444444444,
                            "#bd3786"
                          ],
                          [
                            0.5555555555555556,
                            "#d8576b"
                          ],
                          [
                            0.6666666666666666,
                            "#ed7953"
                          ],
                          [
                            0.7777777777777778,
                            "#fb9f3a"
                          ],
                          [
                            0.8888888888888888,
                            "#fdca26"
                          ],
                          [
                            1,
                            "#f0f921"
                          ]
                        ],
                        "type": "heatmap"
                      }
                    ],
                    "heatmapgl": [
                      {
                        "colorbar": {
                          "outlinewidth": 0,
                          "ticks": ""
                        },
                        "colorscale": [
                          [
                            0,
                            "#0d0887"
                          ],
                          [
                            0.1111111111111111,
                            "#46039f"
                          ],
                          [
                            0.2222222222222222,
                            "#7201a8"
                          ],
                          [
                            0.3333333333333333,
                            "#9c179e"
                          ],
                          [
                            0.4444444444444444,
                            "#bd3786"
                          ],
                          [
                            0.5555555555555556,
                            "#d8576b"
                          ],
                          [
                            0.6666666666666666,
                            "#ed7953"
                          ],
                          [
                            0.7777777777777778,
                            "#fb9f3a"
                          ],
                          [
                            0.8888888888888888,
                            "#fdca26"
                          ],
                          [
                            1,
                            "#f0f921"
                          ]
                        ],
                        "type": "heatmapgl"
                      }
                    ],
                    "histogram": [
                      {
                        "marker": {
                          "pattern": {
                            "fillmode": "overlay",
                            "size": 10,
                            "solidity": 0.2
                          }
                        },
                        "type": "histogram"
                      }
                    ],
                    "histogram2d": [
                      {
                        "colorbar": {
                          "outlinewidth": 0,
                          "ticks": ""
                        },
                        "colorscale": [
                          [
                            0,
                            "#0d0887"
                          ],
                          [
                            0.1111111111111111,
                            "#46039f"
                          ],
                          [
                            0.2222222222222222,
                            "#7201a8"
                          ],
                          [
                            0.3333333333333333,
                            "#9c179e"
                          ],
                          [
                            0.4444444444444444,
                            "#bd3786"
                          ],
                          [
                            0.5555555555555556,
                            "#d8576b"
                          ],
                          [
                            0.6666666666666666,
                            "#ed7953"
                          ],
                          [
                            0.7777777777777778,
                            "#fb9f3a"
                          ],
                          [
                            0.8888888888888888,
                            "#fdca26"
                          ],
                          [
                            1,
                            "#f0f921"
                          ]
                        ],
                        "type": "histogram2d"
                      }
                    ],
                    "histogram2dcontour": [
                      {
                        "colorbar": {
                          "outlinewidth": 0,
                          "ticks": ""
                        },
                        "colorscale": [
                          [
                            0,
                            "#0d0887"
                          ],
                          [
                            0.1111111111111111,
                            "#46039f"
                          ],
                          [
                            0.2222222222222222,
                            "#7201a8"
                          ],
                          [
                            0.3333333333333333,
                            "#9c179e"
                          ],
                          [
                            0.4444444444444444,
                            "#bd3786"
                          ],
                          [
                            0.5555555555555556,
                            "#d8576b"
                          ],
                          [
                            0.6666666666666666,
                            "#ed7953"
                          ],
                          [
                            0.7777777777777778,
                            "#fb9f3a"
                          ],
                          [
                            0.8888888888888888,
                            "#fdca26"
                          ],
                          [
                            1,
                            "#f0f921"
                          ]
                        ],
                        "type": "histogram2dcontour"
                      }
                    ],
                    "mesh3d": [
                      {
                        "colorbar": {
                          "outlinewidth": 0,
                          "ticks": ""
                        },
                        "type": "mesh3d"
                      }
                    ],
                    "parcoords": [
                      {
                        "line": {
                          "colorbar": {
                            "outlinewidth": 0,
                            "ticks": ""
                          }
                        },
                        "type": "parcoords"
                      }
                    ],
                    "pie": [
                      {
                        "automargin": true,
                        "type": "pie"
                      }
                    ],
                    "scatter": [
                      {
                        "fillpattern": {
                          "fillmode": "overlay",
                          "size": 10,
                          "solidity": 0.2
                        },
                        "type": "scatter"
                      }
                    ],
                    "scatter3d": [
                      {
                        "line": {
                          "colorbar": {
                            "outlinewidth": 0,
                            "ticks": ""
                          }
                        },
                        "marker": {
                          "colorbar": {
                            "outlinewidth": 0,
                            "ticks": ""
                          }
                        },
                        "type": "scatter3d"
                      }
                    ],
                    "scattercarpet": [
                      {
                        "marker": {
                          "colorbar": {
                            "outlinewidth": 0,
                            "ticks": ""
                          }
                        },
                        "type": "scattercarpet"
                      }
                    ],
                    "scattergeo": [
                      {
                        "marker": {
                          "colorbar": {
                            "outlinewidth": 0,
                            "ticks": ""
                          }
                        },
                        "type": "scattergeo"
                      }
                    ],
                    "scattergl": [
                      {
                        "marker": {
                          "colorbar": {
                            "outlinewidth": 0,
                            "ticks": ""
                          }
                        },
                        "type": "scattergl"
                      }
                    ],
                    "scattermapbox": [
                      {
                        "marker": {
                          "colorbar": {
                            "outlinewidth": 0,
                            "ticks": ""
                          }
                        },
                        "type": "scattermapbox"
                      }
                    ],
                    "scatterpolar": [
                      {
                        "marker": {
                          "colorbar": {
                            "outlinewidth": 0,
                            "ticks": ""
                          }
                        },
                        "type": "scatterpolar"
                      }
                    ],
                    "scatterpolargl": [
                      {
                        "marker": {
                          "colorbar": {
                            "outlinewidth": 0,
                            "ticks": ""
                          }
                        },
                        "type": "scatterpolargl"
                      }
                    ],
                    "scatterternary": [
                      {
                        "marker": {
                          "colorbar": {
                            "outlinewidth": 0,
                            "ticks": ""
                          }
                        },
                        "type": "scatterternary"
                      }
                    ],
                    "surface": [
                      {
                        "colorbar": {
                          "outlinewidth": 0,
                          "ticks": ""
                        },
                        "colorscale": [
                          [
                            0,
                            "#0d0887"
                          ],
                          [
                            0.1111111111111111,
                            "#46039f"
                          ],
                          [
                            0.2222222222222222,
                            "#7201a8"
                          ],
                          [
                            0.3333333333333333,
                            "#9c179e"
                          ],
                          [
                            0.4444444444444444,
                            "#bd3786"
                          ],
                          [
                            0.5555555555555556,
                            "#d8576b"
                          ],
                          [
                            0.6666666666666666,
                            "#ed7953"
                          ],
                          [
                            0.7777777777777778,
                            "#fb9f3a"
                          ],
                          [
                            0.8888888888888888,
                            "#fdca26"
                          ],
                          [
                            1,
                            "#f0f921"
                          ]
                        ],
                        "type": "surface"
                      }
                    ],
                    "table": [
                      {
                        "cells": {
                          "fill": {
                            "color": "#EBF0F8"
                          },
                          "line": {
                            "color": "white"
                          }
                        },
                        "header": {
                          "fill": {
                            "color": "#C8D4E3"
                          },
                          "line": {
                            "color": "white"
                          }
                        },
                        "type": "table"
                      }
                    ]
                  },
                  "layout": {
                    "annotationdefaults": {
                      "arrowcolor": "#2a3f5f",
                      "arrowhead": 0,
                      "arrowwidth": 1
                    },
                    "autotypenumbers": "strict",
                    "coloraxis": {
                      "colorbar": {
                        "outlinewidth": 0,
                        "ticks": ""
                      }
                    },
                    "colorscale": {
                      "diverging": [
                        [
                          0,
                          "#8e0152"
                        ],
                        [
                          0.1,
                          "#c51b7d"
                        ],
                        [
                          0.2,
                          "#de77ae"
                        ],
                        [
                          0.3,
                          "#f1b6da"
                        ],
                        [
                          0.4,
                          "#fde0ef"
                        ],
                        [
                          0.5,
                          "#f7f7f7"
                        ],
                        [
                          0.6,
                          "#e6f5d0"
                        ],
                        [
                          0.7,
                          "#b8e186"
                        ],
                        [
                          0.8,
                          "#7fbc41"
                        ],
                        [
                          0.9,
                          "#4d9221"
                        ],
                        [
                          1,
                          "#276419"
                        ]
                      ],
                      "sequential": [
                        [
                          0,
                          "#0d0887"
                        ],
                        [
                          0.1111111111111111,
                          "#46039f"
                        ],
                        [
                          0.2222222222222222,
                          "#7201a8"
                        ],
                        [
                          0.3333333333333333,
                          "#9c179e"
                        ],
                        [
                          0.4444444444444444,
                          "#bd3786"
                        ],
                        [
                          0.5555555555555556,
                          "#d8576b"
                        ],
                        [
                          0.6666666666666666,
                          "#ed7953"
                        ],
                        [
                          0.7777777777777778,
                          "#fb9f3a"
                        ],
                        [
                          0.8888888888888888,
                          "#fdca26"
                        ],
                        [
                          1,
                          "#f0f921"
                        ]
                      ],
                      "sequentialminus": [
                        [
                          0,
                          "#0d0887"
                        ],
                        [
                          0.1111111111111111,
                          "#46039f"
                        ],
                        [
                          0.2222222222222222,
                          "#7201a8"
                        ],
                        [
                          0.3333333333333333,
                          "#9c179e"
                        ],
                        [
                          0.4444444444444444,
                          "#bd3786"
                        ],
                        [
                          0.5555555555555556,
                          "#d8576b"
                        ],
                        [
                          0.6666666666666666,
                          "#ed7953"
                        ],
                        [
                          0.7777777777777778,
                          "#fb9f3a"
                        ],
                        [
                          0.8888888888888888,
                          "#fdca26"
                        ],
                        [
                          1,
                          "#f0f921"
                        ]
                      ]
                    },
                    "colorway": [
                      "#636efa",
                      "#EF553B",
                      "#00cc96",
                      "#ab63fa",
                      "#FFA15A",
                      "#19d3f3",
                      "#FF6692",
                      "#B6E880",
                      "#FF97FF",
                      "#FECB52"
                    ],
                    "font": {
                      "color": "#2a3f5f"
                    },
                    "geo": {
                      "bgcolor": "white",
                      "lakecolor": "white",
                      "landcolor": "#E5ECF6",
                      "showlakes": true,
                      "showland": true,
                      "subunitcolor": "white"
                    },
                    "hoverlabel": {
                      "align": "left"
                    },
                    "hovermode": "closest",
                    "mapbox": {
                      "style": "light"
                    },
                    "paper_bgcolor": "white",
                    "plot_bgcolor": "#E5ECF6",
                    "polar": {
                      "angularaxis": {
                        "gridcolor": "white",
                        "linecolor": "white",
                        "ticks": ""
                      },
                      "bgcolor": "#E5ECF6",
                      "radialaxis": {
                        "gridcolor": "white",
                        "linecolor": "white",
                        "ticks": ""
                      }
                    },
                    "scene": {
                      "xaxis": {
                        "backgroundcolor": "#E5ECF6",
                        "gridcolor": "white",
                        "gridwidth": 2,
                        "linecolor": "white",
                        "showbackground": true,
                        "ticks": "",
                        "zerolinecolor": "white"
                      },
                      "yaxis": {
                        "backgroundcolor": "#E5ECF6",
                        "gridcolor": "white",
                        "gridwidth": 2,
                        "linecolor": "white",
                        "showbackground": true,
                        "ticks": "",
                        "zerolinecolor": "white"
                      },
                      "zaxis": {
                        "backgroundcolor": "#E5ECF6",
                        "gridcolor": "white",
                        "gridwidth": 2,
                        "linecolor": "white",
                        "showbackground": true,
                        "ticks": "",
                        "zerolinecolor": "white"
                      }
                    },
                    "shapedefaults": {
                      "line": {
                        "color": "#2a3f5f"
                      }
                    },
                    "ternary": {
                      "aaxis": {
                        "gridcolor": "white",
                        "linecolor": "white",
                        "ticks": ""
                      },
                      "baxis": {
                        "gridcolor": "white",
                        "linecolor": "white",
                        "ticks": ""
                      },
                      "bgcolor": "#E5ECF6",
                      "caxis": {
                        "gridcolor": "white",
                        "linecolor": "white",
                        "ticks": ""
                      }
                    },
                    "title": {
                      "x": 0.05
                    },
                    "xaxis": {
                      "automargin": true,
                      "gridcolor": "white",
                      "linecolor": "white",
                      "ticks": "",
                      "title": {
                        "standoff": 15
                      },
                      "zerolinecolor": "white",
                      "zerolinewidth": 2
                    },
                    "yaxis": {
                      "automargin": true,
                      "gridcolor": "white",
                      "linecolor": "white",
                      "ticks": "",
                      "title": {
                        "standoff": 15
                      },
                      "zerolinecolor": "white",
                      "zerolinewidth": 2
                    }
                  }
                },
                "title": {
                  "text": "Oximeter Pulse",
                  "x": 0.5,
                  "xanchor": "center",
                  "y": 0.9,
                  "yanchor": "top"
                },
                "width": 900,
                "xaxis": {
                  "anchor": "y",
                  "domain": [
                    0,
                    1
                  ],
                  "gridcolor": "gray",
                  "gridwidth": 1,
                  "showgrid": true,
                  "title": {
                    "text": "Timestamp (GMT)"
                  }
                },
                "yaxis": {
                  "anchor": "x",
                  "domain": [
                    0,
                    1
                  ],
                  "gridcolor": "gray",
                  "gridwidth": 1,
                  "showgrid": true,
                  "title": {
                    "text": "value"
                  }
                }
              }
            }
          },
          "metadata": {},
          "output_type": "display_data"
        }
      ],
      "source": [
        "#Oximeter Pulse\n",
        "\n",
        "fig = px.line(df['Oximeter Pulse'], width=900, height=600)\n",
        "\n",
        "# Set the background color to yellow\n",
        "fig.update_layout(\n",
        "    plot_bgcolor='black',\n",
        "    paper_bgcolor='black',\n",
        "    font=dict(color='white')\n",
        ")\n",
        "\n",
        "# Set the line color to blue\n",
        "fig.update_traces(line_color='red')\n",
        "\n",
        "# Show grid lines\n",
        "fig.update_layout(\n",
        "    xaxis=dict(showgrid=True, gridcolor='gray', gridwidth=1),\n",
        "    yaxis=dict(showgrid=True, gridcolor='gray', gridwidth=1),\n",
        "    title={\n",
        "        'text': \"Oximeter Pulse\",\n",
        "        'y':0.9,\n",
        "        'x':0.5,\n",
        "        'xanchor': 'center',\n",
        "        'yanchor': 'top'\n",
        "    }\n",
        ")\n",
        "\n",
        "fig.show()"
      ]
    },
    {
      "cell_type": "code",
      "execution_count": null,
      "metadata": {
        "id": "dNKXzkucZrLn",
        "outputId": "fbb3f238-3385-4464-b19b-68fbefe55a59"
      },
      "outputs": [
        {
          "data": {
            "application/vnd.plotly.v1+json": {
              "config": {
                "plotlyServerURL": "https://plot.ly"
              },
              "data": [
                {
                  "marker": {
                    "color": "red"
                  },
                  "name": "Heart Rate",
                  "showlegend": true,
                  "type": "scatter",
                  "x": [
                    "2015-08-17T15:09:00",
                    "2015-08-17T15:10:00",
                    "2015-08-17T15:11:00",
                    "2015-08-17T15:12:00",
                    "2015-08-17T15:13:00",
                    "2015-08-17T15:14:00",
                    "2015-08-17T15:15:00",
                    "2015-08-17T15:16:00",
                    "2015-08-17T15:17:00",
                    "2015-08-17T15:18:00",
                    "2015-08-17T15:19:00",
                    "2015-08-17T15:20:00",
                    "2015-08-17T15:21:00",
                    "2015-08-17T15:22:00",
                    "2015-08-17T15:23:00",
                    "2015-08-17T15:24:00",
                    "2015-08-17T15:25:00",
                    "2015-08-17T15:26:00",
                    "2015-08-17T15:27:00",
                    "2015-08-17T15:28:00",
                    "2015-08-17T15:29:00",
                    "2015-08-17T15:30:00",
                    "2015-08-17T15:31:00",
                    "2015-08-17T15:32:00",
                    "2015-08-17T15:33:00",
                    "2015-08-17T15:34:00",
                    "2015-08-17T15:35:00",
                    "2015-08-17T15:36:00",
                    "2015-08-17T15:37:00",
                    "2015-08-17T15:38:00",
                    "2015-08-17T15:39:00",
                    "2015-08-17T15:40:00",
                    "2015-08-17T15:41:00",
                    "2015-08-17T15:42:00",
                    "2015-08-17T15:43:00",
                    "2015-08-17T15:44:00",
                    "2015-08-17T15:45:00",
                    "2015-08-17T15:46:00",
                    "2015-08-17T15:47:00",
                    "2015-08-17T15:48:00",
                    "2015-08-17T15:49:00",
                    "2015-08-17T15:50:00",
                    "2015-08-17T15:51:00",
                    "2015-08-17T15:52:00",
                    "2015-08-17T15:53:00",
                    "2015-08-17T15:54:00",
                    "2015-08-17T15:55:00",
                    "2015-08-17T15:56:00",
                    "2015-08-17T15:57:00",
                    "2015-08-17T15:58:00",
                    "2015-08-17T15:59:00",
                    "2015-08-17T16:00:00",
                    "2015-08-17T16:01:00",
                    "2015-08-17T16:02:00",
                    "2015-08-17T16:03:00",
                    "2015-08-17T16:04:00",
                    "2015-08-17T16:05:00",
                    "2015-08-17T16:06:00",
                    "2015-08-17T16:07:00",
                    "2015-08-17T16:08:00",
                    "2015-08-17T16:09:00",
                    "2015-08-17T16:10:00",
                    "2015-08-17T16:11:00",
                    "2015-08-17T16:12:00",
                    "2015-08-17T16:13:00",
                    "2015-08-17T16:14:00",
                    "2015-08-17T16:15:00",
                    "2015-08-17T16:16:00",
                    "2015-08-17T16:17:00",
                    "2015-08-17T16:18:00",
                    "2015-08-17T16:19:00",
                    "2015-08-17T16:20:00",
                    "2015-08-17T16:21:00",
                    "2015-08-17T16:22:00",
                    "2015-08-17T16:23:00",
                    "2015-08-17T16:24:00",
                    "2015-08-17T16:25:00",
                    "2015-08-17T16:26:00",
                    "2015-08-17T16:27:00",
                    "2015-08-17T16:28:00",
                    "2015-08-17T16:29:00",
                    "2015-08-17T16:30:00",
                    "2015-08-17T16:31:00",
                    "2015-08-17T16:32:00",
                    "2015-08-17T16:33:00",
                    "2015-08-17T16:34:00",
                    "2015-08-17T16:35:00",
                    "2015-08-17T16:36:00",
                    "2015-08-17T16:37:00",
                    "2015-08-17T16:38:00",
                    "2015-08-17T16:39:00",
                    "2015-08-17T16:40:00",
                    "2015-08-17T16:41:00",
                    "2015-08-17T16:42:00",
                    "2015-08-17T16:43:00",
                    "2015-08-17T16:44:00",
                    "2015-08-17T16:45:00",
                    "2015-08-17T16:46:00",
                    "2015-08-17T16:47:00",
                    "2015-08-17T16:48:00",
                    "2015-08-17T16:49:00",
                    "2015-08-17T16:50:00",
                    "2015-08-17T16:51:00",
                    "2015-08-17T16:52:00",
                    "2015-08-17T16:53:00",
                    "2015-08-17T16:54:00",
                    "2015-08-17T16:55:00",
                    "2015-08-17T16:56:00",
                    "2015-08-17T16:57:00",
                    "2015-08-17T16:58:00",
                    "2015-08-17T16:59:00",
                    "2015-08-17T17:00:00",
                    "2015-08-17T17:01:00",
                    "2015-08-17T17:02:00",
                    "2015-08-17T17:03:00",
                    "2015-08-17T17:04:00",
                    "2015-08-17T17:05:00",
                    "2015-08-17T17:06:00",
                    "2015-08-17T17:07:00",
                    "2015-08-17T17:08:00",
                    "2015-08-17T17:09:00",
                    "2015-08-17T17:10:00",
                    "2015-08-17T17:11:00",
                    "2015-08-17T17:12:00",
                    "2015-08-17T17:13:00",
                    "2015-08-17T17:14:00",
                    "2015-08-17T17:15:00",
                    "2015-08-17T17:16:00",
                    "2015-08-17T17:17:00",
                    "2015-08-17T17:18:00",
                    "2015-08-17T17:19:00",
                    "2015-08-17T17:20:00",
                    "2015-08-17T17:21:00",
                    "2015-08-17T17:22:00",
                    "2015-08-17T17:23:00",
                    "2015-08-17T17:24:00",
                    "2015-08-17T17:25:00",
                    "2015-08-17T17:26:00",
                    "2015-08-17T17:27:00",
                    "2015-08-17T17:28:00",
                    "2015-08-17T17:29:00",
                    "2015-08-17T17:30:00",
                    "2015-08-17T17:31:00",
                    "2015-08-17T17:32:00",
                    "2015-08-17T17:33:00",
                    "2015-08-17T17:34:00",
                    "2015-08-17T17:35:00",
                    "2015-08-17T17:36:00",
                    "2015-08-17T17:37:00",
                    "2015-08-17T17:38:00",
                    "2015-08-17T17:39:00",
                    "2015-08-17T17:40:00",
                    "2015-08-17T17:41:00",
                    "2015-08-17T17:42:00",
                    "2015-08-17T17:43:00",
                    "2015-08-17T17:44:00",
                    "2015-08-17T17:45:00",
                    "2015-08-17T17:46:00",
                    "2015-08-17T17:47:00",
                    "2015-08-17T17:48:00",
                    "2015-08-17T17:49:00",
                    "2015-08-17T17:50:00",
                    "2015-08-17T17:51:00",
                    "2015-08-17T17:52:00",
                    "2015-08-17T17:53:00",
                    "2015-08-17T17:54:00",
                    "2015-08-17T17:55:00",
                    "2015-08-17T17:56:00",
                    "2015-08-17T17:57:00",
                    "2015-08-17T17:58:00",
                    "2015-08-17T17:59:00",
                    "2015-08-17T18:00:00",
                    "2015-08-17T18:01:00",
                    "2015-08-17T18:02:00",
                    "2015-08-17T18:03:00",
                    "2015-08-17T18:04:00",
                    "2015-08-17T18:05:00",
                    "2015-08-17T18:06:00",
                    "2015-08-17T18:07:00",
                    "2015-08-17T18:08:00",
                    "2015-08-17T18:09:00",
                    "2015-08-17T18:10:00",
                    "2015-08-17T18:11:00",
                    "2015-08-17T18:12:00",
                    "2015-08-17T18:13:00",
                    "2015-08-17T18:14:00",
                    "2015-08-17T18:15:00",
                    "2015-08-17T18:16:00",
                    "2015-08-17T18:17:00",
                    "2015-08-17T18:18:00",
                    "2015-08-17T18:19:00",
                    "2015-08-17T18:20:00",
                    "2015-08-17T18:21:00",
                    "2015-08-17T18:22:00",
                    "2015-08-17T18:23:00",
                    "2015-08-17T18:24:00",
                    "2015-08-17T18:25:00",
                    "2015-08-17T18:26:00",
                    "2015-08-17T18:27:00",
                    "2015-08-17T18:28:00",
                    "2015-08-17T18:29:00",
                    "2015-08-17T18:30:00",
                    "2015-08-17T18:31:00",
                    "2015-08-17T18:32:00",
                    "2015-08-17T18:33:00",
                    "2015-08-17T18:34:00",
                    "2015-08-17T18:35:00",
                    "2015-08-17T18:36:00",
                    "2015-08-17T18:37:00",
                    "2015-08-17T18:38:00",
                    "2015-08-17T18:39:00",
                    "2015-08-17T18:40:00",
                    "2015-08-17T18:41:00",
                    "2015-08-17T18:42:00",
                    "2015-08-17T18:43:00",
                    "2015-08-17T18:44:00",
                    "2015-08-17T18:45:00",
                    "2015-08-17T18:46:00",
                    "2015-08-17T18:47:00",
                    "2015-08-17T18:48:00",
                    "2015-08-17T18:49:00",
                    "2015-08-17T18:50:00",
                    "2015-08-17T18:51:00",
                    "2015-08-17T18:52:00",
                    "2015-08-17T18:53:00",
                    "2015-08-17T18:54:00"
                  ],
                  "y": [
                    139,
                    144,
                    140,
                    138,
                    133,
                    132,
                    132,
                    133,
                    136,
                    137,
                    136,
                    137,
                    139,
                    138,
                    141,
                    139,
                    140,
                    140,
                    139,
                    137,
                    139,
                    139,
                    133,
                    120,
                    139,
                    140,
                    135,
                    141,
                    137,
                    129,
                    129,
                    129,
                    129,
                    129,
                    129,
                    129,
                    129,
                    136,
                    138,
                    142,
                    106,
                    106,
                    143,
                    139,
                    149,
                    154,
                    152,
                    150,
                    144,
                    150,
                    149,
                    149,
                    148,
                    144,
                    142,
                    142,
                    142,
                    141,
                    140,
                    140,
                    139,
                    138,
                    137,
                    137,
                    136,
                    137,
                    136,
                    136,
                    136,
                    136,
                    136,
                    136,
                    137,
                    136,
                    136,
                    136,
                    137,
                    137,
                    136,
                    136,
                    134,
                    134,
                    134,
                    133,
                    132,
                    132,
                    132,
                    132,
                    132,
                    133,
                    133,
                    133,
                    133,
                    133,
                    134,
                    134,
                    133,
                    134,
                    134,
                    133,
                    134,
                    134,
                    133,
                    134,
                    134,
                    134,
                    134,
                    134,
                    138,
                    138,
                    132,
                    133,
                    142,
                    139,
                    146,
                    140,
                    136,
                    134,
                    136,
                    131,
                    137,
                    135,
                    137,
                    137,
                    136,
                    140,
                    142,
                    151,
                    146,
                    154,
                    161,
                    158,
                    160,
                    154,
                    154,
                    158,
                    155,
                    150,
                    153,
                    155,
                    158,
                    163,
                    162,
                    162,
                    163,
                    163,
                    160,
                    159,
                    160,
                    159,
                    166,
                    164,
                    161,
                    167,
                    159,
                    152,
                    152,
                    150,
                    151,
                    155,
                    159,
                    154,
                    157,
                    163,
                    158,
                    163,
                    164,
                    166,
                    169,
                    169,
                    170,
                    172,
                    165,
                    163,
                    156,
                    156,
                    161,
                    161,
                    164,
                    160,
                    158,
                    159,
                    154,
                    158,
                    152,
                    160,
                    155,
                    149,
                    151,
                    148,
                    146,
                    154,
                    155,
                    152,
                    152,
                    156,
                    156,
                    153,
                    154,
                    158,
                    155,
                    150,
                    149,
                    148,
                    156,
                    158,
                    159,
                    160,
                    155,
                    155,
                    148,
                    148,
                    152,
                    152,
                    150,
                    153,
                    158,
                    158,
                    154,
                    155,
                    157,
                    159,
                    151,
                    140,
                    140,
                    138
                  ]
                },
                {
                  "marker": {
                    "color": "green"
                  },
                  "name": "Respiration Rate",
                  "showlegend": true,
                  "type": "scatter",
                  "x": [
                    "2015-08-17T15:09:00",
                    "2015-08-17T15:10:00",
                    "2015-08-17T15:11:00",
                    "2015-08-17T15:12:00",
                    "2015-08-17T15:13:00",
                    "2015-08-17T15:14:00",
                    "2015-08-17T15:15:00",
                    "2015-08-17T15:16:00",
                    "2015-08-17T15:17:00",
                    "2015-08-17T15:18:00",
                    "2015-08-17T15:19:00",
                    "2015-08-17T15:20:00",
                    "2015-08-17T15:21:00",
                    "2015-08-17T15:22:00",
                    "2015-08-17T15:23:00",
                    "2015-08-17T15:24:00",
                    "2015-08-17T15:25:00",
                    "2015-08-17T15:26:00",
                    "2015-08-17T15:27:00",
                    "2015-08-17T15:28:00",
                    "2015-08-17T15:29:00",
                    "2015-08-17T15:30:00",
                    "2015-08-17T15:31:00",
                    "2015-08-17T15:32:00",
                    "2015-08-17T15:33:00",
                    "2015-08-17T15:34:00",
                    "2015-08-17T15:35:00",
                    "2015-08-17T15:36:00",
                    "2015-08-17T15:37:00",
                    "2015-08-17T15:38:00",
                    "2015-08-17T15:39:00",
                    "2015-08-17T15:40:00",
                    "2015-08-17T15:41:00",
                    "2015-08-17T15:42:00",
                    "2015-08-17T15:43:00",
                    "2015-08-17T15:44:00",
                    "2015-08-17T15:45:00",
                    "2015-08-17T15:46:00",
                    "2015-08-17T15:47:00",
                    "2015-08-17T15:48:00",
                    "2015-08-17T15:49:00",
                    "2015-08-17T15:50:00",
                    "2015-08-17T15:51:00",
                    "2015-08-17T15:52:00",
                    "2015-08-17T15:53:00",
                    "2015-08-17T15:54:00",
                    "2015-08-17T15:55:00",
                    "2015-08-17T15:56:00",
                    "2015-08-17T15:57:00",
                    "2015-08-17T15:58:00",
                    "2015-08-17T15:59:00",
                    "2015-08-17T16:00:00",
                    "2015-08-17T16:01:00",
                    "2015-08-17T16:02:00",
                    "2015-08-17T16:03:00",
                    "2015-08-17T16:04:00",
                    "2015-08-17T16:05:00",
                    "2015-08-17T16:06:00",
                    "2015-08-17T16:07:00",
                    "2015-08-17T16:08:00",
                    "2015-08-17T16:09:00",
                    "2015-08-17T16:10:00",
                    "2015-08-17T16:11:00",
                    "2015-08-17T16:12:00",
                    "2015-08-17T16:13:00",
                    "2015-08-17T16:14:00",
                    "2015-08-17T16:15:00",
                    "2015-08-17T16:16:00",
                    "2015-08-17T16:17:00",
                    "2015-08-17T16:18:00",
                    "2015-08-17T16:19:00",
                    "2015-08-17T16:20:00",
                    "2015-08-17T16:21:00",
                    "2015-08-17T16:22:00",
                    "2015-08-17T16:23:00",
                    "2015-08-17T16:24:00",
                    "2015-08-17T16:25:00",
                    "2015-08-17T16:26:00",
                    "2015-08-17T16:27:00",
                    "2015-08-17T16:28:00",
                    "2015-08-17T16:29:00",
                    "2015-08-17T16:30:00",
                    "2015-08-17T16:31:00",
                    "2015-08-17T16:32:00",
                    "2015-08-17T16:33:00",
                    "2015-08-17T16:34:00",
                    "2015-08-17T16:35:00",
                    "2015-08-17T16:36:00",
                    "2015-08-17T16:37:00",
                    "2015-08-17T16:38:00",
                    "2015-08-17T16:39:00",
                    "2015-08-17T16:40:00",
                    "2015-08-17T16:41:00",
                    "2015-08-17T16:42:00",
                    "2015-08-17T16:43:00",
                    "2015-08-17T16:44:00",
                    "2015-08-17T16:45:00",
                    "2015-08-17T16:46:00",
                    "2015-08-17T16:47:00",
                    "2015-08-17T16:48:00",
                    "2015-08-17T16:49:00",
                    "2015-08-17T16:50:00",
                    "2015-08-17T16:51:00",
                    "2015-08-17T16:52:00",
                    "2015-08-17T16:53:00",
                    "2015-08-17T16:54:00",
                    "2015-08-17T16:55:00",
                    "2015-08-17T16:56:00",
                    "2015-08-17T16:57:00",
                    "2015-08-17T16:58:00",
                    "2015-08-17T16:59:00",
                    "2015-08-17T17:00:00",
                    "2015-08-17T17:01:00",
                    "2015-08-17T17:02:00",
                    "2015-08-17T17:03:00",
                    "2015-08-17T17:04:00",
                    "2015-08-17T17:05:00",
                    "2015-08-17T17:06:00",
                    "2015-08-17T17:07:00",
                    "2015-08-17T17:08:00",
                    "2015-08-17T17:09:00",
                    "2015-08-17T17:10:00",
                    "2015-08-17T17:11:00",
                    "2015-08-17T17:12:00",
                    "2015-08-17T17:13:00",
                    "2015-08-17T17:14:00",
                    "2015-08-17T17:15:00",
                    "2015-08-17T17:16:00",
                    "2015-08-17T17:17:00",
                    "2015-08-17T17:18:00",
                    "2015-08-17T17:19:00",
                    "2015-08-17T17:20:00",
                    "2015-08-17T17:21:00",
                    "2015-08-17T17:22:00",
                    "2015-08-17T17:23:00",
                    "2015-08-17T17:24:00",
                    "2015-08-17T17:25:00",
                    "2015-08-17T17:26:00",
                    "2015-08-17T17:27:00",
                    "2015-08-17T17:28:00",
                    "2015-08-17T17:29:00",
                    "2015-08-17T17:30:00",
                    "2015-08-17T17:31:00",
                    "2015-08-17T17:32:00",
                    "2015-08-17T17:33:00",
                    "2015-08-17T17:34:00",
                    "2015-08-17T17:35:00",
                    "2015-08-17T17:36:00",
                    "2015-08-17T17:37:00",
                    "2015-08-17T17:38:00",
                    "2015-08-17T17:39:00",
                    "2015-08-17T17:40:00",
                    "2015-08-17T17:41:00",
                    "2015-08-17T17:42:00",
                    "2015-08-17T17:43:00",
                    "2015-08-17T17:44:00",
                    "2015-08-17T17:45:00",
                    "2015-08-17T17:46:00",
                    "2015-08-17T17:47:00",
                    "2015-08-17T17:48:00",
                    "2015-08-17T17:49:00",
                    "2015-08-17T17:50:00",
                    "2015-08-17T17:51:00",
                    "2015-08-17T17:52:00",
                    "2015-08-17T17:53:00",
                    "2015-08-17T17:54:00",
                    "2015-08-17T17:55:00",
                    "2015-08-17T17:56:00",
                    "2015-08-17T17:57:00",
                    "2015-08-17T17:58:00",
                    "2015-08-17T17:59:00",
                    "2015-08-17T18:00:00",
                    "2015-08-17T18:01:00",
                    "2015-08-17T18:02:00",
                    "2015-08-17T18:03:00",
                    "2015-08-17T18:04:00",
                    "2015-08-17T18:05:00",
                    "2015-08-17T18:06:00",
                    "2015-08-17T18:07:00",
                    "2015-08-17T18:08:00",
                    "2015-08-17T18:09:00",
                    "2015-08-17T18:10:00",
                    "2015-08-17T18:11:00",
                    "2015-08-17T18:12:00",
                    "2015-08-17T18:13:00",
                    "2015-08-17T18:14:00",
                    "2015-08-17T18:15:00",
                    "2015-08-17T18:16:00",
                    "2015-08-17T18:17:00",
                    "2015-08-17T18:18:00",
                    "2015-08-17T18:19:00",
                    "2015-08-17T18:20:00",
                    "2015-08-17T18:21:00",
                    "2015-08-17T18:22:00",
                    "2015-08-17T18:23:00",
                    "2015-08-17T18:24:00",
                    "2015-08-17T18:25:00",
                    "2015-08-17T18:26:00",
                    "2015-08-17T18:27:00",
                    "2015-08-17T18:28:00",
                    "2015-08-17T18:29:00",
                    "2015-08-17T18:30:00",
                    "2015-08-17T18:31:00",
                    "2015-08-17T18:32:00",
                    "2015-08-17T18:33:00",
                    "2015-08-17T18:34:00",
                    "2015-08-17T18:35:00",
                    "2015-08-17T18:36:00",
                    "2015-08-17T18:37:00",
                    "2015-08-17T18:38:00",
                    "2015-08-17T18:39:00",
                    "2015-08-17T18:40:00",
                    "2015-08-17T18:41:00",
                    "2015-08-17T18:42:00",
                    "2015-08-17T18:43:00",
                    "2015-08-17T18:44:00",
                    "2015-08-17T18:45:00",
                    "2015-08-17T18:46:00",
                    "2015-08-17T18:47:00",
                    "2015-08-17T18:48:00",
                    "2015-08-17T18:49:00",
                    "2015-08-17T18:50:00",
                    "2015-08-17T18:51:00",
                    "2015-08-17T18:52:00",
                    "2015-08-17T18:53:00",
                    "2015-08-17T18:54:00"
                  ],
                  "y": [
                    41,
                    40,
                    42,
                    45,
                    42,
                    41,
                    47,
                    44,
                    45,
                    42,
                    41,
                    46,
                    42,
                    44,
                    42,
                    42,
                    37,
                    45,
                    44,
                    45,
                    44,
                    44,
                    41,
                    36,
                    42,
                    47,
                    46,
                    41,
                    44,
                    42,
                    42,
                    42,
                    42,
                    42,
                    42,
                    42,
                    42,
                    37,
                    39,
                    39,
                    38,
                    38,
                    44,
                    42,
                    49,
                    50,
                    45,
                    48,
                    47,
                    49,
                    48,
                    46,
                    37,
                    41,
                    44,
                    43,
                    43,
                    43,
                    40,
                    40,
                    40,
                    39,
                    40,
                    39,
                    37,
                    38,
                    38,
                    37,
                    37,
                    35,
                    36,
                    36,
                    38,
                    37,
                    35,
                    34,
                    35,
                    36,
                    36,
                    37,
                    36,
                    35,
                    36,
                    36,
                    36,
                    36,
                    36,
                    37,
                    36,
                    36,
                    35,
                    37,
                    38,
                    35,
                    35,
                    36,
                    36,
                    36,
                    36,
                    36,
                    38,
                    38,
                    36,
                    38,
                    37,
                    37,
                    37,
                    38,
                    37,
                    36,
                    35,
                    39,
                    39,
                    43,
                    42,
                    39,
                    39,
                    38,
                    36,
                    39,
                    41,
                    38,
                    37,
                    40,
                    38,
                    38,
                    40,
                    45,
                    46,
                    50,
                    53,
                    53,
                    50,
                    49,
                    51,
                    49,
                    50,
                    47,
                    50,
                    50,
                    49,
                    53,
                    55,
                    52,
                    56,
                    51,
                    52,
                    51,
                    55,
                    48,
                    51,
                    50,
                    55,
                    60,
                    54,
                    57,
                    54,
                    52,
                    56,
                    57,
                    50,
                    62,
                    57,
                    56,
                    58,
                    56,
                    57,
                    54,
                    54,
                    56,
                    58,
                    51,
                    56,
                    64,
                    61,
                    59,
                    53,
                    57,
                    55,
                    55,
                    54,
                    59,
                    58,
                    52,
                    60,
                    48,
                    51,
                    57,
                    56,
                    54,
                    55,
                    46,
                    51,
                    61,
                    53,
                    52,
                    50,
                    57,
                    47,
                    53,
                    52,
                    49,
                    47,
                    49,
                    52,
                    54,
                    42,
                    56,
                    53,
                    52,
                    54,
                    51,
                    55,
                    54,
                    54,
                    51,
                    53,
                    48,
                    49,
                    54,
                    52,
                    51,
                    64,
                    64,
                    55,
                    54
                  ]
                }
              ],
              "layout": {
                "font": {
                  "color": "white"
                },
                "paper_bgcolor": "black",
                "plot_bgcolor": "black",
                "template": {
                  "data": {
                    "bar": [
                      {
                        "error_x": {
                          "color": "#2a3f5f"
                        },
                        "error_y": {
                          "color": "#2a3f5f"
                        },
                        "marker": {
                          "line": {
                            "color": "#E5ECF6",
                            "width": 0.5
                          },
                          "pattern": {
                            "fillmode": "overlay",
                            "size": 10,
                            "solidity": 0.2
                          }
                        },
                        "type": "bar"
                      }
                    ],
                    "barpolar": [
                      {
                        "marker": {
                          "line": {
                            "color": "#E5ECF6",
                            "width": 0.5
                          },
                          "pattern": {
                            "fillmode": "overlay",
                            "size": 10,
                            "solidity": 0.2
                          }
                        },
                        "type": "barpolar"
                      }
                    ],
                    "carpet": [
                      {
                        "aaxis": {
                          "endlinecolor": "#2a3f5f",
                          "gridcolor": "white",
                          "linecolor": "white",
                          "minorgridcolor": "white",
                          "startlinecolor": "#2a3f5f"
                        },
                        "baxis": {
                          "endlinecolor": "#2a3f5f",
                          "gridcolor": "white",
                          "linecolor": "white",
                          "minorgridcolor": "white",
                          "startlinecolor": "#2a3f5f"
                        },
                        "type": "carpet"
                      }
                    ],
                    "choropleth": [
                      {
                        "colorbar": {
                          "outlinewidth": 0,
                          "ticks": ""
                        },
                        "type": "choropleth"
                      }
                    ],
                    "contour": [
                      {
                        "colorbar": {
                          "outlinewidth": 0,
                          "ticks": ""
                        },
                        "colorscale": [
                          [
                            0,
                            "#0d0887"
                          ],
                          [
                            0.1111111111111111,
                            "#46039f"
                          ],
                          [
                            0.2222222222222222,
                            "#7201a8"
                          ],
                          [
                            0.3333333333333333,
                            "#9c179e"
                          ],
                          [
                            0.4444444444444444,
                            "#bd3786"
                          ],
                          [
                            0.5555555555555556,
                            "#d8576b"
                          ],
                          [
                            0.6666666666666666,
                            "#ed7953"
                          ],
                          [
                            0.7777777777777778,
                            "#fb9f3a"
                          ],
                          [
                            0.8888888888888888,
                            "#fdca26"
                          ],
                          [
                            1,
                            "#f0f921"
                          ]
                        ],
                        "type": "contour"
                      }
                    ],
                    "contourcarpet": [
                      {
                        "colorbar": {
                          "outlinewidth": 0,
                          "ticks": ""
                        },
                        "type": "contourcarpet"
                      }
                    ],
                    "heatmap": [
                      {
                        "colorbar": {
                          "outlinewidth": 0,
                          "ticks": ""
                        },
                        "colorscale": [
                          [
                            0,
                            "#0d0887"
                          ],
                          [
                            0.1111111111111111,
                            "#46039f"
                          ],
                          [
                            0.2222222222222222,
                            "#7201a8"
                          ],
                          [
                            0.3333333333333333,
                            "#9c179e"
                          ],
                          [
                            0.4444444444444444,
                            "#bd3786"
                          ],
                          [
                            0.5555555555555556,
                            "#d8576b"
                          ],
                          [
                            0.6666666666666666,
                            "#ed7953"
                          ],
                          [
                            0.7777777777777778,
                            "#fb9f3a"
                          ],
                          [
                            0.8888888888888888,
                            "#fdca26"
                          ],
                          [
                            1,
                            "#f0f921"
                          ]
                        ],
                        "type": "heatmap"
                      }
                    ],
                    "heatmapgl": [
                      {
                        "colorbar": {
                          "outlinewidth": 0,
                          "ticks": ""
                        },
                        "colorscale": [
                          [
                            0,
                            "#0d0887"
                          ],
                          [
                            0.1111111111111111,
                            "#46039f"
                          ],
                          [
                            0.2222222222222222,
                            "#7201a8"
                          ],
                          [
                            0.3333333333333333,
                            "#9c179e"
                          ],
                          [
                            0.4444444444444444,
                            "#bd3786"
                          ],
                          [
                            0.5555555555555556,
                            "#d8576b"
                          ],
                          [
                            0.6666666666666666,
                            "#ed7953"
                          ],
                          [
                            0.7777777777777778,
                            "#fb9f3a"
                          ],
                          [
                            0.8888888888888888,
                            "#fdca26"
                          ],
                          [
                            1,
                            "#f0f921"
                          ]
                        ],
                        "type": "heatmapgl"
                      }
                    ],
                    "histogram": [
                      {
                        "marker": {
                          "pattern": {
                            "fillmode": "overlay",
                            "size": 10,
                            "solidity": 0.2
                          }
                        },
                        "type": "histogram"
                      }
                    ],
                    "histogram2d": [
                      {
                        "colorbar": {
                          "outlinewidth": 0,
                          "ticks": ""
                        },
                        "colorscale": [
                          [
                            0,
                            "#0d0887"
                          ],
                          [
                            0.1111111111111111,
                            "#46039f"
                          ],
                          [
                            0.2222222222222222,
                            "#7201a8"
                          ],
                          [
                            0.3333333333333333,
                            "#9c179e"
                          ],
                          [
                            0.4444444444444444,
                            "#bd3786"
                          ],
                          [
                            0.5555555555555556,
                            "#d8576b"
                          ],
                          [
                            0.6666666666666666,
                            "#ed7953"
                          ],
                          [
                            0.7777777777777778,
                            "#fb9f3a"
                          ],
                          [
                            0.8888888888888888,
                            "#fdca26"
                          ],
                          [
                            1,
                            "#f0f921"
                          ]
                        ],
                        "type": "histogram2d"
                      }
                    ],
                    "histogram2dcontour": [
                      {
                        "colorbar": {
                          "outlinewidth": 0,
                          "ticks": ""
                        },
                        "colorscale": [
                          [
                            0,
                            "#0d0887"
                          ],
                          [
                            0.1111111111111111,
                            "#46039f"
                          ],
                          [
                            0.2222222222222222,
                            "#7201a8"
                          ],
                          [
                            0.3333333333333333,
                            "#9c179e"
                          ],
                          [
                            0.4444444444444444,
                            "#bd3786"
                          ],
                          [
                            0.5555555555555556,
                            "#d8576b"
                          ],
                          [
                            0.6666666666666666,
                            "#ed7953"
                          ],
                          [
                            0.7777777777777778,
                            "#fb9f3a"
                          ],
                          [
                            0.8888888888888888,
                            "#fdca26"
                          ],
                          [
                            1,
                            "#f0f921"
                          ]
                        ],
                        "type": "histogram2dcontour"
                      }
                    ],
                    "mesh3d": [
                      {
                        "colorbar": {
                          "outlinewidth": 0,
                          "ticks": ""
                        },
                        "type": "mesh3d"
                      }
                    ],
                    "parcoords": [
                      {
                        "line": {
                          "colorbar": {
                            "outlinewidth": 0,
                            "ticks": ""
                          }
                        },
                        "type": "parcoords"
                      }
                    ],
                    "pie": [
                      {
                        "automargin": true,
                        "type": "pie"
                      }
                    ],
                    "scatter": [
                      {
                        "fillpattern": {
                          "fillmode": "overlay",
                          "size": 10,
                          "solidity": 0.2
                        },
                        "type": "scatter"
                      }
                    ],
                    "scatter3d": [
                      {
                        "line": {
                          "colorbar": {
                            "outlinewidth": 0,
                            "ticks": ""
                          }
                        },
                        "marker": {
                          "colorbar": {
                            "outlinewidth": 0,
                            "ticks": ""
                          }
                        },
                        "type": "scatter3d"
                      }
                    ],
                    "scattercarpet": [
                      {
                        "marker": {
                          "colorbar": {
                            "outlinewidth": 0,
                            "ticks": ""
                          }
                        },
                        "type": "scattercarpet"
                      }
                    ],
                    "scattergeo": [
                      {
                        "marker": {
                          "colorbar": {
                            "outlinewidth": 0,
                            "ticks": ""
                          }
                        },
                        "type": "scattergeo"
                      }
                    ],
                    "scattergl": [
                      {
                        "marker": {
                          "colorbar": {
                            "outlinewidth": 0,
                            "ticks": ""
                          }
                        },
                        "type": "scattergl"
                      }
                    ],
                    "scattermapbox": [
                      {
                        "marker": {
                          "colorbar": {
                            "outlinewidth": 0,
                            "ticks": ""
                          }
                        },
                        "type": "scattermapbox"
                      }
                    ],
                    "scatterpolar": [
                      {
                        "marker": {
                          "colorbar": {
                            "outlinewidth": 0,
                            "ticks": ""
                          }
                        },
                        "type": "scatterpolar"
                      }
                    ],
                    "scatterpolargl": [
                      {
                        "marker": {
                          "colorbar": {
                            "outlinewidth": 0,
                            "ticks": ""
                          }
                        },
                        "type": "scatterpolargl"
                      }
                    ],
                    "scatterternary": [
                      {
                        "marker": {
                          "colorbar": {
                            "outlinewidth": 0,
                            "ticks": ""
                          }
                        },
                        "type": "scatterternary"
                      }
                    ],
                    "surface": [
                      {
                        "colorbar": {
                          "outlinewidth": 0,
                          "ticks": ""
                        },
                        "colorscale": [
                          [
                            0,
                            "#0d0887"
                          ],
                          [
                            0.1111111111111111,
                            "#46039f"
                          ],
                          [
                            0.2222222222222222,
                            "#7201a8"
                          ],
                          [
                            0.3333333333333333,
                            "#9c179e"
                          ],
                          [
                            0.4444444444444444,
                            "#bd3786"
                          ],
                          [
                            0.5555555555555556,
                            "#d8576b"
                          ],
                          [
                            0.6666666666666666,
                            "#ed7953"
                          ],
                          [
                            0.7777777777777778,
                            "#fb9f3a"
                          ],
                          [
                            0.8888888888888888,
                            "#fdca26"
                          ],
                          [
                            1,
                            "#f0f921"
                          ]
                        ],
                        "type": "surface"
                      }
                    ],
                    "table": [
                      {
                        "cells": {
                          "fill": {
                            "color": "#EBF0F8"
                          },
                          "line": {
                            "color": "white"
                          }
                        },
                        "header": {
                          "fill": {
                            "color": "#C8D4E3"
                          },
                          "line": {
                            "color": "white"
                          }
                        },
                        "type": "table"
                      }
                    ]
                  },
                  "layout": {
                    "annotationdefaults": {
                      "arrowcolor": "#2a3f5f",
                      "arrowhead": 0,
                      "arrowwidth": 1
                    },
                    "autotypenumbers": "strict",
                    "coloraxis": {
                      "colorbar": {
                        "outlinewidth": 0,
                        "ticks": ""
                      }
                    },
                    "colorscale": {
                      "diverging": [
                        [
                          0,
                          "#8e0152"
                        ],
                        [
                          0.1,
                          "#c51b7d"
                        ],
                        [
                          0.2,
                          "#de77ae"
                        ],
                        [
                          0.3,
                          "#f1b6da"
                        ],
                        [
                          0.4,
                          "#fde0ef"
                        ],
                        [
                          0.5,
                          "#f7f7f7"
                        ],
                        [
                          0.6,
                          "#e6f5d0"
                        ],
                        [
                          0.7,
                          "#b8e186"
                        ],
                        [
                          0.8,
                          "#7fbc41"
                        ],
                        [
                          0.9,
                          "#4d9221"
                        ],
                        [
                          1,
                          "#276419"
                        ]
                      ],
                      "sequential": [
                        [
                          0,
                          "#0d0887"
                        ],
                        [
                          0.1111111111111111,
                          "#46039f"
                        ],
                        [
                          0.2222222222222222,
                          "#7201a8"
                        ],
                        [
                          0.3333333333333333,
                          "#9c179e"
                        ],
                        [
                          0.4444444444444444,
                          "#bd3786"
                        ],
                        [
                          0.5555555555555556,
                          "#d8576b"
                        ],
                        [
                          0.6666666666666666,
                          "#ed7953"
                        ],
                        [
                          0.7777777777777778,
                          "#fb9f3a"
                        ],
                        [
                          0.8888888888888888,
                          "#fdca26"
                        ],
                        [
                          1,
                          "#f0f921"
                        ]
                      ],
                      "sequentialminus": [
                        [
                          0,
                          "#0d0887"
                        ],
                        [
                          0.1111111111111111,
                          "#46039f"
                        ],
                        [
                          0.2222222222222222,
                          "#7201a8"
                        ],
                        [
                          0.3333333333333333,
                          "#9c179e"
                        ],
                        [
                          0.4444444444444444,
                          "#bd3786"
                        ],
                        [
                          0.5555555555555556,
                          "#d8576b"
                        ],
                        [
                          0.6666666666666666,
                          "#ed7953"
                        ],
                        [
                          0.7777777777777778,
                          "#fb9f3a"
                        ],
                        [
                          0.8888888888888888,
                          "#fdca26"
                        ],
                        [
                          1,
                          "#f0f921"
                        ]
                      ]
                    },
                    "colorway": [
                      "#636efa",
                      "#EF553B",
                      "#00cc96",
                      "#ab63fa",
                      "#FFA15A",
                      "#19d3f3",
                      "#FF6692",
                      "#B6E880",
                      "#FF97FF",
                      "#FECB52"
                    ],
                    "font": {
                      "color": "#2a3f5f"
                    },
                    "geo": {
                      "bgcolor": "white",
                      "lakecolor": "white",
                      "landcolor": "#E5ECF6",
                      "showlakes": true,
                      "showland": true,
                      "subunitcolor": "white"
                    },
                    "hoverlabel": {
                      "align": "left"
                    },
                    "hovermode": "closest",
                    "mapbox": {
                      "style": "light"
                    },
                    "paper_bgcolor": "white",
                    "plot_bgcolor": "#E5ECF6",
                    "polar": {
                      "angularaxis": {
                        "gridcolor": "white",
                        "linecolor": "white",
                        "ticks": ""
                      },
                      "bgcolor": "#E5ECF6",
                      "radialaxis": {
                        "gridcolor": "white",
                        "linecolor": "white",
                        "ticks": ""
                      }
                    },
                    "scene": {
                      "xaxis": {
                        "backgroundcolor": "#E5ECF6",
                        "gridcolor": "white",
                        "gridwidth": 2,
                        "linecolor": "white",
                        "showbackground": true,
                        "ticks": "",
                        "zerolinecolor": "white"
                      },
                      "yaxis": {
                        "backgroundcolor": "#E5ECF6",
                        "gridcolor": "white",
                        "gridwidth": 2,
                        "linecolor": "white",
                        "showbackground": true,
                        "ticks": "",
                        "zerolinecolor": "white"
                      },
                      "zaxis": {
                        "backgroundcolor": "#E5ECF6",
                        "gridcolor": "white",
                        "gridwidth": 2,
                        "linecolor": "white",
                        "showbackground": true,
                        "ticks": "",
                        "zerolinecolor": "white"
                      }
                    },
                    "shapedefaults": {
                      "line": {
                        "color": "#2a3f5f"
                      }
                    },
                    "ternary": {
                      "aaxis": {
                        "gridcolor": "white",
                        "linecolor": "white",
                        "ticks": ""
                      },
                      "baxis": {
                        "gridcolor": "white",
                        "linecolor": "white",
                        "ticks": ""
                      },
                      "bgcolor": "#E5ECF6",
                      "caxis": {
                        "gridcolor": "white",
                        "linecolor": "white",
                        "ticks": ""
                      }
                    },
                    "title": {
                      "x": 0.05
                    },
                    "xaxis": {
                      "automargin": true,
                      "gridcolor": "white",
                      "linecolor": "white",
                      "ticks": "",
                      "title": {
                        "standoff": 15
                      },
                      "zerolinecolor": "white",
                      "zerolinewidth": 2
                    },
                    "yaxis": {
                      "automargin": true,
                      "gridcolor": "white",
                      "linecolor": "white",
                      "ticks": "",
                      "title": {
                        "standoff": 15
                      },
                      "zerolinecolor": "white",
                      "zerolinewidth": 2
                    }
                  }
                },
                "title": {
                  "text": "Heart and Respiration Rate",
                  "x": 0.5,
                  "xanchor": "center",
                  "y": 0.9,
                  "yanchor": "top"
                },
                "xaxis": {
                  "gridcolor": "gray",
                  "gridwidth": 1,
                  "showgrid": true
                },
                "yaxis": {
                  "gridcolor": "gray",
                  "gridwidth": 1,
                  "showgrid": true
                }
              }
            }
          },
          "metadata": {},
          "output_type": "display_data"
        }
      ],
      "source": [
        "#Heart and respiration rate\n",
        "\n",
        "fig = go.Figure()\n",
        "\n",
        "# add line / trace 1 to figure\n",
        "fig.add_trace(go.Scatter(\n",
        "    x=df.index,\n",
        "    y=df['Lifetouch Heart Rate'],\n",
        "    marker=dict(\n",
        "        color=\"red\"\n",
        "    ),\n",
        "    showlegend=True, name='Heart Rate'\n",
        "))\n",
        "\n",
        "# add line / trace 2 to figure\n",
        "fig.add_trace(go.Scatter(\n",
        "    x=df.index,\n",
        "    y=df['Lifetouch Respiration Rate'],\n",
        "    marker=dict(\n",
        "        color=\"green\"\n",
        "    ),\n",
        "    showlegend=True, name= 'Respiration Rate'\n",
        "))\n",
        "\n",
        "\n",
        "# Show grid lines\n",
        "fig.update_layout(plot_bgcolor='black',\n",
        "    paper_bgcolor='black',\n",
        "    font=dict(color='white'),\n",
        "    xaxis=dict(showgrid=True, gridcolor='gray', gridwidth=1),\n",
        "    yaxis=dict(showgrid=True, gridcolor='gray', gridwidth=1),\n",
        "    title={\n",
        "        'text': \"Heart and Respiration Rate\",\n",
        "        'y':0.9,\n",
        "        'x':0.5,\n",
        "        'xanchor': 'center',\n",
        "        'yanchor': 'top'\n",
        "    }\n",
        ")\n",
        "\n",
        "fig.show()"
      ]
    },
    {
      "cell_type": "code",
      "execution_count": null,
      "metadata": {
        "id": "AzDjkEKeZrLn",
        "outputId": "ae820e7e-cdd6-43c4-baae-c374cb6a6e5c"
      },
      "outputs": [
        {
          "data": {
            "application/vnd.plotly.v1+json": {
              "config": {
                "plotlyServerURL": "https://plot.ly"
              },
              "data": [
                {
                  "marker": {
                    "color": "red"
                  },
                  "name": "Oximeter SpO2",
                  "showlegend": true,
                  "type": "scatter",
                  "x": [
                    "2015-08-17T15:09:00",
                    "2015-08-17T15:10:00",
                    "2015-08-17T15:11:00",
                    "2015-08-17T15:12:00",
                    "2015-08-17T15:13:00",
                    "2015-08-17T15:14:00",
                    "2015-08-17T15:15:00",
                    "2015-08-17T15:16:00",
                    "2015-08-17T15:17:00",
                    "2015-08-17T15:18:00",
                    "2015-08-17T15:19:00",
                    "2015-08-17T15:20:00",
                    "2015-08-17T15:21:00",
                    "2015-08-17T15:22:00",
                    "2015-08-17T15:23:00",
                    "2015-08-17T15:24:00",
                    "2015-08-17T15:25:00",
                    "2015-08-17T15:26:00",
                    "2015-08-17T15:27:00",
                    "2015-08-17T15:28:00",
                    "2015-08-17T15:29:00",
                    "2015-08-17T15:30:00",
                    "2015-08-17T15:31:00",
                    "2015-08-17T15:32:00",
                    "2015-08-17T15:33:00",
                    "2015-08-17T15:34:00",
                    "2015-08-17T15:35:00",
                    "2015-08-17T15:36:00",
                    "2015-08-17T15:37:00",
                    "2015-08-17T15:38:00",
                    "2015-08-17T15:39:00",
                    "2015-08-17T15:40:00",
                    "2015-08-17T15:41:00",
                    "2015-08-17T15:42:00",
                    "2015-08-17T15:43:00",
                    "2015-08-17T15:44:00",
                    "2015-08-17T15:45:00",
                    "2015-08-17T15:46:00",
                    "2015-08-17T15:47:00",
                    "2015-08-17T15:48:00",
                    "2015-08-17T15:49:00",
                    "2015-08-17T15:50:00",
                    "2015-08-17T15:51:00",
                    "2015-08-17T15:52:00",
                    "2015-08-17T15:53:00",
                    "2015-08-17T15:54:00",
                    "2015-08-17T15:55:00",
                    "2015-08-17T15:56:00",
                    "2015-08-17T15:57:00",
                    "2015-08-17T15:58:00",
                    "2015-08-17T15:59:00",
                    "2015-08-17T16:00:00",
                    "2015-08-17T16:01:00",
                    "2015-08-17T16:02:00",
                    "2015-08-17T16:03:00",
                    "2015-08-17T16:04:00",
                    "2015-08-17T16:05:00",
                    "2015-08-17T16:06:00",
                    "2015-08-17T16:07:00",
                    "2015-08-17T16:08:00",
                    "2015-08-17T16:09:00",
                    "2015-08-17T16:10:00",
                    "2015-08-17T16:11:00",
                    "2015-08-17T16:12:00",
                    "2015-08-17T16:13:00",
                    "2015-08-17T16:14:00",
                    "2015-08-17T16:15:00",
                    "2015-08-17T16:16:00",
                    "2015-08-17T16:17:00",
                    "2015-08-17T16:18:00",
                    "2015-08-17T16:19:00",
                    "2015-08-17T16:20:00",
                    "2015-08-17T16:21:00",
                    "2015-08-17T16:22:00",
                    "2015-08-17T16:23:00",
                    "2015-08-17T16:24:00",
                    "2015-08-17T16:25:00",
                    "2015-08-17T16:26:00",
                    "2015-08-17T16:27:00",
                    "2015-08-17T16:28:00",
                    "2015-08-17T16:29:00",
                    "2015-08-17T16:30:00",
                    "2015-08-17T16:31:00",
                    "2015-08-17T16:32:00",
                    "2015-08-17T16:33:00",
                    "2015-08-17T16:34:00",
                    "2015-08-17T16:35:00",
                    "2015-08-17T16:36:00",
                    "2015-08-17T16:37:00",
                    "2015-08-17T16:38:00",
                    "2015-08-17T16:39:00",
                    "2015-08-17T16:40:00",
                    "2015-08-17T16:41:00",
                    "2015-08-17T16:42:00",
                    "2015-08-17T16:43:00",
                    "2015-08-17T16:44:00",
                    "2015-08-17T16:45:00",
                    "2015-08-17T16:46:00",
                    "2015-08-17T16:47:00",
                    "2015-08-17T16:48:00",
                    "2015-08-17T16:49:00",
                    "2015-08-17T16:50:00",
                    "2015-08-17T16:51:00",
                    "2015-08-17T16:52:00",
                    "2015-08-17T16:53:00",
                    "2015-08-17T16:54:00",
                    "2015-08-17T16:55:00",
                    "2015-08-17T16:56:00",
                    "2015-08-17T16:57:00",
                    "2015-08-17T16:58:00",
                    "2015-08-17T16:59:00",
                    "2015-08-17T17:00:00",
                    "2015-08-17T17:01:00",
                    "2015-08-17T17:02:00",
                    "2015-08-17T17:03:00",
                    "2015-08-17T17:04:00",
                    "2015-08-17T17:05:00",
                    "2015-08-17T17:06:00",
                    "2015-08-17T17:07:00",
                    "2015-08-17T17:08:00",
                    "2015-08-17T17:09:00",
                    "2015-08-17T17:10:00",
                    "2015-08-17T17:11:00",
                    "2015-08-17T17:12:00",
                    "2015-08-17T17:13:00",
                    "2015-08-17T17:14:00",
                    "2015-08-17T17:15:00",
                    "2015-08-17T17:16:00",
                    "2015-08-17T17:17:00",
                    "2015-08-17T17:18:00",
                    "2015-08-17T17:19:00",
                    "2015-08-17T17:20:00",
                    "2015-08-17T17:21:00",
                    "2015-08-17T17:22:00",
                    "2015-08-17T17:23:00",
                    "2015-08-17T17:24:00",
                    "2015-08-17T17:25:00",
                    "2015-08-17T17:26:00",
                    "2015-08-17T17:27:00",
                    "2015-08-17T17:28:00",
                    "2015-08-17T17:29:00",
                    "2015-08-17T17:30:00",
                    "2015-08-17T17:31:00",
                    "2015-08-17T17:32:00",
                    "2015-08-17T17:33:00",
                    "2015-08-17T17:34:00",
                    "2015-08-17T17:35:00",
                    "2015-08-17T17:36:00",
                    "2015-08-17T17:37:00",
                    "2015-08-17T17:38:00",
                    "2015-08-17T17:39:00",
                    "2015-08-17T17:40:00",
                    "2015-08-17T17:41:00",
                    "2015-08-17T17:42:00",
                    "2015-08-17T17:43:00",
                    "2015-08-17T17:44:00",
                    "2015-08-17T17:45:00",
                    "2015-08-17T17:46:00",
                    "2015-08-17T17:47:00",
                    "2015-08-17T17:48:00",
                    "2015-08-17T17:49:00",
                    "2015-08-17T17:50:00",
                    "2015-08-17T17:51:00",
                    "2015-08-17T17:52:00",
                    "2015-08-17T17:53:00",
                    "2015-08-17T17:54:00",
                    "2015-08-17T17:55:00",
                    "2015-08-17T17:56:00",
                    "2015-08-17T17:57:00",
                    "2015-08-17T17:58:00",
                    "2015-08-17T17:59:00",
                    "2015-08-17T18:00:00",
                    "2015-08-17T18:01:00",
                    "2015-08-17T18:02:00",
                    "2015-08-17T18:03:00",
                    "2015-08-17T18:04:00",
                    "2015-08-17T18:05:00",
                    "2015-08-17T18:06:00",
                    "2015-08-17T18:07:00",
                    "2015-08-17T18:08:00",
                    "2015-08-17T18:09:00",
                    "2015-08-17T18:10:00",
                    "2015-08-17T18:11:00",
                    "2015-08-17T18:12:00",
                    "2015-08-17T18:13:00",
                    "2015-08-17T18:14:00",
                    "2015-08-17T18:15:00",
                    "2015-08-17T18:16:00",
                    "2015-08-17T18:17:00",
                    "2015-08-17T18:18:00",
                    "2015-08-17T18:19:00",
                    "2015-08-17T18:20:00",
                    "2015-08-17T18:21:00",
                    "2015-08-17T18:22:00",
                    "2015-08-17T18:23:00",
                    "2015-08-17T18:24:00",
                    "2015-08-17T18:25:00",
                    "2015-08-17T18:26:00",
                    "2015-08-17T18:27:00",
                    "2015-08-17T18:28:00",
                    "2015-08-17T18:29:00",
                    "2015-08-17T18:30:00",
                    "2015-08-17T18:31:00",
                    "2015-08-17T18:32:00",
                    "2015-08-17T18:33:00",
                    "2015-08-17T18:34:00",
                    "2015-08-17T18:35:00",
                    "2015-08-17T18:36:00",
                    "2015-08-17T18:37:00",
                    "2015-08-17T18:38:00",
                    "2015-08-17T18:39:00",
                    "2015-08-17T18:40:00",
                    "2015-08-17T18:41:00",
                    "2015-08-17T18:42:00",
                    "2015-08-17T18:43:00",
                    "2015-08-17T18:44:00",
                    "2015-08-17T18:45:00",
                    "2015-08-17T18:46:00",
                    "2015-08-17T18:47:00",
                    "2015-08-17T18:48:00",
                    "2015-08-17T18:49:00",
                    "2015-08-17T18:50:00",
                    "2015-08-17T18:51:00",
                    "2015-08-17T18:52:00",
                    "2015-08-17T18:53:00",
                    "2015-08-17T18:54:00"
                  ],
                  "y": [
                    92,
                    92,
                    89,
                    93,
                    94,
                    92,
                    92,
                    92,
                    94,
                    93,
                    93,
                    93,
                    94,
                    94,
                    95,
                    94,
                    94,
                    96,
                    95,
                    95,
                    95,
                    96,
                    96,
                    95,
                    96,
                    96,
                    95,
                    96,
                    96,
                    96,
                    94,
                    92,
                    -1,
                    98,
                    97,
                    96,
                    96,
                    94,
                    93,
                    95,
                    95,
                    94,
                    -1,
                    -1,
                    -1,
                    -1,
                    94,
                    94,
                    93,
                    93,
                    93,
                    93,
                    92,
                    92,
                    93,
                    93,
                    93,
                    93,
                    92,
                    92,
                    92,
                    92,
                    92,
                    92,
                    92,
                    92,
                    92,
                    92,
                    91,
                    92,
                    92,
                    92,
                    92,
                    92,
                    92,
                    92,
                    92,
                    92,
                    92,
                    92,
                    92,
                    92,
                    93,
                    92,
                    93,
                    93,
                    93,
                    93,
                    93,
                    94,
                    93,
                    93,
                    93,
                    93,
                    94,
                    93,
                    93,
                    93,
                    93,
                    93,
                    93,
                    94,
                    94,
                    94,
                    93,
                    94,
                    94,
                    94,
                    94,
                    93,
                    91,
                    93,
                    95,
                    94,
                    94,
                    96,
                    95,
                    94,
                    93,
                    93,
                    94,
                    93,
                    93,
                    94,
                    93,
                    -1,
                    94,
                    95,
                    96,
                    95,
                    95,
                    96,
                    -1,
                    95,
                    96,
                    96,
                    97,
                    97,
                    98,
                    97,
                    98,
                    96,
                    96,
                    96,
                    96,
                    -1,
                    95,
                    96,
                    95,
                    94,
                    -1,
                    -1,
                    -1,
                    -1,
                    96,
                    96,
                    96,
                    96,
                    96,
                    96,
                    95,
                    93,
                    96,
                    -1,
                    -1,
                    -1,
                    -1,
                    -1,
                    -1,
                    -1,
                    -1,
                    -1,
                    -1,
                    -1,
                    -1,
                    -1,
                    -1,
                    -1,
                    -1,
                    94,
                    94,
                    92,
                    91,
                    92,
                    93,
                    93,
                    93,
                    93,
                    93,
                    92,
                    93,
                    94,
                    96,
                    92,
                    94,
                    94,
                    -1,
                    -1,
                    -1,
                    -1,
                    -1,
                    -1,
                    -1,
                    -1,
                    -1,
                    -1,
                    -1,
                    -1,
                    95,
                    96,
                    97,
                    97,
                    98,
                    97,
                    98,
                    98,
                    95,
                    -1,
                    -1,
                    -1,
                    -1,
                    -1,
                    -1,
                    -1,
                    -1,
                    -1
                  ]
                },
                {
                  "marker": {
                    "color": "green"
                  },
                  "name": "Oximeter Pulse",
                  "showlegend": true,
                  "type": "scatter",
                  "x": [
                    "2015-08-17T15:09:00",
                    "2015-08-17T15:10:00",
                    "2015-08-17T15:11:00",
                    "2015-08-17T15:12:00",
                    "2015-08-17T15:13:00",
                    "2015-08-17T15:14:00",
                    "2015-08-17T15:15:00",
                    "2015-08-17T15:16:00",
                    "2015-08-17T15:17:00",
                    "2015-08-17T15:18:00",
                    "2015-08-17T15:19:00",
                    "2015-08-17T15:20:00",
                    "2015-08-17T15:21:00",
                    "2015-08-17T15:22:00",
                    "2015-08-17T15:23:00",
                    "2015-08-17T15:24:00",
                    "2015-08-17T15:25:00",
                    "2015-08-17T15:26:00",
                    "2015-08-17T15:27:00",
                    "2015-08-17T15:28:00",
                    "2015-08-17T15:29:00",
                    "2015-08-17T15:30:00",
                    "2015-08-17T15:31:00",
                    "2015-08-17T15:32:00",
                    "2015-08-17T15:33:00",
                    "2015-08-17T15:34:00",
                    "2015-08-17T15:35:00",
                    "2015-08-17T15:36:00",
                    "2015-08-17T15:37:00",
                    "2015-08-17T15:38:00",
                    "2015-08-17T15:39:00",
                    "2015-08-17T15:40:00",
                    "2015-08-17T15:41:00",
                    "2015-08-17T15:42:00",
                    "2015-08-17T15:43:00",
                    "2015-08-17T15:44:00",
                    "2015-08-17T15:45:00",
                    "2015-08-17T15:46:00",
                    "2015-08-17T15:47:00",
                    "2015-08-17T15:48:00",
                    "2015-08-17T15:49:00",
                    "2015-08-17T15:50:00",
                    "2015-08-17T15:51:00",
                    "2015-08-17T15:52:00",
                    "2015-08-17T15:53:00",
                    "2015-08-17T15:54:00",
                    "2015-08-17T15:55:00",
                    "2015-08-17T15:56:00",
                    "2015-08-17T15:57:00",
                    "2015-08-17T15:58:00",
                    "2015-08-17T15:59:00",
                    "2015-08-17T16:00:00",
                    "2015-08-17T16:01:00",
                    "2015-08-17T16:02:00",
                    "2015-08-17T16:03:00",
                    "2015-08-17T16:04:00",
                    "2015-08-17T16:05:00",
                    "2015-08-17T16:06:00",
                    "2015-08-17T16:07:00",
                    "2015-08-17T16:08:00",
                    "2015-08-17T16:09:00",
                    "2015-08-17T16:10:00",
                    "2015-08-17T16:11:00",
                    "2015-08-17T16:12:00",
                    "2015-08-17T16:13:00",
                    "2015-08-17T16:14:00",
                    "2015-08-17T16:15:00",
                    "2015-08-17T16:16:00",
                    "2015-08-17T16:17:00",
                    "2015-08-17T16:18:00",
                    "2015-08-17T16:19:00",
                    "2015-08-17T16:20:00",
                    "2015-08-17T16:21:00",
                    "2015-08-17T16:22:00",
                    "2015-08-17T16:23:00",
                    "2015-08-17T16:24:00",
                    "2015-08-17T16:25:00",
                    "2015-08-17T16:26:00",
                    "2015-08-17T16:27:00",
                    "2015-08-17T16:28:00",
                    "2015-08-17T16:29:00",
                    "2015-08-17T16:30:00",
                    "2015-08-17T16:31:00",
                    "2015-08-17T16:32:00",
                    "2015-08-17T16:33:00",
                    "2015-08-17T16:34:00",
                    "2015-08-17T16:35:00",
                    "2015-08-17T16:36:00",
                    "2015-08-17T16:37:00",
                    "2015-08-17T16:38:00",
                    "2015-08-17T16:39:00",
                    "2015-08-17T16:40:00",
                    "2015-08-17T16:41:00",
                    "2015-08-17T16:42:00",
                    "2015-08-17T16:43:00",
                    "2015-08-17T16:44:00",
                    "2015-08-17T16:45:00",
                    "2015-08-17T16:46:00",
                    "2015-08-17T16:47:00",
                    "2015-08-17T16:48:00",
                    "2015-08-17T16:49:00",
                    "2015-08-17T16:50:00",
                    "2015-08-17T16:51:00",
                    "2015-08-17T16:52:00",
                    "2015-08-17T16:53:00",
                    "2015-08-17T16:54:00",
                    "2015-08-17T16:55:00",
                    "2015-08-17T16:56:00",
                    "2015-08-17T16:57:00",
                    "2015-08-17T16:58:00",
                    "2015-08-17T16:59:00",
                    "2015-08-17T17:00:00",
                    "2015-08-17T17:01:00",
                    "2015-08-17T17:02:00",
                    "2015-08-17T17:03:00",
                    "2015-08-17T17:04:00",
                    "2015-08-17T17:05:00",
                    "2015-08-17T17:06:00",
                    "2015-08-17T17:07:00",
                    "2015-08-17T17:08:00",
                    "2015-08-17T17:09:00",
                    "2015-08-17T17:10:00",
                    "2015-08-17T17:11:00",
                    "2015-08-17T17:12:00",
                    "2015-08-17T17:13:00",
                    "2015-08-17T17:14:00",
                    "2015-08-17T17:15:00",
                    "2015-08-17T17:16:00",
                    "2015-08-17T17:17:00",
                    "2015-08-17T17:18:00",
                    "2015-08-17T17:19:00",
                    "2015-08-17T17:20:00",
                    "2015-08-17T17:21:00",
                    "2015-08-17T17:22:00",
                    "2015-08-17T17:23:00",
                    "2015-08-17T17:24:00",
                    "2015-08-17T17:25:00",
                    "2015-08-17T17:26:00",
                    "2015-08-17T17:27:00",
                    "2015-08-17T17:28:00",
                    "2015-08-17T17:29:00",
                    "2015-08-17T17:30:00",
                    "2015-08-17T17:31:00",
                    "2015-08-17T17:32:00",
                    "2015-08-17T17:33:00",
                    "2015-08-17T17:34:00",
                    "2015-08-17T17:35:00",
                    "2015-08-17T17:36:00",
                    "2015-08-17T17:37:00",
                    "2015-08-17T17:38:00",
                    "2015-08-17T17:39:00",
                    "2015-08-17T17:40:00",
                    "2015-08-17T17:41:00",
                    "2015-08-17T17:42:00",
                    "2015-08-17T17:43:00",
                    "2015-08-17T17:44:00",
                    "2015-08-17T17:45:00",
                    "2015-08-17T17:46:00",
                    "2015-08-17T17:47:00",
                    "2015-08-17T17:48:00",
                    "2015-08-17T17:49:00",
                    "2015-08-17T17:50:00",
                    "2015-08-17T17:51:00",
                    "2015-08-17T17:52:00",
                    "2015-08-17T17:53:00",
                    "2015-08-17T17:54:00",
                    "2015-08-17T17:55:00",
                    "2015-08-17T17:56:00",
                    "2015-08-17T17:57:00",
                    "2015-08-17T17:58:00",
                    "2015-08-17T17:59:00",
                    "2015-08-17T18:00:00",
                    "2015-08-17T18:01:00",
                    "2015-08-17T18:02:00",
                    "2015-08-17T18:03:00",
                    "2015-08-17T18:04:00",
                    "2015-08-17T18:05:00",
                    "2015-08-17T18:06:00",
                    "2015-08-17T18:07:00",
                    "2015-08-17T18:08:00",
                    "2015-08-17T18:09:00",
                    "2015-08-17T18:10:00",
                    "2015-08-17T18:11:00",
                    "2015-08-17T18:12:00",
                    "2015-08-17T18:13:00",
                    "2015-08-17T18:14:00",
                    "2015-08-17T18:15:00",
                    "2015-08-17T18:16:00",
                    "2015-08-17T18:17:00",
                    "2015-08-17T18:18:00",
                    "2015-08-17T18:19:00",
                    "2015-08-17T18:20:00",
                    "2015-08-17T18:21:00",
                    "2015-08-17T18:22:00",
                    "2015-08-17T18:23:00",
                    "2015-08-17T18:24:00",
                    "2015-08-17T18:25:00",
                    "2015-08-17T18:26:00",
                    "2015-08-17T18:27:00",
                    "2015-08-17T18:28:00",
                    "2015-08-17T18:29:00",
                    "2015-08-17T18:30:00",
                    "2015-08-17T18:31:00",
                    "2015-08-17T18:32:00",
                    "2015-08-17T18:33:00",
                    "2015-08-17T18:34:00",
                    "2015-08-17T18:35:00",
                    "2015-08-17T18:36:00",
                    "2015-08-17T18:37:00",
                    "2015-08-17T18:38:00",
                    "2015-08-17T18:39:00",
                    "2015-08-17T18:40:00",
                    "2015-08-17T18:41:00",
                    "2015-08-17T18:42:00",
                    "2015-08-17T18:43:00",
                    "2015-08-17T18:44:00",
                    "2015-08-17T18:45:00",
                    "2015-08-17T18:46:00",
                    "2015-08-17T18:47:00",
                    "2015-08-17T18:48:00",
                    "2015-08-17T18:49:00",
                    "2015-08-17T18:50:00",
                    "2015-08-17T18:51:00",
                    "2015-08-17T18:52:00",
                    "2015-08-17T18:53:00",
                    "2015-08-17T18:54:00"
                  ],
                  "y": [
                    140,
                    140,
                    144,
                    141,
                    134,
                    134,
                    135,
                    135,
                    136,
                    138,
                    136,
                    137,
                    138,
                    140,
                    141,
                    140,
                    140,
                    139,
                    139,
                    138,
                    140,
                    139,
                    140,
                    139,
                    140,
                    139,
                    140,
                    140,
                    140,
                    139,
                    152,
                    146,
                    -1,
                    143,
                    142,
                    140,
                    144,
                    140,
                    136,
                    143,
                    141,
                    148,
                    -1,
                    -1,
                    -1,
                    -1,
                    153,
                    152,
                    147,
                    148,
                    149,
                    150,
                    148,
                    145,
                    142,
                    143,
                    142,
                    142,
                    141,
                    140,
                    140,
                    138,
                    138,
                    138,
                    137,
                    136,
                    137,
                    136,
                    136,
                    136,
                    136,
                    136,
                    137,
                    137,
                    136,
                    136,
                    136,
                    137,
                    136,
                    136,
                    135,
                    134,
                    134,
                    133,
                    132,
                    132,
                    132,
                    133,
                    132,
                    133,
                    133,
                    134,
                    134,
                    133,
                    134,
                    134,
                    134,
                    134,
                    134,
                    134,
                    134,
                    134,
                    133,
                    133,
                    134,
                    134,
                    134,
                    134,
                    135,
                    140,
                    134,
                    131,
                    141,
                    140,
                    136,
                    140,
                    140,
                    134,
                    135,
                    133,
                    132,
                    136,
                    136,
                    137,
                    137,
                    -1,
                    137,
                    154,
                    143,
                    158,
                    153,
                    137,
                    -1,
                    158,
                    152,
                    153,
                    157,
                    151,
                    150,
                    157,
                    153,
                    164,
                    163,
                    161,
                    163,
                    -1,
                    161,
                    159,
                    155,
                    152,
                    -1,
                    -1,
                    -1,
                    -1,
                    161,
                    161,
                    161,
                    161,
                    161,
                    161,
                    156,
                    152,
                    157,
                    -1,
                    -1,
                    -1,
                    -1,
                    -1,
                    -1,
                    -1,
                    -1,
                    -1,
                    -1,
                    -1,
                    -1,
                    -1,
                    -1,
                    -1,
                    -1,
                    166,
                    157,
                    159,
                    158,
                    156,
                    154,
                    153,
                    157,
                    153,
                    149,
                    151,
                    144,
                    150,
                    153,
                    152,
                    149,
                    153,
                    -1,
                    -1,
                    -1,
                    -1,
                    -1,
                    -1,
                    -1,
                    -1,
                    -1,
                    -1,
                    -1,
                    -1,
                    158,
                    156,
                    152,
                    150,
                    152,
                    142,
                    151,
                    151,
                    31,
                    -1,
                    -1,
                    -1,
                    -1,
                    -1,
                    -1,
                    -1,
                    -1,
                    -1
                  ]
                }
              ],
              "layout": {
                "font": {
                  "color": "white"
                },
                "paper_bgcolor": "black",
                "plot_bgcolor": "black",
                "template": {
                  "data": {
                    "bar": [
                      {
                        "error_x": {
                          "color": "#2a3f5f"
                        },
                        "error_y": {
                          "color": "#2a3f5f"
                        },
                        "marker": {
                          "line": {
                            "color": "#E5ECF6",
                            "width": 0.5
                          },
                          "pattern": {
                            "fillmode": "overlay",
                            "size": 10,
                            "solidity": 0.2
                          }
                        },
                        "type": "bar"
                      }
                    ],
                    "barpolar": [
                      {
                        "marker": {
                          "line": {
                            "color": "#E5ECF6",
                            "width": 0.5
                          },
                          "pattern": {
                            "fillmode": "overlay",
                            "size": 10,
                            "solidity": 0.2
                          }
                        },
                        "type": "barpolar"
                      }
                    ],
                    "carpet": [
                      {
                        "aaxis": {
                          "endlinecolor": "#2a3f5f",
                          "gridcolor": "white",
                          "linecolor": "white",
                          "minorgridcolor": "white",
                          "startlinecolor": "#2a3f5f"
                        },
                        "baxis": {
                          "endlinecolor": "#2a3f5f",
                          "gridcolor": "white",
                          "linecolor": "white",
                          "minorgridcolor": "white",
                          "startlinecolor": "#2a3f5f"
                        },
                        "type": "carpet"
                      }
                    ],
                    "choropleth": [
                      {
                        "colorbar": {
                          "outlinewidth": 0,
                          "ticks": ""
                        },
                        "type": "choropleth"
                      }
                    ],
                    "contour": [
                      {
                        "colorbar": {
                          "outlinewidth": 0,
                          "ticks": ""
                        },
                        "colorscale": [
                          [
                            0,
                            "#0d0887"
                          ],
                          [
                            0.1111111111111111,
                            "#46039f"
                          ],
                          [
                            0.2222222222222222,
                            "#7201a8"
                          ],
                          [
                            0.3333333333333333,
                            "#9c179e"
                          ],
                          [
                            0.4444444444444444,
                            "#bd3786"
                          ],
                          [
                            0.5555555555555556,
                            "#d8576b"
                          ],
                          [
                            0.6666666666666666,
                            "#ed7953"
                          ],
                          [
                            0.7777777777777778,
                            "#fb9f3a"
                          ],
                          [
                            0.8888888888888888,
                            "#fdca26"
                          ],
                          [
                            1,
                            "#f0f921"
                          ]
                        ],
                        "type": "contour"
                      }
                    ],
                    "contourcarpet": [
                      {
                        "colorbar": {
                          "outlinewidth": 0,
                          "ticks": ""
                        },
                        "type": "contourcarpet"
                      }
                    ],
                    "heatmap": [
                      {
                        "colorbar": {
                          "outlinewidth": 0,
                          "ticks": ""
                        },
                        "colorscale": [
                          [
                            0,
                            "#0d0887"
                          ],
                          [
                            0.1111111111111111,
                            "#46039f"
                          ],
                          [
                            0.2222222222222222,
                            "#7201a8"
                          ],
                          [
                            0.3333333333333333,
                            "#9c179e"
                          ],
                          [
                            0.4444444444444444,
                            "#bd3786"
                          ],
                          [
                            0.5555555555555556,
                            "#d8576b"
                          ],
                          [
                            0.6666666666666666,
                            "#ed7953"
                          ],
                          [
                            0.7777777777777778,
                            "#fb9f3a"
                          ],
                          [
                            0.8888888888888888,
                            "#fdca26"
                          ],
                          [
                            1,
                            "#f0f921"
                          ]
                        ],
                        "type": "heatmap"
                      }
                    ],
                    "heatmapgl": [
                      {
                        "colorbar": {
                          "outlinewidth": 0,
                          "ticks": ""
                        },
                        "colorscale": [
                          [
                            0,
                            "#0d0887"
                          ],
                          [
                            0.1111111111111111,
                            "#46039f"
                          ],
                          [
                            0.2222222222222222,
                            "#7201a8"
                          ],
                          [
                            0.3333333333333333,
                            "#9c179e"
                          ],
                          [
                            0.4444444444444444,
                            "#bd3786"
                          ],
                          [
                            0.5555555555555556,
                            "#d8576b"
                          ],
                          [
                            0.6666666666666666,
                            "#ed7953"
                          ],
                          [
                            0.7777777777777778,
                            "#fb9f3a"
                          ],
                          [
                            0.8888888888888888,
                            "#fdca26"
                          ],
                          [
                            1,
                            "#f0f921"
                          ]
                        ],
                        "type": "heatmapgl"
                      }
                    ],
                    "histogram": [
                      {
                        "marker": {
                          "pattern": {
                            "fillmode": "overlay",
                            "size": 10,
                            "solidity": 0.2
                          }
                        },
                        "type": "histogram"
                      }
                    ],
                    "histogram2d": [
                      {
                        "colorbar": {
                          "outlinewidth": 0,
                          "ticks": ""
                        },
                        "colorscale": [
                          [
                            0,
                            "#0d0887"
                          ],
                          [
                            0.1111111111111111,
                            "#46039f"
                          ],
                          [
                            0.2222222222222222,
                            "#7201a8"
                          ],
                          [
                            0.3333333333333333,
                            "#9c179e"
                          ],
                          [
                            0.4444444444444444,
                            "#bd3786"
                          ],
                          [
                            0.5555555555555556,
                            "#d8576b"
                          ],
                          [
                            0.6666666666666666,
                            "#ed7953"
                          ],
                          [
                            0.7777777777777778,
                            "#fb9f3a"
                          ],
                          [
                            0.8888888888888888,
                            "#fdca26"
                          ],
                          [
                            1,
                            "#f0f921"
                          ]
                        ],
                        "type": "histogram2d"
                      }
                    ],
                    "histogram2dcontour": [
                      {
                        "colorbar": {
                          "outlinewidth": 0,
                          "ticks": ""
                        },
                        "colorscale": [
                          [
                            0,
                            "#0d0887"
                          ],
                          [
                            0.1111111111111111,
                            "#46039f"
                          ],
                          [
                            0.2222222222222222,
                            "#7201a8"
                          ],
                          [
                            0.3333333333333333,
                            "#9c179e"
                          ],
                          [
                            0.4444444444444444,
                            "#bd3786"
                          ],
                          [
                            0.5555555555555556,
                            "#d8576b"
                          ],
                          [
                            0.6666666666666666,
                            "#ed7953"
                          ],
                          [
                            0.7777777777777778,
                            "#fb9f3a"
                          ],
                          [
                            0.8888888888888888,
                            "#fdca26"
                          ],
                          [
                            1,
                            "#f0f921"
                          ]
                        ],
                        "type": "histogram2dcontour"
                      }
                    ],
                    "mesh3d": [
                      {
                        "colorbar": {
                          "outlinewidth": 0,
                          "ticks": ""
                        },
                        "type": "mesh3d"
                      }
                    ],
                    "parcoords": [
                      {
                        "line": {
                          "colorbar": {
                            "outlinewidth": 0,
                            "ticks": ""
                          }
                        },
                        "type": "parcoords"
                      }
                    ],
                    "pie": [
                      {
                        "automargin": true,
                        "type": "pie"
                      }
                    ],
                    "scatter": [
                      {
                        "fillpattern": {
                          "fillmode": "overlay",
                          "size": 10,
                          "solidity": 0.2
                        },
                        "type": "scatter"
                      }
                    ],
                    "scatter3d": [
                      {
                        "line": {
                          "colorbar": {
                            "outlinewidth": 0,
                            "ticks": ""
                          }
                        },
                        "marker": {
                          "colorbar": {
                            "outlinewidth": 0,
                            "ticks": ""
                          }
                        },
                        "type": "scatter3d"
                      }
                    ],
                    "scattercarpet": [
                      {
                        "marker": {
                          "colorbar": {
                            "outlinewidth": 0,
                            "ticks": ""
                          }
                        },
                        "type": "scattercarpet"
                      }
                    ],
                    "scattergeo": [
                      {
                        "marker": {
                          "colorbar": {
                            "outlinewidth": 0,
                            "ticks": ""
                          }
                        },
                        "type": "scattergeo"
                      }
                    ],
                    "scattergl": [
                      {
                        "marker": {
                          "colorbar": {
                            "outlinewidth": 0,
                            "ticks": ""
                          }
                        },
                        "type": "scattergl"
                      }
                    ],
                    "scattermapbox": [
                      {
                        "marker": {
                          "colorbar": {
                            "outlinewidth": 0,
                            "ticks": ""
                          }
                        },
                        "type": "scattermapbox"
                      }
                    ],
                    "scatterpolar": [
                      {
                        "marker": {
                          "colorbar": {
                            "outlinewidth": 0,
                            "ticks": ""
                          }
                        },
                        "type": "scatterpolar"
                      }
                    ],
                    "scatterpolargl": [
                      {
                        "marker": {
                          "colorbar": {
                            "outlinewidth": 0,
                            "ticks": ""
                          }
                        },
                        "type": "scatterpolargl"
                      }
                    ],
                    "scatterternary": [
                      {
                        "marker": {
                          "colorbar": {
                            "outlinewidth": 0,
                            "ticks": ""
                          }
                        },
                        "type": "scatterternary"
                      }
                    ],
                    "surface": [
                      {
                        "colorbar": {
                          "outlinewidth": 0,
                          "ticks": ""
                        },
                        "colorscale": [
                          [
                            0,
                            "#0d0887"
                          ],
                          [
                            0.1111111111111111,
                            "#46039f"
                          ],
                          [
                            0.2222222222222222,
                            "#7201a8"
                          ],
                          [
                            0.3333333333333333,
                            "#9c179e"
                          ],
                          [
                            0.4444444444444444,
                            "#bd3786"
                          ],
                          [
                            0.5555555555555556,
                            "#d8576b"
                          ],
                          [
                            0.6666666666666666,
                            "#ed7953"
                          ],
                          [
                            0.7777777777777778,
                            "#fb9f3a"
                          ],
                          [
                            0.8888888888888888,
                            "#fdca26"
                          ],
                          [
                            1,
                            "#f0f921"
                          ]
                        ],
                        "type": "surface"
                      }
                    ],
                    "table": [
                      {
                        "cells": {
                          "fill": {
                            "color": "#EBF0F8"
                          },
                          "line": {
                            "color": "white"
                          }
                        },
                        "header": {
                          "fill": {
                            "color": "#C8D4E3"
                          },
                          "line": {
                            "color": "white"
                          }
                        },
                        "type": "table"
                      }
                    ]
                  },
                  "layout": {
                    "annotationdefaults": {
                      "arrowcolor": "#2a3f5f",
                      "arrowhead": 0,
                      "arrowwidth": 1
                    },
                    "autotypenumbers": "strict",
                    "coloraxis": {
                      "colorbar": {
                        "outlinewidth": 0,
                        "ticks": ""
                      }
                    },
                    "colorscale": {
                      "diverging": [
                        [
                          0,
                          "#8e0152"
                        ],
                        [
                          0.1,
                          "#c51b7d"
                        ],
                        [
                          0.2,
                          "#de77ae"
                        ],
                        [
                          0.3,
                          "#f1b6da"
                        ],
                        [
                          0.4,
                          "#fde0ef"
                        ],
                        [
                          0.5,
                          "#f7f7f7"
                        ],
                        [
                          0.6,
                          "#e6f5d0"
                        ],
                        [
                          0.7,
                          "#b8e186"
                        ],
                        [
                          0.8,
                          "#7fbc41"
                        ],
                        [
                          0.9,
                          "#4d9221"
                        ],
                        [
                          1,
                          "#276419"
                        ]
                      ],
                      "sequential": [
                        [
                          0,
                          "#0d0887"
                        ],
                        [
                          0.1111111111111111,
                          "#46039f"
                        ],
                        [
                          0.2222222222222222,
                          "#7201a8"
                        ],
                        [
                          0.3333333333333333,
                          "#9c179e"
                        ],
                        [
                          0.4444444444444444,
                          "#bd3786"
                        ],
                        [
                          0.5555555555555556,
                          "#d8576b"
                        ],
                        [
                          0.6666666666666666,
                          "#ed7953"
                        ],
                        [
                          0.7777777777777778,
                          "#fb9f3a"
                        ],
                        [
                          0.8888888888888888,
                          "#fdca26"
                        ],
                        [
                          1,
                          "#f0f921"
                        ]
                      ],
                      "sequentialminus": [
                        [
                          0,
                          "#0d0887"
                        ],
                        [
                          0.1111111111111111,
                          "#46039f"
                        ],
                        [
                          0.2222222222222222,
                          "#7201a8"
                        ],
                        [
                          0.3333333333333333,
                          "#9c179e"
                        ],
                        [
                          0.4444444444444444,
                          "#bd3786"
                        ],
                        [
                          0.5555555555555556,
                          "#d8576b"
                        ],
                        [
                          0.6666666666666666,
                          "#ed7953"
                        ],
                        [
                          0.7777777777777778,
                          "#fb9f3a"
                        ],
                        [
                          0.8888888888888888,
                          "#fdca26"
                        ],
                        [
                          1,
                          "#f0f921"
                        ]
                      ]
                    },
                    "colorway": [
                      "#636efa",
                      "#EF553B",
                      "#00cc96",
                      "#ab63fa",
                      "#FFA15A",
                      "#19d3f3",
                      "#FF6692",
                      "#B6E880",
                      "#FF97FF",
                      "#FECB52"
                    ],
                    "font": {
                      "color": "#2a3f5f"
                    },
                    "geo": {
                      "bgcolor": "white",
                      "lakecolor": "white",
                      "landcolor": "#E5ECF6",
                      "showlakes": true,
                      "showland": true,
                      "subunitcolor": "white"
                    },
                    "hoverlabel": {
                      "align": "left"
                    },
                    "hovermode": "closest",
                    "mapbox": {
                      "style": "light"
                    },
                    "paper_bgcolor": "white",
                    "plot_bgcolor": "#E5ECF6",
                    "polar": {
                      "angularaxis": {
                        "gridcolor": "white",
                        "linecolor": "white",
                        "ticks": ""
                      },
                      "bgcolor": "#E5ECF6",
                      "radialaxis": {
                        "gridcolor": "white",
                        "linecolor": "white",
                        "ticks": ""
                      }
                    },
                    "scene": {
                      "xaxis": {
                        "backgroundcolor": "#E5ECF6",
                        "gridcolor": "white",
                        "gridwidth": 2,
                        "linecolor": "white",
                        "showbackground": true,
                        "ticks": "",
                        "zerolinecolor": "white"
                      },
                      "yaxis": {
                        "backgroundcolor": "#E5ECF6",
                        "gridcolor": "white",
                        "gridwidth": 2,
                        "linecolor": "white",
                        "showbackground": true,
                        "ticks": "",
                        "zerolinecolor": "white"
                      },
                      "zaxis": {
                        "backgroundcolor": "#E5ECF6",
                        "gridcolor": "white",
                        "gridwidth": 2,
                        "linecolor": "white",
                        "showbackground": true,
                        "ticks": "",
                        "zerolinecolor": "white"
                      }
                    },
                    "shapedefaults": {
                      "line": {
                        "color": "#2a3f5f"
                      }
                    },
                    "ternary": {
                      "aaxis": {
                        "gridcolor": "white",
                        "linecolor": "white",
                        "ticks": ""
                      },
                      "baxis": {
                        "gridcolor": "white",
                        "linecolor": "white",
                        "ticks": ""
                      },
                      "bgcolor": "#E5ECF6",
                      "caxis": {
                        "gridcolor": "white",
                        "linecolor": "white",
                        "ticks": ""
                      }
                    },
                    "title": {
                      "x": 0.05
                    },
                    "xaxis": {
                      "automargin": true,
                      "gridcolor": "white",
                      "linecolor": "white",
                      "ticks": "",
                      "title": {
                        "standoff": 15
                      },
                      "zerolinecolor": "white",
                      "zerolinewidth": 2
                    },
                    "yaxis": {
                      "automargin": true,
                      "gridcolor": "white",
                      "linecolor": "white",
                      "ticks": "",
                      "title": {
                        "standoff": 15
                      },
                      "zerolinecolor": "white",
                      "zerolinewidth": 2
                    }
                  }
                },
                "title": {
                  "text": "Oximeter Pulse and SpO2",
                  "x": 0.5,
                  "xanchor": "center",
                  "y": 0.9,
                  "yanchor": "top"
                },
                "xaxis": {
                  "gridcolor": "gray",
                  "gridwidth": 1,
                  "showgrid": true
                },
                "yaxis": {
                  "gridcolor": "gray",
                  "gridwidth": 1,
                  "showgrid": true
                }
              }
            }
          },
          "metadata": {},
          "output_type": "display_data"
        }
      ],
      "source": [
        "#Oximeter SpO2 and Pulse\n",
        "\n",
        "fig = go.Figure()\n",
        "\n",
        "# add line / trace 1 to figure\n",
        "fig.add_trace(go.Scatter(\n",
        "    x=df.index,\n",
        "    y=df['Oximeter SpO2'],\n",
        "    marker=dict(\n",
        "        color=\"red\"\n",
        "    ),\n",
        "    showlegend=True, name='Oximeter SpO2'\n",
        "))\n",
        "\n",
        "# add line / trace 2 to figure\n",
        "fig.add_trace(go.Scatter(\n",
        "    x=df.index,\n",
        "    y=df['Oximeter Pulse'],\n",
        "    marker=dict(\n",
        "        color=\"green\"\n",
        "    ),\n",
        "    showlegend=True, name= 'Oximeter Pulse'\n",
        "))\n",
        "\n",
        "\n",
        "# Show grid lines\n",
        "fig.update_layout(plot_bgcolor='black',\n",
        "    paper_bgcolor='black',\n",
        "    font=dict(color='white'),\n",
        "    xaxis=dict(showgrid=True, gridcolor='gray', gridwidth=1),\n",
        "    yaxis=dict(showgrid=True, gridcolor='gray', gridwidth=1),\n",
        "    title={\n",
        "        'text': \"Oximeter Pulse and SpO2\",\n",
        "        'y':0.9,\n",
        "        'x':0.5,\n",
        "        'xanchor': 'center',\n",
        "        'yanchor': 'top'\n",
        "    }\n",
        ")\n",
        "\n",
        "fig.show()"
      ]
    },
    {
      "cell_type": "markdown",
      "metadata": {
        "id": "sVaobQ8hZrLo"
      },
      "source": [
        "## ETS DECOMPOSITION"
      ]
    },
    {
      "cell_type": "code",
      "execution_count": null,
      "metadata": {
        "id": "WZjP2FC4ZrLo",
        "outputId": "7d99357c-4a94-43bc-e008-10576d2f7efb"
      },
      "outputs": [
        {
          "data": {
            "application/vnd.plotly.v1+json": {
              "config": {
                "plotlyServerURL": "https://plot.ly"
              },
              "data": [
                {
                  "name": "Heart Rate",
                  "type": "scatter",
                  "x": [
                    "2015-08-17T15:09:00",
                    "2015-08-17T15:10:00",
                    "2015-08-17T15:11:00",
                    "2015-08-17T15:12:00",
                    "2015-08-17T15:13:00",
                    "2015-08-17T15:14:00",
                    "2015-08-17T15:15:00",
                    "2015-08-17T15:16:00",
                    "2015-08-17T15:17:00",
                    "2015-08-17T15:18:00",
                    "2015-08-17T15:19:00",
                    "2015-08-17T15:20:00",
                    "2015-08-17T15:21:00",
                    "2015-08-17T15:22:00",
                    "2015-08-17T15:23:00",
                    "2015-08-17T15:24:00",
                    "2015-08-17T15:25:00",
                    "2015-08-17T15:26:00",
                    "2015-08-17T15:27:00",
                    "2015-08-17T15:28:00",
                    "2015-08-17T15:29:00",
                    "2015-08-17T15:30:00",
                    "2015-08-17T15:31:00",
                    "2015-08-17T15:32:00",
                    "2015-08-17T15:33:00",
                    "2015-08-17T15:34:00",
                    "2015-08-17T15:35:00",
                    "2015-08-17T15:36:00",
                    "2015-08-17T15:37:00",
                    "2015-08-17T15:38:00",
                    "2015-08-17T15:39:00",
                    "2015-08-17T15:40:00",
                    "2015-08-17T15:41:00",
                    "2015-08-17T15:42:00",
                    "2015-08-17T15:43:00",
                    "2015-08-17T15:44:00",
                    "2015-08-17T15:45:00",
                    "2015-08-17T15:46:00",
                    "2015-08-17T15:47:00",
                    "2015-08-17T15:48:00",
                    "2015-08-17T15:49:00",
                    "2015-08-17T15:50:00",
                    "2015-08-17T15:51:00",
                    "2015-08-17T15:52:00",
                    "2015-08-17T15:53:00",
                    "2015-08-17T15:54:00",
                    "2015-08-17T15:55:00",
                    "2015-08-17T15:56:00",
                    "2015-08-17T15:57:00",
                    "2015-08-17T15:58:00",
                    "2015-08-17T15:59:00",
                    "2015-08-17T16:00:00",
                    "2015-08-17T16:01:00",
                    "2015-08-17T16:02:00",
                    "2015-08-17T16:03:00",
                    "2015-08-17T16:04:00",
                    "2015-08-17T16:05:00",
                    "2015-08-17T16:06:00",
                    "2015-08-17T16:07:00",
                    "2015-08-17T16:08:00",
                    "2015-08-17T16:09:00",
                    "2015-08-17T16:10:00",
                    "2015-08-17T16:11:00",
                    "2015-08-17T16:12:00",
                    "2015-08-17T16:13:00",
                    "2015-08-17T16:14:00",
                    "2015-08-17T16:15:00",
                    "2015-08-17T16:16:00",
                    "2015-08-17T16:17:00",
                    "2015-08-17T16:18:00",
                    "2015-08-17T16:19:00",
                    "2015-08-17T16:20:00",
                    "2015-08-17T16:21:00",
                    "2015-08-17T16:22:00",
                    "2015-08-17T16:23:00",
                    "2015-08-17T16:24:00",
                    "2015-08-17T16:25:00",
                    "2015-08-17T16:26:00",
                    "2015-08-17T16:27:00",
                    "2015-08-17T16:28:00",
                    "2015-08-17T16:29:00",
                    "2015-08-17T16:30:00",
                    "2015-08-17T16:31:00",
                    "2015-08-17T16:32:00",
                    "2015-08-17T16:33:00",
                    "2015-08-17T16:34:00",
                    "2015-08-17T16:35:00",
                    "2015-08-17T16:36:00",
                    "2015-08-17T16:37:00",
                    "2015-08-17T16:38:00",
                    "2015-08-17T16:39:00",
                    "2015-08-17T16:40:00",
                    "2015-08-17T16:41:00",
                    "2015-08-17T16:42:00",
                    "2015-08-17T16:43:00",
                    "2015-08-17T16:44:00",
                    "2015-08-17T16:45:00",
                    "2015-08-17T16:46:00",
                    "2015-08-17T16:47:00",
                    "2015-08-17T16:48:00",
                    "2015-08-17T16:49:00",
                    "2015-08-17T16:50:00",
                    "2015-08-17T16:51:00",
                    "2015-08-17T16:52:00",
                    "2015-08-17T16:53:00",
                    "2015-08-17T16:54:00",
                    "2015-08-17T16:55:00",
                    "2015-08-17T16:56:00",
                    "2015-08-17T16:57:00",
                    "2015-08-17T16:58:00",
                    "2015-08-17T16:59:00",
                    "2015-08-17T17:00:00",
                    "2015-08-17T17:01:00",
                    "2015-08-17T17:02:00",
                    "2015-08-17T17:03:00",
                    "2015-08-17T17:04:00",
                    "2015-08-17T17:05:00",
                    "2015-08-17T17:06:00",
                    "2015-08-17T17:07:00",
                    "2015-08-17T17:08:00",
                    "2015-08-17T17:09:00",
                    "2015-08-17T17:10:00",
                    "2015-08-17T17:11:00",
                    "2015-08-17T17:12:00",
                    "2015-08-17T17:13:00",
                    "2015-08-17T17:14:00",
                    "2015-08-17T17:15:00",
                    "2015-08-17T17:16:00",
                    "2015-08-17T17:17:00",
                    "2015-08-17T17:18:00",
                    "2015-08-17T17:19:00",
                    "2015-08-17T17:20:00",
                    "2015-08-17T17:21:00",
                    "2015-08-17T17:22:00",
                    "2015-08-17T17:23:00",
                    "2015-08-17T17:24:00",
                    "2015-08-17T17:25:00",
                    "2015-08-17T17:26:00",
                    "2015-08-17T17:27:00",
                    "2015-08-17T17:28:00",
                    "2015-08-17T17:29:00",
                    "2015-08-17T17:30:00",
                    "2015-08-17T17:31:00",
                    "2015-08-17T17:32:00",
                    "2015-08-17T17:33:00",
                    "2015-08-17T17:34:00",
                    "2015-08-17T17:35:00",
                    "2015-08-17T17:36:00",
                    "2015-08-17T17:37:00",
                    "2015-08-17T17:38:00",
                    "2015-08-17T17:39:00",
                    "2015-08-17T17:40:00",
                    "2015-08-17T17:41:00",
                    "2015-08-17T17:42:00",
                    "2015-08-17T17:43:00",
                    "2015-08-17T17:44:00",
                    "2015-08-17T17:45:00",
                    "2015-08-17T17:46:00",
                    "2015-08-17T17:47:00",
                    "2015-08-17T17:48:00",
                    "2015-08-17T17:49:00",
                    "2015-08-17T17:50:00",
                    "2015-08-17T17:51:00",
                    "2015-08-17T17:52:00",
                    "2015-08-17T17:53:00",
                    "2015-08-17T17:54:00",
                    "2015-08-17T17:55:00",
                    "2015-08-17T17:56:00",
                    "2015-08-17T17:57:00",
                    "2015-08-17T17:58:00",
                    "2015-08-17T17:59:00",
                    "2015-08-17T18:00:00",
                    "2015-08-17T18:01:00",
                    "2015-08-17T18:02:00",
                    "2015-08-17T18:03:00",
                    "2015-08-17T18:04:00",
                    "2015-08-17T18:05:00",
                    "2015-08-17T18:06:00",
                    "2015-08-17T18:07:00",
                    "2015-08-17T18:08:00",
                    "2015-08-17T18:09:00",
                    "2015-08-17T18:10:00",
                    "2015-08-17T18:11:00",
                    "2015-08-17T18:12:00",
                    "2015-08-17T18:13:00",
                    "2015-08-17T18:14:00",
                    "2015-08-17T18:15:00",
                    "2015-08-17T18:16:00",
                    "2015-08-17T18:17:00",
                    "2015-08-17T18:18:00",
                    "2015-08-17T18:19:00",
                    "2015-08-17T18:20:00",
                    "2015-08-17T18:21:00",
                    "2015-08-17T18:22:00",
                    "2015-08-17T18:23:00",
                    "2015-08-17T18:24:00",
                    "2015-08-17T18:25:00",
                    "2015-08-17T18:26:00",
                    "2015-08-17T18:27:00",
                    "2015-08-17T18:28:00",
                    "2015-08-17T18:29:00",
                    "2015-08-17T18:30:00",
                    "2015-08-17T18:31:00",
                    "2015-08-17T18:32:00",
                    "2015-08-17T18:33:00",
                    "2015-08-17T18:34:00",
                    "2015-08-17T18:35:00",
                    "2015-08-17T18:36:00",
                    "2015-08-17T18:37:00",
                    "2015-08-17T18:38:00",
                    "2015-08-17T18:39:00",
                    "2015-08-17T18:40:00",
                    "2015-08-17T18:41:00",
                    "2015-08-17T18:42:00",
                    "2015-08-17T18:43:00",
                    "2015-08-17T18:44:00",
                    "2015-08-17T18:45:00",
                    "2015-08-17T18:46:00",
                    "2015-08-17T18:47:00",
                    "2015-08-17T18:48:00",
                    "2015-08-17T18:49:00",
                    "2015-08-17T18:50:00",
                    "2015-08-17T18:51:00",
                    "2015-08-17T18:52:00",
                    "2015-08-17T18:53:00",
                    "2015-08-17T18:54:00"
                  ],
                  "xaxis": "x",
                  "y": [
                    139,
                    144,
                    140,
                    138,
                    133,
                    132,
                    132,
                    133,
                    136,
                    137,
                    136,
                    137,
                    139,
                    138,
                    141,
                    139,
                    140,
                    140,
                    139,
                    137,
                    139,
                    139,
                    133,
                    120,
                    139,
                    140,
                    135,
                    141,
                    137,
                    129,
                    129,
                    129,
                    129,
                    129,
                    129,
                    129,
                    129,
                    136,
                    138,
                    142,
                    106,
                    106,
                    143,
                    139,
                    149,
                    154,
                    152,
                    150,
                    144,
                    150,
                    149,
                    149,
                    148,
                    144,
                    142,
                    142,
                    142,
                    141,
                    140,
                    140,
                    139,
                    138,
                    137,
                    137,
                    136,
                    137,
                    136,
                    136,
                    136,
                    136,
                    136,
                    136,
                    137,
                    136,
                    136,
                    136,
                    137,
                    137,
                    136,
                    136,
                    134,
                    134,
                    134,
                    133,
                    132,
                    132,
                    132,
                    132,
                    132,
                    133,
                    133,
                    133,
                    133,
                    133,
                    134,
                    134,
                    133,
                    134,
                    134,
                    133,
                    134,
                    134,
                    133,
                    134,
                    134,
                    134,
                    134,
                    134,
                    138,
                    138,
                    132,
                    133,
                    142,
                    139,
                    146,
                    140,
                    136,
                    134,
                    136,
                    131,
                    137,
                    135,
                    137,
                    137,
                    136,
                    140,
                    142,
                    151,
                    146,
                    154,
                    161,
                    158,
                    160,
                    154,
                    154,
                    158,
                    155,
                    150,
                    153,
                    155,
                    158,
                    163,
                    162,
                    162,
                    163,
                    163,
                    160,
                    159,
                    160,
                    159,
                    166,
                    164,
                    161,
                    167,
                    159,
                    152,
                    152,
                    150,
                    151,
                    155,
                    159,
                    154,
                    157,
                    163,
                    158,
                    163,
                    164,
                    166,
                    169,
                    169,
                    170,
                    172,
                    165,
                    163,
                    156,
                    156,
                    161,
                    161,
                    164,
                    160,
                    158,
                    159,
                    154,
                    158,
                    152,
                    160,
                    155,
                    149,
                    151,
                    148,
                    146,
                    154,
                    155,
                    152,
                    152,
                    156,
                    156,
                    153,
                    154,
                    158,
                    155,
                    150,
                    149,
                    148,
                    156,
                    158,
                    159,
                    160,
                    155,
                    155,
                    148,
                    148,
                    152,
                    152,
                    150,
                    153,
                    158,
                    158,
                    154,
                    155,
                    157,
                    159,
                    151,
                    140,
                    140,
                    138
                  ],
                  "yaxis": "y"
                },
                {
                  "name": "Trend",
                  "type": "scatter",
                  "x": [
                    "2015-08-17T15:09:00",
                    "2015-08-17T15:10:00",
                    "2015-08-17T15:11:00",
                    "2015-08-17T15:12:00",
                    "2015-08-17T15:13:00",
                    "2015-08-17T15:14:00",
                    "2015-08-17T15:15:00",
                    "2015-08-17T15:16:00",
                    "2015-08-17T15:17:00",
                    "2015-08-17T15:18:00",
                    "2015-08-17T15:19:00",
                    "2015-08-17T15:20:00",
                    "2015-08-17T15:21:00",
                    "2015-08-17T15:22:00",
                    "2015-08-17T15:23:00",
                    "2015-08-17T15:24:00",
                    "2015-08-17T15:25:00",
                    "2015-08-17T15:26:00",
                    "2015-08-17T15:27:00",
                    "2015-08-17T15:28:00",
                    "2015-08-17T15:29:00",
                    "2015-08-17T15:30:00",
                    "2015-08-17T15:31:00",
                    "2015-08-17T15:32:00",
                    "2015-08-17T15:33:00",
                    "2015-08-17T15:34:00",
                    "2015-08-17T15:35:00",
                    "2015-08-17T15:36:00",
                    "2015-08-17T15:37:00",
                    "2015-08-17T15:38:00",
                    "2015-08-17T15:39:00",
                    "2015-08-17T15:40:00",
                    "2015-08-17T15:41:00",
                    "2015-08-17T15:42:00",
                    "2015-08-17T15:43:00",
                    "2015-08-17T15:44:00",
                    "2015-08-17T15:45:00",
                    "2015-08-17T15:46:00",
                    "2015-08-17T15:47:00",
                    "2015-08-17T15:48:00",
                    "2015-08-17T15:49:00",
                    "2015-08-17T15:50:00",
                    "2015-08-17T15:51:00",
                    "2015-08-17T15:52:00",
                    "2015-08-17T15:53:00",
                    "2015-08-17T15:54:00",
                    "2015-08-17T15:55:00",
                    "2015-08-17T15:56:00",
                    "2015-08-17T15:57:00",
                    "2015-08-17T15:58:00",
                    "2015-08-17T15:59:00",
                    "2015-08-17T16:00:00",
                    "2015-08-17T16:01:00",
                    "2015-08-17T16:02:00",
                    "2015-08-17T16:03:00",
                    "2015-08-17T16:04:00",
                    "2015-08-17T16:05:00",
                    "2015-08-17T16:06:00",
                    "2015-08-17T16:07:00",
                    "2015-08-17T16:08:00",
                    "2015-08-17T16:09:00",
                    "2015-08-17T16:10:00",
                    "2015-08-17T16:11:00",
                    "2015-08-17T16:12:00",
                    "2015-08-17T16:13:00",
                    "2015-08-17T16:14:00",
                    "2015-08-17T16:15:00",
                    "2015-08-17T16:16:00",
                    "2015-08-17T16:17:00",
                    "2015-08-17T16:18:00",
                    "2015-08-17T16:19:00",
                    "2015-08-17T16:20:00",
                    "2015-08-17T16:21:00",
                    "2015-08-17T16:22:00",
                    "2015-08-17T16:23:00",
                    "2015-08-17T16:24:00",
                    "2015-08-17T16:25:00",
                    "2015-08-17T16:26:00",
                    "2015-08-17T16:27:00",
                    "2015-08-17T16:28:00",
                    "2015-08-17T16:29:00",
                    "2015-08-17T16:30:00",
                    "2015-08-17T16:31:00",
                    "2015-08-17T16:32:00",
                    "2015-08-17T16:33:00",
                    "2015-08-17T16:34:00",
                    "2015-08-17T16:35:00",
                    "2015-08-17T16:36:00",
                    "2015-08-17T16:37:00",
                    "2015-08-17T16:38:00",
                    "2015-08-17T16:39:00",
                    "2015-08-17T16:40:00",
                    "2015-08-17T16:41:00",
                    "2015-08-17T16:42:00",
                    "2015-08-17T16:43:00",
                    "2015-08-17T16:44:00",
                    "2015-08-17T16:45:00",
                    "2015-08-17T16:46:00",
                    "2015-08-17T16:47:00",
                    "2015-08-17T16:48:00",
                    "2015-08-17T16:49:00",
                    "2015-08-17T16:50:00",
                    "2015-08-17T16:51:00",
                    "2015-08-17T16:52:00",
                    "2015-08-17T16:53:00",
                    "2015-08-17T16:54:00",
                    "2015-08-17T16:55:00",
                    "2015-08-17T16:56:00",
                    "2015-08-17T16:57:00",
                    "2015-08-17T16:58:00",
                    "2015-08-17T16:59:00",
                    "2015-08-17T17:00:00",
                    "2015-08-17T17:01:00",
                    "2015-08-17T17:02:00",
                    "2015-08-17T17:03:00",
                    "2015-08-17T17:04:00",
                    "2015-08-17T17:05:00",
                    "2015-08-17T17:06:00",
                    "2015-08-17T17:07:00",
                    "2015-08-17T17:08:00",
                    "2015-08-17T17:09:00",
                    "2015-08-17T17:10:00",
                    "2015-08-17T17:11:00",
                    "2015-08-17T17:12:00",
                    "2015-08-17T17:13:00",
                    "2015-08-17T17:14:00",
                    "2015-08-17T17:15:00",
                    "2015-08-17T17:16:00",
                    "2015-08-17T17:17:00",
                    "2015-08-17T17:18:00",
                    "2015-08-17T17:19:00",
                    "2015-08-17T17:20:00",
                    "2015-08-17T17:21:00",
                    "2015-08-17T17:22:00",
                    "2015-08-17T17:23:00",
                    "2015-08-17T17:24:00",
                    "2015-08-17T17:25:00",
                    "2015-08-17T17:26:00",
                    "2015-08-17T17:27:00",
                    "2015-08-17T17:28:00",
                    "2015-08-17T17:29:00",
                    "2015-08-17T17:30:00",
                    "2015-08-17T17:31:00",
                    "2015-08-17T17:32:00",
                    "2015-08-17T17:33:00",
                    "2015-08-17T17:34:00",
                    "2015-08-17T17:35:00",
                    "2015-08-17T17:36:00",
                    "2015-08-17T17:37:00",
                    "2015-08-17T17:38:00",
                    "2015-08-17T17:39:00",
                    "2015-08-17T17:40:00",
                    "2015-08-17T17:41:00",
                    "2015-08-17T17:42:00",
                    "2015-08-17T17:43:00",
                    "2015-08-17T17:44:00",
                    "2015-08-17T17:45:00",
                    "2015-08-17T17:46:00",
                    "2015-08-17T17:47:00",
                    "2015-08-17T17:48:00",
                    "2015-08-17T17:49:00",
                    "2015-08-17T17:50:00",
                    "2015-08-17T17:51:00",
                    "2015-08-17T17:52:00",
                    "2015-08-17T17:53:00",
                    "2015-08-17T17:54:00",
                    "2015-08-17T17:55:00",
                    "2015-08-17T17:56:00",
                    "2015-08-17T17:57:00",
                    "2015-08-17T17:58:00",
                    "2015-08-17T17:59:00",
                    "2015-08-17T18:00:00",
                    "2015-08-17T18:01:00",
                    "2015-08-17T18:02:00",
                    "2015-08-17T18:03:00",
                    "2015-08-17T18:04:00",
                    "2015-08-17T18:05:00",
                    "2015-08-17T18:06:00",
                    "2015-08-17T18:07:00",
                    "2015-08-17T18:08:00",
                    "2015-08-17T18:09:00",
                    "2015-08-17T18:10:00",
                    "2015-08-17T18:11:00",
                    "2015-08-17T18:12:00",
                    "2015-08-17T18:13:00",
                    "2015-08-17T18:14:00",
                    "2015-08-17T18:15:00",
                    "2015-08-17T18:16:00",
                    "2015-08-17T18:17:00",
                    "2015-08-17T18:18:00",
                    "2015-08-17T18:19:00",
                    "2015-08-17T18:20:00",
                    "2015-08-17T18:21:00",
                    "2015-08-17T18:22:00",
                    "2015-08-17T18:23:00",
                    "2015-08-17T18:24:00",
                    "2015-08-17T18:25:00",
                    "2015-08-17T18:26:00",
                    "2015-08-17T18:27:00",
                    "2015-08-17T18:28:00",
                    "2015-08-17T18:29:00",
                    "2015-08-17T18:30:00",
                    "2015-08-17T18:31:00",
                    "2015-08-17T18:32:00",
                    "2015-08-17T18:33:00",
                    "2015-08-17T18:34:00",
                    "2015-08-17T18:35:00",
                    "2015-08-17T18:36:00",
                    "2015-08-17T18:37:00",
                    "2015-08-17T18:38:00",
                    "2015-08-17T18:39:00",
                    "2015-08-17T18:40:00",
                    "2015-08-17T18:41:00",
                    "2015-08-17T18:42:00",
                    "2015-08-17T18:43:00",
                    "2015-08-17T18:44:00",
                    "2015-08-17T18:45:00",
                    "2015-08-17T18:46:00",
                    "2015-08-17T18:47:00",
                    "2015-08-17T18:48:00",
                    "2015-08-17T18:49:00",
                    "2015-08-17T18:50:00",
                    "2015-08-17T18:51:00",
                    "2015-08-17T18:52:00",
                    "2015-08-17T18:53:00",
                    "2015-08-17T18:54:00"
                  ],
                  "xaxis": "x2",
                  "y": [
                    null,
                    null,
                    null,
                    null,
                    null,
                    null,
                    null,
                    null,
                    null,
                    null,
                    null,
                    null,
                    null,
                    null,
                    null,
                    null,
                    null,
                    null,
                    null,
                    null,
                    null,
                    null,
                    null,
                    null,
                    null,
                    null,
                    null,
                    null,
                    null,
                    null,
                    137.51666666666662,
                    137.4666666666666,
                    137.39166666666668,
                    137.35833333333332,
                    137.37499999999997,
                    137.44166666666666,
                    137.51666666666665,
                    137.575,
                    137.59999999999997,
                    137.59166666666664,
                    137.58333333333331,
                    137.575,
                    137.54999999999998,
                    137.51666666666665,
                    137.45833333333331,
                    137.39166666666665,
                    137.34166666666667,
                    137.29166666666666,
                    137.24166666666665,
                    137.20833333333331,
                    137.15833333333333,
                    137.075,
                    137.04166666666666,
                    137.1583333333333,
                    137.20833333333331,
                    137.08333333333331,
                    136.99166666666665,
                    136.89166666666665,
                    136.775,
                    136.76666666666662,
                    136.83333333333331,
                    136.9,
                    136.96666666666667,
                    137.03333333333333,
                    137.10833333333335,
                    137.19166666666666,
                    137.26666666666665,
                    137.28333333333336,
                    137.23333333333335,
                    137.12499999999997,
                    137.28333333333336,
                    137.75,
                    137.9,
                    137.77500000000003,
                    137.60833333333335,
                    137.3166666666667,
                    137.00000000000003,
                    136.7166666666667,
                    136.53333333333336,
                    136.38333333333335,
                    136.14166666666668,
                    135.8666666666667,
                    135.6833333333334,
                    135.5916666666667,
                    135.58333333333334,
                    135.60000000000002,
                    135.53333333333336,
                    135.425,
                    135.33333333333334,
                    135.22500000000002,
                    135.13333333333335,
                    135.0916666666667,
                    135.0666666666667,
                    135.0666666666667,
                    135.06666666666666,
                    135.09166666666667,
                    135.16666666666669,
                    135.34166666666667,
                    135.54999999999998,
                    135.78333333333333,
                    136.14166666666668,
                    136.53333333333336,
                    136.9083333333334,
                    137.25000000000003,
                    137.55000000000004,
                    137.88333333333333,
                    138.21666666666667,
                    138.475,
                    138.725,
                    139.025,
                    139.38333333333333,
                    139.82499999999996,
                    140.29999999999998,
                    140.775,
                    141.275,
                    141.79166666666666,
                    142.28333333333333,
                    142.74166666666667,
                    143.20000000000002,
                    143.65,
                    144.14166666666668,
                    144.675,
                    145.1666666666667,
                    145.68333333333337,
                    146.175,
                    146.53333333333333,
                    146.84166666666667,
                    147.13333333333333,
                    147.40833333333333,
                    147.73333333333332,
                    148.125,
                    148.49999999999997,
                    148.86666666666667,
                    149.3083333333333,
                    149.75,
                    150.19166666666663,
                    150.68333333333334,
                    151.2,
                    151.725,
                    152.24166666666665,
                    152.81666666666663,
                    153.45833333333331,
                    153.97499999999997,
                    154.36666666666665,
                    154.64999999999998,
                    154.86666666666665,
                    155.2083333333333,
                    155.64166666666662,
                    156.09999999999997,
                    156.57499999999996,
                    156.99166666666662,
                    157.36666666666662,
                    157.70833333333331,
                    158.02499999999998,
                    158.33333333333334,
                    158.63333333333335,
                    158.90833333333333,
                    159,
                    159.025,
                    159.01666666666668,
                    158.84166666666667,
                    158.68333333333334,
                    158.60833333333332,
                    158.55,
                    158.51666666666668,
                    158.48333333333332,
                    158.475,
                    158.5083333333333,
                    158.54166666666663,
                    158.57499999999996,
                    158.57499999999996,
                    158.4416666666666,
                    158.22499999999997,
                    157.99999999999994,
                    157.825,
                    157.72499999999997,
                    157.67499999999995,
                    157.67499999999998,
                    157.64166666666668,
                    157.56666666666663,
                    157.3833333333333,
                    157.09999999999997,
                    156.89166666666668,
                    156.69166666666666,
                    156.49166666666665,
                    156.425,
                    156.48333333333335,
                    156.60000000000002,
                    156.6916666666667,
                    156.71666666666667,
                    156.7,
                    156.72499999999997,
                    156.71666666666664,
                    156.475,
                    156.13333333333333,
                    155.775,
                    null,
                    null,
                    null,
                    null,
                    null,
                    null,
                    null,
                    null,
                    null,
                    null,
                    null,
                    null,
                    null,
                    null,
                    null,
                    null,
                    null,
                    null,
                    null,
                    null,
                    null,
                    null,
                    null,
                    null,
                    null,
                    null,
                    null,
                    null,
                    null,
                    null
                  ],
                  "yaxis": "y2"
                },
                {
                  "name": "Seasonal",
                  "type": "scatter",
                  "x": [
                    "2015-08-17T15:09:00",
                    "2015-08-17T15:10:00",
                    "2015-08-17T15:11:00",
                    "2015-08-17T15:12:00",
                    "2015-08-17T15:13:00",
                    "2015-08-17T15:14:00",
                    "2015-08-17T15:15:00",
                    "2015-08-17T15:16:00",
                    "2015-08-17T15:17:00",
                    "2015-08-17T15:18:00",
                    "2015-08-17T15:19:00",
                    "2015-08-17T15:20:00",
                    "2015-08-17T15:21:00",
                    "2015-08-17T15:22:00",
                    "2015-08-17T15:23:00",
                    "2015-08-17T15:24:00",
                    "2015-08-17T15:25:00",
                    "2015-08-17T15:26:00",
                    "2015-08-17T15:27:00",
                    "2015-08-17T15:28:00",
                    "2015-08-17T15:29:00",
                    "2015-08-17T15:30:00",
                    "2015-08-17T15:31:00",
                    "2015-08-17T15:32:00",
                    "2015-08-17T15:33:00",
                    "2015-08-17T15:34:00",
                    "2015-08-17T15:35:00",
                    "2015-08-17T15:36:00",
                    "2015-08-17T15:37:00",
                    "2015-08-17T15:38:00",
                    "2015-08-17T15:39:00",
                    "2015-08-17T15:40:00",
                    "2015-08-17T15:41:00",
                    "2015-08-17T15:42:00",
                    "2015-08-17T15:43:00",
                    "2015-08-17T15:44:00",
                    "2015-08-17T15:45:00",
                    "2015-08-17T15:46:00",
                    "2015-08-17T15:47:00",
                    "2015-08-17T15:48:00",
                    "2015-08-17T15:49:00",
                    "2015-08-17T15:50:00",
                    "2015-08-17T15:51:00",
                    "2015-08-17T15:52:00",
                    "2015-08-17T15:53:00",
                    "2015-08-17T15:54:00",
                    "2015-08-17T15:55:00",
                    "2015-08-17T15:56:00",
                    "2015-08-17T15:57:00",
                    "2015-08-17T15:58:00",
                    "2015-08-17T15:59:00",
                    "2015-08-17T16:00:00",
                    "2015-08-17T16:01:00",
                    "2015-08-17T16:02:00",
                    "2015-08-17T16:03:00",
                    "2015-08-17T16:04:00",
                    "2015-08-17T16:05:00",
                    "2015-08-17T16:06:00",
                    "2015-08-17T16:07:00",
                    "2015-08-17T16:08:00",
                    "2015-08-17T16:09:00",
                    "2015-08-17T16:10:00",
                    "2015-08-17T16:11:00",
                    "2015-08-17T16:12:00",
                    "2015-08-17T16:13:00",
                    "2015-08-17T16:14:00",
                    "2015-08-17T16:15:00",
                    "2015-08-17T16:16:00",
                    "2015-08-17T16:17:00",
                    "2015-08-17T16:18:00",
                    "2015-08-17T16:19:00",
                    "2015-08-17T16:20:00",
                    "2015-08-17T16:21:00",
                    "2015-08-17T16:22:00",
                    "2015-08-17T16:23:00",
                    "2015-08-17T16:24:00",
                    "2015-08-17T16:25:00",
                    "2015-08-17T16:26:00",
                    "2015-08-17T16:27:00",
                    "2015-08-17T16:28:00",
                    "2015-08-17T16:29:00",
                    "2015-08-17T16:30:00",
                    "2015-08-17T16:31:00",
                    "2015-08-17T16:32:00",
                    "2015-08-17T16:33:00",
                    "2015-08-17T16:34:00",
                    "2015-08-17T16:35:00",
                    "2015-08-17T16:36:00",
                    "2015-08-17T16:37:00",
                    "2015-08-17T16:38:00",
                    "2015-08-17T16:39:00",
                    "2015-08-17T16:40:00",
                    "2015-08-17T16:41:00",
                    "2015-08-17T16:42:00",
                    "2015-08-17T16:43:00",
                    "2015-08-17T16:44:00",
                    "2015-08-17T16:45:00",
                    "2015-08-17T16:46:00",
                    "2015-08-17T16:47:00",
                    "2015-08-17T16:48:00",
                    "2015-08-17T16:49:00",
                    "2015-08-17T16:50:00",
                    "2015-08-17T16:51:00",
                    "2015-08-17T16:52:00",
                    "2015-08-17T16:53:00",
                    "2015-08-17T16:54:00",
                    "2015-08-17T16:55:00",
                    "2015-08-17T16:56:00",
                    "2015-08-17T16:57:00",
                    "2015-08-17T16:58:00",
                    "2015-08-17T16:59:00",
                    "2015-08-17T17:00:00",
                    "2015-08-17T17:01:00",
                    "2015-08-17T17:02:00",
                    "2015-08-17T17:03:00",
                    "2015-08-17T17:04:00",
                    "2015-08-17T17:05:00",
                    "2015-08-17T17:06:00",
                    "2015-08-17T17:07:00",
                    "2015-08-17T17:08:00",
                    "2015-08-17T17:09:00",
                    "2015-08-17T17:10:00",
                    "2015-08-17T17:11:00",
                    "2015-08-17T17:12:00",
                    "2015-08-17T17:13:00",
                    "2015-08-17T17:14:00",
                    "2015-08-17T17:15:00",
                    "2015-08-17T17:16:00",
                    "2015-08-17T17:17:00",
                    "2015-08-17T17:18:00",
                    "2015-08-17T17:19:00",
                    "2015-08-17T17:20:00",
                    "2015-08-17T17:21:00",
                    "2015-08-17T17:22:00",
                    "2015-08-17T17:23:00",
                    "2015-08-17T17:24:00",
                    "2015-08-17T17:25:00",
                    "2015-08-17T17:26:00",
                    "2015-08-17T17:27:00",
                    "2015-08-17T17:28:00",
                    "2015-08-17T17:29:00",
                    "2015-08-17T17:30:00",
                    "2015-08-17T17:31:00",
                    "2015-08-17T17:32:00",
                    "2015-08-17T17:33:00",
                    "2015-08-17T17:34:00",
                    "2015-08-17T17:35:00",
                    "2015-08-17T17:36:00",
                    "2015-08-17T17:37:00",
                    "2015-08-17T17:38:00",
                    "2015-08-17T17:39:00",
                    "2015-08-17T17:40:00",
                    "2015-08-17T17:41:00",
                    "2015-08-17T17:42:00",
                    "2015-08-17T17:43:00",
                    "2015-08-17T17:44:00",
                    "2015-08-17T17:45:00",
                    "2015-08-17T17:46:00",
                    "2015-08-17T17:47:00",
                    "2015-08-17T17:48:00",
                    "2015-08-17T17:49:00",
                    "2015-08-17T17:50:00",
                    "2015-08-17T17:51:00",
                    "2015-08-17T17:52:00",
                    "2015-08-17T17:53:00",
                    "2015-08-17T17:54:00",
                    "2015-08-17T17:55:00",
                    "2015-08-17T17:56:00",
                    "2015-08-17T17:57:00",
                    "2015-08-17T17:58:00",
                    "2015-08-17T17:59:00",
                    "2015-08-17T18:00:00",
                    "2015-08-17T18:01:00",
                    "2015-08-17T18:02:00",
                    "2015-08-17T18:03:00",
                    "2015-08-17T18:04:00",
                    "2015-08-17T18:05:00",
                    "2015-08-17T18:06:00",
                    "2015-08-17T18:07:00",
                    "2015-08-17T18:08:00",
                    "2015-08-17T18:09:00",
                    "2015-08-17T18:10:00",
                    "2015-08-17T18:11:00",
                    "2015-08-17T18:12:00",
                    "2015-08-17T18:13:00",
                    "2015-08-17T18:14:00",
                    "2015-08-17T18:15:00",
                    "2015-08-17T18:16:00",
                    "2015-08-17T18:17:00",
                    "2015-08-17T18:18:00",
                    "2015-08-17T18:19:00",
                    "2015-08-17T18:20:00",
                    "2015-08-17T18:21:00",
                    "2015-08-17T18:22:00",
                    "2015-08-17T18:23:00",
                    "2015-08-17T18:24:00",
                    "2015-08-17T18:25:00",
                    "2015-08-17T18:26:00",
                    "2015-08-17T18:27:00",
                    "2015-08-17T18:28:00",
                    "2015-08-17T18:29:00",
                    "2015-08-17T18:30:00",
                    "2015-08-17T18:31:00",
                    "2015-08-17T18:32:00",
                    "2015-08-17T18:33:00",
                    "2015-08-17T18:34:00",
                    "2015-08-17T18:35:00",
                    "2015-08-17T18:36:00",
                    "2015-08-17T18:37:00",
                    "2015-08-17T18:38:00",
                    "2015-08-17T18:39:00",
                    "2015-08-17T18:40:00",
                    "2015-08-17T18:41:00",
                    "2015-08-17T18:42:00",
                    "2015-08-17T18:43:00",
                    "2015-08-17T18:44:00",
                    "2015-08-17T18:45:00",
                    "2015-08-17T18:46:00",
                    "2015-08-17T18:47:00",
                    "2015-08-17T18:48:00",
                    "2015-08-17T18:49:00",
                    "2015-08-17T18:50:00",
                    "2015-08-17T18:51:00",
                    "2015-08-17T18:52:00",
                    "2015-08-17T18:53:00",
                    "2015-08-17T18:54:00"
                  ],
                  "xaxis": "x3",
                  "y": [
                    -1.5607175925925831,
                    -2.3329398148148135,
                    -3.78293981481484,
                    -2.5773842592592726,
                    -5.366273148148155,
                    -1.157939814814821,
                    -2.6384953703703755,
                    -1.7801620370370552,
                    -2.8857175925926097,
                    -1.2996064814814725,
                    0.18928240740739793,
                    1.5670601851852017,
                    2.7309490740740743,
                    -0.6273842592592649,
                    -0.605162037037044,
                    2.13094907407407,
                    2.050393518518498,
                    -0.566273148148162,
                    0.2628935185185037,
                    1.0795601851851808,
                    1.4128935185185236,
                    3.7295601851851723,
                    3.062893518518501,
                    2.4128935185185094,
                    2.275393518518521,
                    2.1587268518518465,
                    0.5212268518518579,
                    -0.14127314814813646,
                    0.17539351851852641,
                    -0.007939814814810708,
                    -0.6551620370370175,
                    -1.4162731481481279,
                    -2.4968287037037142,
                    -0.5912731481481488,
                    -3.0329398148148115,
                    -5.496828703703715,
                    -5.971828703703709,
                    -4.080162037037039,
                    -3.166273148148137,
                    -0.9051620370370363,
                    -11.296828703703708,
                    -13.038495370370383,
                    -0.13016203703704968,
                    0.786504629629617,
                    2.383726851851836,
                    5.639282407407415,
                    5.214282407407404,
                    5.133726851851865,
                    5.389282407407425,
                    7.289282407407421,
                    5.186504629629642,
                    6.111504629629662,
                    6.369837962962979,
                    3.2476157407407635,
                    2.455949074074078,
                    0.35872685185186826,
                    0.5753935185185368,
                    -0.5440509259259221,
                    0.6865046296296131,
                    -2.4357175925925736,
                    -1.5607175925925831,
                    -2.3329398148148135,
                    -3.78293981481484,
                    -2.5773842592592726,
                    -5.366273148148155,
                    -1.157939814814821,
                    -2.6384953703703755,
                    -1.7801620370370552,
                    -2.8857175925926097,
                    -1.2996064814814725,
                    0.18928240740739793,
                    1.5670601851852017,
                    2.7309490740740743,
                    -0.6273842592592649,
                    -0.605162037037044,
                    2.13094907407407,
                    2.050393518518498,
                    -0.566273148148162,
                    0.2628935185185037,
                    1.0795601851851808,
                    1.4128935185185236,
                    3.7295601851851723,
                    3.062893518518501,
                    2.4128935185185094,
                    2.275393518518521,
                    2.1587268518518465,
                    0.5212268518518579,
                    -0.14127314814813646,
                    0.17539351851852641,
                    -0.007939814814810708,
                    -0.6551620370370175,
                    -1.4162731481481279,
                    -2.4968287037037142,
                    -0.5912731481481488,
                    -3.0329398148148115,
                    -5.496828703703715,
                    -5.971828703703709,
                    -4.080162037037039,
                    -3.166273148148137,
                    -0.9051620370370363,
                    -11.296828703703708,
                    -13.038495370370383,
                    -0.13016203703704968,
                    0.786504629629617,
                    2.383726851851836,
                    5.639282407407415,
                    5.214282407407404,
                    5.133726851851865,
                    5.389282407407425,
                    7.289282407407421,
                    5.186504629629642,
                    6.111504629629662,
                    6.369837962962979,
                    3.2476157407407635,
                    2.455949074074078,
                    0.35872685185186826,
                    0.5753935185185368,
                    -0.5440509259259221,
                    0.6865046296296131,
                    -2.4357175925925736,
                    -1.5607175925925831,
                    -2.3329398148148135,
                    -3.78293981481484,
                    -2.5773842592592726,
                    -5.366273148148155,
                    -1.157939814814821,
                    -2.6384953703703755,
                    -1.7801620370370552,
                    -2.8857175925926097,
                    -1.2996064814814725,
                    0.18928240740739793,
                    1.5670601851852017,
                    2.7309490740740743,
                    -0.6273842592592649,
                    -0.605162037037044,
                    2.13094907407407,
                    2.050393518518498,
                    -0.566273148148162,
                    0.2628935185185037,
                    1.0795601851851808,
                    1.4128935185185236,
                    3.7295601851851723,
                    3.062893518518501,
                    2.4128935185185094,
                    2.275393518518521,
                    2.1587268518518465,
                    0.5212268518518579,
                    -0.14127314814813646,
                    0.17539351851852641,
                    -0.007939814814810708,
                    -0.6551620370370175,
                    -1.4162731481481279,
                    -2.4968287037037142,
                    -0.5912731481481488,
                    -3.0329398148148115,
                    -5.496828703703715,
                    -5.971828703703709,
                    -4.080162037037039,
                    -3.166273148148137,
                    -0.9051620370370363,
                    -11.296828703703708,
                    -13.038495370370383,
                    -0.13016203703704968,
                    0.786504629629617,
                    2.383726851851836,
                    5.639282407407415,
                    5.214282407407404,
                    5.133726851851865,
                    5.389282407407425,
                    7.289282407407421,
                    5.186504629629642,
                    6.111504629629662,
                    6.369837962962979,
                    3.2476157407407635,
                    2.455949074074078,
                    0.35872685185186826,
                    0.5753935185185368,
                    -0.5440509259259221,
                    0.6865046296296131,
                    -2.4357175925925736,
                    -1.5607175925925831,
                    -2.3329398148148135,
                    -3.78293981481484,
                    -2.5773842592592726,
                    -5.366273148148155,
                    -1.157939814814821,
                    -2.6384953703703755,
                    -1.7801620370370552,
                    -2.8857175925926097,
                    -1.2996064814814725,
                    0.18928240740739793,
                    1.5670601851852017,
                    2.7309490740740743,
                    -0.6273842592592649,
                    -0.605162037037044,
                    2.13094907407407,
                    2.050393518518498,
                    -0.566273148148162,
                    0.2628935185185037,
                    1.0795601851851808,
                    1.4128935185185236,
                    3.7295601851851723,
                    3.062893518518501,
                    2.4128935185185094,
                    2.275393518518521,
                    2.1587268518518465,
                    0.5212268518518579,
                    -0.14127314814813646,
                    0.17539351851852641,
                    -0.007939814814810708,
                    -0.6551620370370175,
                    -1.4162731481481279,
                    -2.4968287037037142,
                    -0.5912731481481488,
                    -3.0329398148148115,
                    -5.496828703703715,
                    -5.971828703703709,
                    -4.080162037037039,
                    -3.166273148148137,
                    -0.9051620370370363,
                    -11.296828703703708,
                    -13.038495370370383,
                    -0.13016203703704968,
                    0.786504629629617,
                    2.383726851851836,
                    5.639282407407415
                  ],
                  "yaxis": "y3"
                },
                {
                  "name": "Residual",
                  "type": "scatter",
                  "x": [
                    "2015-08-17T15:09:00",
                    "2015-08-17T15:10:00",
                    "2015-08-17T15:11:00",
                    "2015-08-17T15:12:00",
                    "2015-08-17T15:13:00",
                    "2015-08-17T15:14:00",
                    "2015-08-17T15:15:00",
                    "2015-08-17T15:16:00",
                    "2015-08-17T15:17:00",
                    "2015-08-17T15:18:00",
                    "2015-08-17T15:19:00",
                    "2015-08-17T15:20:00",
                    "2015-08-17T15:21:00",
                    "2015-08-17T15:22:00",
                    "2015-08-17T15:23:00",
                    "2015-08-17T15:24:00",
                    "2015-08-17T15:25:00",
                    "2015-08-17T15:26:00",
                    "2015-08-17T15:27:00",
                    "2015-08-17T15:28:00",
                    "2015-08-17T15:29:00",
                    "2015-08-17T15:30:00",
                    "2015-08-17T15:31:00",
                    "2015-08-17T15:32:00",
                    "2015-08-17T15:33:00",
                    "2015-08-17T15:34:00",
                    "2015-08-17T15:35:00",
                    "2015-08-17T15:36:00",
                    "2015-08-17T15:37:00",
                    "2015-08-17T15:38:00",
                    "2015-08-17T15:39:00",
                    "2015-08-17T15:40:00",
                    "2015-08-17T15:41:00",
                    "2015-08-17T15:42:00",
                    "2015-08-17T15:43:00",
                    "2015-08-17T15:44:00",
                    "2015-08-17T15:45:00",
                    "2015-08-17T15:46:00",
                    "2015-08-17T15:47:00",
                    "2015-08-17T15:48:00",
                    "2015-08-17T15:49:00",
                    "2015-08-17T15:50:00",
                    "2015-08-17T15:51:00",
                    "2015-08-17T15:52:00",
                    "2015-08-17T15:53:00",
                    "2015-08-17T15:54:00",
                    "2015-08-17T15:55:00",
                    "2015-08-17T15:56:00",
                    "2015-08-17T15:57:00",
                    "2015-08-17T15:58:00",
                    "2015-08-17T15:59:00",
                    "2015-08-17T16:00:00",
                    "2015-08-17T16:01:00",
                    "2015-08-17T16:02:00",
                    "2015-08-17T16:03:00",
                    "2015-08-17T16:04:00",
                    "2015-08-17T16:05:00",
                    "2015-08-17T16:06:00",
                    "2015-08-17T16:07:00",
                    "2015-08-17T16:08:00",
                    "2015-08-17T16:09:00",
                    "2015-08-17T16:10:00",
                    "2015-08-17T16:11:00",
                    "2015-08-17T16:12:00",
                    "2015-08-17T16:13:00",
                    "2015-08-17T16:14:00",
                    "2015-08-17T16:15:00",
                    "2015-08-17T16:16:00",
                    "2015-08-17T16:17:00",
                    "2015-08-17T16:18:00",
                    "2015-08-17T16:19:00",
                    "2015-08-17T16:20:00",
                    "2015-08-17T16:21:00",
                    "2015-08-17T16:22:00",
                    "2015-08-17T16:23:00",
                    "2015-08-17T16:24:00",
                    "2015-08-17T16:25:00",
                    "2015-08-17T16:26:00",
                    "2015-08-17T16:27:00",
                    "2015-08-17T16:28:00",
                    "2015-08-17T16:29:00",
                    "2015-08-17T16:30:00",
                    "2015-08-17T16:31:00",
                    "2015-08-17T16:32:00",
                    "2015-08-17T16:33:00",
                    "2015-08-17T16:34:00",
                    "2015-08-17T16:35:00",
                    "2015-08-17T16:36:00",
                    "2015-08-17T16:37:00",
                    "2015-08-17T16:38:00",
                    "2015-08-17T16:39:00",
                    "2015-08-17T16:40:00",
                    "2015-08-17T16:41:00",
                    "2015-08-17T16:42:00",
                    "2015-08-17T16:43:00",
                    "2015-08-17T16:44:00",
                    "2015-08-17T16:45:00",
                    "2015-08-17T16:46:00",
                    "2015-08-17T16:47:00",
                    "2015-08-17T16:48:00",
                    "2015-08-17T16:49:00",
                    "2015-08-17T16:50:00",
                    "2015-08-17T16:51:00",
                    "2015-08-17T16:52:00",
                    "2015-08-17T16:53:00",
                    "2015-08-17T16:54:00",
                    "2015-08-17T16:55:00",
                    "2015-08-17T16:56:00",
                    "2015-08-17T16:57:00",
                    "2015-08-17T16:58:00",
                    "2015-08-17T16:59:00",
                    "2015-08-17T17:00:00",
                    "2015-08-17T17:01:00",
                    "2015-08-17T17:02:00",
                    "2015-08-17T17:03:00",
                    "2015-08-17T17:04:00",
                    "2015-08-17T17:05:00",
                    "2015-08-17T17:06:00",
                    "2015-08-17T17:07:00",
                    "2015-08-17T17:08:00",
                    "2015-08-17T17:09:00",
                    "2015-08-17T17:10:00",
                    "2015-08-17T17:11:00",
                    "2015-08-17T17:12:00",
                    "2015-08-17T17:13:00",
                    "2015-08-17T17:14:00",
                    "2015-08-17T17:15:00",
                    "2015-08-17T17:16:00",
                    "2015-08-17T17:17:00",
                    "2015-08-17T17:18:00",
                    "2015-08-17T17:19:00",
                    "2015-08-17T17:20:00",
                    "2015-08-17T17:21:00",
                    "2015-08-17T17:22:00",
                    "2015-08-17T17:23:00",
                    "2015-08-17T17:24:00",
                    "2015-08-17T17:25:00",
                    "2015-08-17T17:26:00",
                    "2015-08-17T17:27:00",
                    "2015-08-17T17:28:00",
                    "2015-08-17T17:29:00",
                    "2015-08-17T17:30:00",
                    "2015-08-17T17:31:00",
                    "2015-08-17T17:32:00",
                    "2015-08-17T17:33:00",
                    "2015-08-17T17:34:00",
                    "2015-08-17T17:35:00",
                    "2015-08-17T17:36:00",
                    "2015-08-17T17:37:00",
                    "2015-08-17T17:38:00",
                    "2015-08-17T17:39:00",
                    "2015-08-17T17:40:00",
                    "2015-08-17T17:41:00",
                    "2015-08-17T17:42:00",
                    "2015-08-17T17:43:00",
                    "2015-08-17T17:44:00",
                    "2015-08-17T17:45:00",
                    "2015-08-17T17:46:00",
                    "2015-08-17T17:47:00",
                    "2015-08-17T17:48:00",
                    "2015-08-17T17:49:00",
                    "2015-08-17T17:50:00",
                    "2015-08-17T17:51:00",
                    "2015-08-17T17:52:00",
                    "2015-08-17T17:53:00",
                    "2015-08-17T17:54:00",
                    "2015-08-17T17:55:00",
                    "2015-08-17T17:56:00",
                    "2015-08-17T17:57:00",
                    "2015-08-17T17:58:00",
                    "2015-08-17T17:59:00",
                    "2015-08-17T18:00:00",
                    "2015-08-17T18:01:00",
                    "2015-08-17T18:02:00",
                    "2015-08-17T18:03:00",
                    "2015-08-17T18:04:00",
                    "2015-08-17T18:05:00",
                    "2015-08-17T18:06:00",
                    "2015-08-17T18:07:00",
                    "2015-08-17T18:08:00",
                    "2015-08-17T18:09:00",
                    "2015-08-17T18:10:00",
                    "2015-08-17T18:11:00",
                    "2015-08-17T18:12:00",
                    "2015-08-17T18:13:00",
                    "2015-08-17T18:14:00",
                    "2015-08-17T18:15:00",
                    "2015-08-17T18:16:00",
                    "2015-08-17T18:17:00",
                    "2015-08-17T18:18:00",
                    "2015-08-17T18:19:00",
                    "2015-08-17T18:20:00",
                    "2015-08-17T18:21:00",
                    "2015-08-17T18:22:00",
                    "2015-08-17T18:23:00",
                    "2015-08-17T18:24:00",
                    "2015-08-17T18:25:00",
                    "2015-08-17T18:26:00",
                    "2015-08-17T18:27:00",
                    "2015-08-17T18:28:00",
                    "2015-08-17T18:29:00",
                    "2015-08-17T18:30:00",
                    "2015-08-17T18:31:00",
                    "2015-08-17T18:32:00",
                    "2015-08-17T18:33:00",
                    "2015-08-17T18:34:00",
                    "2015-08-17T18:35:00",
                    "2015-08-17T18:36:00",
                    "2015-08-17T18:37:00",
                    "2015-08-17T18:38:00",
                    "2015-08-17T18:39:00",
                    "2015-08-17T18:40:00",
                    "2015-08-17T18:41:00",
                    "2015-08-17T18:42:00",
                    "2015-08-17T18:43:00",
                    "2015-08-17T18:44:00",
                    "2015-08-17T18:45:00",
                    "2015-08-17T18:46:00",
                    "2015-08-17T18:47:00",
                    "2015-08-17T18:48:00",
                    "2015-08-17T18:49:00",
                    "2015-08-17T18:50:00",
                    "2015-08-17T18:51:00",
                    "2015-08-17T18:52:00",
                    "2015-08-17T18:53:00",
                    "2015-08-17T18:54:00"
                  ],
                  "xaxis": "x4",
                  "y": [
                    null,
                    null,
                    null,
                    null,
                    null,
                    null,
                    null,
                    null,
                    null,
                    null,
                    null,
                    null,
                    null,
                    null,
                    null,
                    null,
                    null,
                    null,
                    null,
                    null,
                    null,
                    null,
                    null,
                    null,
                    null,
                    null,
                    null,
                    null,
                    null,
                    null,
                    -7.861504629629605,
                    -7.050393518518484,
                    -5.894837962962965,
                    -7.767060185185171,
                    -5.34206018518516,
                    -2.944837962962948,
                    -2.5448379629629425,
                    2.50516203703705,
                    3.5662731481481713,
                    5.313495370370396,
                    -20.286504629629604,
                    -18.536504629629604,
                    5.580162037037066,
                    0.6968287037037315,
                    9.15793981481485,
                    10.969050925925934,
                    9.444050925925929,
                    7.574606481481478,
                    1.3690509259259294,
                    5.502384259259265,
                    6.655162037037027,
                    5.813495370370349,
                    4.588495370370364,
                    3.5940509259259334,
                    2.3357175925926077,
                    4.557939814814818,
                    4.432939814814818,
                    4.652384259259271,
                    2.538495370370381,
                    5.6690509259259505,
                    3.727384259259269,
                    3.432939814814808,
                    3.8162731481481713,
                    2.544050925925941,
                    4.257939814814806,
                    0.9662731481481581,
                    1.371828703703724,
                    0.49682870370369536,
                    1.6523842592592612,
                    0.17460648148150093,
                    -1.4726157407407579,
                    -3.317060185185202,
                    -3.63094907407408,
                    -1.1476157407407692,
                    -1.0031712962963044,
                    -3.4476157407407615,
                    -2.0503935185185265,
                    0.849606481481465,
                    -0.7962268518518636,
                    -1.462893518518535,
                    -3.5545601851852036,
                    -5.596226851851875,
                    -4.746226851851895,
                    -5.004560185185206,
                    -5.858726851851864,
                    -5.758726851851869,
                    -4.054560185185218,
                    -3.283726851851875,
                    -3.5087268518518693,
                    -2.217060185185212,
                    -1.4781712962963367,
                    -0.6753935185185691,
                    0.43016203703702294,
                    -1.4753935185185425,
                    1.9662731481481486,
                    4.405162037037046,
                    3.8051620370370234,
                    2.7384953703703703,
                    1.6162731481481543,
                    -1.878171296296295,
                    9.155162037037028,
                    10.505162037037023,
                    -3.7781712962963385,
                    -4.036504629629645,
                    -5.933726851851876,
                    -9.52261574074074,
                    -9.430949074074071,
                    -9.60872685185186,
                    -6.114282407407419,
                    -8.314282407407426,
                    -12.569837962962968,
                    -12.936504629629622,
                    -4.669837962962962,
                    -5.022615740740769,
                    2.2690509259259164,
                    -2.1503935185185252,
                    -6.858726851851868,
                    -8.197615740740751,
                    -7.886504629629631,
                    -10.214282407407431,
                    -5.580949074074097,
                    -7.342060185185198,
                    -4.383726851851874,
                    -6.105949074074093,
                    -4.808726851851857,
                    -5.375393518518511,
                    -2.203171296296293,
                    5.646828703703729,
                    1.4773842592592783,
                    7.566273148148152,
                    12.685717592592603,
                    7.9329398148148265,
                    8.402384259259252,
                    5.319050925925956,
                    4.855162037037044,
                    5.677384259259295,
                    2.266273148148165,
                    -0.6337268518518266,
                    1.012106481481502,
                    1.6787731481481734,
                    3.770439814814842,
                    5.812106481481513,
                    4.962106481481533,
                    5.220439814814845,
                    6.074606481481502,
                    5.974606481481508,
                    4.270439814814856,
                    3.4996064814815133,
                    3.7246064814815076,
                    2.4329398148148504,
                    9.6634953703704,
                    8.049606481481511,
                    5.7884953703704,
                    9.566273148148172,
                    3.6996064814814686,
                    -1.1365046296296395,
                    -0.9365046296296224,
                    -4.919837962962961,
                    -4.858726851851868,
                    -3.1115046296296436,
                    11.45516203703704,
                    8.355162037037045,
                    -1.4781712962962703,
                    3.663495370370372,
                    -2.900393518518516,
                    -1.1226157407407351,
                    0.310717592592602,
                    2.357939814814838,
                    5.069050925925946,
                    3.135717592592619,
                    6.238495370370398,
                    7.446828703703732,
                    0.405162037037055,
                    1.7523842592592933,
                    -4.2809490740740666,
                    -2.083726851851834,
                    2.749606481481509,
                    3.869050925925939,
                    5.6718287037037065,
                    4.869050925925939,
                    2.177384259259286,
                    4.232939814814848,
                    0.8912731481481599,
                    3.8857175925926097,
                    0.8746064814815089,
                    4.732939814814809,
                    1.155162037037027,
                    -5.819837962962968,
                    -2.8059490740740816,
                    -7.417060185185196,
                    -10.889282407407386,
                    -4.292060185185168,
                    -4.447615740740714,
                    -3.8476157407407294,
                    -3.5281712962962817,
                    -1.9059490740740759,
                    null,
                    null,
                    null,
                    null,
                    null,
                    null,
                    null,
                    null,
                    null,
                    null,
                    null,
                    null,
                    null,
                    null,
                    null,
                    null,
                    null,
                    null,
                    null,
                    null,
                    null,
                    null,
                    null,
                    null,
                    null,
                    null,
                    null,
                    null,
                    null,
                    null
                  ],
                  "yaxis": "y4"
                }
              ],
              "layout": {
                "font": {
                  "color": "white"
                },
                "paper_bgcolor": "black",
                "plot_bgcolor": "black",
                "template": {
                  "data": {
                    "bar": [
                      {
                        "error_x": {
                          "color": "#2a3f5f"
                        },
                        "error_y": {
                          "color": "#2a3f5f"
                        },
                        "marker": {
                          "line": {
                            "color": "#E5ECF6",
                            "width": 0.5
                          },
                          "pattern": {
                            "fillmode": "overlay",
                            "size": 10,
                            "solidity": 0.2
                          }
                        },
                        "type": "bar"
                      }
                    ],
                    "barpolar": [
                      {
                        "marker": {
                          "line": {
                            "color": "#E5ECF6",
                            "width": 0.5
                          },
                          "pattern": {
                            "fillmode": "overlay",
                            "size": 10,
                            "solidity": 0.2
                          }
                        },
                        "type": "barpolar"
                      }
                    ],
                    "carpet": [
                      {
                        "aaxis": {
                          "endlinecolor": "#2a3f5f",
                          "gridcolor": "white",
                          "linecolor": "white",
                          "minorgridcolor": "white",
                          "startlinecolor": "#2a3f5f"
                        },
                        "baxis": {
                          "endlinecolor": "#2a3f5f",
                          "gridcolor": "white",
                          "linecolor": "white",
                          "minorgridcolor": "white",
                          "startlinecolor": "#2a3f5f"
                        },
                        "type": "carpet"
                      }
                    ],
                    "choropleth": [
                      {
                        "colorbar": {
                          "outlinewidth": 0,
                          "ticks": ""
                        },
                        "type": "choropleth"
                      }
                    ],
                    "contour": [
                      {
                        "colorbar": {
                          "outlinewidth": 0,
                          "ticks": ""
                        },
                        "colorscale": [
                          [
                            0,
                            "#0d0887"
                          ],
                          [
                            0.1111111111111111,
                            "#46039f"
                          ],
                          [
                            0.2222222222222222,
                            "#7201a8"
                          ],
                          [
                            0.3333333333333333,
                            "#9c179e"
                          ],
                          [
                            0.4444444444444444,
                            "#bd3786"
                          ],
                          [
                            0.5555555555555556,
                            "#d8576b"
                          ],
                          [
                            0.6666666666666666,
                            "#ed7953"
                          ],
                          [
                            0.7777777777777778,
                            "#fb9f3a"
                          ],
                          [
                            0.8888888888888888,
                            "#fdca26"
                          ],
                          [
                            1,
                            "#f0f921"
                          ]
                        ],
                        "type": "contour"
                      }
                    ],
                    "contourcarpet": [
                      {
                        "colorbar": {
                          "outlinewidth": 0,
                          "ticks": ""
                        },
                        "type": "contourcarpet"
                      }
                    ],
                    "heatmap": [
                      {
                        "colorbar": {
                          "outlinewidth": 0,
                          "ticks": ""
                        },
                        "colorscale": [
                          [
                            0,
                            "#0d0887"
                          ],
                          [
                            0.1111111111111111,
                            "#46039f"
                          ],
                          [
                            0.2222222222222222,
                            "#7201a8"
                          ],
                          [
                            0.3333333333333333,
                            "#9c179e"
                          ],
                          [
                            0.4444444444444444,
                            "#bd3786"
                          ],
                          [
                            0.5555555555555556,
                            "#d8576b"
                          ],
                          [
                            0.6666666666666666,
                            "#ed7953"
                          ],
                          [
                            0.7777777777777778,
                            "#fb9f3a"
                          ],
                          [
                            0.8888888888888888,
                            "#fdca26"
                          ],
                          [
                            1,
                            "#f0f921"
                          ]
                        ],
                        "type": "heatmap"
                      }
                    ],
                    "heatmapgl": [
                      {
                        "colorbar": {
                          "outlinewidth": 0,
                          "ticks": ""
                        },
                        "colorscale": [
                          [
                            0,
                            "#0d0887"
                          ],
                          [
                            0.1111111111111111,
                            "#46039f"
                          ],
                          [
                            0.2222222222222222,
                            "#7201a8"
                          ],
                          [
                            0.3333333333333333,
                            "#9c179e"
                          ],
                          [
                            0.4444444444444444,
                            "#bd3786"
                          ],
                          [
                            0.5555555555555556,
                            "#d8576b"
                          ],
                          [
                            0.6666666666666666,
                            "#ed7953"
                          ],
                          [
                            0.7777777777777778,
                            "#fb9f3a"
                          ],
                          [
                            0.8888888888888888,
                            "#fdca26"
                          ],
                          [
                            1,
                            "#f0f921"
                          ]
                        ],
                        "type": "heatmapgl"
                      }
                    ],
                    "histogram": [
                      {
                        "marker": {
                          "pattern": {
                            "fillmode": "overlay",
                            "size": 10,
                            "solidity": 0.2
                          }
                        },
                        "type": "histogram"
                      }
                    ],
                    "histogram2d": [
                      {
                        "colorbar": {
                          "outlinewidth": 0,
                          "ticks": ""
                        },
                        "colorscale": [
                          [
                            0,
                            "#0d0887"
                          ],
                          [
                            0.1111111111111111,
                            "#46039f"
                          ],
                          [
                            0.2222222222222222,
                            "#7201a8"
                          ],
                          [
                            0.3333333333333333,
                            "#9c179e"
                          ],
                          [
                            0.4444444444444444,
                            "#bd3786"
                          ],
                          [
                            0.5555555555555556,
                            "#d8576b"
                          ],
                          [
                            0.6666666666666666,
                            "#ed7953"
                          ],
                          [
                            0.7777777777777778,
                            "#fb9f3a"
                          ],
                          [
                            0.8888888888888888,
                            "#fdca26"
                          ],
                          [
                            1,
                            "#f0f921"
                          ]
                        ],
                        "type": "histogram2d"
                      }
                    ],
                    "histogram2dcontour": [
                      {
                        "colorbar": {
                          "outlinewidth": 0,
                          "ticks": ""
                        },
                        "colorscale": [
                          [
                            0,
                            "#0d0887"
                          ],
                          [
                            0.1111111111111111,
                            "#46039f"
                          ],
                          [
                            0.2222222222222222,
                            "#7201a8"
                          ],
                          [
                            0.3333333333333333,
                            "#9c179e"
                          ],
                          [
                            0.4444444444444444,
                            "#bd3786"
                          ],
                          [
                            0.5555555555555556,
                            "#d8576b"
                          ],
                          [
                            0.6666666666666666,
                            "#ed7953"
                          ],
                          [
                            0.7777777777777778,
                            "#fb9f3a"
                          ],
                          [
                            0.8888888888888888,
                            "#fdca26"
                          ],
                          [
                            1,
                            "#f0f921"
                          ]
                        ],
                        "type": "histogram2dcontour"
                      }
                    ],
                    "mesh3d": [
                      {
                        "colorbar": {
                          "outlinewidth": 0,
                          "ticks": ""
                        },
                        "type": "mesh3d"
                      }
                    ],
                    "parcoords": [
                      {
                        "line": {
                          "colorbar": {
                            "outlinewidth": 0,
                            "ticks": ""
                          }
                        },
                        "type": "parcoords"
                      }
                    ],
                    "pie": [
                      {
                        "automargin": true,
                        "type": "pie"
                      }
                    ],
                    "scatter": [
                      {
                        "fillpattern": {
                          "fillmode": "overlay",
                          "size": 10,
                          "solidity": 0.2
                        },
                        "type": "scatter"
                      }
                    ],
                    "scatter3d": [
                      {
                        "line": {
                          "colorbar": {
                            "outlinewidth": 0,
                            "ticks": ""
                          }
                        },
                        "marker": {
                          "colorbar": {
                            "outlinewidth": 0,
                            "ticks": ""
                          }
                        },
                        "type": "scatter3d"
                      }
                    ],
                    "scattercarpet": [
                      {
                        "marker": {
                          "colorbar": {
                            "outlinewidth": 0,
                            "ticks": ""
                          }
                        },
                        "type": "scattercarpet"
                      }
                    ],
                    "scattergeo": [
                      {
                        "marker": {
                          "colorbar": {
                            "outlinewidth": 0,
                            "ticks": ""
                          }
                        },
                        "type": "scattergeo"
                      }
                    ],
                    "scattergl": [
                      {
                        "marker": {
                          "colorbar": {
                            "outlinewidth": 0,
                            "ticks": ""
                          }
                        },
                        "type": "scattergl"
                      }
                    ],
                    "scattermapbox": [
                      {
                        "marker": {
                          "colorbar": {
                            "outlinewidth": 0,
                            "ticks": ""
                          }
                        },
                        "type": "scattermapbox"
                      }
                    ],
                    "scatterpolar": [
                      {
                        "marker": {
                          "colorbar": {
                            "outlinewidth": 0,
                            "ticks": ""
                          }
                        },
                        "type": "scatterpolar"
                      }
                    ],
                    "scatterpolargl": [
                      {
                        "marker": {
                          "colorbar": {
                            "outlinewidth": 0,
                            "ticks": ""
                          }
                        },
                        "type": "scatterpolargl"
                      }
                    ],
                    "scatterternary": [
                      {
                        "marker": {
                          "colorbar": {
                            "outlinewidth": 0,
                            "ticks": ""
                          }
                        },
                        "type": "scatterternary"
                      }
                    ],
                    "surface": [
                      {
                        "colorbar": {
                          "outlinewidth": 0,
                          "ticks": ""
                        },
                        "colorscale": [
                          [
                            0,
                            "#0d0887"
                          ],
                          [
                            0.1111111111111111,
                            "#46039f"
                          ],
                          [
                            0.2222222222222222,
                            "#7201a8"
                          ],
                          [
                            0.3333333333333333,
                            "#9c179e"
                          ],
                          [
                            0.4444444444444444,
                            "#bd3786"
                          ],
                          [
                            0.5555555555555556,
                            "#d8576b"
                          ],
                          [
                            0.6666666666666666,
                            "#ed7953"
                          ],
                          [
                            0.7777777777777778,
                            "#fb9f3a"
                          ],
                          [
                            0.8888888888888888,
                            "#fdca26"
                          ],
                          [
                            1,
                            "#f0f921"
                          ]
                        ],
                        "type": "surface"
                      }
                    ],
                    "table": [
                      {
                        "cells": {
                          "fill": {
                            "color": "#EBF0F8"
                          },
                          "line": {
                            "color": "white"
                          }
                        },
                        "header": {
                          "fill": {
                            "color": "#C8D4E3"
                          },
                          "line": {
                            "color": "white"
                          }
                        },
                        "type": "table"
                      }
                    ]
                  },
                  "layout": {
                    "annotationdefaults": {
                      "arrowcolor": "#2a3f5f",
                      "arrowhead": 0,
                      "arrowwidth": 1
                    },
                    "autotypenumbers": "strict",
                    "coloraxis": {
                      "colorbar": {
                        "outlinewidth": 0,
                        "ticks": ""
                      }
                    },
                    "colorscale": {
                      "diverging": [
                        [
                          0,
                          "#8e0152"
                        ],
                        [
                          0.1,
                          "#c51b7d"
                        ],
                        [
                          0.2,
                          "#de77ae"
                        ],
                        [
                          0.3,
                          "#f1b6da"
                        ],
                        [
                          0.4,
                          "#fde0ef"
                        ],
                        [
                          0.5,
                          "#f7f7f7"
                        ],
                        [
                          0.6,
                          "#e6f5d0"
                        ],
                        [
                          0.7,
                          "#b8e186"
                        ],
                        [
                          0.8,
                          "#7fbc41"
                        ],
                        [
                          0.9,
                          "#4d9221"
                        ],
                        [
                          1,
                          "#276419"
                        ]
                      ],
                      "sequential": [
                        [
                          0,
                          "#0d0887"
                        ],
                        [
                          0.1111111111111111,
                          "#46039f"
                        ],
                        [
                          0.2222222222222222,
                          "#7201a8"
                        ],
                        [
                          0.3333333333333333,
                          "#9c179e"
                        ],
                        [
                          0.4444444444444444,
                          "#bd3786"
                        ],
                        [
                          0.5555555555555556,
                          "#d8576b"
                        ],
                        [
                          0.6666666666666666,
                          "#ed7953"
                        ],
                        [
                          0.7777777777777778,
                          "#fb9f3a"
                        ],
                        [
                          0.8888888888888888,
                          "#fdca26"
                        ],
                        [
                          1,
                          "#f0f921"
                        ]
                      ],
                      "sequentialminus": [
                        [
                          0,
                          "#0d0887"
                        ],
                        [
                          0.1111111111111111,
                          "#46039f"
                        ],
                        [
                          0.2222222222222222,
                          "#7201a8"
                        ],
                        [
                          0.3333333333333333,
                          "#9c179e"
                        ],
                        [
                          0.4444444444444444,
                          "#bd3786"
                        ],
                        [
                          0.5555555555555556,
                          "#d8576b"
                        ],
                        [
                          0.6666666666666666,
                          "#ed7953"
                        ],
                        [
                          0.7777777777777778,
                          "#fb9f3a"
                        ],
                        [
                          0.8888888888888888,
                          "#fdca26"
                        ],
                        [
                          1,
                          "#f0f921"
                        ]
                      ]
                    },
                    "colorway": [
                      "#636efa",
                      "#EF553B",
                      "#00cc96",
                      "#ab63fa",
                      "#FFA15A",
                      "#19d3f3",
                      "#FF6692",
                      "#B6E880",
                      "#FF97FF",
                      "#FECB52"
                    ],
                    "font": {
                      "color": "#2a3f5f"
                    },
                    "geo": {
                      "bgcolor": "white",
                      "lakecolor": "white",
                      "landcolor": "#E5ECF6",
                      "showlakes": true,
                      "showland": true,
                      "subunitcolor": "white"
                    },
                    "hoverlabel": {
                      "align": "left"
                    },
                    "hovermode": "closest",
                    "mapbox": {
                      "style": "light"
                    },
                    "paper_bgcolor": "white",
                    "plot_bgcolor": "#E5ECF6",
                    "polar": {
                      "angularaxis": {
                        "gridcolor": "white",
                        "linecolor": "white",
                        "ticks": ""
                      },
                      "bgcolor": "#E5ECF6",
                      "radialaxis": {
                        "gridcolor": "white",
                        "linecolor": "white",
                        "ticks": ""
                      }
                    },
                    "scene": {
                      "xaxis": {
                        "backgroundcolor": "#E5ECF6",
                        "gridcolor": "white",
                        "gridwidth": 2,
                        "linecolor": "white",
                        "showbackground": true,
                        "ticks": "",
                        "zerolinecolor": "white"
                      },
                      "yaxis": {
                        "backgroundcolor": "#E5ECF6",
                        "gridcolor": "white",
                        "gridwidth": 2,
                        "linecolor": "white",
                        "showbackground": true,
                        "ticks": "",
                        "zerolinecolor": "white"
                      },
                      "zaxis": {
                        "backgroundcolor": "#E5ECF6",
                        "gridcolor": "white",
                        "gridwidth": 2,
                        "linecolor": "white",
                        "showbackground": true,
                        "ticks": "",
                        "zerolinecolor": "white"
                      }
                    },
                    "shapedefaults": {
                      "line": {
                        "color": "#2a3f5f"
                      }
                    },
                    "ternary": {
                      "aaxis": {
                        "gridcolor": "white",
                        "linecolor": "white",
                        "ticks": ""
                      },
                      "baxis": {
                        "gridcolor": "white",
                        "linecolor": "white",
                        "ticks": ""
                      },
                      "bgcolor": "#E5ECF6",
                      "caxis": {
                        "gridcolor": "white",
                        "linecolor": "white",
                        "ticks": ""
                      }
                    },
                    "title": {
                      "x": 0.05
                    },
                    "xaxis": {
                      "automargin": true,
                      "gridcolor": "white",
                      "linecolor": "white",
                      "ticks": "",
                      "title": {
                        "standoff": 15
                      },
                      "zerolinecolor": "white",
                      "zerolinewidth": 2
                    },
                    "yaxis": {
                      "automargin": true,
                      "gridcolor": "white",
                      "linecolor": "white",
                      "ticks": "",
                      "title": {
                        "standoff": 15
                      },
                      "zerolinecolor": "white",
                      "zerolinewidth": 2
                    }
                  }
                },
                "title": {
                  "text": "ETS Decomposition"
                },
                "xaxis": {
                  "anchor": "y",
                  "domain": [
                    0,
                    1
                  ]
                },
                "xaxis2": {
                  "anchor": "y2",
                  "domain": [
                    0,
                    1
                  ]
                },
                "xaxis3": {
                  "anchor": "y3",
                  "domain": [
                    0,
                    1
                  ]
                },
                "xaxis4": {
                  "anchor": "y4",
                  "domain": [
                    0,
                    1
                  ]
                },
                "yaxis": {
                  "anchor": "x",
                  "domain": [
                    0.80625,
                    1
                  ],
                  "title": {
                    "text": "Heart Rate"
                  }
                },
                "yaxis2": {
                  "anchor": "x2",
                  "domain": [
                    0.5375,
                    0.73125
                  ],
                  "title": {
                    "text": "Trend"
                  }
                },
                "yaxis3": {
                  "anchor": "x3",
                  "domain": [
                    0.26875,
                    0.4625
                  ],
                  "title": {
                    "text": "Seasonal"
                  }
                },
                "yaxis4": {
                  "anchor": "x4",
                  "domain": [
                    0,
                    0.19375
                  ],
                  "title": {
                    "text": "Residual"
                  }
                }
              }
            }
          },
          "metadata": {},
          "output_type": "display_data"
        }
      ],
      "source": [
        "results = seasonal_decompose(df['Lifetouch Heart Rate'], period = 60)\n",
        "\n",
        "import plotly.subplots as sp\n",
        "import plotly.graph_objs as go\n",
        "\n",
        "# Create a grid of subplots\n",
        "fig2 = sp.make_subplots(rows=4, cols=1)\n",
        "\n",
        "# Add a trace to the first subplot\n",
        "fig2.add_trace(go.Scatter(x=df.index, y=df['Lifetouch Heart Rate'], name='Heart Rate'), row=1, col=1)\n",
        "\n",
        "# Add a trace to the second subplot\n",
        "fig2.add_trace(go.Scatter(x=df.index, y=results.trend, name='Trend'), row=2, col=1)\n",
        "\n",
        "# Add a trace to the third subplot\n",
        "fig2.add_trace(go.Scatter(x=df.index, y=results.seasonal, name='Seasonal'), row=3, col=1)\n",
        "\n",
        "# Add a trace to the fourth subplot\n",
        "fig2.add_trace(go.Scatter(x=df.index, y=results.resid, name='Residual'), row=4, col=1)\n",
        "\n",
        "# Update the layout of the subplots\n",
        "fig2.update_layout(title_text='ETS Decomposition', plot_bgcolor='black',\n",
        "    paper_bgcolor='black',\n",
        "    font=dict(color='white'), )\n",
        "\n",
        "# Add y-axis labels to each subplot\n",
        "fig2.update_yaxes(title_text=\"Heart Rate\", row=1, col=1)\n",
        "fig2.update_yaxes(title_text=\"Trend\", row=2, col=1)\n",
        "fig2.update_yaxes(title_text=\"Seasonal\", row=3, col=1)\n",
        "fig2.update_yaxes(title_text=\"Residual\", row=4, col=1)\n",
        "# Show the plot\n",
        "fig2.show()"
      ]
    },
    {
      "cell_type": "markdown",
      "metadata": {
        "id": "LT81jgYIZrLo"
      },
      "source": [
        "## Testing for Stationarity\n",
        "### Augmented Dickey-Fuller Test"
      ]
    },
    {
      "cell_type": "code",
      "execution_count": null,
      "metadata": {
        "id": "32WClg2sZrLo"
      },
      "outputs": [],
      "source": [
        "from statsmodels.tsa.stattools import adfuller\n",
        "\n",
        "def adf_test(series,title=''):\n",
        "    \"\"\"\n",
        "    Pass in a time series and an optional title, returns an ADF report\n",
        "    \"\"\"\n",
        "    print(f'Augmented Dickey-Fuller Test: {title}')\n",
        "    result = adfuller(series.dropna(),autolag='AIC') # .dropna() handles differenced data\n",
        "\n",
        "    labels = ['ADF test statistic','p-value','# lags used','# observations']\n",
        "    out = pd.Series(result[0:4],index=labels)\n",
        "\n",
        "    for key,val in result[4].items():\n",
        "        out[f'critical value ({key})']=val\n",
        "\n",
        "    print(out.to_string())          # .to_string() removes the line \"dtype: float64\"\n",
        "\n",
        "    if result[1] <= 0.05:\n",
        "        print(\"Strong evidence against the null hypothesis\")\n",
        "        print(\"Reject the null hypothesis\")\n",
        "        print(\"Data has no unit root and is stationary\")\n",
        "    else:\n",
        "        print(\"Weak evidence against the null hypothesis\")\n",
        "        print(\"Fail to reject the null hypothesis\")\n",
        "        print(\"Data has a unit root and is non-stationary\")"
      ]
    },
    {
      "cell_type": "code",
      "execution_count": null,
      "metadata": {
        "id": "RcM3PqimZrLo",
        "outputId": "ab9ced7a-17fd-4ca3-8969-1fa3f190d362"
      },
      "outputs": [
        {
          "name": "stdout",
          "output_type": "stream",
          "text": [
            "Stationarity test for the Heart Rate Column\n",
            "Augmented Dickey-Fuller Test: \n",
            "ADF test statistic       -2.006298\n",
            "p-value                   0.283818\n",
            "# lags used               4.000000\n",
            "# observations          221.000000\n",
            "critical value (1%)      -3.460291\n",
            "critical value (5%)      -2.874709\n",
            "critical value (10%)     -2.573789\n",
            "Weak evidence against the null hypothesis\n",
            "Fail to reject the null hypothesis\n",
            "Data has a unit root and is non-stationary\n",
            "\n",
            "Stationarity test for the Respiration Rate Column\n",
            "Augmented Dickey-Fuller Test: \n",
            "ADF test statistic       -0.955644\n",
            "p-value                   0.769097\n",
            "# lags used               5.000000\n",
            "# observations          220.000000\n",
            "critical value (1%)      -3.460428\n",
            "critical value (5%)      -2.874769\n",
            "critical value (10%)     -2.573821\n",
            "Weak evidence against the null hypothesis\n",
            "Fail to reject the null hypothesis\n",
            "Data has a unit root and is non-stationary\n",
            "\n",
            "Stationarity test for the Oximeter SpO2 Column\n",
            "Augmented Dickey-Fuller Test: \n",
            "ADF test statistic       -2.891988\n",
            "p-value                   0.046288\n",
            "# lags used              13.000000\n",
            "# observations          212.000000\n",
            "critical value (1%)      -3.461578\n",
            "critical value (5%)      -2.875272\n",
            "critical value (10%)     -2.574089\n",
            "Strong evidence against the null hypothesis\n",
            "Reject the null hypothesis\n",
            "Data has no unit root and is stationary\n",
            "\n",
            "Stationarity test for the Oximeter Pulse Column\n",
            "Augmented Dickey-Fuller Test: \n",
            "ADF test statistic       -3.096453\n",
            "p-value                   0.026817\n",
            "# lags used              13.000000\n",
            "# observations          212.000000\n",
            "critical value (1%)      -3.461578\n",
            "critical value (5%)      -2.875272\n",
            "critical value (10%)     -2.574089\n",
            "Strong evidence against the null hypothesis\n",
            "Reject the null hypothesis\n",
            "Data has no unit root and is stationary\n"
          ]
        }
      ],
      "source": [
        "print('Stationarity test for the Heart Rate Column')\n",
        "adf_test(df['Lifetouch Heart Rate'])\n",
        "print()\n",
        "\n",
        "print('Stationarity test for the Respiration Rate Column')\n",
        "adf_test(df['Lifetouch Respiration Rate'])\n",
        "print()\n",
        "\n",
        "print('Stationarity test for the Oximeter SpO2 Column')\n",
        "adf_test(df['Oximeter SpO2'])\n",
        "print()\n",
        "\n",
        "print('Stationarity test for the Oximeter Pulse Column')\n",
        "adf_test(df['Oximeter Pulse'])"
      ]
    },
    {
      "cell_type": "markdown",
      "metadata": {
        "id": "OWEB9gdcZrLo"
      },
      "source": [
        "## Testing for Causality\n",
        "### Granger Causality Test"
      ]
    },
    {
      "cell_type": "code",
      "execution_count": null,
      "metadata": {
        "id": "J_9IjoW7ZrLo",
        "outputId": "2aad76b4-0c68-4def-b2b2-c973f8cb375c"
      },
      "outputs": [
        {
          "name": "stdout",
          "output_type": "stream",
          "text": [
            "\n",
            "Granger Causality\n",
            "number of lags (no zero) 1\n",
            "ssr based F test:         F=11.4368 , p=0.0009  , df_denom=222, df_num=1\n",
            "ssr based chi2 test:   chi2=11.5913 , p=0.0007  , df=1\n",
            "likelihood ratio test: chi2=11.3026 , p=0.0008  , df=1\n",
            "parameter F test:         F=11.4368 , p=0.0009  , df_denom=222, df_num=1\n",
            "\n",
            "Granger Causality\n",
            "number of lags (no zero) 2\n",
            "ssr based F test:         F=5.9751  , p=0.0030  , df_denom=219, df_num=2\n",
            "ssr based chi2 test:   chi2=12.2231 , p=0.0022  , df=2\n",
            "likelihood ratio test: chi2=11.9013 , p=0.0026  , df=2\n",
            "parameter F test:         F=5.9751  , p=0.0030  , df_denom=219, df_num=2\n",
            "\n",
            "Granger Causality\n",
            "number of lags (no zero) 3\n",
            "ssr based F test:         F=1.9717  , p=0.1192  , df_denom=216, df_num=3\n",
            "ssr based chi2 test:   chi2=6.1067  , p=0.1065  , df=3\n",
            "likelihood ratio test: chi2=6.0246  , p=0.1104  , df=3\n",
            "parameter F test:         F=1.9717  , p=0.1192  , df_denom=216, df_num=3\n"
          ]
        }
      ],
      "source": [
        "grangercausalitytests(df[['Lifetouch Heart Rate','Lifetouch Respiration Rate']],maxlag=3);"
      ]
    },
    {
      "cell_type": "markdown",
      "metadata": {
        "id": "CCF6VdvyZrLp"
      },
      "source": [
        "### Model Building\n",
        "### Auto-Arima"
      ]
    },
    {
      "cell_type": "code",
      "execution_count": null,
      "metadata": {
        "id": "jojwtO5pZrLp",
        "outputId": "d4dfa75a-a6f7-417f-e4a3-51f742fa80de"
      },
      "outputs": [
        {
          "name": "stdout",
          "output_type": "stream",
          "text": [
            "Performing stepwise search to minimize aic\n",
            " ARIMA(1,1,1)(1,0,1)[60] intercept   : AIC=1359.960, Time=5.65 sec\n",
            " ARIMA(0,1,0)(0,0,0)[60] intercept   : AIC=1376.400, Time=0.01 sec\n",
            " ARIMA(1,1,0)(1,0,0)[60] intercept   : AIC=1373.484, Time=2.68 sec\n",
            " ARIMA(0,1,1)(0,0,1)[60] intercept   : AIC=1369.808, Time=2.66 sec\n",
            " ARIMA(0,1,0)(0,0,0)[60]             : AIC=1374.400, Time=0.01 sec\n",
            " ARIMA(1,1,1)(0,0,1)[60] intercept   : AIC=1357.960, Time=4.55 sec\n",
            " ARIMA(1,1,1)(0,0,0)[60] intercept   : AIC=1360.461, Time=0.03 sec\n",
            " ARIMA(1,1,1)(0,0,2)[60] intercept   : AIC=1359.960, Time=87.55 sec\n",
            " ARIMA(1,1,1)(1,0,0)[60] intercept   : AIC=1358.010, Time=3.67 sec\n",
            " ARIMA(1,1,1)(1,0,2)[60] intercept   : AIC=inf, Time=185.32 sec\n",
            " ARIMA(1,1,0)(0,0,1)[60] intercept   : AIC=1373.261, Time=1.64 sec\n",
            " ARIMA(2,1,1)(0,0,1)[60] intercept   : AIC=1358.076, Time=3.12 sec\n",
            " ARIMA(1,1,2)(0,0,1)[60] intercept   : AIC=1351.877, Time=3.89 sec\n",
            " ARIMA(1,1,2)(0,0,0)[60] intercept   : AIC=1354.721, Time=0.03 sec\n",
            " ARIMA(1,1,2)(1,0,1)[60] intercept   : AIC=1353.872, Time=5.14 sec\n",
            " ARIMA(1,1,2)(0,0,2)[60] intercept   : AIC=1353.875, Time=56.00 sec\n",
            " ARIMA(1,1,2)(1,0,0)[60] intercept   : AIC=1352.030, Time=2.84 sec\n",
            " ARIMA(1,1,2)(1,0,2)[60] intercept   : AIC=1355.877, Time=46.31 sec\n",
            " ARIMA(0,1,2)(0,0,1)[60] intercept   : AIC=1352.433, Time=2.58 sec\n",
            " ARIMA(2,1,2)(0,0,1)[60] intercept   : AIC=1350.463, Time=4.52 sec\n",
            " ARIMA(2,1,2)(0,0,0)[60] intercept   : AIC=1353.287, Time=0.05 sec\n",
            " ARIMA(2,1,2)(1,0,1)[60] intercept   : AIC=1352.379, Time=5.98 sec\n",
            " ARIMA(2,1,2)(0,0,2)[60] intercept   : AIC=1352.428, Time=62.32 sec\n",
            " ARIMA(2,1,2)(1,0,0)[60] intercept   : AIC=1350.379, Time=4.07 sec\n",
            " ARIMA(2,1,2)(2,0,0)[60] intercept   : AIC=1352.379, Time=58.13 sec\n",
            " ARIMA(2,1,2)(2,0,1)[60] intercept   : AIC=inf, Time=194.45 sec\n",
            " ARIMA(2,1,1)(1,0,0)[60] intercept   : AIC=1358.279, Time=3.61 sec\n",
            " ARIMA(2,1,2)(1,0,0)[60]             : AIC=1348.588, Time=1.85 sec\n",
            " ARIMA(2,1,2)(0,0,0)[60]             : AIC=1351.347, Time=0.04 sec\n",
            " ARIMA(2,1,2)(2,0,0)[60]             : AIC=1350.588, Time=45.60 sec\n",
            " ARIMA(2,1,2)(1,0,1)[60]             : AIC=1350.588, Time=4.62 sec\n",
            " ARIMA(2,1,2)(0,0,1)[60]             : AIC=1348.661, Time=5.15 sec\n",
            " ARIMA(2,1,2)(2,0,1)[60]             : AIC=inf, Time=210.27 sec\n",
            " ARIMA(1,1,2)(1,0,0)[60]             : AIC=1350.058, Time=1.27 sec\n",
            " ARIMA(2,1,1)(1,0,0)[60]             : AIC=1356.283, Time=1.38 sec\n",
            " ARIMA(1,1,1)(1,0,0)[60]             : AIC=1356.337, Time=1.13 sec\n",
            "\n",
            "Best model:  ARIMA(2,1,2)(1,0,0)[60]          \n",
            "Total fit time: 1018.248 seconds\n"
          ]
        },
        {
          "data": {
            "text/html": [
              "<table class=\"simpletable\">\n",
              "<caption>SARIMAX Results</caption>\n",
              "<tr>\n",
              "  <th>Dep. Variable:</th>                  <td>y</td>                <th>  No. Observations:  </th>    <td>226</td>  \n",
              "</tr>\n",
              "<tr>\n",
              "  <th>Model:</th>           <td>SARIMAX(2, 1, 2)x(1, 0, [], 60)</td> <th>  Log Likelihood     </th> <td>-668.294</td>\n",
              "</tr>\n",
              "<tr>\n",
              "  <th>Date:</th>                   <td>Sun, 19 Feb 2023</td>         <th>  AIC                </th> <td>1348.588</td>\n",
              "</tr>\n",
              "<tr>\n",
              "  <th>Time:</th>                       <td>17:49:22</td>             <th>  BIC                </th> <td>1369.085</td>\n",
              "</tr>\n",
              "<tr>\n",
              "  <th>Sample:</th>                    <td>08-17-2015</td>            <th>  HQIC               </th> <td>1356.861</td>\n",
              "</tr>\n",
              "<tr>\n",
              "  <th></th>                          <td>- 08-17-2015</td>           <th>                     </th>     <td> </td>   \n",
              "</tr>\n",
              "<tr>\n",
              "  <th>Covariance Type:</th>               <td>opg</td>               <th>                     </th>     <td> </td>   \n",
              "</tr>\n",
              "</table>\n",
              "<table class=\"simpletable\">\n",
              "<tr>\n",
              "      <td></td>        <th>coef</th>     <th>std err</th>      <th>z</th>      <th>P>|z|</th>  <th>[0.025</th>    <th>0.975]</th>  \n",
              "</tr>\n",
              "<tr>\n",
              "  <th>ar.L1</th>    <td>   -0.1928</td> <td>    0.151</td> <td>   -1.275</td> <td> 0.202</td> <td>   -0.489</td> <td>    0.104</td>\n",
              "</tr>\n",
              "<tr>\n",
              "  <th>ar.L2</th>    <td>    0.3099</td> <td>    0.104</td> <td>    2.983</td> <td> 0.003</td> <td>    0.106</td> <td>    0.513</td>\n",
              "</tr>\n",
              "<tr>\n",
              "  <th>ma.L1</th>    <td>    0.0481</td> <td>    0.128</td> <td>    0.377</td> <td> 0.706</td> <td>   -0.202</td> <td>    0.298</td>\n",
              "</tr>\n",
              "<tr>\n",
              "  <th>ma.L2</th>    <td>   -0.6867</td> <td>    0.111</td> <td>   -6.184</td> <td> 0.000</td> <td>   -0.904</td> <td>   -0.469</td>\n",
              "</tr>\n",
              "<tr>\n",
              "  <th>ar.S.L60</th> <td>   -0.2071</td> <td>    0.076</td> <td>   -2.744</td> <td> 0.006</td> <td>   -0.355</td> <td>   -0.059</td>\n",
              "</tr>\n",
              "<tr>\n",
              "  <th>sigma2</th>   <td>   21.9462</td> <td>    1.297</td> <td>   16.926</td> <td> 0.000</td> <td>   19.405</td> <td>   24.487</td>\n",
              "</tr>\n",
              "</table>\n",
              "<table class=\"simpletable\">\n",
              "<tr>\n",
              "  <th>Ljung-Box (L1) (Q):</th>     <td>0.07</td> <th>  Jarque-Bera (JB):  </th> <td>1852.63</td>\n",
              "</tr>\n",
              "<tr>\n",
              "  <th>Prob(Q):</th>                <td>0.79</td> <th>  Prob(JB):          </th>  <td>0.00</td>  \n",
              "</tr>\n",
              "<tr>\n",
              "  <th>Heteroskedasticity (H):</th> <td>0.39</td> <th>  Skew:              </th>  <td>-0.77</td> \n",
              "</tr>\n",
              "<tr>\n",
              "  <th>Prob(H) (two-sided):</th>    <td>0.00</td> <th>  Kurtosis:          </th>  <td>16.97</td> \n",
              "</tr>\n",
              "</table><br/><br/>Warnings:<br/>[1] Covariance matrix calculated using the outer product of gradients (complex-step)."
            ],
            "text/plain": [
              "<class 'statsmodels.iolib.summary.Summary'>\n",
              "\"\"\"\n",
              "                                      SARIMAX Results                                      \n",
              "===========================================================================================\n",
              "Dep. Variable:                                   y   No. Observations:                  226\n",
              "Model:             SARIMAX(2, 1, 2)x(1, 0, [], 60)   Log Likelihood                -668.294\n",
              "Date:                             Sun, 19 Feb 2023   AIC                           1348.588\n",
              "Time:                                     17:49:22   BIC                           1369.085\n",
              "Sample:                                 08-17-2015   HQIC                          1356.861\n",
              "                                      - 08-17-2015                                         \n",
              "Covariance Type:                               opg                                         \n",
              "==============================================================================\n",
              "                 coef    std err          z      P>|z|      [0.025      0.975]\n",
              "------------------------------------------------------------------------------\n",
              "ar.L1         -0.1928      0.151     -1.275      0.202      -0.489       0.104\n",
              "ar.L2          0.3099      0.104      2.983      0.003       0.106       0.513\n",
              "ma.L1          0.0481      0.128      0.377      0.706      -0.202       0.298\n",
              "ma.L2         -0.6867      0.111     -6.184      0.000      -0.904      -0.469\n",
              "ar.S.L60      -0.2071      0.076     -2.744      0.006      -0.355      -0.059\n",
              "sigma2        21.9462      1.297     16.926      0.000      19.405      24.487\n",
              "===================================================================================\n",
              "Ljung-Box (L1) (Q):                   0.07   Jarque-Bera (JB):              1852.63\n",
              "Prob(Q):                              0.79   Prob(JB):                         0.00\n",
              "Heteroskedasticity (H):               0.39   Skew:                            -0.77\n",
              "Prob(H) (two-sided):                  0.00   Kurtosis:                        16.97\n",
              "===================================================================================\n",
              "\n",
              "Warnings:\n",
              "[1] Covariance matrix calculated using the outer product of gradients (complex-step).\n",
              "\"\"\""
            ]
          },
          "execution_count": 84,
          "metadata": {},
          "output_type": "execute_result"
        }
      ],
      "source": [
        "auto_arima(df['Lifetouch Heart Rate'], start_p=1, start_q=1, max_p=2, max_q=2, seasonal=True, m=60, trace=True).summary()"
      ]
    },
    {
      "cell_type": "markdown",
      "metadata": {
        "id": "TzLQIoUpZrLp"
      },
      "source": [
        "## Data Splitting"
      ]
    },
    {
      "cell_type": "code",
      "execution_count": null,
      "metadata": {
        "id": "9R43I_sBZrLp",
        "outputId": "5b1e8001-3c66-4ef1-8bd2-0f677b88269f"
      },
      "outputs": [
        {
          "name": "stdout",
          "output_type": "stream",
          "text": [
            "(226,)\n",
            "(206,) (20,)\n"
          ]
        }
      ],
      "source": [
        "print(df['Lifetouch Heart Rate'].shape)\n",
        "train=df['Lifetouch Heart Rate'].iloc[:-20]\n",
        "test=df['Lifetouch Heart Rate'].iloc[-20:]\n",
        "print(train.shape,test.shape)"
      ]
    },
    {
      "cell_type": "markdown",
      "metadata": {
        "id": "UdJnpBisZrLp"
      },
      "source": [
        "### SARIMA Model training"
      ]
    },
    {
      "cell_type": "code",
      "execution_count": null,
      "metadata": {
        "id": "cEJG79r6ZrLp",
        "outputId": "5c40c4a8-088b-4294-9fff-be8eefb81cd4"
      },
      "outputs": [
        {
          "name": "stderr",
          "output_type": "stream",
          "text": [
            " This problem is unconstrained.\n"
          ]
        },
        {
          "name": "stdout",
          "output_type": "stream",
          "text": [
            "RUNNING THE L-BFGS-B CODE\n",
            "\n",
            "           * * *\n",
            "\n",
            "Machine precision = 2.220D-16\n",
            " N =            6     M =           10\n",
            "\n",
            "At X0         0 variables are exactly at the bounds\n",
            "\n",
            "At iterate    0    f=  2.97389D+00    |proj g|=  4.02911D-02\n",
            "\n",
            "At iterate    5    f=  2.97120D+00    |proj g|=  1.64402D-02\n",
            "\n",
            "At iterate   10    f=  2.97076D+00    |proj g|=  8.39313D-04\n",
            "\n",
            "At iterate   15    f=  2.97075D+00    |proj g|=  1.88976D-05\n",
            "\n",
            "           * * *\n",
            "\n",
            "Tit   = total number of iterations\n",
            "Tnf   = total number of function evaluations\n",
            "Tnint = total number of segments explored during Cauchy searches\n",
            "Skip  = number of BFGS updates skipped\n",
            "Nact  = number of active bounds at final generalized Cauchy point\n",
            "Projg = norm of the final projected gradient\n",
            "F     = final function value\n",
            "\n",
            "           * * *\n",
            "\n",
            "   N    Tit     Tnf  Tnint  Skip  Nact     Projg        F\n",
            "    6     16     19      1     0     0   4.332D-06   2.971D+00\n",
            "  F =   2.9707505555749361     \n",
            "\n",
            "CONVERGENCE: NORM_OF_PROJECTED_GRADIENT_<=_PGTOL            \n"
          ]
        }
      ],
      "source": [
        "mod = SARIMAX(train,\n",
        "                    order=(2, 1, 2),\n",
        "                    seasonal_order=(1, 0, 0, 60),\n",
        "                    enforce_stationarity=True,\n",
        "                    enforce_invertibility=False, mle_regression=True)\n",
        "\n",
        "results = mod.fit()\n",
        "\n",
        "#print(results.summary().tables[1])"
      ]
    },
    {
      "cell_type": "markdown",
      "metadata": {
        "id": "j6_RgIJRZrLp"
      },
      "source": [
        "### Testing the model"
      ]
    },
    {
      "cell_type": "code",
      "execution_count": null,
      "metadata": {
        "id": "vWiy8OMfZrLp",
        "outputId": "373d91fc-5498-477c-b531-4a3540f2cd3c"
      },
      "outputs": [
        {
          "name": "stdout",
          "output_type": "stream",
          "text": [
            "2015-08-17 18:35:00    155.816460\n",
            "2015-08-17 18:36:00    155.511127\n",
            "2015-08-17 18:37:00    154.828208\n",
            "2015-08-17 18:38:00    155.001133\n",
            "2015-08-17 18:39:00    153.816095\n",
            "2015-08-17 18:40:00    154.156036\n",
            "2015-08-17 18:41:00    154.560916\n",
            "2015-08-17 18:42:00    153.684077\n",
            "2015-08-17 18:43:00    154.865213\n",
            "2015-08-17 18:44:00    155.922294\n",
            "2015-08-17 18:45:00    155.915910\n",
            "2015-08-17 18:46:00    156.219187\n",
            "2015-08-17 18:47:00    156.066942\n",
            "2015-08-17 18:48:00    155.469862\n",
            "2015-08-17 18:49:00    154.870118\n",
            "2015-08-17 18:50:00    155.619157\n",
            "2015-08-17 18:51:00    155.169706\n",
            "2015-08-17 18:52:00    154.271928\n",
            "2015-08-17 18:53:00    155.020129\n",
            "2015-08-17 18:54:00    154.271865\n",
            "Freq: T, Name: predicted_mean, dtype: float64\n"
          ]
        }
      ],
      "source": [
        "start=len(train)\n",
        "end=len(train)+len(test)-1\n",
        "test_forecast=results.predict(start=start,end=end, typ='levels')\n",
        "#print(pred)\n",
        "#test_forecast.index=train.index[start:end+1]\n",
        "\n",
        "\n",
        "print(test_forecast)"
      ]
    },
    {
      "cell_type": "markdown",
      "metadata": {
        "id": "GTe5LMazZrLq"
      },
      "source": [
        "### Plotting predicted and actual test values"
      ]
    },
    {
      "cell_type": "code",
      "execution_count": null,
      "metadata": {
        "id": "GC9k9zIPZrLq",
        "outputId": "ee308777-bdc8-466d-a84f-5e69fd799408"
      },
      "outputs": [
        {
          "data": {
            "application/vnd.plotly.v1+json": {
              "config": {
                "plotlyServerURL": "https://plot.ly"
              },
              "data": [
                {
                  "marker": {
                    "color": "red"
                  },
                  "name": "Predicted Test Values",
                  "showlegend": true,
                  "type": "scatter",
                  "x": [
                    "2015-08-17T18:35:00",
                    "2015-08-17T18:36:00",
                    "2015-08-17T18:37:00",
                    "2015-08-17T18:38:00",
                    "2015-08-17T18:39:00",
                    "2015-08-17T18:40:00",
                    "2015-08-17T18:41:00",
                    "2015-08-17T18:42:00",
                    "2015-08-17T18:43:00",
                    "2015-08-17T18:44:00",
                    "2015-08-17T18:45:00",
                    "2015-08-17T18:46:00",
                    "2015-08-17T18:47:00",
                    "2015-08-17T18:48:00",
                    "2015-08-17T18:49:00",
                    "2015-08-17T18:50:00",
                    "2015-08-17T18:51:00",
                    "2015-08-17T18:52:00",
                    "2015-08-17T18:53:00",
                    "2015-08-17T18:54:00"
                  ],
                  "y": [
                    155.8164600755691,
                    155.51112662489805,
                    154.82820815318354,
                    155.0011334893643,
                    153.81609488431448,
                    154.15603623383603,
                    154.56091624438,
                    153.68407749113018,
                    154.86521298245404,
                    155.922293858294,
                    155.91591038869893,
                    156.21918666415326,
                    156.06694175420017,
                    155.46986208632757,
                    154.87011768531482,
                    155.61915684320797,
                    155.16970589149614,
                    154.2719282025685,
                    155.0201288354767,
                    154.2718653516342
                  ]
                },
                {
                  "marker": {
                    "color": "Orange"
                  },
                  "name": "Actual Test Values",
                  "showlegend": true,
                  "type": "scatter",
                  "x": [
                    "2015-08-17T18:35:00",
                    "2015-08-17T18:36:00",
                    "2015-08-17T18:37:00",
                    "2015-08-17T18:38:00",
                    "2015-08-17T18:39:00",
                    "2015-08-17T18:40:00",
                    "2015-08-17T18:41:00",
                    "2015-08-17T18:42:00",
                    "2015-08-17T18:43:00",
                    "2015-08-17T18:44:00",
                    "2015-08-17T18:45:00",
                    "2015-08-17T18:46:00",
                    "2015-08-17T18:47:00",
                    "2015-08-17T18:48:00",
                    "2015-08-17T18:49:00",
                    "2015-08-17T18:50:00",
                    "2015-08-17T18:51:00",
                    "2015-08-17T18:52:00",
                    "2015-08-17T18:53:00",
                    "2015-08-17T18:54:00"
                  ],
                  "y": [
                    159,
                    160,
                    155,
                    155,
                    148,
                    148,
                    152,
                    152,
                    150,
                    153,
                    158,
                    158,
                    154,
                    155,
                    157,
                    159,
                    151,
                    140,
                    140,
                    138
                  ]
                }
              ],
              "layout": {
                "font": {
                  "color": "white"
                },
                "paper_bgcolor": "black",
                "plot_bgcolor": "black",
                "template": {
                  "data": {
                    "bar": [
                      {
                        "error_x": {
                          "color": "#2a3f5f"
                        },
                        "error_y": {
                          "color": "#2a3f5f"
                        },
                        "marker": {
                          "line": {
                            "color": "#E5ECF6",
                            "width": 0.5
                          },
                          "pattern": {
                            "fillmode": "overlay",
                            "size": 10,
                            "solidity": 0.2
                          }
                        },
                        "type": "bar"
                      }
                    ],
                    "barpolar": [
                      {
                        "marker": {
                          "line": {
                            "color": "#E5ECF6",
                            "width": 0.5
                          },
                          "pattern": {
                            "fillmode": "overlay",
                            "size": 10,
                            "solidity": 0.2
                          }
                        },
                        "type": "barpolar"
                      }
                    ],
                    "carpet": [
                      {
                        "aaxis": {
                          "endlinecolor": "#2a3f5f",
                          "gridcolor": "white",
                          "linecolor": "white",
                          "minorgridcolor": "white",
                          "startlinecolor": "#2a3f5f"
                        },
                        "baxis": {
                          "endlinecolor": "#2a3f5f",
                          "gridcolor": "white",
                          "linecolor": "white",
                          "minorgridcolor": "white",
                          "startlinecolor": "#2a3f5f"
                        },
                        "type": "carpet"
                      }
                    ],
                    "choropleth": [
                      {
                        "colorbar": {
                          "outlinewidth": 0,
                          "ticks": ""
                        },
                        "type": "choropleth"
                      }
                    ],
                    "contour": [
                      {
                        "colorbar": {
                          "outlinewidth": 0,
                          "ticks": ""
                        },
                        "colorscale": [
                          [
                            0,
                            "#0d0887"
                          ],
                          [
                            0.1111111111111111,
                            "#46039f"
                          ],
                          [
                            0.2222222222222222,
                            "#7201a8"
                          ],
                          [
                            0.3333333333333333,
                            "#9c179e"
                          ],
                          [
                            0.4444444444444444,
                            "#bd3786"
                          ],
                          [
                            0.5555555555555556,
                            "#d8576b"
                          ],
                          [
                            0.6666666666666666,
                            "#ed7953"
                          ],
                          [
                            0.7777777777777778,
                            "#fb9f3a"
                          ],
                          [
                            0.8888888888888888,
                            "#fdca26"
                          ],
                          [
                            1,
                            "#f0f921"
                          ]
                        ],
                        "type": "contour"
                      }
                    ],
                    "contourcarpet": [
                      {
                        "colorbar": {
                          "outlinewidth": 0,
                          "ticks": ""
                        },
                        "type": "contourcarpet"
                      }
                    ],
                    "heatmap": [
                      {
                        "colorbar": {
                          "outlinewidth": 0,
                          "ticks": ""
                        },
                        "colorscale": [
                          [
                            0,
                            "#0d0887"
                          ],
                          [
                            0.1111111111111111,
                            "#46039f"
                          ],
                          [
                            0.2222222222222222,
                            "#7201a8"
                          ],
                          [
                            0.3333333333333333,
                            "#9c179e"
                          ],
                          [
                            0.4444444444444444,
                            "#bd3786"
                          ],
                          [
                            0.5555555555555556,
                            "#d8576b"
                          ],
                          [
                            0.6666666666666666,
                            "#ed7953"
                          ],
                          [
                            0.7777777777777778,
                            "#fb9f3a"
                          ],
                          [
                            0.8888888888888888,
                            "#fdca26"
                          ],
                          [
                            1,
                            "#f0f921"
                          ]
                        ],
                        "type": "heatmap"
                      }
                    ],
                    "heatmapgl": [
                      {
                        "colorbar": {
                          "outlinewidth": 0,
                          "ticks": ""
                        },
                        "colorscale": [
                          [
                            0,
                            "#0d0887"
                          ],
                          [
                            0.1111111111111111,
                            "#46039f"
                          ],
                          [
                            0.2222222222222222,
                            "#7201a8"
                          ],
                          [
                            0.3333333333333333,
                            "#9c179e"
                          ],
                          [
                            0.4444444444444444,
                            "#bd3786"
                          ],
                          [
                            0.5555555555555556,
                            "#d8576b"
                          ],
                          [
                            0.6666666666666666,
                            "#ed7953"
                          ],
                          [
                            0.7777777777777778,
                            "#fb9f3a"
                          ],
                          [
                            0.8888888888888888,
                            "#fdca26"
                          ],
                          [
                            1,
                            "#f0f921"
                          ]
                        ],
                        "type": "heatmapgl"
                      }
                    ],
                    "histogram": [
                      {
                        "marker": {
                          "pattern": {
                            "fillmode": "overlay",
                            "size": 10,
                            "solidity": 0.2
                          }
                        },
                        "type": "histogram"
                      }
                    ],
                    "histogram2d": [
                      {
                        "colorbar": {
                          "outlinewidth": 0,
                          "ticks": ""
                        },
                        "colorscale": [
                          [
                            0,
                            "#0d0887"
                          ],
                          [
                            0.1111111111111111,
                            "#46039f"
                          ],
                          [
                            0.2222222222222222,
                            "#7201a8"
                          ],
                          [
                            0.3333333333333333,
                            "#9c179e"
                          ],
                          [
                            0.4444444444444444,
                            "#bd3786"
                          ],
                          [
                            0.5555555555555556,
                            "#d8576b"
                          ],
                          [
                            0.6666666666666666,
                            "#ed7953"
                          ],
                          [
                            0.7777777777777778,
                            "#fb9f3a"
                          ],
                          [
                            0.8888888888888888,
                            "#fdca26"
                          ],
                          [
                            1,
                            "#f0f921"
                          ]
                        ],
                        "type": "histogram2d"
                      }
                    ],
                    "histogram2dcontour": [
                      {
                        "colorbar": {
                          "outlinewidth": 0,
                          "ticks": ""
                        },
                        "colorscale": [
                          [
                            0,
                            "#0d0887"
                          ],
                          [
                            0.1111111111111111,
                            "#46039f"
                          ],
                          [
                            0.2222222222222222,
                            "#7201a8"
                          ],
                          [
                            0.3333333333333333,
                            "#9c179e"
                          ],
                          [
                            0.4444444444444444,
                            "#bd3786"
                          ],
                          [
                            0.5555555555555556,
                            "#d8576b"
                          ],
                          [
                            0.6666666666666666,
                            "#ed7953"
                          ],
                          [
                            0.7777777777777778,
                            "#fb9f3a"
                          ],
                          [
                            0.8888888888888888,
                            "#fdca26"
                          ],
                          [
                            1,
                            "#f0f921"
                          ]
                        ],
                        "type": "histogram2dcontour"
                      }
                    ],
                    "mesh3d": [
                      {
                        "colorbar": {
                          "outlinewidth": 0,
                          "ticks": ""
                        },
                        "type": "mesh3d"
                      }
                    ],
                    "parcoords": [
                      {
                        "line": {
                          "colorbar": {
                            "outlinewidth": 0,
                            "ticks": ""
                          }
                        },
                        "type": "parcoords"
                      }
                    ],
                    "pie": [
                      {
                        "automargin": true,
                        "type": "pie"
                      }
                    ],
                    "scatter": [
                      {
                        "fillpattern": {
                          "fillmode": "overlay",
                          "size": 10,
                          "solidity": 0.2
                        },
                        "type": "scatter"
                      }
                    ],
                    "scatter3d": [
                      {
                        "line": {
                          "colorbar": {
                            "outlinewidth": 0,
                            "ticks": ""
                          }
                        },
                        "marker": {
                          "colorbar": {
                            "outlinewidth": 0,
                            "ticks": ""
                          }
                        },
                        "type": "scatter3d"
                      }
                    ],
                    "scattercarpet": [
                      {
                        "marker": {
                          "colorbar": {
                            "outlinewidth": 0,
                            "ticks": ""
                          }
                        },
                        "type": "scattercarpet"
                      }
                    ],
                    "scattergeo": [
                      {
                        "marker": {
                          "colorbar": {
                            "outlinewidth": 0,
                            "ticks": ""
                          }
                        },
                        "type": "scattergeo"
                      }
                    ],
                    "scattergl": [
                      {
                        "marker": {
                          "colorbar": {
                            "outlinewidth": 0,
                            "ticks": ""
                          }
                        },
                        "type": "scattergl"
                      }
                    ],
                    "scattermapbox": [
                      {
                        "marker": {
                          "colorbar": {
                            "outlinewidth": 0,
                            "ticks": ""
                          }
                        },
                        "type": "scattermapbox"
                      }
                    ],
                    "scatterpolar": [
                      {
                        "marker": {
                          "colorbar": {
                            "outlinewidth": 0,
                            "ticks": ""
                          }
                        },
                        "type": "scatterpolar"
                      }
                    ],
                    "scatterpolargl": [
                      {
                        "marker": {
                          "colorbar": {
                            "outlinewidth": 0,
                            "ticks": ""
                          }
                        },
                        "type": "scatterpolargl"
                      }
                    ],
                    "scatterternary": [
                      {
                        "marker": {
                          "colorbar": {
                            "outlinewidth": 0,
                            "ticks": ""
                          }
                        },
                        "type": "scatterternary"
                      }
                    ],
                    "surface": [
                      {
                        "colorbar": {
                          "outlinewidth": 0,
                          "ticks": ""
                        },
                        "colorscale": [
                          [
                            0,
                            "#0d0887"
                          ],
                          [
                            0.1111111111111111,
                            "#46039f"
                          ],
                          [
                            0.2222222222222222,
                            "#7201a8"
                          ],
                          [
                            0.3333333333333333,
                            "#9c179e"
                          ],
                          [
                            0.4444444444444444,
                            "#bd3786"
                          ],
                          [
                            0.5555555555555556,
                            "#d8576b"
                          ],
                          [
                            0.6666666666666666,
                            "#ed7953"
                          ],
                          [
                            0.7777777777777778,
                            "#fb9f3a"
                          ],
                          [
                            0.8888888888888888,
                            "#fdca26"
                          ],
                          [
                            1,
                            "#f0f921"
                          ]
                        ],
                        "type": "surface"
                      }
                    ],
                    "table": [
                      {
                        "cells": {
                          "fill": {
                            "color": "#EBF0F8"
                          },
                          "line": {
                            "color": "white"
                          }
                        },
                        "header": {
                          "fill": {
                            "color": "#C8D4E3"
                          },
                          "line": {
                            "color": "white"
                          }
                        },
                        "type": "table"
                      }
                    ]
                  },
                  "layout": {
                    "annotationdefaults": {
                      "arrowcolor": "#2a3f5f",
                      "arrowhead": 0,
                      "arrowwidth": 1
                    },
                    "autotypenumbers": "strict",
                    "coloraxis": {
                      "colorbar": {
                        "outlinewidth": 0,
                        "ticks": ""
                      }
                    },
                    "colorscale": {
                      "diverging": [
                        [
                          0,
                          "#8e0152"
                        ],
                        [
                          0.1,
                          "#c51b7d"
                        ],
                        [
                          0.2,
                          "#de77ae"
                        ],
                        [
                          0.3,
                          "#f1b6da"
                        ],
                        [
                          0.4,
                          "#fde0ef"
                        ],
                        [
                          0.5,
                          "#f7f7f7"
                        ],
                        [
                          0.6,
                          "#e6f5d0"
                        ],
                        [
                          0.7,
                          "#b8e186"
                        ],
                        [
                          0.8,
                          "#7fbc41"
                        ],
                        [
                          0.9,
                          "#4d9221"
                        ],
                        [
                          1,
                          "#276419"
                        ]
                      ],
                      "sequential": [
                        [
                          0,
                          "#0d0887"
                        ],
                        [
                          0.1111111111111111,
                          "#46039f"
                        ],
                        [
                          0.2222222222222222,
                          "#7201a8"
                        ],
                        [
                          0.3333333333333333,
                          "#9c179e"
                        ],
                        [
                          0.4444444444444444,
                          "#bd3786"
                        ],
                        [
                          0.5555555555555556,
                          "#d8576b"
                        ],
                        [
                          0.6666666666666666,
                          "#ed7953"
                        ],
                        [
                          0.7777777777777778,
                          "#fb9f3a"
                        ],
                        [
                          0.8888888888888888,
                          "#fdca26"
                        ],
                        [
                          1,
                          "#f0f921"
                        ]
                      ],
                      "sequentialminus": [
                        [
                          0,
                          "#0d0887"
                        ],
                        [
                          0.1111111111111111,
                          "#46039f"
                        ],
                        [
                          0.2222222222222222,
                          "#7201a8"
                        ],
                        [
                          0.3333333333333333,
                          "#9c179e"
                        ],
                        [
                          0.4444444444444444,
                          "#bd3786"
                        ],
                        [
                          0.5555555555555556,
                          "#d8576b"
                        ],
                        [
                          0.6666666666666666,
                          "#ed7953"
                        ],
                        [
                          0.7777777777777778,
                          "#fb9f3a"
                        ],
                        [
                          0.8888888888888888,
                          "#fdca26"
                        ],
                        [
                          1,
                          "#f0f921"
                        ]
                      ]
                    },
                    "colorway": [
                      "#636efa",
                      "#EF553B",
                      "#00cc96",
                      "#ab63fa",
                      "#FFA15A",
                      "#19d3f3",
                      "#FF6692",
                      "#B6E880",
                      "#FF97FF",
                      "#FECB52"
                    ],
                    "font": {
                      "color": "#2a3f5f"
                    },
                    "geo": {
                      "bgcolor": "white",
                      "lakecolor": "white",
                      "landcolor": "#E5ECF6",
                      "showlakes": true,
                      "showland": true,
                      "subunitcolor": "white"
                    },
                    "hoverlabel": {
                      "align": "left"
                    },
                    "hovermode": "closest",
                    "mapbox": {
                      "style": "light"
                    },
                    "paper_bgcolor": "white",
                    "plot_bgcolor": "#E5ECF6",
                    "polar": {
                      "angularaxis": {
                        "gridcolor": "white",
                        "linecolor": "white",
                        "ticks": ""
                      },
                      "bgcolor": "#E5ECF6",
                      "radialaxis": {
                        "gridcolor": "white",
                        "linecolor": "white",
                        "ticks": ""
                      }
                    },
                    "scene": {
                      "xaxis": {
                        "backgroundcolor": "#E5ECF6",
                        "gridcolor": "white",
                        "gridwidth": 2,
                        "linecolor": "white",
                        "showbackground": true,
                        "ticks": "",
                        "zerolinecolor": "white"
                      },
                      "yaxis": {
                        "backgroundcolor": "#E5ECF6",
                        "gridcolor": "white",
                        "gridwidth": 2,
                        "linecolor": "white",
                        "showbackground": true,
                        "ticks": "",
                        "zerolinecolor": "white"
                      },
                      "zaxis": {
                        "backgroundcolor": "#E5ECF6",
                        "gridcolor": "white",
                        "gridwidth": 2,
                        "linecolor": "white",
                        "showbackground": true,
                        "ticks": "",
                        "zerolinecolor": "white"
                      }
                    },
                    "shapedefaults": {
                      "line": {
                        "color": "#2a3f5f"
                      }
                    },
                    "ternary": {
                      "aaxis": {
                        "gridcolor": "white",
                        "linecolor": "white",
                        "ticks": ""
                      },
                      "baxis": {
                        "gridcolor": "white",
                        "linecolor": "white",
                        "ticks": ""
                      },
                      "bgcolor": "#E5ECF6",
                      "caxis": {
                        "gridcolor": "white",
                        "linecolor": "white",
                        "ticks": ""
                      }
                    },
                    "title": {
                      "x": 0.05
                    },
                    "xaxis": {
                      "automargin": true,
                      "gridcolor": "white",
                      "linecolor": "white",
                      "ticks": "",
                      "title": {
                        "standoff": 15
                      },
                      "zerolinecolor": "white",
                      "zerolinewidth": 2
                    },
                    "yaxis": {
                      "automargin": true,
                      "gridcolor": "white",
                      "linecolor": "white",
                      "ticks": "",
                      "title": {
                        "standoff": 15
                      },
                      "zerolinecolor": "white",
                      "zerolinewidth": 2
                    }
                  }
                },
                "title": {
                  "text": "SARIMAX Model",
                  "x": 0.5,
                  "xanchor": "center",
                  "y": 0.9,
                  "yanchor": "top"
                },
                "xaxis": {
                  "gridcolor": "gray",
                  "gridwidth": 1,
                  "showgrid": true
                },
                "yaxis": {
                  "gridcolor": "gray",
                  "gridwidth": 1,
                  "showgrid": true
                }
              }
            }
          },
          "metadata": {},
          "output_type": "display_data"
        }
      ],
      "source": [
        "fig = go.Figure()\n",
        "\n",
        "# add line / trace 1 to figure\n",
        "fig.add_trace(go.Scatter(\n",
        "    x=test_forecast.index,\n",
        "    y=test_forecast,\n",
        "    marker=dict(\n",
        "        color=\"red\"\n",
        "    ),\n",
        "    showlegend=True, name='Predicted Test Values'\n",
        "))\n",
        "\n",
        "# add line / trace 2 to figure\n",
        "fig.add_trace(go.Scatter(\n",
        "    x=test.index,\n",
        "    y=test,\n",
        "    marker=dict(\n",
        "        color=\"Orange\"\n",
        "    ),\n",
        "    showlegend=True, name= 'Actual Test Values'\n",
        "))\n",
        "\n",
        "\n",
        "# Show grid lines\n",
        "fig.update_layout(plot_bgcolor='black',\n",
        "    paper_bgcolor='black',\n",
        "    font=dict(color='white'),\n",
        "    xaxis=dict(showgrid=True, gridcolor='gray', gridwidth=1),\n",
        "    yaxis=dict(showgrid=True, gridcolor='gray', gridwidth=1),\n",
        "    title={\n",
        "        'text': \"SARIMAX Model\",\n",
        "        'y':0.9,\n",
        "        'x':0.5,\n",
        "        'xanchor': 'center',\n",
        "        'yanchor': 'top'\n",
        "    }\n",
        ")\n",
        "\n",
        "fig.show()"
      ]
    },
    {
      "cell_type": "markdown",
      "metadata": {
        "id": "GoKh-EVWZrLq"
      },
      "source": [
        "### Evaluating the model"
      ]
    },
    {
      "cell_type": "code",
      "execution_count": null,
      "metadata": {
        "id": "62hPSVU3ZrLr",
        "outputId": "89a0b088-1cd1-4b31-c56c-d0e4f7eac18d"
      },
      "outputs": [
        {
          "name": "stdout",
          "output_type": "stream",
          "text": [
            "152.1\n",
            "155.05281818702508\n",
            "6.644806887320173\n",
            "-2.9528181870250876\n"
          ]
        }
      ],
      "source": [
        "print(test.mean())\n",
        "print(test_forecast.mean())\n",
        "print(rmse(test, test_forecast))\n",
        "print(test.mean() - test_forecast.mean())"
      ]
    },
    {
      "cell_type": "markdown",
      "metadata": {
        "id": "niWcSIh9ZrLr"
      },
      "source": [
        "### Final model training"
      ]
    },
    {
      "cell_type": "code",
      "execution_count": null,
      "metadata": {
        "id": "MzKfPCX9ZrLr",
        "outputId": "64647632-e4c6-4bdd-e5e3-34287eb797ad"
      },
      "outputs": [
        {
          "name": "stderr",
          "output_type": "stream",
          "text": [
            " This problem is unconstrained.\n"
          ]
        },
        {
          "name": "stdout",
          "output_type": "stream",
          "text": [
            "RUNNING THE L-BFGS-B CODE\n",
            "\n",
            "           * * *\n",
            "\n",
            "Machine precision = 2.220D-16\n",
            " N =            6     M =           10\n",
            "\n",
            "At X0         0 variables are exactly at the bounds\n",
            "\n",
            "At iterate    0    f=  2.96408D+00    |proj g|=  8.65897D-02\n",
            "\n",
            "At iterate    5    f=  2.95751D+00    |proj g|=  1.37476D-02\n",
            "\n",
            "At iterate   10    f=  2.95706D+00    |proj g|=  1.65689D-03\n",
            "\n",
            "At iterate   15    f=  2.95705D+00    |proj g|=  1.36133D-05\n",
            "\n",
            "           * * *\n",
            "\n",
            "Tit   = total number of iterations\n",
            "Tnf   = total number of function evaluations\n",
            "Tnint = total number of segments explored during Cauchy searches\n",
            "Skip  = number of BFGS updates skipped\n",
            "Nact  = number of active bounds at final generalized Cauchy point\n",
            "Projg = norm of the final projected gradient\n",
            "F     = final function value\n",
            "\n",
            "           * * *\n",
            "\n",
            "   N    Tit     Tnf  Tnint  Skip  Nact     Projg        F\n",
            "    6     15     19      1     0     0   1.361D-05   2.957D+00\n",
            "  F =   2.9570531117982535     \n",
            "\n",
            "CONVERGENCE: REL_REDUCTION_OF_F_<=_FACTR*EPSMCH             \n"
          ]
        }
      ],
      "source": [
        "fore_model = SARIMAX(df['Lifetouch Heart Rate'],\n",
        "                    order=(2, 1, 2),\n",
        "                    seasonal_order=(1, 0, 0, 60),\n",
        "                    enforce_stationarity=True,\n",
        "                    enforce_invertibility=False, mle_regression=True)\n",
        "\n",
        "Sarima_results = fore_model.fit()\n",
        "\n",
        "#print(results.summary().tables[1])"
      ]
    },
    {
      "cell_type": "code",
      "execution_count": null,
      "metadata": {
        "id": "SVSeScljZrLr",
        "outputId": "d99300b5-8f69-44e1-a115-0cf56833bcf8"
      },
      "outputs": [
        {
          "data": {
            "application/vnd.plotly.v1+json": {
              "config": {
                "plotlyServerURL": "https://plot.ly"
              },
              "data": [
                {
                  "marker": {
                    "color": "red"
                  },
                  "name": "Real Data",
                  "showlegend": true,
                  "type": "scatter",
                  "x": [
                    "2015-08-17T15:09:00",
                    "2015-08-17T15:10:00",
                    "2015-08-17T15:11:00",
                    "2015-08-17T15:12:00",
                    "2015-08-17T15:13:00",
                    "2015-08-17T15:14:00",
                    "2015-08-17T15:15:00",
                    "2015-08-17T15:16:00",
                    "2015-08-17T15:17:00",
                    "2015-08-17T15:18:00",
                    "2015-08-17T15:19:00",
                    "2015-08-17T15:20:00",
                    "2015-08-17T15:21:00",
                    "2015-08-17T15:22:00",
                    "2015-08-17T15:23:00",
                    "2015-08-17T15:24:00",
                    "2015-08-17T15:25:00",
                    "2015-08-17T15:26:00",
                    "2015-08-17T15:27:00",
                    "2015-08-17T15:28:00",
                    "2015-08-17T15:29:00",
                    "2015-08-17T15:30:00",
                    "2015-08-17T15:31:00",
                    "2015-08-17T15:32:00",
                    "2015-08-17T15:33:00",
                    "2015-08-17T15:34:00",
                    "2015-08-17T15:35:00",
                    "2015-08-17T15:36:00",
                    "2015-08-17T15:37:00",
                    "2015-08-17T15:38:00",
                    "2015-08-17T15:39:00",
                    "2015-08-17T15:40:00",
                    "2015-08-17T15:41:00",
                    "2015-08-17T15:42:00",
                    "2015-08-17T15:43:00",
                    "2015-08-17T15:44:00",
                    "2015-08-17T15:45:00",
                    "2015-08-17T15:46:00",
                    "2015-08-17T15:47:00",
                    "2015-08-17T15:48:00",
                    "2015-08-17T15:49:00",
                    "2015-08-17T15:50:00",
                    "2015-08-17T15:51:00",
                    "2015-08-17T15:52:00",
                    "2015-08-17T15:53:00",
                    "2015-08-17T15:54:00",
                    "2015-08-17T15:55:00",
                    "2015-08-17T15:56:00",
                    "2015-08-17T15:57:00",
                    "2015-08-17T15:58:00",
                    "2015-08-17T15:59:00",
                    "2015-08-17T16:00:00",
                    "2015-08-17T16:01:00",
                    "2015-08-17T16:02:00",
                    "2015-08-17T16:03:00",
                    "2015-08-17T16:04:00",
                    "2015-08-17T16:05:00",
                    "2015-08-17T16:06:00",
                    "2015-08-17T16:07:00",
                    "2015-08-17T16:08:00",
                    "2015-08-17T16:09:00",
                    "2015-08-17T16:10:00",
                    "2015-08-17T16:11:00",
                    "2015-08-17T16:12:00",
                    "2015-08-17T16:13:00",
                    "2015-08-17T16:14:00",
                    "2015-08-17T16:15:00",
                    "2015-08-17T16:16:00",
                    "2015-08-17T16:17:00",
                    "2015-08-17T16:18:00",
                    "2015-08-17T16:19:00",
                    "2015-08-17T16:20:00",
                    "2015-08-17T16:21:00",
                    "2015-08-17T16:22:00",
                    "2015-08-17T16:23:00",
                    "2015-08-17T16:24:00",
                    "2015-08-17T16:25:00",
                    "2015-08-17T16:26:00",
                    "2015-08-17T16:27:00",
                    "2015-08-17T16:28:00",
                    "2015-08-17T16:29:00",
                    "2015-08-17T16:30:00",
                    "2015-08-17T16:31:00",
                    "2015-08-17T16:32:00",
                    "2015-08-17T16:33:00",
                    "2015-08-17T16:34:00",
                    "2015-08-17T16:35:00",
                    "2015-08-17T16:36:00",
                    "2015-08-17T16:37:00",
                    "2015-08-17T16:38:00",
                    "2015-08-17T16:39:00",
                    "2015-08-17T16:40:00",
                    "2015-08-17T16:41:00",
                    "2015-08-17T16:42:00",
                    "2015-08-17T16:43:00",
                    "2015-08-17T16:44:00",
                    "2015-08-17T16:45:00",
                    "2015-08-17T16:46:00",
                    "2015-08-17T16:47:00",
                    "2015-08-17T16:48:00",
                    "2015-08-17T16:49:00",
                    "2015-08-17T16:50:00",
                    "2015-08-17T16:51:00",
                    "2015-08-17T16:52:00",
                    "2015-08-17T16:53:00",
                    "2015-08-17T16:54:00",
                    "2015-08-17T16:55:00",
                    "2015-08-17T16:56:00",
                    "2015-08-17T16:57:00",
                    "2015-08-17T16:58:00",
                    "2015-08-17T16:59:00",
                    "2015-08-17T17:00:00",
                    "2015-08-17T17:01:00",
                    "2015-08-17T17:02:00",
                    "2015-08-17T17:03:00",
                    "2015-08-17T17:04:00",
                    "2015-08-17T17:05:00",
                    "2015-08-17T17:06:00",
                    "2015-08-17T17:07:00",
                    "2015-08-17T17:08:00",
                    "2015-08-17T17:09:00",
                    "2015-08-17T17:10:00",
                    "2015-08-17T17:11:00",
                    "2015-08-17T17:12:00",
                    "2015-08-17T17:13:00",
                    "2015-08-17T17:14:00",
                    "2015-08-17T17:15:00",
                    "2015-08-17T17:16:00",
                    "2015-08-17T17:17:00",
                    "2015-08-17T17:18:00",
                    "2015-08-17T17:19:00",
                    "2015-08-17T17:20:00",
                    "2015-08-17T17:21:00",
                    "2015-08-17T17:22:00",
                    "2015-08-17T17:23:00",
                    "2015-08-17T17:24:00",
                    "2015-08-17T17:25:00",
                    "2015-08-17T17:26:00",
                    "2015-08-17T17:27:00",
                    "2015-08-17T17:28:00",
                    "2015-08-17T17:29:00",
                    "2015-08-17T17:30:00",
                    "2015-08-17T17:31:00",
                    "2015-08-17T17:32:00",
                    "2015-08-17T17:33:00",
                    "2015-08-17T17:34:00",
                    "2015-08-17T17:35:00",
                    "2015-08-17T17:36:00",
                    "2015-08-17T17:37:00",
                    "2015-08-17T17:38:00",
                    "2015-08-17T17:39:00",
                    "2015-08-17T17:40:00",
                    "2015-08-17T17:41:00",
                    "2015-08-17T17:42:00",
                    "2015-08-17T17:43:00",
                    "2015-08-17T17:44:00",
                    "2015-08-17T17:45:00",
                    "2015-08-17T17:46:00",
                    "2015-08-17T17:47:00",
                    "2015-08-17T17:48:00",
                    "2015-08-17T17:49:00",
                    "2015-08-17T17:50:00",
                    "2015-08-17T17:51:00",
                    "2015-08-17T17:52:00",
                    "2015-08-17T17:53:00",
                    "2015-08-17T17:54:00",
                    "2015-08-17T17:55:00",
                    "2015-08-17T17:56:00",
                    "2015-08-17T17:57:00",
                    "2015-08-17T17:58:00",
                    "2015-08-17T17:59:00",
                    "2015-08-17T18:00:00",
                    "2015-08-17T18:01:00",
                    "2015-08-17T18:02:00",
                    "2015-08-17T18:03:00",
                    "2015-08-17T18:04:00",
                    "2015-08-17T18:05:00",
                    "2015-08-17T18:06:00",
                    "2015-08-17T18:07:00",
                    "2015-08-17T18:08:00",
                    "2015-08-17T18:09:00",
                    "2015-08-17T18:10:00",
                    "2015-08-17T18:11:00",
                    "2015-08-17T18:12:00",
                    "2015-08-17T18:13:00",
                    "2015-08-17T18:14:00",
                    "2015-08-17T18:15:00",
                    "2015-08-17T18:16:00",
                    "2015-08-17T18:17:00",
                    "2015-08-17T18:18:00",
                    "2015-08-17T18:19:00",
                    "2015-08-17T18:20:00",
                    "2015-08-17T18:21:00",
                    "2015-08-17T18:22:00",
                    "2015-08-17T18:23:00",
                    "2015-08-17T18:24:00",
                    "2015-08-17T18:25:00",
                    "2015-08-17T18:26:00",
                    "2015-08-17T18:27:00",
                    "2015-08-17T18:28:00",
                    "2015-08-17T18:29:00",
                    "2015-08-17T18:30:00",
                    "2015-08-17T18:31:00",
                    "2015-08-17T18:32:00",
                    "2015-08-17T18:33:00",
                    "2015-08-17T18:34:00",
                    "2015-08-17T18:35:00",
                    "2015-08-17T18:36:00",
                    "2015-08-17T18:37:00",
                    "2015-08-17T18:38:00",
                    "2015-08-17T18:39:00",
                    "2015-08-17T18:40:00",
                    "2015-08-17T18:41:00",
                    "2015-08-17T18:42:00",
                    "2015-08-17T18:43:00",
                    "2015-08-17T18:44:00",
                    "2015-08-17T18:45:00",
                    "2015-08-17T18:46:00",
                    "2015-08-17T18:47:00",
                    "2015-08-17T18:48:00",
                    "2015-08-17T18:49:00",
                    "2015-08-17T18:50:00",
                    "2015-08-17T18:51:00",
                    "2015-08-17T18:52:00",
                    "2015-08-17T18:53:00",
                    "2015-08-17T18:54:00"
                  ],
                  "y": [
                    139,
                    144,
                    140,
                    138,
                    133,
                    132,
                    132,
                    133,
                    136,
                    137,
                    136,
                    137,
                    139,
                    138,
                    141,
                    139,
                    140,
                    140,
                    139,
                    137,
                    139,
                    139,
                    133,
                    120,
                    139,
                    140,
                    135,
                    141,
                    137,
                    129,
                    129,
                    129,
                    129,
                    129,
                    129,
                    129,
                    129,
                    136,
                    138,
                    142,
                    106,
                    106,
                    143,
                    139,
                    149,
                    154,
                    152,
                    150,
                    144,
                    150,
                    149,
                    149,
                    148,
                    144,
                    142,
                    142,
                    142,
                    141,
                    140,
                    140,
                    139,
                    138,
                    137,
                    137,
                    136,
                    137,
                    136,
                    136,
                    136,
                    136,
                    136,
                    136,
                    137,
                    136,
                    136,
                    136,
                    137,
                    137,
                    136,
                    136,
                    134,
                    134,
                    134,
                    133,
                    132,
                    132,
                    132,
                    132,
                    132,
                    133,
                    133,
                    133,
                    133,
                    133,
                    134,
                    134,
                    133,
                    134,
                    134,
                    133,
                    134,
                    134,
                    133,
                    134,
                    134,
                    134,
                    134,
                    134,
                    138,
                    138,
                    132,
                    133,
                    142,
                    139,
                    146,
                    140,
                    136,
                    134,
                    136,
                    131,
                    137,
                    135,
                    137,
                    137,
                    136,
                    140,
                    142,
                    151,
                    146,
                    154,
                    161,
                    158,
                    160,
                    154,
                    154,
                    158,
                    155,
                    150,
                    153,
                    155,
                    158,
                    163,
                    162,
                    162,
                    163,
                    163,
                    160,
                    159,
                    160,
                    159,
                    166,
                    164,
                    161,
                    167,
                    159,
                    152,
                    152,
                    150,
                    151,
                    155,
                    159,
                    154,
                    157,
                    163,
                    158,
                    163,
                    164,
                    166,
                    169,
                    169,
                    170,
                    172,
                    165,
                    163,
                    156,
                    156,
                    161,
                    161,
                    164,
                    160,
                    158,
                    159,
                    154,
                    158,
                    152,
                    160,
                    155,
                    149,
                    151,
                    148,
                    146,
                    154,
                    155,
                    152,
                    152,
                    156,
                    156,
                    153,
                    154,
                    158,
                    155,
                    150,
                    149,
                    148,
                    156,
                    158,
                    159,
                    160,
                    155,
                    155,
                    148,
                    148,
                    152,
                    152,
                    150,
                    153,
                    158,
                    158,
                    154,
                    155,
                    157,
                    159,
                    151,
                    140,
                    140,
                    138
                  ]
                },
                {
                  "marker": {
                    "color": "Orange"
                  },
                  "name": "Next 20 Forecasts",
                  "showlegend": true,
                  "type": "scatter",
                  "x": [
                    "2015-08-17T18:55:00",
                    "2015-08-17T18:56:00",
                    "2015-08-17T18:57:00",
                    "2015-08-17T18:58:00",
                    "2015-08-17T18:59:00",
                    "2015-08-17T19:00:00",
                    "2015-08-17T19:01:00",
                    "2015-08-17T19:02:00",
                    "2015-08-17T19:03:00",
                    "2015-08-17T19:04:00",
                    "2015-08-17T19:05:00",
                    "2015-08-17T19:06:00",
                    "2015-08-17T19:07:00",
                    "2015-08-17T19:08:00",
                    "2015-08-17T19:09:00",
                    "2015-08-17T19:10:00",
                    "2015-08-17T19:11:00",
                    "2015-08-17T19:12:00",
                    "2015-08-17T19:13:00",
                    "2015-08-17T19:14:00"
                  ],
                  "y": [
                    140.68226763237806,
                    142.52977522369164,
                    142.3678876407166,
                    142.9802651999504,
                    142.7974970842519,
                    142.56834473412243,
                    143.9900617470667,
                    144.46708903620643,
                    145.89611650100747,
                    145.91958800130777,
                    144.87300463896113,
                    144.88239482177386,
                    144.2558190461011,
                    145.08821880455085,
                    145.50009129696073,
                    145.29464019014742,
                    146.32918988532217,
                    145.50142622525388,
                    146.74368713776553,
                    145.08703078064426
                  ]
                }
              ],
              "layout": {
                "font": {
                  "color": "white"
                },
                "paper_bgcolor": "black",
                "plot_bgcolor": "black",
                "template": {
                  "data": {
                    "bar": [
                      {
                        "error_x": {
                          "color": "#2a3f5f"
                        },
                        "error_y": {
                          "color": "#2a3f5f"
                        },
                        "marker": {
                          "line": {
                            "color": "#E5ECF6",
                            "width": 0.5
                          },
                          "pattern": {
                            "fillmode": "overlay",
                            "size": 10,
                            "solidity": 0.2
                          }
                        },
                        "type": "bar"
                      }
                    ],
                    "barpolar": [
                      {
                        "marker": {
                          "line": {
                            "color": "#E5ECF6",
                            "width": 0.5
                          },
                          "pattern": {
                            "fillmode": "overlay",
                            "size": 10,
                            "solidity": 0.2
                          }
                        },
                        "type": "barpolar"
                      }
                    ],
                    "carpet": [
                      {
                        "aaxis": {
                          "endlinecolor": "#2a3f5f",
                          "gridcolor": "white",
                          "linecolor": "white",
                          "minorgridcolor": "white",
                          "startlinecolor": "#2a3f5f"
                        },
                        "baxis": {
                          "endlinecolor": "#2a3f5f",
                          "gridcolor": "white",
                          "linecolor": "white",
                          "minorgridcolor": "white",
                          "startlinecolor": "#2a3f5f"
                        },
                        "type": "carpet"
                      }
                    ],
                    "choropleth": [
                      {
                        "colorbar": {
                          "outlinewidth": 0,
                          "ticks": ""
                        },
                        "type": "choropleth"
                      }
                    ],
                    "contour": [
                      {
                        "colorbar": {
                          "outlinewidth": 0,
                          "ticks": ""
                        },
                        "colorscale": [
                          [
                            0,
                            "#0d0887"
                          ],
                          [
                            0.1111111111111111,
                            "#46039f"
                          ],
                          [
                            0.2222222222222222,
                            "#7201a8"
                          ],
                          [
                            0.3333333333333333,
                            "#9c179e"
                          ],
                          [
                            0.4444444444444444,
                            "#bd3786"
                          ],
                          [
                            0.5555555555555556,
                            "#d8576b"
                          ],
                          [
                            0.6666666666666666,
                            "#ed7953"
                          ],
                          [
                            0.7777777777777778,
                            "#fb9f3a"
                          ],
                          [
                            0.8888888888888888,
                            "#fdca26"
                          ],
                          [
                            1,
                            "#f0f921"
                          ]
                        ],
                        "type": "contour"
                      }
                    ],
                    "contourcarpet": [
                      {
                        "colorbar": {
                          "outlinewidth": 0,
                          "ticks": ""
                        },
                        "type": "contourcarpet"
                      }
                    ],
                    "heatmap": [
                      {
                        "colorbar": {
                          "outlinewidth": 0,
                          "ticks": ""
                        },
                        "colorscale": [
                          [
                            0,
                            "#0d0887"
                          ],
                          [
                            0.1111111111111111,
                            "#46039f"
                          ],
                          [
                            0.2222222222222222,
                            "#7201a8"
                          ],
                          [
                            0.3333333333333333,
                            "#9c179e"
                          ],
                          [
                            0.4444444444444444,
                            "#bd3786"
                          ],
                          [
                            0.5555555555555556,
                            "#d8576b"
                          ],
                          [
                            0.6666666666666666,
                            "#ed7953"
                          ],
                          [
                            0.7777777777777778,
                            "#fb9f3a"
                          ],
                          [
                            0.8888888888888888,
                            "#fdca26"
                          ],
                          [
                            1,
                            "#f0f921"
                          ]
                        ],
                        "type": "heatmap"
                      }
                    ],
                    "heatmapgl": [
                      {
                        "colorbar": {
                          "outlinewidth": 0,
                          "ticks": ""
                        },
                        "colorscale": [
                          [
                            0,
                            "#0d0887"
                          ],
                          [
                            0.1111111111111111,
                            "#46039f"
                          ],
                          [
                            0.2222222222222222,
                            "#7201a8"
                          ],
                          [
                            0.3333333333333333,
                            "#9c179e"
                          ],
                          [
                            0.4444444444444444,
                            "#bd3786"
                          ],
                          [
                            0.5555555555555556,
                            "#d8576b"
                          ],
                          [
                            0.6666666666666666,
                            "#ed7953"
                          ],
                          [
                            0.7777777777777778,
                            "#fb9f3a"
                          ],
                          [
                            0.8888888888888888,
                            "#fdca26"
                          ],
                          [
                            1,
                            "#f0f921"
                          ]
                        ],
                        "type": "heatmapgl"
                      }
                    ],
                    "histogram": [
                      {
                        "marker": {
                          "pattern": {
                            "fillmode": "overlay",
                            "size": 10,
                            "solidity": 0.2
                          }
                        },
                        "type": "histogram"
                      }
                    ],
                    "histogram2d": [
                      {
                        "colorbar": {
                          "outlinewidth": 0,
                          "ticks": ""
                        },
                        "colorscale": [
                          [
                            0,
                            "#0d0887"
                          ],
                          [
                            0.1111111111111111,
                            "#46039f"
                          ],
                          [
                            0.2222222222222222,
                            "#7201a8"
                          ],
                          [
                            0.3333333333333333,
                            "#9c179e"
                          ],
                          [
                            0.4444444444444444,
                            "#bd3786"
                          ],
                          [
                            0.5555555555555556,
                            "#d8576b"
                          ],
                          [
                            0.6666666666666666,
                            "#ed7953"
                          ],
                          [
                            0.7777777777777778,
                            "#fb9f3a"
                          ],
                          [
                            0.8888888888888888,
                            "#fdca26"
                          ],
                          [
                            1,
                            "#f0f921"
                          ]
                        ],
                        "type": "histogram2d"
                      }
                    ],
                    "histogram2dcontour": [
                      {
                        "colorbar": {
                          "outlinewidth": 0,
                          "ticks": ""
                        },
                        "colorscale": [
                          [
                            0,
                            "#0d0887"
                          ],
                          [
                            0.1111111111111111,
                            "#46039f"
                          ],
                          [
                            0.2222222222222222,
                            "#7201a8"
                          ],
                          [
                            0.3333333333333333,
                            "#9c179e"
                          ],
                          [
                            0.4444444444444444,
                            "#bd3786"
                          ],
                          [
                            0.5555555555555556,
                            "#d8576b"
                          ],
                          [
                            0.6666666666666666,
                            "#ed7953"
                          ],
                          [
                            0.7777777777777778,
                            "#fb9f3a"
                          ],
                          [
                            0.8888888888888888,
                            "#fdca26"
                          ],
                          [
                            1,
                            "#f0f921"
                          ]
                        ],
                        "type": "histogram2dcontour"
                      }
                    ],
                    "mesh3d": [
                      {
                        "colorbar": {
                          "outlinewidth": 0,
                          "ticks": ""
                        },
                        "type": "mesh3d"
                      }
                    ],
                    "parcoords": [
                      {
                        "line": {
                          "colorbar": {
                            "outlinewidth": 0,
                            "ticks": ""
                          }
                        },
                        "type": "parcoords"
                      }
                    ],
                    "pie": [
                      {
                        "automargin": true,
                        "type": "pie"
                      }
                    ],
                    "scatter": [
                      {
                        "fillpattern": {
                          "fillmode": "overlay",
                          "size": 10,
                          "solidity": 0.2
                        },
                        "type": "scatter"
                      }
                    ],
                    "scatter3d": [
                      {
                        "line": {
                          "colorbar": {
                            "outlinewidth": 0,
                            "ticks": ""
                          }
                        },
                        "marker": {
                          "colorbar": {
                            "outlinewidth": 0,
                            "ticks": ""
                          }
                        },
                        "type": "scatter3d"
                      }
                    ],
                    "scattercarpet": [
                      {
                        "marker": {
                          "colorbar": {
                            "outlinewidth": 0,
                            "ticks": ""
                          }
                        },
                        "type": "scattercarpet"
                      }
                    ],
                    "scattergeo": [
                      {
                        "marker": {
                          "colorbar": {
                            "outlinewidth": 0,
                            "ticks": ""
                          }
                        },
                        "type": "scattergeo"
                      }
                    ],
                    "scattergl": [
                      {
                        "marker": {
                          "colorbar": {
                            "outlinewidth": 0,
                            "ticks": ""
                          }
                        },
                        "type": "scattergl"
                      }
                    ],
                    "scattermapbox": [
                      {
                        "marker": {
                          "colorbar": {
                            "outlinewidth": 0,
                            "ticks": ""
                          }
                        },
                        "type": "scattermapbox"
                      }
                    ],
                    "scatterpolar": [
                      {
                        "marker": {
                          "colorbar": {
                            "outlinewidth": 0,
                            "ticks": ""
                          }
                        },
                        "type": "scatterpolar"
                      }
                    ],
                    "scatterpolargl": [
                      {
                        "marker": {
                          "colorbar": {
                            "outlinewidth": 0,
                            "ticks": ""
                          }
                        },
                        "type": "scatterpolargl"
                      }
                    ],
                    "scatterternary": [
                      {
                        "marker": {
                          "colorbar": {
                            "outlinewidth": 0,
                            "ticks": ""
                          }
                        },
                        "type": "scatterternary"
                      }
                    ],
                    "surface": [
                      {
                        "colorbar": {
                          "outlinewidth": 0,
                          "ticks": ""
                        },
                        "colorscale": [
                          [
                            0,
                            "#0d0887"
                          ],
                          [
                            0.1111111111111111,
                            "#46039f"
                          ],
                          [
                            0.2222222222222222,
                            "#7201a8"
                          ],
                          [
                            0.3333333333333333,
                            "#9c179e"
                          ],
                          [
                            0.4444444444444444,
                            "#bd3786"
                          ],
                          [
                            0.5555555555555556,
                            "#d8576b"
                          ],
                          [
                            0.6666666666666666,
                            "#ed7953"
                          ],
                          [
                            0.7777777777777778,
                            "#fb9f3a"
                          ],
                          [
                            0.8888888888888888,
                            "#fdca26"
                          ],
                          [
                            1,
                            "#f0f921"
                          ]
                        ],
                        "type": "surface"
                      }
                    ],
                    "table": [
                      {
                        "cells": {
                          "fill": {
                            "color": "#EBF0F8"
                          },
                          "line": {
                            "color": "white"
                          }
                        },
                        "header": {
                          "fill": {
                            "color": "#C8D4E3"
                          },
                          "line": {
                            "color": "white"
                          }
                        },
                        "type": "table"
                      }
                    ]
                  },
                  "layout": {
                    "annotationdefaults": {
                      "arrowcolor": "#2a3f5f",
                      "arrowhead": 0,
                      "arrowwidth": 1
                    },
                    "autotypenumbers": "strict",
                    "coloraxis": {
                      "colorbar": {
                        "outlinewidth": 0,
                        "ticks": ""
                      }
                    },
                    "colorscale": {
                      "diverging": [
                        [
                          0,
                          "#8e0152"
                        ],
                        [
                          0.1,
                          "#c51b7d"
                        ],
                        [
                          0.2,
                          "#de77ae"
                        ],
                        [
                          0.3,
                          "#f1b6da"
                        ],
                        [
                          0.4,
                          "#fde0ef"
                        ],
                        [
                          0.5,
                          "#f7f7f7"
                        ],
                        [
                          0.6,
                          "#e6f5d0"
                        ],
                        [
                          0.7,
                          "#b8e186"
                        ],
                        [
                          0.8,
                          "#7fbc41"
                        ],
                        [
                          0.9,
                          "#4d9221"
                        ],
                        [
                          1,
                          "#276419"
                        ]
                      ],
                      "sequential": [
                        [
                          0,
                          "#0d0887"
                        ],
                        [
                          0.1111111111111111,
                          "#46039f"
                        ],
                        [
                          0.2222222222222222,
                          "#7201a8"
                        ],
                        [
                          0.3333333333333333,
                          "#9c179e"
                        ],
                        [
                          0.4444444444444444,
                          "#bd3786"
                        ],
                        [
                          0.5555555555555556,
                          "#d8576b"
                        ],
                        [
                          0.6666666666666666,
                          "#ed7953"
                        ],
                        [
                          0.7777777777777778,
                          "#fb9f3a"
                        ],
                        [
                          0.8888888888888888,
                          "#fdca26"
                        ],
                        [
                          1,
                          "#f0f921"
                        ]
                      ],
                      "sequentialminus": [
                        [
                          0,
                          "#0d0887"
                        ],
                        [
                          0.1111111111111111,
                          "#46039f"
                        ],
                        [
                          0.2222222222222222,
                          "#7201a8"
                        ],
                        [
                          0.3333333333333333,
                          "#9c179e"
                        ],
                        [
                          0.4444444444444444,
                          "#bd3786"
                        ],
                        [
                          0.5555555555555556,
                          "#d8576b"
                        ],
                        [
                          0.6666666666666666,
                          "#ed7953"
                        ],
                        [
                          0.7777777777777778,
                          "#fb9f3a"
                        ],
                        [
                          0.8888888888888888,
                          "#fdca26"
                        ],
                        [
                          1,
                          "#f0f921"
                        ]
                      ]
                    },
                    "colorway": [
                      "#636efa",
                      "#EF553B",
                      "#00cc96",
                      "#ab63fa",
                      "#FFA15A",
                      "#19d3f3",
                      "#FF6692",
                      "#B6E880",
                      "#FF97FF",
                      "#FECB52"
                    ],
                    "font": {
                      "color": "#2a3f5f"
                    },
                    "geo": {
                      "bgcolor": "white",
                      "lakecolor": "white",
                      "landcolor": "#E5ECF6",
                      "showlakes": true,
                      "showland": true,
                      "subunitcolor": "white"
                    },
                    "hoverlabel": {
                      "align": "left"
                    },
                    "hovermode": "closest",
                    "mapbox": {
                      "style": "light"
                    },
                    "paper_bgcolor": "white",
                    "plot_bgcolor": "#E5ECF6",
                    "polar": {
                      "angularaxis": {
                        "gridcolor": "white",
                        "linecolor": "white",
                        "ticks": ""
                      },
                      "bgcolor": "#E5ECF6",
                      "radialaxis": {
                        "gridcolor": "white",
                        "linecolor": "white",
                        "ticks": ""
                      }
                    },
                    "scene": {
                      "xaxis": {
                        "backgroundcolor": "#E5ECF6",
                        "gridcolor": "white",
                        "gridwidth": 2,
                        "linecolor": "white",
                        "showbackground": true,
                        "ticks": "",
                        "zerolinecolor": "white"
                      },
                      "yaxis": {
                        "backgroundcolor": "#E5ECF6",
                        "gridcolor": "white",
                        "gridwidth": 2,
                        "linecolor": "white",
                        "showbackground": true,
                        "ticks": "",
                        "zerolinecolor": "white"
                      },
                      "zaxis": {
                        "backgroundcolor": "#E5ECF6",
                        "gridcolor": "white",
                        "gridwidth": 2,
                        "linecolor": "white",
                        "showbackground": true,
                        "ticks": "",
                        "zerolinecolor": "white"
                      }
                    },
                    "shapedefaults": {
                      "line": {
                        "color": "#2a3f5f"
                      }
                    },
                    "ternary": {
                      "aaxis": {
                        "gridcolor": "white",
                        "linecolor": "white",
                        "ticks": ""
                      },
                      "baxis": {
                        "gridcolor": "white",
                        "linecolor": "white",
                        "ticks": ""
                      },
                      "bgcolor": "#E5ECF6",
                      "caxis": {
                        "gridcolor": "white",
                        "linecolor": "white",
                        "ticks": ""
                      }
                    },
                    "title": {
                      "x": 0.05
                    },
                    "xaxis": {
                      "automargin": true,
                      "gridcolor": "white",
                      "linecolor": "white",
                      "ticks": "",
                      "title": {
                        "standoff": 15
                      },
                      "zerolinecolor": "white",
                      "zerolinewidth": 2
                    },
                    "yaxis": {
                      "automargin": true,
                      "gridcolor": "white",
                      "linecolor": "white",
                      "ticks": "",
                      "title": {
                        "standoff": 15
                      },
                      "zerolinecolor": "white",
                      "zerolinewidth": 2
                    }
                  }
                },
                "title": {
                  "text": "The next 20 predictions",
                  "x": 0.5,
                  "xanchor": "center",
                  "y": 0.9,
                  "yanchor": "top"
                },
                "xaxis": {
                  "gridcolor": "gray",
                  "gridwidth": 1,
                  "showgrid": true
                },
                "yaxis": {
                  "gridcolor": "gray",
                  "gridwidth": 1,
                  "showgrid": true
                }
              }
            }
          },
          "metadata": {},
          "output_type": "display_data"
        }
      ],
      "source": [
        "final_predictions = Sarima_results.forecast(20)\n",
        "fig = go.Figure()\n",
        "\n",
        "# add line / trace 1 to figure\n",
        "fig.add_trace(go.Scatter(\n",
        "    x=df['Lifetouch Heart Rate'].index,\n",
        "    y=df['Lifetouch Heart Rate'],\n",
        "    marker=dict(\n",
        "        color=\"red\"\n",
        "    ),\n",
        "    showlegend=True, name='Real Data'\n",
        "))\n",
        "\n",
        "# add line / trace 2 to figure\n",
        "fig.add_trace(go.Scatter(\n",
        "    x=final_predictions.index,\n",
        "    y=final_predictions,\n",
        "    marker=dict(\n",
        "        color=\"Orange\"\n",
        "    ),\n",
        "    showlegend=True, name= 'Next 20 Forecasts'\n",
        "))\n",
        "\n",
        "\n",
        "# Show grid lines\n",
        "fig.update_layout(plot_bgcolor='black',\n",
        "    paper_bgcolor='black',\n",
        "    font=dict(color='white'),\n",
        "    xaxis=dict(showgrid=True, gridcolor='gray', gridwidth=1),\n",
        "    yaxis=dict(showgrid=True, gridcolor='gray', gridwidth=1),\n",
        "    title={\n",
        "        'text': \"The next 20 predictions\",\n",
        "        'y':0.9,\n",
        "        'x':0.5,\n",
        "        'xanchor': 'center',\n",
        "        'yanchor': 'top'\n",
        "    }\n",
        ")\n",
        "\n",
        "fig.show()"
      ]
    },
    {
      "cell_type": "code",
      "execution_count": null,
      "metadata": {
        "id": "f5R1kwPCZrLs"
      },
      "outputs": [],
      "source": [
        "final = final_predictions.values"
      ]
    },
    {
      "cell_type": "code",
      "execution_count": null,
      "metadata": {
        "id": "XrBl-d9mZrLs",
        "outputId": "9273821c-495e-4a3b-ab9e-fcff6e9cd455"
      },
      "outputs": [
        {
          "data": {
            "text/plain": [
              "array([140.68226763, 142.52977522, 142.36788764, 142.9802652 ,\n",
              "       142.79749708, 142.56834473, 143.99006175, 144.46708904,\n",
              "       145.8961165 , 145.919588  , 144.87300464, 144.88239482,\n",
              "       144.25581905, 145.0882188 , 145.5000913 , 145.29464019,\n",
              "       146.32918989, 145.50142623, 146.74368714, 145.08703078])"
            ]
          },
          "execution_count": 123,
          "metadata": {},
          "output_type": "execute_result"
        }
      ],
      "source": [
        "final"
      ]
    },
    {
      "cell_type": "code",
      "execution_count": null,
      "metadata": {
        "id": "fo-pTJiVZrLs",
        "outputId": "aa4b1958-4d86-4595-c2bd-b28fa174cd59"
      },
      "outputs": [
        {
          "name": "stdout",
          "output_type": "stream",
          "text": [
            "[{'prediction': 140.68226763}, {'prediction': 142.52977522}, {'prediction': 142.36788764}, {'prediction': 142.9802652}, {'prediction': 142.79749708}]\n"
          ]
        }
      ],
      "source": [
        "import json\n",
        "\n",
        "predictions = [140.68226763, 142.52977522, 142.36788764, 142.9802652 ,\n",
        "       142.79749708, 142.56834473, 143.99006175, 144.46708904,\n",
        "       145.8961165 , 145.919588  , 144.87300464, 144.88239482,\n",
        "       144.25581905, 145.0882188 , 145.5000913 , 145.29464019,\n",
        "       146.32918989, 145.50142623, 146.74368714, 145.08703078]\n",
        "\n",
        "data = []\n",
        "for pred in predictions:\n",
        "    data.append({'prediction': pred})\n",
        "\n",
        "print(data[0:5])\n",
        "\n",
        "submission_file_path = \"submission.json\"\n",
        "with open(submission_file_path, 'w') as fp:\n",
        "    fp.write('\\n'.join(json.dumps(i) for i in data))"
      ]
    },
    {
      "cell_type": "markdown",
      "metadata": {
        "id": "zYIHoiwXZrLs"
      },
      "source": [
        "## Holt-Winters Model"
      ]
    },
    {
      "cell_type": "code",
      "execution_count": null,
      "metadata": {
        "id": "WLdkE0yLZrLt",
        "outputId": "98f418ac-3c92-4a3a-bca3-f172932b59de"
      },
      "outputs": [
        {
          "name": "stdout",
          "output_type": "stream",
          "text": [
            "                        SimpleExpSmoothing Model Results                        \n",
            "================================================================================\n",
            "Dep. Variable:     Lifetouch Heart Rate   No. Observations:                  206\n",
            "Model:               SimpleExpSmoothing   SSE                           5347.663\n",
            "Optimized:                        False   AIC                            674.847\n",
            "Trend:                             None   BIC                            681.503\n",
            "Seasonal:                          None   AICC                           675.046\n",
            "Seasonal Periods:                  None   Date:                 Sun, 19 Feb 2023\n",
            "Box-Cox:                          False   Time:                         09:16:22\n",
            "Box-Cox Coeff.:                    None                                         \n",
            "==============================================================================\n",
            "                       coeff                 code              optimized      \n",
            "------------------------------------------------------------------------------\n",
            "smoothing_level            0.6000000                alpha                False\n",
            "initial_level              139.00000                  l.0                False\n",
            "------------------------------------------------------------------------------\n"
          ]
        }
      ],
      "source": [
        "model_holt = SimpleExpSmoothing(train).fit(smoothing_level=0.6,optimized=False)\n",
        "\n",
        "print(model_holt.summary())\n",
        "\n",
        "holt_test_forecast = model_holt.forecast(20)"
      ]
    },
    {
      "cell_type": "markdown",
      "metadata": {
        "id": "QTeSkAx8ZrLt"
      },
      "source": [
        "### Evaluating the model"
      ]
    },
    {
      "cell_type": "code",
      "execution_count": null,
      "metadata": {
        "id": "gvsE3FdZZrLt",
        "outputId": "949d47fd-f309-44ac-b8c1-0cdefc92d082"
      },
      "outputs": [
        {
          "name": "stdout",
          "output_type": "stream",
          "text": [
            "7.504877455841614\n",
            "152.1\n",
            "156.0665079890503\n",
            "-3.9665079890503137\n"
          ]
        }
      ],
      "source": [
        "print(rmse(test, holt_test_forecast))\n",
        "print(test.mean())\n",
        "print(holt_test_forecast.mean())\n",
        "print(test.mean() - holt_test_forecast.mean())"
      ]
    },
    {
      "cell_type": "code",
      "execution_count": null,
      "metadata": {
        "id": "ic0A7oRdZrLt",
        "outputId": "6e328a74-ec24-4576-f78b-f487eee47111"
      },
      "outputs": [
        {
          "name": "stdout",
          "output_type": "stream",
          "text": [
            "Augmented Dickey-Fuller Test: \n",
            "ADF test statistic     -8.370467e+00\n",
            "p-value                 2.670860e-13\n",
            "# lags used             5.000000e+00\n",
            "# observations          2.190000e+02\n",
            "critical value (1%)    -3.460567e+00\n",
            "critical value (5%)    -2.874830e+00\n",
            "critical value (10%)   -2.573853e+00\n",
            "Strong evidence against the null hypothesis\n",
            "Reject the null hypothesis\n",
            "Data has no unit root and is stationary\n"
          ]
        }
      ],
      "source": [
        "adf_test(df['Lifetouch Heart Rate'].diff())"
      ]
    },
    {
      "cell_type": "code",
      "execution_count": null,
      "metadata": {
        "id": "PeAYaAdDZrLu",
        "outputId": "f03ab544-6d20-4e96-b564-fa64ab47b5d9"
      },
      "outputs": [
        {
          "data": {
            "application/vnd.plotly.v1+json": {
              "config": {
                "plotlyServerURL": "https://plot.ly"
              },
              "data": [
                {
                  "marker": {
                    "color": "red"
                  },
                  "name": "Predicted Test Values",
                  "showlegend": true,
                  "type": "scatter",
                  "x": [
                    "2015-08-17T18:35:00",
                    "2015-08-17T18:36:00",
                    "2015-08-17T18:37:00",
                    "2015-08-17T18:38:00",
                    "2015-08-17T18:39:00",
                    "2015-08-17T18:40:00",
                    "2015-08-17T18:41:00",
                    "2015-08-17T18:42:00",
                    "2015-08-17T18:43:00",
                    "2015-08-17T18:44:00",
                    "2015-08-17T18:45:00",
                    "2015-08-17T18:46:00",
                    "2015-08-17T18:47:00",
                    "2015-08-17T18:48:00",
                    "2015-08-17T18:49:00",
                    "2015-08-17T18:50:00",
                    "2015-08-17T18:51:00",
                    "2015-08-17T18:52:00",
                    "2015-08-17T18:53:00",
                    "2015-08-17T18:54:00"
                  ],
                  "y": [
                    156.06650798905028,
                    156.06650798905028,
                    156.06650798905028,
                    156.06650798905028,
                    156.06650798905028,
                    156.06650798905028,
                    156.06650798905028,
                    156.06650798905028,
                    156.06650798905028,
                    156.06650798905028,
                    156.06650798905028,
                    156.06650798905028,
                    156.06650798905028,
                    156.06650798905028,
                    156.06650798905028,
                    156.06650798905028,
                    156.06650798905028,
                    156.06650798905028,
                    156.06650798905028,
                    156.06650798905028
                  ]
                },
                {
                  "marker": {
                    "color": "Orange"
                  },
                  "name": "Actual Test Values",
                  "showlegend": true,
                  "type": "scatter",
                  "x": [
                    "2015-08-17T18:35:00",
                    "2015-08-17T18:36:00",
                    "2015-08-17T18:37:00",
                    "2015-08-17T18:38:00",
                    "2015-08-17T18:39:00",
                    "2015-08-17T18:40:00",
                    "2015-08-17T18:41:00",
                    "2015-08-17T18:42:00",
                    "2015-08-17T18:43:00",
                    "2015-08-17T18:44:00",
                    "2015-08-17T18:45:00",
                    "2015-08-17T18:46:00",
                    "2015-08-17T18:47:00",
                    "2015-08-17T18:48:00",
                    "2015-08-17T18:49:00",
                    "2015-08-17T18:50:00",
                    "2015-08-17T18:51:00",
                    "2015-08-17T18:52:00",
                    "2015-08-17T18:53:00",
                    "2015-08-17T18:54:00"
                  ],
                  "y": [
                    159,
                    160,
                    155,
                    155,
                    148,
                    148,
                    152,
                    152,
                    150,
                    153,
                    158,
                    158,
                    154,
                    155,
                    157,
                    159,
                    151,
                    140,
                    140,
                    138
                  ]
                }
              ],
              "layout": {
                "font": {
                  "color": "white"
                },
                "paper_bgcolor": "black",
                "plot_bgcolor": "black",
                "template": {
                  "data": {
                    "bar": [
                      {
                        "error_x": {
                          "color": "#2a3f5f"
                        },
                        "error_y": {
                          "color": "#2a3f5f"
                        },
                        "marker": {
                          "line": {
                            "color": "#E5ECF6",
                            "width": 0.5
                          },
                          "pattern": {
                            "fillmode": "overlay",
                            "size": 10,
                            "solidity": 0.2
                          }
                        },
                        "type": "bar"
                      }
                    ],
                    "barpolar": [
                      {
                        "marker": {
                          "line": {
                            "color": "#E5ECF6",
                            "width": 0.5
                          },
                          "pattern": {
                            "fillmode": "overlay",
                            "size": 10,
                            "solidity": 0.2
                          }
                        },
                        "type": "barpolar"
                      }
                    ],
                    "carpet": [
                      {
                        "aaxis": {
                          "endlinecolor": "#2a3f5f",
                          "gridcolor": "white",
                          "linecolor": "white",
                          "minorgridcolor": "white",
                          "startlinecolor": "#2a3f5f"
                        },
                        "baxis": {
                          "endlinecolor": "#2a3f5f",
                          "gridcolor": "white",
                          "linecolor": "white",
                          "minorgridcolor": "white",
                          "startlinecolor": "#2a3f5f"
                        },
                        "type": "carpet"
                      }
                    ],
                    "choropleth": [
                      {
                        "colorbar": {
                          "outlinewidth": 0,
                          "ticks": ""
                        },
                        "type": "choropleth"
                      }
                    ],
                    "contour": [
                      {
                        "colorbar": {
                          "outlinewidth": 0,
                          "ticks": ""
                        },
                        "colorscale": [
                          [
                            0,
                            "#0d0887"
                          ],
                          [
                            0.1111111111111111,
                            "#46039f"
                          ],
                          [
                            0.2222222222222222,
                            "#7201a8"
                          ],
                          [
                            0.3333333333333333,
                            "#9c179e"
                          ],
                          [
                            0.4444444444444444,
                            "#bd3786"
                          ],
                          [
                            0.5555555555555556,
                            "#d8576b"
                          ],
                          [
                            0.6666666666666666,
                            "#ed7953"
                          ],
                          [
                            0.7777777777777778,
                            "#fb9f3a"
                          ],
                          [
                            0.8888888888888888,
                            "#fdca26"
                          ],
                          [
                            1,
                            "#f0f921"
                          ]
                        ],
                        "type": "contour"
                      }
                    ],
                    "contourcarpet": [
                      {
                        "colorbar": {
                          "outlinewidth": 0,
                          "ticks": ""
                        },
                        "type": "contourcarpet"
                      }
                    ],
                    "heatmap": [
                      {
                        "colorbar": {
                          "outlinewidth": 0,
                          "ticks": ""
                        },
                        "colorscale": [
                          [
                            0,
                            "#0d0887"
                          ],
                          [
                            0.1111111111111111,
                            "#46039f"
                          ],
                          [
                            0.2222222222222222,
                            "#7201a8"
                          ],
                          [
                            0.3333333333333333,
                            "#9c179e"
                          ],
                          [
                            0.4444444444444444,
                            "#bd3786"
                          ],
                          [
                            0.5555555555555556,
                            "#d8576b"
                          ],
                          [
                            0.6666666666666666,
                            "#ed7953"
                          ],
                          [
                            0.7777777777777778,
                            "#fb9f3a"
                          ],
                          [
                            0.8888888888888888,
                            "#fdca26"
                          ],
                          [
                            1,
                            "#f0f921"
                          ]
                        ],
                        "type": "heatmap"
                      }
                    ],
                    "heatmapgl": [
                      {
                        "colorbar": {
                          "outlinewidth": 0,
                          "ticks": ""
                        },
                        "colorscale": [
                          [
                            0,
                            "#0d0887"
                          ],
                          [
                            0.1111111111111111,
                            "#46039f"
                          ],
                          [
                            0.2222222222222222,
                            "#7201a8"
                          ],
                          [
                            0.3333333333333333,
                            "#9c179e"
                          ],
                          [
                            0.4444444444444444,
                            "#bd3786"
                          ],
                          [
                            0.5555555555555556,
                            "#d8576b"
                          ],
                          [
                            0.6666666666666666,
                            "#ed7953"
                          ],
                          [
                            0.7777777777777778,
                            "#fb9f3a"
                          ],
                          [
                            0.8888888888888888,
                            "#fdca26"
                          ],
                          [
                            1,
                            "#f0f921"
                          ]
                        ],
                        "type": "heatmapgl"
                      }
                    ],
                    "histogram": [
                      {
                        "marker": {
                          "pattern": {
                            "fillmode": "overlay",
                            "size": 10,
                            "solidity": 0.2
                          }
                        },
                        "type": "histogram"
                      }
                    ],
                    "histogram2d": [
                      {
                        "colorbar": {
                          "outlinewidth": 0,
                          "ticks": ""
                        },
                        "colorscale": [
                          [
                            0,
                            "#0d0887"
                          ],
                          [
                            0.1111111111111111,
                            "#46039f"
                          ],
                          [
                            0.2222222222222222,
                            "#7201a8"
                          ],
                          [
                            0.3333333333333333,
                            "#9c179e"
                          ],
                          [
                            0.4444444444444444,
                            "#bd3786"
                          ],
                          [
                            0.5555555555555556,
                            "#d8576b"
                          ],
                          [
                            0.6666666666666666,
                            "#ed7953"
                          ],
                          [
                            0.7777777777777778,
                            "#fb9f3a"
                          ],
                          [
                            0.8888888888888888,
                            "#fdca26"
                          ],
                          [
                            1,
                            "#f0f921"
                          ]
                        ],
                        "type": "histogram2d"
                      }
                    ],
                    "histogram2dcontour": [
                      {
                        "colorbar": {
                          "outlinewidth": 0,
                          "ticks": ""
                        },
                        "colorscale": [
                          [
                            0,
                            "#0d0887"
                          ],
                          [
                            0.1111111111111111,
                            "#46039f"
                          ],
                          [
                            0.2222222222222222,
                            "#7201a8"
                          ],
                          [
                            0.3333333333333333,
                            "#9c179e"
                          ],
                          [
                            0.4444444444444444,
                            "#bd3786"
                          ],
                          [
                            0.5555555555555556,
                            "#d8576b"
                          ],
                          [
                            0.6666666666666666,
                            "#ed7953"
                          ],
                          [
                            0.7777777777777778,
                            "#fb9f3a"
                          ],
                          [
                            0.8888888888888888,
                            "#fdca26"
                          ],
                          [
                            1,
                            "#f0f921"
                          ]
                        ],
                        "type": "histogram2dcontour"
                      }
                    ],
                    "mesh3d": [
                      {
                        "colorbar": {
                          "outlinewidth": 0,
                          "ticks": ""
                        },
                        "type": "mesh3d"
                      }
                    ],
                    "parcoords": [
                      {
                        "line": {
                          "colorbar": {
                            "outlinewidth": 0,
                            "ticks": ""
                          }
                        },
                        "type": "parcoords"
                      }
                    ],
                    "pie": [
                      {
                        "automargin": true,
                        "type": "pie"
                      }
                    ],
                    "scatter": [
                      {
                        "fillpattern": {
                          "fillmode": "overlay",
                          "size": 10,
                          "solidity": 0.2
                        },
                        "type": "scatter"
                      }
                    ],
                    "scatter3d": [
                      {
                        "line": {
                          "colorbar": {
                            "outlinewidth": 0,
                            "ticks": ""
                          }
                        },
                        "marker": {
                          "colorbar": {
                            "outlinewidth": 0,
                            "ticks": ""
                          }
                        },
                        "type": "scatter3d"
                      }
                    ],
                    "scattercarpet": [
                      {
                        "marker": {
                          "colorbar": {
                            "outlinewidth": 0,
                            "ticks": ""
                          }
                        },
                        "type": "scattercarpet"
                      }
                    ],
                    "scattergeo": [
                      {
                        "marker": {
                          "colorbar": {
                            "outlinewidth": 0,
                            "ticks": ""
                          }
                        },
                        "type": "scattergeo"
                      }
                    ],
                    "scattergl": [
                      {
                        "marker": {
                          "colorbar": {
                            "outlinewidth": 0,
                            "ticks": ""
                          }
                        },
                        "type": "scattergl"
                      }
                    ],
                    "scattermapbox": [
                      {
                        "marker": {
                          "colorbar": {
                            "outlinewidth": 0,
                            "ticks": ""
                          }
                        },
                        "type": "scattermapbox"
                      }
                    ],
                    "scatterpolar": [
                      {
                        "marker": {
                          "colorbar": {
                            "outlinewidth": 0,
                            "ticks": ""
                          }
                        },
                        "type": "scatterpolar"
                      }
                    ],
                    "scatterpolargl": [
                      {
                        "marker": {
                          "colorbar": {
                            "outlinewidth": 0,
                            "ticks": ""
                          }
                        },
                        "type": "scatterpolargl"
                      }
                    ],
                    "scatterternary": [
                      {
                        "marker": {
                          "colorbar": {
                            "outlinewidth": 0,
                            "ticks": ""
                          }
                        },
                        "type": "scatterternary"
                      }
                    ],
                    "surface": [
                      {
                        "colorbar": {
                          "outlinewidth": 0,
                          "ticks": ""
                        },
                        "colorscale": [
                          [
                            0,
                            "#0d0887"
                          ],
                          [
                            0.1111111111111111,
                            "#46039f"
                          ],
                          [
                            0.2222222222222222,
                            "#7201a8"
                          ],
                          [
                            0.3333333333333333,
                            "#9c179e"
                          ],
                          [
                            0.4444444444444444,
                            "#bd3786"
                          ],
                          [
                            0.5555555555555556,
                            "#d8576b"
                          ],
                          [
                            0.6666666666666666,
                            "#ed7953"
                          ],
                          [
                            0.7777777777777778,
                            "#fb9f3a"
                          ],
                          [
                            0.8888888888888888,
                            "#fdca26"
                          ],
                          [
                            1,
                            "#f0f921"
                          ]
                        ],
                        "type": "surface"
                      }
                    ],
                    "table": [
                      {
                        "cells": {
                          "fill": {
                            "color": "#EBF0F8"
                          },
                          "line": {
                            "color": "white"
                          }
                        },
                        "header": {
                          "fill": {
                            "color": "#C8D4E3"
                          },
                          "line": {
                            "color": "white"
                          }
                        },
                        "type": "table"
                      }
                    ]
                  },
                  "layout": {
                    "annotationdefaults": {
                      "arrowcolor": "#2a3f5f",
                      "arrowhead": 0,
                      "arrowwidth": 1
                    },
                    "autotypenumbers": "strict",
                    "coloraxis": {
                      "colorbar": {
                        "outlinewidth": 0,
                        "ticks": ""
                      }
                    },
                    "colorscale": {
                      "diverging": [
                        [
                          0,
                          "#8e0152"
                        ],
                        [
                          0.1,
                          "#c51b7d"
                        ],
                        [
                          0.2,
                          "#de77ae"
                        ],
                        [
                          0.3,
                          "#f1b6da"
                        ],
                        [
                          0.4,
                          "#fde0ef"
                        ],
                        [
                          0.5,
                          "#f7f7f7"
                        ],
                        [
                          0.6,
                          "#e6f5d0"
                        ],
                        [
                          0.7,
                          "#b8e186"
                        ],
                        [
                          0.8,
                          "#7fbc41"
                        ],
                        [
                          0.9,
                          "#4d9221"
                        ],
                        [
                          1,
                          "#276419"
                        ]
                      ],
                      "sequential": [
                        [
                          0,
                          "#0d0887"
                        ],
                        [
                          0.1111111111111111,
                          "#46039f"
                        ],
                        [
                          0.2222222222222222,
                          "#7201a8"
                        ],
                        [
                          0.3333333333333333,
                          "#9c179e"
                        ],
                        [
                          0.4444444444444444,
                          "#bd3786"
                        ],
                        [
                          0.5555555555555556,
                          "#d8576b"
                        ],
                        [
                          0.6666666666666666,
                          "#ed7953"
                        ],
                        [
                          0.7777777777777778,
                          "#fb9f3a"
                        ],
                        [
                          0.8888888888888888,
                          "#fdca26"
                        ],
                        [
                          1,
                          "#f0f921"
                        ]
                      ],
                      "sequentialminus": [
                        [
                          0,
                          "#0d0887"
                        ],
                        [
                          0.1111111111111111,
                          "#46039f"
                        ],
                        [
                          0.2222222222222222,
                          "#7201a8"
                        ],
                        [
                          0.3333333333333333,
                          "#9c179e"
                        ],
                        [
                          0.4444444444444444,
                          "#bd3786"
                        ],
                        [
                          0.5555555555555556,
                          "#d8576b"
                        ],
                        [
                          0.6666666666666666,
                          "#ed7953"
                        ],
                        [
                          0.7777777777777778,
                          "#fb9f3a"
                        ],
                        [
                          0.8888888888888888,
                          "#fdca26"
                        ],
                        [
                          1,
                          "#f0f921"
                        ]
                      ]
                    },
                    "colorway": [
                      "#636efa",
                      "#EF553B",
                      "#00cc96",
                      "#ab63fa",
                      "#FFA15A",
                      "#19d3f3",
                      "#FF6692",
                      "#B6E880",
                      "#FF97FF",
                      "#FECB52"
                    ],
                    "font": {
                      "color": "#2a3f5f"
                    },
                    "geo": {
                      "bgcolor": "white",
                      "lakecolor": "white",
                      "landcolor": "#E5ECF6",
                      "showlakes": true,
                      "showland": true,
                      "subunitcolor": "white"
                    },
                    "hoverlabel": {
                      "align": "left"
                    },
                    "hovermode": "closest",
                    "mapbox": {
                      "style": "light"
                    },
                    "paper_bgcolor": "white",
                    "plot_bgcolor": "#E5ECF6",
                    "polar": {
                      "angularaxis": {
                        "gridcolor": "white",
                        "linecolor": "white",
                        "ticks": ""
                      },
                      "bgcolor": "#E5ECF6",
                      "radialaxis": {
                        "gridcolor": "white",
                        "linecolor": "white",
                        "ticks": ""
                      }
                    },
                    "scene": {
                      "xaxis": {
                        "backgroundcolor": "#E5ECF6",
                        "gridcolor": "white",
                        "gridwidth": 2,
                        "linecolor": "white",
                        "showbackground": true,
                        "ticks": "",
                        "zerolinecolor": "white"
                      },
                      "yaxis": {
                        "backgroundcolor": "#E5ECF6",
                        "gridcolor": "white",
                        "gridwidth": 2,
                        "linecolor": "white",
                        "showbackground": true,
                        "ticks": "",
                        "zerolinecolor": "white"
                      },
                      "zaxis": {
                        "backgroundcolor": "#E5ECF6",
                        "gridcolor": "white",
                        "gridwidth": 2,
                        "linecolor": "white",
                        "showbackground": true,
                        "ticks": "",
                        "zerolinecolor": "white"
                      }
                    },
                    "shapedefaults": {
                      "line": {
                        "color": "#2a3f5f"
                      }
                    },
                    "ternary": {
                      "aaxis": {
                        "gridcolor": "white",
                        "linecolor": "white",
                        "ticks": ""
                      },
                      "baxis": {
                        "gridcolor": "white",
                        "linecolor": "white",
                        "ticks": ""
                      },
                      "bgcolor": "#E5ECF6",
                      "caxis": {
                        "gridcolor": "white",
                        "linecolor": "white",
                        "ticks": ""
                      }
                    },
                    "title": {
                      "x": 0.05
                    },
                    "xaxis": {
                      "automargin": true,
                      "gridcolor": "white",
                      "linecolor": "white",
                      "ticks": "",
                      "title": {
                        "standoff": 15
                      },
                      "zerolinecolor": "white",
                      "zerolinewidth": 2
                    },
                    "yaxis": {
                      "automargin": true,
                      "gridcolor": "white",
                      "linecolor": "white",
                      "ticks": "",
                      "title": {
                        "standoff": 15
                      },
                      "zerolinecolor": "white",
                      "zerolinewidth": 2
                    }
                  }
                },
                "title": {
                  "text": "Holt-Winters Model",
                  "x": 0.5,
                  "xanchor": "center",
                  "y": 0.9,
                  "yanchor": "top"
                },
                "xaxis": {
                  "gridcolor": "gray",
                  "gridwidth": 1,
                  "showgrid": true
                },
                "yaxis": {
                  "gridcolor": "gray",
                  "gridwidth": 1,
                  "showgrid": true
                }
              }
            }
          },
          "metadata": {},
          "output_type": "display_data"
        }
      ],
      "source": [
        "fig = go.Figure()\n",
        "\n",
        "# add line / trace 1 to figure\n",
        "fig.add_trace(go.Scatter(\n",
        "    x=holt_test_forecast.index,\n",
        "    y=holt_test_forecast,\n",
        "    marker=dict(\n",
        "        color=\"red\"\n",
        "    ),\n",
        "    showlegend=True, name='Predicted Test Values'\n",
        "))\n",
        "\n",
        "# add line / trace 2 to figure\n",
        "fig.add_trace(go.Scatter(\n",
        "    x=test.index,\n",
        "    y=test,\n",
        "    marker=dict(\n",
        "        color=\"Orange\"\n",
        "    ),\n",
        "    showlegend=True, name= 'Actual Test Values'\n",
        "))\n",
        "\n",
        "\n",
        "# Show grid lines\n",
        "fig.update_layout(plot_bgcolor='black',\n",
        "    paper_bgcolor='black',\n",
        "    font=dict(color='white'),\n",
        "    xaxis=dict(showgrid=True, gridcolor='gray', gridwidth=1),\n",
        "    yaxis=dict(showgrid=True, gridcolor='gray', gridwidth=1),\n",
        "    title={\n",
        "        'text': \"Holt-Winters Model\",\n",
        "        'y':0.9,\n",
        "        'x':0.5,\n",
        "        'xanchor': 'center',\n",
        "        'yanchor': 'top'\n",
        "    }\n",
        ")\n",
        "\n",
        "fig.show()"
      ]
    },
    {
      "cell_type": "markdown",
      "metadata": {
        "id": "cC3R_iDRZrLu"
      },
      "source": [
        "### Final Model training"
      ]
    },
    {
      "cell_type": "code",
      "execution_count": null,
      "metadata": {
        "id": "fPWbCVAZZrLu",
        "outputId": "d038fa48-533e-488e-a67b-575b245a5d8a"
      },
      "outputs": [
        {
          "name": "stdout",
          "output_type": "stream",
          "text": [
            "                        SimpleExpSmoothing Model Results                        \n",
            "================================================================================\n",
            "Dep. Variable:     Lifetouch Heart Rate   No. Observations:                  226\n",
            "Model:               SimpleExpSmoothing   SSE                           5812.319\n",
            "Optimized:                        False   AIC                            737.867\n",
            "Trend:                             None   BIC                            744.708\n",
            "Seasonal:                          None   AICC                           738.048\n",
            "Seasonal Periods:                  None   Date:                 Sun, 19 Feb 2023\n",
            "Box-Cox:                          False   Time:                         09:16:22\n",
            "Box-Cox Coeff.:                    None                                         \n",
            "==============================================================================\n",
            "                       coeff                 code              optimized      \n",
            "------------------------------------------------------------------------------\n",
            "smoothing_level            0.6000000                alpha                False\n",
            "initial_level              139.00000                  l.0                False\n",
            "------------------------------------------------------------------------------\n"
          ]
        }
      ],
      "source": [
        "model_holt2 = SimpleExpSmoothing(df['Lifetouch Heart Rate']).fit(smoothing_level=0.6,optimized=False)\n",
        "\n",
        "print(model_holt2.summary())\n",
        "\n",
        "final_holt_predictions = model_holt2.forecast(20)\n"
      ]
    },
    {
      "cell_type": "code",
      "execution_count": null,
      "metadata": {
        "id": "CPf70402ZrLu",
        "outputId": "06d133d2-9795-4415-d113-fc4c7aecfe2d"
      },
      "outputs": [
        {
          "data": {
            "application/vnd.plotly.v1+json": {
              "config": {
                "plotlyServerURL": "https://plot.ly"
              },
              "data": [
                {
                  "marker": {
                    "color": "red"
                  },
                  "name": "Real Data",
                  "showlegend": true,
                  "type": "scatter",
                  "x": [
                    "2015-08-17T15:09:00",
                    "2015-08-17T15:10:00",
                    "2015-08-17T15:11:00",
                    "2015-08-17T15:12:00",
                    "2015-08-17T15:13:00",
                    "2015-08-17T15:14:00",
                    "2015-08-17T15:15:00",
                    "2015-08-17T15:16:00",
                    "2015-08-17T15:17:00",
                    "2015-08-17T15:18:00",
                    "2015-08-17T15:19:00",
                    "2015-08-17T15:20:00",
                    "2015-08-17T15:21:00",
                    "2015-08-17T15:22:00",
                    "2015-08-17T15:23:00",
                    "2015-08-17T15:24:00",
                    "2015-08-17T15:25:00",
                    "2015-08-17T15:26:00",
                    "2015-08-17T15:27:00",
                    "2015-08-17T15:28:00",
                    "2015-08-17T15:29:00",
                    "2015-08-17T15:30:00",
                    "2015-08-17T15:31:00",
                    "2015-08-17T15:32:00",
                    "2015-08-17T15:33:00",
                    "2015-08-17T15:34:00",
                    "2015-08-17T15:35:00",
                    "2015-08-17T15:36:00",
                    "2015-08-17T15:37:00",
                    "2015-08-17T15:38:00",
                    "2015-08-17T15:39:00",
                    "2015-08-17T15:40:00",
                    "2015-08-17T15:41:00",
                    "2015-08-17T15:42:00",
                    "2015-08-17T15:43:00",
                    "2015-08-17T15:44:00",
                    "2015-08-17T15:45:00",
                    "2015-08-17T15:46:00",
                    "2015-08-17T15:47:00",
                    "2015-08-17T15:48:00",
                    "2015-08-17T15:49:00",
                    "2015-08-17T15:50:00",
                    "2015-08-17T15:51:00",
                    "2015-08-17T15:52:00",
                    "2015-08-17T15:53:00",
                    "2015-08-17T15:54:00",
                    "2015-08-17T15:55:00",
                    "2015-08-17T15:56:00",
                    "2015-08-17T15:57:00",
                    "2015-08-17T15:58:00",
                    "2015-08-17T15:59:00",
                    "2015-08-17T16:00:00",
                    "2015-08-17T16:01:00",
                    "2015-08-17T16:02:00",
                    "2015-08-17T16:03:00",
                    "2015-08-17T16:04:00",
                    "2015-08-17T16:05:00",
                    "2015-08-17T16:06:00",
                    "2015-08-17T16:07:00",
                    "2015-08-17T16:08:00",
                    "2015-08-17T16:09:00",
                    "2015-08-17T16:10:00",
                    "2015-08-17T16:11:00",
                    "2015-08-17T16:12:00",
                    "2015-08-17T16:13:00",
                    "2015-08-17T16:14:00",
                    "2015-08-17T16:15:00",
                    "2015-08-17T16:16:00",
                    "2015-08-17T16:17:00",
                    "2015-08-17T16:18:00",
                    "2015-08-17T16:19:00",
                    "2015-08-17T16:20:00",
                    "2015-08-17T16:21:00",
                    "2015-08-17T16:22:00",
                    "2015-08-17T16:23:00",
                    "2015-08-17T16:24:00",
                    "2015-08-17T16:25:00",
                    "2015-08-17T16:26:00",
                    "2015-08-17T16:27:00",
                    "2015-08-17T16:28:00",
                    "2015-08-17T16:29:00",
                    "2015-08-17T16:30:00",
                    "2015-08-17T16:31:00",
                    "2015-08-17T16:32:00",
                    "2015-08-17T16:33:00",
                    "2015-08-17T16:34:00",
                    "2015-08-17T16:35:00",
                    "2015-08-17T16:36:00",
                    "2015-08-17T16:37:00",
                    "2015-08-17T16:38:00",
                    "2015-08-17T16:39:00",
                    "2015-08-17T16:40:00",
                    "2015-08-17T16:41:00",
                    "2015-08-17T16:42:00",
                    "2015-08-17T16:43:00",
                    "2015-08-17T16:44:00",
                    "2015-08-17T16:45:00",
                    "2015-08-17T16:46:00",
                    "2015-08-17T16:47:00",
                    "2015-08-17T16:48:00",
                    "2015-08-17T16:49:00",
                    "2015-08-17T16:50:00",
                    "2015-08-17T16:51:00",
                    "2015-08-17T16:52:00",
                    "2015-08-17T16:53:00",
                    "2015-08-17T16:54:00",
                    "2015-08-17T16:55:00",
                    "2015-08-17T16:56:00",
                    "2015-08-17T16:57:00",
                    "2015-08-17T16:58:00",
                    "2015-08-17T16:59:00",
                    "2015-08-17T17:00:00",
                    "2015-08-17T17:01:00",
                    "2015-08-17T17:02:00",
                    "2015-08-17T17:03:00",
                    "2015-08-17T17:04:00",
                    "2015-08-17T17:05:00",
                    "2015-08-17T17:06:00",
                    "2015-08-17T17:07:00",
                    "2015-08-17T17:08:00",
                    "2015-08-17T17:09:00",
                    "2015-08-17T17:10:00",
                    "2015-08-17T17:11:00",
                    "2015-08-17T17:12:00",
                    "2015-08-17T17:13:00",
                    "2015-08-17T17:14:00",
                    "2015-08-17T17:15:00",
                    "2015-08-17T17:16:00",
                    "2015-08-17T17:17:00",
                    "2015-08-17T17:18:00",
                    "2015-08-17T17:19:00",
                    "2015-08-17T17:20:00",
                    "2015-08-17T17:21:00",
                    "2015-08-17T17:22:00",
                    "2015-08-17T17:23:00",
                    "2015-08-17T17:24:00",
                    "2015-08-17T17:25:00",
                    "2015-08-17T17:26:00",
                    "2015-08-17T17:27:00",
                    "2015-08-17T17:28:00",
                    "2015-08-17T17:29:00",
                    "2015-08-17T17:30:00",
                    "2015-08-17T17:31:00",
                    "2015-08-17T17:32:00",
                    "2015-08-17T17:33:00",
                    "2015-08-17T17:34:00",
                    "2015-08-17T17:35:00",
                    "2015-08-17T17:36:00",
                    "2015-08-17T17:37:00",
                    "2015-08-17T17:38:00",
                    "2015-08-17T17:39:00",
                    "2015-08-17T17:40:00",
                    "2015-08-17T17:41:00",
                    "2015-08-17T17:42:00",
                    "2015-08-17T17:43:00",
                    "2015-08-17T17:44:00",
                    "2015-08-17T17:45:00",
                    "2015-08-17T17:46:00",
                    "2015-08-17T17:47:00",
                    "2015-08-17T17:48:00",
                    "2015-08-17T17:49:00",
                    "2015-08-17T17:50:00",
                    "2015-08-17T17:51:00",
                    "2015-08-17T17:52:00",
                    "2015-08-17T17:53:00",
                    "2015-08-17T17:54:00",
                    "2015-08-17T17:55:00",
                    "2015-08-17T17:56:00",
                    "2015-08-17T17:57:00",
                    "2015-08-17T17:58:00",
                    "2015-08-17T17:59:00",
                    "2015-08-17T18:00:00",
                    "2015-08-17T18:01:00",
                    "2015-08-17T18:02:00",
                    "2015-08-17T18:03:00",
                    "2015-08-17T18:04:00",
                    "2015-08-17T18:05:00",
                    "2015-08-17T18:06:00",
                    "2015-08-17T18:07:00",
                    "2015-08-17T18:08:00",
                    "2015-08-17T18:09:00",
                    "2015-08-17T18:10:00",
                    "2015-08-17T18:11:00",
                    "2015-08-17T18:12:00",
                    "2015-08-17T18:13:00",
                    "2015-08-17T18:14:00",
                    "2015-08-17T18:15:00",
                    "2015-08-17T18:16:00",
                    "2015-08-17T18:17:00",
                    "2015-08-17T18:18:00",
                    "2015-08-17T18:19:00",
                    "2015-08-17T18:20:00",
                    "2015-08-17T18:21:00",
                    "2015-08-17T18:22:00",
                    "2015-08-17T18:23:00",
                    "2015-08-17T18:24:00",
                    "2015-08-17T18:25:00",
                    "2015-08-17T18:26:00",
                    "2015-08-17T18:27:00",
                    "2015-08-17T18:28:00",
                    "2015-08-17T18:29:00",
                    "2015-08-17T18:30:00",
                    "2015-08-17T18:31:00",
                    "2015-08-17T18:32:00",
                    "2015-08-17T18:33:00",
                    "2015-08-17T18:34:00",
                    "2015-08-17T18:35:00",
                    "2015-08-17T18:36:00",
                    "2015-08-17T18:37:00",
                    "2015-08-17T18:38:00",
                    "2015-08-17T18:39:00",
                    "2015-08-17T18:40:00",
                    "2015-08-17T18:41:00",
                    "2015-08-17T18:42:00",
                    "2015-08-17T18:43:00",
                    "2015-08-17T18:44:00",
                    "2015-08-17T18:45:00",
                    "2015-08-17T18:46:00",
                    "2015-08-17T18:47:00",
                    "2015-08-17T18:48:00",
                    "2015-08-17T18:49:00",
                    "2015-08-17T18:50:00",
                    "2015-08-17T18:51:00",
                    "2015-08-17T18:52:00",
                    "2015-08-17T18:53:00",
                    "2015-08-17T18:54:00"
                  ],
                  "y": [
                    139,
                    144,
                    140,
                    138,
                    133,
                    132,
                    132,
                    133,
                    136,
                    137,
                    136,
                    137,
                    139,
                    138,
                    141,
                    139,
                    140,
                    140,
                    139,
                    137,
                    139,
                    139,
                    133,
                    120,
                    139,
                    140,
                    135,
                    141,
                    137,
                    129,
                    129,
                    129,
                    129,
                    129,
                    129,
                    129,
                    129,
                    136,
                    138,
                    142,
                    106,
                    106,
                    143,
                    139,
                    149,
                    154,
                    152,
                    150,
                    144,
                    150,
                    149,
                    149,
                    148,
                    144,
                    142,
                    142,
                    142,
                    141,
                    140,
                    140,
                    139,
                    138,
                    137,
                    137,
                    136,
                    137,
                    136,
                    136,
                    136,
                    136,
                    136,
                    136,
                    137,
                    136,
                    136,
                    136,
                    137,
                    137,
                    136,
                    136,
                    134,
                    134,
                    134,
                    133,
                    132,
                    132,
                    132,
                    132,
                    132,
                    133,
                    133,
                    133,
                    133,
                    133,
                    134,
                    134,
                    133,
                    134,
                    134,
                    133,
                    134,
                    134,
                    133,
                    134,
                    134,
                    134,
                    134,
                    134,
                    138,
                    138,
                    132,
                    133,
                    142,
                    139,
                    146,
                    140,
                    136,
                    134,
                    136,
                    131,
                    137,
                    135,
                    137,
                    137,
                    136,
                    140,
                    142,
                    151,
                    146,
                    154,
                    161,
                    158,
                    160,
                    154,
                    154,
                    158,
                    155,
                    150,
                    153,
                    155,
                    158,
                    163,
                    162,
                    162,
                    163,
                    163,
                    160,
                    159,
                    160,
                    159,
                    166,
                    164,
                    161,
                    167,
                    159,
                    152,
                    152,
                    150,
                    151,
                    155,
                    159,
                    154,
                    157,
                    163,
                    158,
                    163,
                    164,
                    166,
                    169,
                    169,
                    170,
                    172,
                    165,
                    163,
                    156,
                    156,
                    161,
                    161,
                    164,
                    160,
                    158,
                    159,
                    154,
                    158,
                    152,
                    160,
                    155,
                    149,
                    151,
                    148,
                    146,
                    154,
                    155,
                    152,
                    152,
                    156,
                    156,
                    153,
                    154,
                    158,
                    155,
                    150,
                    149,
                    148,
                    156,
                    158,
                    159,
                    160,
                    155,
                    155,
                    148,
                    148,
                    152,
                    152,
                    150,
                    153,
                    158,
                    158,
                    154,
                    155,
                    157,
                    159,
                    151,
                    140,
                    140,
                    138
                  ]
                },
                {
                  "marker": {
                    "color": "Orange"
                  },
                  "name": "Next 20 Forecasts",
                  "showlegend": true,
                  "type": "scatter",
                  "x": [
                    "2015-08-17T18:55:00",
                    "2015-08-17T18:56:00",
                    "2015-08-17T18:57:00",
                    "2015-08-17T18:58:00",
                    "2015-08-17T18:59:00",
                    "2015-08-17T19:00:00",
                    "2015-08-17T19:01:00",
                    "2015-08-17T19:02:00",
                    "2015-08-17T19:03:00",
                    "2015-08-17T19:04:00",
                    "2015-08-17T19:05:00",
                    "2015-08-17T19:06:00",
                    "2015-08-17T19:07:00",
                    "2015-08-17T19:08:00",
                    "2015-08-17T19:09:00",
                    "2015-08-17T19:10:00",
                    "2015-08-17T19:11:00",
                    "2015-08-17T19:12:00",
                    "2015-08-17T19:13:00",
                    "2015-08-17T19:14:00"
                  ],
                  "y": [
                    139.68048703022637,
                    139.68048703022637,
                    139.68048703022637,
                    139.68048703022637,
                    139.68048703022637,
                    139.68048703022637,
                    139.68048703022637,
                    139.68048703022637,
                    139.68048703022637,
                    139.68048703022637,
                    139.68048703022637,
                    139.68048703022637,
                    139.68048703022637,
                    139.68048703022637,
                    139.68048703022637,
                    139.68048703022637,
                    139.68048703022637,
                    139.68048703022637,
                    139.68048703022637,
                    139.68048703022637
                  ]
                }
              ],
              "layout": {
                "font": {
                  "color": "white"
                },
                "paper_bgcolor": "black",
                "plot_bgcolor": "black",
                "template": {
                  "data": {
                    "bar": [
                      {
                        "error_x": {
                          "color": "#2a3f5f"
                        },
                        "error_y": {
                          "color": "#2a3f5f"
                        },
                        "marker": {
                          "line": {
                            "color": "#E5ECF6",
                            "width": 0.5
                          },
                          "pattern": {
                            "fillmode": "overlay",
                            "size": 10,
                            "solidity": 0.2
                          }
                        },
                        "type": "bar"
                      }
                    ],
                    "barpolar": [
                      {
                        "marker": {
                          "line": {
                            "color": "#E5ECF6",
                            "width": 0.5
                          },
                          "pattern": {
                            "fillmode": "overlay",
                            "size": 10,
                            "solidity": 0.2
                          }
                        },
                        "type": "barpolar"
                      }
                    ],
                    "carpet": [
                      {
                        "aaxis": {
                          "endlinecolor": "#2a3f5f",
                          "gridcolor": "white",
                          "linecolor": "white",
                          "minorgridcolor": "white",
                          "startlinecolor": "#2a3f5f"
                        },
                        "baxis": {
                          "endlinecolor": "#2a3f5f",
                          "gridcolor": "white",
                          "linecolor": "white",
                          "minorgridcolor": "white",
                          "startlinecolor": "#2a3f5f"
                        },
                        "type": "carpet"
                      }
                    ],
                    "choropleth": [
                      {
                        "colorbar": {
                          "outlinewidth": 0,
                          "ticks": ""
                        },
                        "type": "choropleth"
                      }
                    ],
                    "contour": [
                      {
                        "colorbar": {
                          "outlinewidth": 0,
                          "ticks": ""
                        },
                        "colorscale": [
                          [
                            0,
                            "#0d0887"
                          ],
                          [
                            0.1111111111111111,
                            "#46039f"
                          ],
                          [
                            0.2222222222222222,
                            "#7201a8"
                          ],
                          [
                            0.3333333333333333,
                            "#9c179e"
                          ],
                          [
                            0.4444444444444444,
                            "#bd3786"
                          ],
                          [
                            0.5555555555555556,
                            "#d8576b"
                          ],
                          [
                            0.6666666666666666,
                            "#ed7953"
                          ],
                          [
                            0.7777777777777778,
                            "#fb9f3a"
                          ],
                          [
                            0.8888888888888888,
                            "#fdca26"
                          ],
                          [
                            1,
                            "#f0f921"
                          ]
                        ],
                        "type": "contour"
                      }
                    ],
                    "contourcarpet": [
                      {
                        "colorbar": {
                          "outlinewidth": 0,
                          "ticks": ""
                        },
                        "type": "contourcarpet"
                      }
                    ],
                    "heatmap": [
                      {
                        "colorbar": {
                          "outlinewidth": 0,
                          "ticks": ""
                        },
                        "colorscale": [
                          [
                            0,
                            "#0d0887"
                          ],
                          [
                            0.1111111111111111,
                            "#46039f"
                          ],
                          [
                            0.2222222222222222,
                            "#7201a8"
                          ],
                          [
                            0.3333333333333333,
                            "#9c179e"
                          ],
                          [
                            0.4444444444444444,
                            "#bd3786"
                          ],
                          [
                            0.5555555555555556,
                            "#d8576b"
                          ],
                          [
                            0.6666666666666666,
                            "#ed7953"
                          ],
                          [
                            0.7777777777777778,
                            "#fb9f3a"
                          ],
                          [
                            0.8888888888888888,
                            "#fdca26"
                          ],
                          [
                            1,
                            "#f0f921"
                          ]
                        ],
                        "type": "heatmap"
                      }
                    ],
                    "heatmapgl": [
                      {
                        "colorbar": {
                          "outlinewidth": 0,
                          "ticks": ""
                        },
                        "colorscale": [
                          [
                            0,
                            "#0d0887"
                          ],
                          [
                            0.1111111111111111,
                            "#46039f"
                          ],
                          [
                            0.2222222222222222,
                            "#7201a8"
                          ],
                          [
                            0.3333333333333333,
                            "#9c179e"
                          ],
                          [
                            0.4444444444444444,
                            "#bd3786"
                          ],
                          [
                            0.5555555555555556,
                            "#d8576b"
                          ],
                          [
                            0.6666666666666666,
                            "#ed7953"
                          ],
                          [
                            0.7777777777777778,
                            "#fb9f3a"
                          ],
                          [
                            0.8888888888888888,
                            "#fdca26"
                          ],
                          [
                            1,
                            "#f0f921"
                          ]
                        ],
                        "type": "heatmapgl"
                      }
                    ],
                    "histogram": [
                      {
                        "marker": {
                          "pattern": {
                            "fillmode": "overlay",
                            "size": 10,
                            "solidity": 0.2
                          }
                        },
                        "type": "histogram"
                      }
                    ],
                    "histogram2d": [
                      {
                        "colorbar": {
                          "outlinewidth": 0,
                          "ticks": ""
                        },
                        "colorscale": [
                          [
                            0,
                            "#0d0887"
                          ],
                          [
                            0.1111111111111111,
                            "#46039f"
                          ],
                          [
                            0.2222222222222222,
                            "#7201a8"
                          ],
                          [
                            0.3333333333333333,
                            "#9c179e"
                          ],
                          [
                            0.4444444444444444,
                            "#bd3786"
                          ],
                          [
                            0.5555555555555556,
                            "#d8576b"
                          ],
                          [
                            0.6666666666666666,
                            "#ed7953"
                          ],
                          [
                            0.7777777777777778,
                            "#fb9f3a"
                          ],
                          [
                            0.8888888888888888,
                            "#fdca26"
                          ],
                          [
                            1,
                            "#f0f921"
                          ]
                        ],
                        "type": "histogram2d"
                      }
                    ],
                    "histogram2dcontour": [
                      {
                        "colorbar": {
                          "outlinewidth": 0,
                          "ticks": ""
                        },
                        "colorscale": [
                          [
                            0,
                            "#0d0887"
                          ],
                          [
                            0.1111111111111111,
                            "#46039f"
                          ],
                          [
                            0.2222222222222222,
                            "#7201a8"
                          ],
                          [
                            0.3333333333333333,
                            "#9c179e"
                          ],
                          [
                            0.4444444444444444,
                            "#bd3786"
                          ],
                          [
                            0.5555555555555556,
                            "#d8576b"
                          ],
                          [
                            0.6666666666666666,
                            "#ed7953"
                          ],
                          [
                            0.7777777777777778,
                            "#fb9f3a"
                          ],
                          [
                            0.8888888888888888,
                            "#fdca26"
                          ],
                          [
                            1,
                            "#f0f921"
                          ]
                        ],
                        "type": "histogram2dcontour"
                      }
                    ],
                    "mesh3d": [
                      {
                        "colorbar": {
                          "outlinewidth": 0,
                          "ticks": ""
                        },
                        "type": "mesh3d"
                      }
                    ],
                    "parcoords": [
                      {
                        "line": {
                          "colorbar": {
                            "outlinewidth": 0,
                            "ticks": ""
                          }
                        },
                        "type": "parcoords"
                      }
                    ],
                    "pie": [
                      {
                        "automargin": true,
                        "type": "pie"
                      }
                    ],
                    "scatter": [
                      {
                        "fillpattern": {
                          "fillmode": "overlay",
                          "size": 10,
                          "solidity": 0.2
                        },
                        "type": "scatter"
                      }
                    ],
                    "scatter3d": [
                      {
                        "line": {
                          "colorbar": {
                            "outlinewidth": 0,
                            "ticks": ""
                          }
                        },
                        "marker": {
                          "colorbar": {
                            "outlinewidth": 0,
                            "ticks": ""
                          }
                        },
                        "type": "scatter3d"
                      }
                    ],
                    "scattercarpet": [
                      {
                        "marker": {
                          "colorbar": {
                            "outlinewidth": 0,
                            "ticks": ""
                          }
                        },
                        "type": "scattercarpet"
                      }
                    ],
                    "scattergeo": [
                      {
                        "marker": {
                          "colorbar": {
                            "outlinewidth": 0,
                            "ticks": ""
                          }
                        },
                        "type": "scattergeo"
                      }
                    ],
                    "scattergl": [
                      {
                        "marker": {
                          "colorbar": {
                            "outlinewidth": 0,
                            "ticks": ""
                          }
                        },
                        "type": "scattergl"
                      }
                    ],
                    "scattermapbox": [
                      {
                        "marker": {
                          "colorbar": {
                            "outlinewidth": 0,
                            "ticks": ""
                          }
                        },
                        "type": "scattermapbox"
                      }
                    ],
                    "scatterpolar": [
                      {
                        "marker": {
                          "colorbar": {
                            "outlinewidth": 0,
                            "ticks": ""
                          }
                        },
                        "type": "scatterpolar"
                      }
                    ],
                    "scatterpolargl": [
                      {
                        "marker": {
                          "colorbar": {
                            "outlinewidth": 0,
                            "ticks": ""
                          }
                        },
                        "type": "scatterpolargl"
                      }
                    ],
                    "scatterternary": [
                      {
                        "marker": {
                          "colorbar": {
                            "outlinewidth": 0,
                            "ticks": ""
                          }
                        },
                        "type": "scatterternary"
                      }
                    ],
                    "surface": [
                      {
                        "colorbar": {
                          "outlinewidth": 0,
                          "ticks": ""
                        },
                        "colorscale": [
                          [
                            0,
                            "#0d0887"
                          ],
                          [
                            0.1111111111111111,
                            "#46039f"
                          ],
                          [
                            0.2222222222222222,
                            "#7201a8"
                          ],
                          [
                            0.3333333333333333,
                            "#9c179e"
                          ],
                          [
                            0.4444444444444444,
                            "#bd3786"
                          ],
                          [
                            0.5555555555555556,
                            "#d8576b"
                          ],
                          [
                            0.6666666666666666,
                            "#ed7953"
                          ],
                          [
                            0.7777777777777778,
                            "#fb9f3a"
                          ],
                          [
                            0.8888888888888888,
                            "#fdca26"
                          ],
                          [
                            1,
                            "#f0f921"
                          ]
                        ],
                        "type": "surface"
                      }
                    ],
                    "table": [
                      {
                        "cells": {
                          "fill": {
                            "color": "#EBF0F8"
                          },
                          "line": {
                            "color": "white"
                          }
                        },
                        "header": {
                          "fill": {
                            "color": "#C8D4E3"
                          },
                          "line": {
                            "color": "white"
                          }
                        },
                        "type": "table"
                      }
                    ]
                  },
                  "layout": {
                    "annotationdefaults": {
                      "arrowcolor": "#2a3f5f",
                      "arrowhead": 0,
                      "arrowwidth": 1
                    },
                    "autotypenumbers": "strict",
                    "coloraxis": {
                      "colorbar": {
                        "outlinewidth": 0,
                        "ticks": ""
                      }
                    },
                    "colorscale": {
                      "diverging": [
                        [
                          0,
                          "#8e0152"
                        ],
                        [
                          0.1,
                          "#c51b7d"
                        ],
                        [
                          0.2,
                          "#de77ae"
                        ],
                        [
                          0.3,
                          "#f1b6da"
                        ],
                        [
                          0.4,
                          "#fde0ef"
                        ],
                        [
                          0.5,
                          "#f7f7f7"
                        ],
                        [
                          0.6,
                          "#e6f5d0"
                        ],
                        [
                          0.7,
                          "#b8e186"
                        ],
                        [
                          0.8,
                          "#7fbc41"
                        ],
                        [
                          0.9,
                          "#4d9221"
                        ],
                        [
                          1,
                          "#276419"
                        ]
                      ],
                      "sequential": [
                        [
                          0,
                          "#0d0887"
                        ],
                        [
                          0.1111111111111111,
                          "#46039f"
                        ],
                        [
                          0.2222222222222222,
                          "#7201a8"
                        ],
                        [
                          0.3333333333333333,
                          "#9c179e"
                        ],
                        [
                          0.4444444444444444,
                          "#bd3786"
                        ],
                        [
                          0.5555555555555556,
                          "#d8576b"
                        ],
                        [
                          0.6666666666666666,
                          "#ed7953"
                        ],
                        [
                          0.7777777777777778,
                          "#fb9f3a"
                        ],
                        [
                          0.8888888888888888,
                          "#fdca26"
                        ],
                        [
                          1,
                          "#f0f921"
                        ]
                      ],
                      "sequentialminus": [
                        [
                          0,
                          "#0d0887"
                        ],
                        [
                          0.1111111111111111,
                          "#46039f"
                        ],
                        [
                          0.2222222222222222,
                          "#7201a8"
                        ],
                        [
                          0.3333333333333333,
                          "#9c179e"
                        ],
                        [
                          0.4444444444444444,
                          "#bd3786"
                        ],
                        [
                          0.5555555555555556,
                          "#d8576b"
                        ],
                        [
                          0.6666666666666666,
                          "#ed7953"
                        ],
                        [
                          0.7777777777777778,
                          "#fb9f3a"
                        ],
                        [
                          0.8888888888888888,
                          "#fdca26"
                        ],
                        [
                          1,
                          "#f0f921"
                        ]
                      ]
                    },
                    "colorway": [
                      "#636efa",
                      "#EF553B",
                      "#00cc96",
                      "#ab63fa",
                      "#FFA15A",
                      "#19d3f3",
                      "#FF6692",
                      "#B6E880",
                      "#FF97FF",
                      "#FECB52"
                    ],
                    "font": {
                      "color": "#2a3f5f"
                    },
                    "geo": {
                      "bgcolor": "white",
                      "lakecolor": "white",
                      "landcolor": "#E5ECF6",
                      "showlakes": true,
                      "showland": true,
                      "subunitcolor": "white"
                    },
                    "hoverlabel": {
                      "align": "left"
                    },
                    "hovermode": "closest",
                    "mapbox": {
                      "style": "light"
                    },
                    "paper_bgcolor": "white",
                    "plot_bgcolor": "#E5ECF6",
                    "polar": {
                      "angularaxis": {
                        "gridcolor": "white",
                        "linecolor": "white",
                        "ticks": ""
                      },
                      "bgcolor": "#E5ECF6",
                      "radialaxis": {
                        "gridcolor": "white",
                        "linecolor": "white",
                        "ticks": ""
                      }
                    },
                    "scene": {
                      "xaxis": {
                        "backgroundcolor": "#E5ECF6",
                        "gridcolor": "white",
                        "gridwidth": 2,
                        "linecolor": "white",
                        "showbackground": true,
                        "ticks": "",
                        "zerolinecolor": "white"
                      },
                      "yaxis": {
                        "backgroundcolor": "#E5ECF6",
                        "gridcolor": "white",
                        "gridwidth": 2,
                        "linecolor": "white",
                        "showbackground": true,
                        "ticks": "",
                        "zerolinecolor": "white"
                      },
                      "zaxis": {
                        "backgroundcolor": "#E5ECF6",
                        "gridcolor": "white",
                        "gridwidth": 2,
                        "linecolor": "white",
                        "showbackground": true,
                        "ticks": "",
                        "zerolinecolor": "white"
                      }
                    },
                    "shapedefaults": {
                      "line": {
                        "color": "#2a3f5f"
                      }
                    },
                    "ternary": {
                      "aaxis": {
                        "gridcolor": "white",
                        "linecolor": "white",
                        "ticks": ""
                      },
                      "baxis": {
                        "gridcolor": "white",
                        "linecolor": "white",
                        "ticks": ""
                      },
                      "bgcolor": "#E5ECF6",
                      "caxis": {
                        "gridcolor": "white",
                        "linecolor": "white",
                        "ticks": ""
                      }
                    },
                    "title": {
                      "x": 0.05
                    },
                    "xaxis": {
                      "automargin": true,
                      "gridcolor": "white",
                      "linecolor": "white",
                      "ticks": "",
                      "title": {
                        "standoff": 15
                      },
                      "zerolinecolor": "white",
                      "zerolinewidth": 2
                    },
                    "yaxis": {
                      "automargin": true,
                      "gridcolor": "white",
                      "linecolor": "white",
                      "ticks": "",
                      "title": {
                        "standoff": 15
                      },
                      "zerolinecolor": "white",
                      "zerolinewidth": 2
                    }
                  }
                },
                "title": {
                  "text": "The next 20 predictions",
                  "x": 0.5,
                  "xanchor": "center",
                  "y": 0.9,
                  "yanchor": "top"
                },
                "xaxis": {
                  "gridcolor": "gray",
                  "gridwidth": 1,
                  "showgrid": true
                },
                "yaxis": {
                  "gridcolor": "gray",
                  "gridwidth": 1,
                  "showgrid": true
                }
              }
            }
          },
          "metadata": {},
          "output_type": "display_data"
        }
      ],
      "source": [
        "fig = go.Figure()\n",
        "\n",
        "fig.add_trace(go.Scatter(\n",
        "    x=df['Lifetouch Heart Rate'].index,\n",
        "    y=df['Lifetouch Heart Rate'],\n",
        "    marker=dict(\n",
        "        color=\"red\"\n",
        "    ),\n",
        "    showlegend=True, name='Real Data'\n",
        "))\n",
        "\n",
        "# add line / trace 2 to figure\n",
        "fig.add_trace(go.Scatter(\n",
        "    x=final_holt_predictions.index,\n",
        "    y=final_holt_predictions,\n",
        "    marker=dict(\n",
        "        color=\"Orange\"\n",
        "    ),\n",
        "    showlegend=True, name= 'Next 20 Forecasts'\n",
        "))\n",
        "\n",
        "\n",
        "# Show grid lines\n",
        "fig.update_layout(plot_bgcolor='black',\n",
        "    paper_bgcolor='black',\n",
        "    font=dict(color='white'),\n",
        "    xaxis=dict(showgrid=True, gridcolor='gray', gridwidth=1),\n",
        "    yaxis=dict(showgrid=True, gridcolor='gray', gridwidth=1),\n",
        "    title={\n",
        "        'text': \"The next 20 predictions\",\n",
        "        'y':0.9,\n",
        "        'x':0.5,\n",
        "        'xanchor': 'center',\n",
        "        'yanchor': 'top'\n",
        "    }\n",
        ")\n",
        "\n",
        "fig.show()"
      ]
    },
    {
      "cell_type": "markdown",
      "metadata": {
        "id": "3U9lmpT9ZrLu"
      },
      "source": [
        "## Simple Exponential Smoothing"
      ]
    },
    {
      "cell_type": "markdown",
      "metadata": {
        "id": "ItfsQErRZrLu"
      },
      "source": [
        "### Model Training"
      ]
    },
    {
      "cell_type": "code",
      "execution_count": null,
      "metadata": {
        "id": "lkzxeOn0ZrLu"
      },
      "outputs": [],
      "source": [
        "\n",
        "from statsmodels.tsa.holtwinters import ExponentialSmoothing\n",
        "from sklearn.metrics import mean_squared_error\n",
        "\n",
        "\n",
        "# Fit the model\n",
        "model = ExponentialSmoothing(train, seasonal_periods=12, trend='add', seasonal='add').fit()\n",
        "\n",
        "# Evaluate the model\n",
        "SES_test_forecast = model.forecast(20)\n",
        "\n",
        "\n"
      ]
    },
    {
      "cell_type": "code",
      "execution_count": null,
      "metadata": {
        "id": "eds_rnA-ZrLu",
        "outputId": "1e09417f-827c-42d8-d39a-f090d0fb7c0b"
      },
      "outputs": [
        {
          "data": {
            "application/vnd.plotly.v1+json": {
              "config": {
                "plotlyServerURL": "https://plot.ly"
              },
              "data": [
                {
                  "marker": {
                    "color": "red"
                  },
                  "name": "Predicted Test Values",
                  "showlegend": true,
                  "type": "scatter",
                  "x": [
                    "2015-08-17T18:35:00",
                    "2015-08-17T18:36:00",
                    "2015-08-17T18:37:00",
                    "2015-08-17T18:38:00",
                    "2015-08-17T18:39:00",
                    "2015-08-17T18:40:00",
                    "2015-08-17T18:41:00",
                    "2015-08-17T18:42:00",
                    "2015-08-17T18:43:00",
                    "2015-08-17T18:44:00",
                    "2015-08-17T18:45:00",
                    "2015-08-17T18:46:00",
                    "2015-08-17T18:47:00",
                    "2015-08-17T18:48:00",
                    "2015-08-17T18:49:00",
                    "2015-08-17T18:50:00",
                    "2015-08-17T18:51:00",
                    "2015-08-17T18:52:00",
                    "2015-08-17T18:53:00",
                    "2015-08-17T18:54:00"
                  ],
                  "y": [
                    156.2153247545087,
                    157.5686044424094,
                    154.80440880834882,
                    153.74512709709376,
                    156.21542331974754,
                    156.39116240314354,
                    156.5670541405084,
                    157.6842463794847,
                    157.2136979389112,
                    155.7435396779041,
                    157.80773457687272,
                    158.1973116621781,
                    157.20979104448492,
                    158.5630707323856,
                    155.798875098325,
                    154.73959338706993,
                    157.20988960972375,
                    157.38562869311974,
                    157.5615204304846,
                    158.6787126694609
                  ]
                },
                {
                  "marker": {
                    "color": "Orange"
                  },
                  "name": "Actual Test Values",
                  "showlegend": true,
                  "type": "scatter",
                  "x": [
                    "2015-08-17T18:35:00",
                    "2015-08-17T18:36:00",
                    "2015-08-17T18:37:00",
                    "2015-08-17T18:38:00",
                    "2015-08-17T18:39:00",
                    "2015-08-17T18:40:00",
                    "2015-08-17T18:41:00",
                    "2015-08-17T18:42:00",
                    "2015-08-17T18:43:00",
                    "2015-08-17T18:44:00",
                    "2015-08-17T18:45:00",
                    "2015-08-17T18:46:00",
                    "2015-08-17T18:47:00",
                    "2015-08-17T18:48:00",
                    "2015-08-17T18:49:00",
                    "2015-08-17T18:50:00",
                    "2015-08-17T18:51:00",
                    "2015-08-17T18:52:00",
                    "2015-08-17T18:53:00",
                    "2015-08-17T18:54:00"
                  ],
                  "y": [
                    159,
                    160,
                    155,
                    155,
                    148,
                    148,
                    152,
                    152,
                    150,
                    153,
                    158,
                    158,
                    154,
                    155,
                    157,
                    159,
                    151,
                    140,
                    140,
                    138
                  ]
                }
              ],
              "layout": {
                "font": {
                  "color": "white"
                },
                "paper_bgcolor": "black",
                "plot_bgcolor": "black",
                "template": {
                  "data": {
                    "bar": [
                      {
                        "error_x": {
                          "color": "#2a3f5f"
                        },
                        "error_y": {
                          "color": "#2a3f5f"
                        },
                        "marker": {
                          "line": {
                            "color": "#E5ECF6",
                            "width": 0.5
                          },
                          "pattern": {
                            "fillmode": "overlay",
                            "size": 10,
                            "solidity": 0.2
                          }
                        },
                        "type": "bar"
                      }
                    ],
                    "barpolar": [
                      {
                        "marker": {
                          "line": {
                            "color": "#E5ECF6",
                            "width": 0.5
                          },
                          "pattern": {
                            "fillmode": "overlay",
                            "size": 10,
                            "solidity": 0.2
                          }
                        },
                        "type": "barpolar"
                      }
                    ],
                    "carpet": [
                      {
                        "aaxis": {
                          "endlinecolor": "#2a3f5f",
                          "gridcolor": "white",
                          "linecolor": "white",
                          "minorgridcolor": "white",
                          "startlinecolor": "#2a3f5f"
                        },
                        "baxis": {
                          "endlinecolor": "#2a3f5f",
                          "gridcolor": "white",
                          "linecolor": "white",
                          "minorgridcolor": "white",
                          "startlinecolor": "#2a3f5f"
                        },
                        "type": "carpet"
                      }
                    ],
                    "choropleth": [
                      {
                        "colorbar": {
                          "outlinewidth": 0,
                          "ticks": ""
                        },
                        "type": "choropleth"
                      }
                    ],
                    "contour": [
                      {
                        "colorbar": {
                          "outlinewidth": 0,
                          "ticks": ""
                        },
                        "colorscale": [
                          [
                            0,
                            "#0d0887"
                          ],
                          [
                            0.1111111111111111,
                            "#46039f"
                          ],
                          [
                            0.2222222222222222,
                            "#7201a8"
                          ],
                          [
                            0.3333333333333333,
                            "#9c179e"
                          ],
                          [
                            0.4444444444444444,
                            "#bd3786"
                          ],
                          [
                            0.5555555555555556,
                            "#d8576b"
                          ],
                          [
                            0.6666666666666666,
                            "#ed7953"
                          ],
                          [
                            0.7777777777777778,
                            "#fb9f3a"
                          ],
                          [
                            0.8888888888888888,
                            "#fdca26"
                          ],
                          [
                            1,
                            "#f0f921"
                          ]
                        ],
                        "type": "contour"
                      }
                    ],
                    "contourcarpet": [
                      {
                        "colorbar": {
                          "outlinewidth": 0,
                          "ticks": ""
                        },
                        "type": "contourcarpet"
                      }
                    ],
                    "heatmap": [
                      {
                        "colorbar": {
                          "outlinewidth": 0,
                          "ticks": ""
                        },
                        "colorscale": [
                          [
                            0,
                            "#0d0887"
                          ],
                          [
                            0.1111111111111111,
                            "#46039f"
                          ],
                          [
                            0.2222222222222222,
                            "#7201a8"
                          ],
                          [
                            0.3333333333333333,
                            "#9c179e"
                          ],
                          [
                            0.4444444444444444,
                            "#bd3786"
                          ],
                          [
                            0.5555555555555556,
                            "#d8576b"
                          ],
                          [
                            0.6666666666666666,
                            "#ed7953"
                          ],
                          [
                            0.7777777777777778,
                            "#fb9f3a"
                          ],
                          [
                            0.8888888888888888,
                            "#fdca26"
                          ],
                          [
                            1,
                            "#f0f921"
                          ]
                        ],
                        "type": "heatmap"
                      }
                    ],
                    "heatmapgl": [
                      {
                        "colorbar": {
                          "outlinewidth": 0,
                          "ticks": ""
                        },
                        "colorscale": [
                          [
                            0,
                            "#0d0887"
                          ],
                          [
                            0.1111111111111111,
                            "#46039f"
                          ],
                          [
                            0.2222222222222222,
                            "#7201a8"
                          ],
                          [
                            0.3333333333333333,
                            "#9c179e"
                          ],
                          [
                            0.4444444444444444,
                            "#bd3786"
                          ],
                          [
                            0.5555555555555556,
                            "#d8576b"
                          ],
                          [
                            0.6666666666666666,
                            "#ed7953"
                          ],
                          [
                            0.7777777777777778,
                            "#fb9f3a"
                          ],
                          [
                            0.8888888888888888,
                            "#fdca26"
                          ],
                          [
                            1,
                            "#f0f921"
                          ]
                        ],
                        "type": "heatmapgl"
                      }
                    ],
                    "histogram": [
                      {
                        "marker": {
                          "pattern": {
                            "fillmode": "overlay",
                            "size": 10,
                            "solidity": 0.2
                          }
                        },
                        "type": "histogram"
                      }
                    ],
                    "histogram2d": [
                      {
                        "colorbar": {
                          "outlinewidth": 0,
                          "ticks": ""
                        },
                        "colorscale": [
                          [
                            0,
                            "#0d0887"
                          ],
                          [
                            0.1111111111111111,
                            "#46039f"
                          ],
                          [
                            0.2222222222222222,
                            "#7201a8"
                          ],
                          [
                            0.3333333333333333,
                            "#9c179e"
                          ],
                          [
                            0.4444444444444444,
                            "#bd3786"
                          ],
                          [
                            0.5555555555555556,
                            "#d8576b"
                          ],
                          [
                            0.6666666666666666,
                            "#ed7953"
                          ],
                          [
                            0.7777777777777778,
                            "#fb9f3a"
                          ],
                          [
                            0.8888888888888888,
                            "#fdca26"
                          ],
                          [
                            1,
                            "#f0f921"
                          ]
                        ],
                        "type": "histogram2d"
                      }
                    ],
                    "histogram2dcontour": [
                      {
                        "colorbar": {
                          "outlinewidth": 0,
                          "ticks": ""
                        },
                        "colorscale": [
                          [
                            0,
                            "#0d0887"
                          ],
                          [
                            0.1111111111111111,
                            "#46039f"
                          ],
                          [
                            0.2222222222222222,
                            "#7201a8"
                          ],
                          [
                            0.3333333333333333,
                            "#9c179e"
                          ],
                          [
                            0.4444444444444444,
                            "#bd3786"
                          ],
                          [
                            0.5555555555555556,
                            "#d8576b"
                          ],
                          [
                            0.6666666666666666,
                            "#ed7953"
                          ],
                          [
                            0.7777777777777778,
                            "#fb9f3a"
                          ],
                          [
                            0.8888888888888888,
                            "#fdca26"
                          ],
                          [
                            1,
                            "#f0f921"
                          ]
                        ],
                        "type": "histogram2dcontour"
                      }
                    ],
                    "mesh3d": [
                      {
                        "colorbar": {
                          "outlinewidth": 0,
                          "ticks": ""
                        },
                        "type": "mesh3d"
                      }
                    ],
                    "parcoords": [
                      {
                        "line": {
                          "colorbar": {
                            "outlinewidth": 0,
                            "ticks": ""
                          }
                        },
                        "type": "parcoords"
                      }
                    ],
                    "pie": [
                      {
                        "automargin": true,
                        "type": "pie"
                      }
                    ],
                    "scatter": [
                      {
                        "fillpattern": {
                          "fillmode": "overlay",
                          "size": 10,
                          "solidity": 0.2
                        },
                        "type": "scatter"
                      }
                    ],
                    "scatter3d": [
                      {
                        "line": {
                          "colorbar": {
                            "outlinewidth": 0,
                            "ticks": ""
                          }
                        },
                        "marker": {
                          "colorbar": {
                            "outlinewidth": 0,
                            "ticks": ""
                          }
                        },
                        "type": "scatter3d"
                      }
                    ],
                    "scattercarpet": [
                      {
                        "marker": {
                          "colorbar": {
                            "outlinewidth": 0,
                            "ticks": ""
                          }
                        },
                        "type": "scattercarpet"
                      }
                    ],
                    "scattergeo": [
                      {
                        "marker": {
                          "colorbar": {
                            "outlinewidth": 0,
                            "ticks": ""
                          }
                        },
                        "type": "scattergeo"
                      }
                    ],
                    "scattergl": [
                      {
                        "marker": {
                          "colorbar": {
                            "outlinewidth": 0,
                            "ticks": ""
                          }
                        },
                        "type": "scattergl"
                      }
                    ],
                    "scattermapbox": [
                      {
                        "marker": {
                          "colorbar": {
                            "outlinewidth": 0,
                            "ticks": ""
                          }
                        },
                        "type": "scattermapbox"
                      }
                    ],
                    "scatterpolar": [
                      {
                        "marker": {
                          "colorbar": {
                            "outlinewidth": 0,
                            "ticks": ""
                          }
                        },
                        "type": "scatterpolar"
                      }
                    ],
                    "scatterpolargl": [
                      {
                        "marker": {
                          "colorbar": {
                            "outlinewidth": 0,
                            "ticks": ""
                          }
                        },
                        "type": "scatterpolargl"
                      }
                    ],
                    "scatterternary": [
                      {
                        "marker": {
                          "colorbar": {
                            "outlinewidth": 0,
                            "ticks": ""
                          }
                        },
                        "type": "scatterternary"
                      }
                    ],
                    "surface": [
                      {
                        "colorbar": {
                          "outlinewidth": 0,
                          "ticks": ""
                        },
                        "colorscale": [
                          [
                            0,
                            "#0d0887"
                          ],
                          [
                            0.1111111111111111,
                            "#46039f"
                          ],
                          [
                            0.2222222222222222,
                            "#7201a8"
                          ],
                          [
                            0.3333333333333333,
                            "#9c179e"
                          ],
                          [
                            0.4444444444444444,
                            "#bd3786"
                          ],
                          [
                            0.5555555555555556,
                            "#d8576b"
                          ],
                          [
                            0.6666666666666666,
                            "#ed7953"
                          ],
                          [
                            0.7777777777777778,
                            "#fb9f3a"
                          ],
                          [
                            0.8888888888888888,
                            "#fdca26"
                          ],
                          [
                            1,
                            "#f0f921"
                          ]
                        ],
                        "type": "surface"
                      }
                    ],
                    "table": [
                      {
                        "cells": {
                          "fill": {
                            "color": "#EBF0F8"
                          },
                          "line": {
                            "color": "white"
                          }
                        },
                        "header": {
                          "fill": {
                            "color": "#C8D4E3"
                          },
                          "line": {
                            "color": "white"
                          }
                        },
                        "type": "table"
                      }
                    ]
                  },
                  "layout": {
                    "annotationdefaults": {
                      "arrowcolor": "#2a3f5f",
                      "arrowhead": 0,
                      "arrowwidth": 1
                    },
                    "autotypenumbers": "strict",
                    "coloraxis": {
                      "colorbar": {
                        "outlinewidth": 0,
                        "ticks": ""
                      }
                    },
                    "colorscale": {
                      "diverging": [
                        [
                          0,
                          "#8e0152"
                        ],
                        [
                          0.1,
                          "#c51b7d"
                        ],
                        [
                          0.2,
                          "#de77ae"
                        ],
                        [
                          0.3,
                          "#f1b6da"
                        ],
                        [
                          0.4,
                          "#fde0ef"
                        ],
                        [
                          0.5,
                          "#f7f7f7"
                        ],
                        [
                          0.6,
                          "#e6f5d0"
                        ],
                        [
                          0.7,
                          "#b8e186"
                        ],
                        [
                          0.8,
                          "#7fbc41"
                        ],
                        [
                          0.9,
                          "#4d9221"
                        ],
                        [
                          1,
                          "#276419"
                        ]
                      ],
                      "sequential": [
                        [
                          0,
                          "#0d0887"
                        ],
                        [
                          0.1111111111111111,
                          "#46039f"
                        ],
                        [
                          0.2222222222222222,
                          "#7201a8"
                        ],
                        [
                          0.3333333333333333,
                          "#9c179e"
                        ],
                        [
                          0.4444444444444444,
                          "#bd3786"
                        ],
                        [
                          0.5555555555555556,
                          "#d8576b"
                        ],
                        [
                          0.6666666666666666,
                          "#ed7953"
                        ],
                        [
                          0.7777777777777778,
                          "#fb9f3a"
                        ],
                        [
                          0.8888888888888888,
                          "#fdca26"
                        ],
                        [
                          1,
                          "#f0f921"
                        ]
                      ],
                      "sequentialminus": [
                        [
                          0,
                          "#0d0887"
                        ],
                        [
                          0.1111111111111111,
                          "#46039f"
                        ],
                        [
                          0.2222222222222222,
                          "#7201a8"
                        ],
                        [
                          0.3333333333333333,
                          "#9c179e"
                        ],
                        [
                          0.4444444444444444,
                          "#bd3786"
                        ],
                        [
                          0.5555555555555556,
                          "#d8576b"
                        ],
                        [
                          0.6666666666666666,
                          "#ed7953"
                        ],
                        [
                          0.7777777777777778,
                          "#fb9f3a"
                        ],
                        [
                          0.8888888888888888,
                          "#fdca26"
                        ],
                        [
                          1,
                          "#f0f921"
                        ]
                      ]
                    },
                    "colorway": [
                      "#636efa",
                      "#EF553B",
                      "#00cc96",
                      "#ab63fa",
                      "#FFA15A",
                      "#19d3f3",
                      "#FF6692",
                      "#B6E880",
                      "#FF97FF",
                      "#FECB52"
                    ],
                    "font": {
                      "color": "#2a3f5f"
                    },
                    "geo": {
                      "bgcolor": "white",
                      "lakecolor": "white",
                      "landcolor": "#E5ECF6",
                      "showlakes": true,
                      "showland": true,
                      "subunitcolor": "white"
                    },
                    "hoverlabel": {
                      "align": "left"
                    },
                    "hovermode": "closest",
                    "mapbox": {
                      "style": "light"
                    },
                    "paper_bgcolor": "white",
                    "plot_bgcolor": "#E5ECF6",
                    "polar": {
                      "angularaxis": {
                        "gridcolor": "white",
                        "linecolor": "white",
                        "ticks": ""
                      },
                      "bgcolor": "#E5ECF6",
                      "radialaxis": {
                        "gridcolor": "white",
                        "linecolor": "white",
                        "ticks": ""
                      }
                    },
                    "scene": {
                      "xaxis": {
                        "backgroundcolor": "#E5ECF6",
                        "gridcolor": "white",
                        "gridwidth": 2,
                        "linecolor": "white",
                        "showbackground": true,
                        "ticks": "",
                        "zerolinecolor": "white"
                      },
                      "yaxis": {
                        "backgroundcolor": "#E5ECF6",
                        "gridcolor": "white",
                        "gridwidth": 2,
                        "linecolor": "white",
                        "showbackground": true,
                        "ticks": "",
                        "zerolinecolor": "white"
                      },
                      "zaxis": {
                        "backgroundcolor": "#E5ECF6",
                        "gridcolor": "white",
                        "gridwidth": 2,
                        "linecolor": "white",
                        "showbackground": true,
                        "ticks": "",
                        "zerolinecolor": "white"
                      }
                    },
                    "shapedefaults": {
                      "line": {
                        "color": "#2a3f5f"
                      }
                    },
                    "ternary": {
                      "aaxis": {
                        "gridcolor": "white",
                        "linecolor": "white",
                        "ticks": ""
                      },
                      "baxis": {
                        "gridcolor": "white",
                        "linecolor": "white",
                        "ticks": ""
                      },
                      "bgcolor": "#E5ECF6",
                      "caxis": {
                        "gridcolor": "white",
                        "linecolor": "white",
                        "ticks": ""
                      }
                    },
                    "title": {
                      "x": 0.05
                    },
                    "xaxis": {
                      "automargin": true,
                      "gridcolor": "white",
                      "linecolor": "white",
                      "ticks": "",
                      "title": {
                        "standoff": 15
                      },
                      "zerolinecolor": "white",
                      "zerolinewidth": 2
                    },
                    "yaxis": {
                      "automargin": true,
                      "gridcolor": "white",
                      "linecolor": "white",
                      "ticks": "",
                      "title": {
                        "standoff": 15
                      },
                      "zerolinecolor": "white",
                      "zerolinewidth": 2
                    }
                  }
                },
                "title": {
                  "text": "Simple Exponential Smoothing Model",
                  "x": 0.5,
                  "xanchor": "center",
                  "y": 0.9,
                  "yanchor": "top"
                },
                "xaxis": {
                  "gridcolor": "gray",
                  "gridwidth": 1,
                  "showgrid": true
                },
                "yaxis": {
                  "gridcolor": "gray",
                  "gridwidth": 1,
                  "showgrid": true
                }
              }
            }
          },
          "metadata": {},
          "output_type": "display_data"
        }
      ],
      "source": [
        "fig = go.Figure()\n",
        "\n",
        "# add line / trace 1 to figure\n",
        "fig.add_trace(go.Scatter(\n",
        "    x=SES_test_forecast.index,\n",
        "    y=SES_test_forecast,\n",
        "    marker=dict(\n",
        "        color=\"red\"\n",
        "    ),\n",
        "    showlegend=True, name='Predicted Test Values'\n",
        "))\n",
        "\n",
        "# add line / trace 2 to figure\n",
        "fig.add_trace(go.Scatter(\n",
        "    x=test.index,\n",
        "    y=test,\n",
        "    marker=dict(\n",
        "        color=\"Orange\"\n",
        "    ),\n",
        "    showlegend=True, name= 'Actual Test Values'\n",
        "))\n",
        "\n",
        "\n",
        "# Show grid lines\n",
        "fig.update_layout(plot_bgcolor='black',\n",
        "    paper_bgcolor='black',\n",
        "    font=dict(color='white'),\n",
        "    xaxis=dict(showgrid=True, gridcolor='gray', gridwidth=1),\n",
        "    yaxis=dict(showgrid=True, gridcolor='gray', gridwidth=1),\n",
        "    title={\n",
        "        'text': \"Simple Exponential Smoothing Model\",\n",
        "        'y':0.9,\n",
        "        'x':0.5,\n",
        "        'xanchor': 'center',\n",
        "        'yanchor': 'top'\n",
        "    }\n",
        ")\n",
        "\n",
        "fig.show()"
      ]
    },
    {
      "cell_type": "markdown",
      "metadata": {
        "id": "5HHtwucsZrLv"
      },
      "source": [
        "### Final model training"
      ]
    },
    {
      "cell_type": "code",
      "execution_count": null,
      "metadata": {
        "id": "rSlzAeSXZrLv"
      },
      "outputs": [],
      "source": [
        "model2 = ExponentialSmoothing(df['Lifetouch Heart Rate'], seasonal_periods=12, trend='add', seasonal='add').fit()\n",
        "\n",
        "# Evaluate the model\n",
        "final_SES_predictions = model2.forecast(20)"
      ]
    },
    {
      "cell_type": "code",
      "execution_count": null,
      "metadata": {
        "id": "7hbvWx1gZrLv",
        "outputId": "7b40a1d6-bd54-4cf1-8b49-c694ed2a2921"
      },
      "outputs": [
        {
          "data": {
            "application/vnd.plotly.v1+json": {
              "config": {
                "plotlyServerURL": "https://plot.ly"
              },
              "data": [
                {
                  "marker": {
                    "color": "red"
                  },
                  "name": "Real Data",
                  "showlegend": true,
                  "type": "scatter",
                  "x": [
                    "2015-08-17T15:09:00",
                    "2015-08-17T15:10:00",
                    "2015-08-17T15:11:00",
                    "2015-08-17T15:12:00",
                    "2015-08-17T15:13:00",
                    "2015-08-17T15:14:00",
                    "2015-08-17T15:15:00",
                    "2015-08-17T15:16:00",
                    "2015-08-17T15:17:00",
                    "2015-08-17T15:18:00",
                    "2015-08-17T15:19:00",
                    "2015-08-17T15:20:00",
                    "2015-08-17T15:21:00",
                    "2015-08-17T15:22:00",
                    "2015-08-17T15:23:00",
                    "2015-08-17T15:24:00",
                    "2015-08-17T15:25:00",
                    "2015-08-17T15:26:00",
                    "2015-08-17T15:27:00",
                    "2015-08-17T15:28:00",
                    "2015-08-17T15:29:00",
                    "2015-08-17T15:30:00",
                    "2015-08-17T15:31:00",
                    "2015-08-17T15:32:00",
                    "2015-08-17T15:33:00",
                    "2015-08-17T15:34:00",
                    "2015-08-17T15:35:00",
                    "2015-08-17T15:36:00",
                    "2015-08-17T15:37:00",
                    "2015-08-17T15:38:00",
                    "2015-08-17T15:39:00",
                    "2015-08-17T15:40:00",
                    "2015-08-17T15:41:00",
                    "2015-08-17T15:42:00",
                    "2015-08-17T15:43:00",
                    "2015-08-17T15:44:00",
                    "2015-08-17T15:45:00",
                    "2015-08-17T15:46:00",
                    "2015-08-17T15:47:00",
                    "2015-08-17T15:48:00",
                    "2015-08-17T15:49:00",
                    "2015-08-17T15:50:00",
                    "2015-08-17T15:51:00",
                    "2015-08-17T15:52:00",
                    "2015-08-17T15:53:00",
                    "2015-08-17T15:54:00",
                    "2015-08-17T15:55:00",
                    "2015-08-17T15:56:00",
                    "2015-08-17T15:57:00",
                    "2015-08-17T15:58:00",
                    "2015-08-17T15:59:00",
                    "2015-08-17T16:00:00",
                    "2015-08-17T16:01:00",
                    "2015-08-17T16:02:00",
                    "2015-08-17T16:03:00",
                    "2015-08-17T16:04:00",
                    "2015-08-17T16:05:00",
                    "2015-08-17T16:06:00",
                    "2015-08-17T16:07:00",
                    "2015-08-17T16:08:00",
                    "2015-08-17T16:09:00",
                    "2015-08-17T16:10:00",
                    "2015-08-17T16:11:00",
                    "2015-08-17T16:12:00",
                    "2015-08-17T16:13:00",
                    "2015-08-17T16:14:00",
                    "2015-08-17T16:15:00",
                    "2015-08-17T16:16:00",
                    "2015-08-17T16:17:00",
                    "2015-08-17T16:18:00",
                    "2015-08-17T16:19:00",
                    "2015-08-17T16:20:00",
                    "2015-08-17T16:21:00",
                    "2015-08-17T16:22:00",
                    "2015-08-17T16:23:00",
                    "2015-08-17T16:24:00",
                    "2015-08-17T16:25:00",
                    "2015-08-17T16:26:00",
                    "2015-08-17T16:27:00",
                    "2015-08-17T16:28:00",
                    "2015-08-17T16:29:00",
                    "2015-08-17T16:30:00",
                    "2015-08-17T16:31:00",
                    "2015-08-17T16:32:00",
                    "2015-08-17T16:33:00",
                    "2015-08-17T16:34:00",
                    "2015-08-17T16:35:00",
                    "2015-08-17T16:36:00",
                    "2015-08-17T16:37:00",
                    "2015-08-17T16:38:00",
                    "2015-08-17T16:39:00",
                    "2015-08-17T16:40:00",
                    "2015-08-17T16:41:00",
                    "2015-08-17T16:42:00",
                    "2015-08-17T16:43:00",
                    "2015-08-17T16:44:00",
                    "2015-08-17T16:45:00",
                    "2015-08-17T16:46:00",
                    "2015-08-17T16:47:00",
                    "2015-08-17T16:48:00",
                    "2015-08-17T16:49:00",
                    "2015-08-17T16:50:00",
                    "2015-08-17T16:51:00",
                    "2015-08-17T16:52:00",
                    "2015-08-17T16:53:00",
                    "2015-08-17T16:54:00",
                    "2015-08-17T16:55:00",
                    "2015-08-17T16:56:00",
                    "2015-08-17T16:57:00",
                    "2015-08-17T16:58:00",
                    "2015-08-17T16:59:00",
                    "2015-08-17T17:00:00",
                    "2015-08-17T17:01:00",
                    "2015-08-17T17:02:00",
                    "2015-08-17T17:03:00",
                    "2015-08-17T17:04:00",
                    "2015-08-17T17:05:00",
                    "2015-08-17T17:06:00",
                    "2015-08-17T17:07:00",
                    "2015-08-17T17:08:00",
                    "2015-08-17T17:09:00",
                    "2015-08-17T17:10:00",
                    "2015-08-17T17:11:00",
                    "2015-08-17T17:12:00",
                    "2015-08-17T17:13:00",
                    "2015-08-17T17:14:00",
                    "2015-08-17T17:15:00",
                    "2015-08-17T17:16:00",
                    "2015-08-17T17:17:00",
                    "2015-08-17T17:18:00",
                    "2015-08-17T17:19:00",
                    "2015-08-17T17:20:00",
                    "2015-08-17T17:21:00",
                    "2015-08-17T17:22:00",
                    "2015-08-17T17:23:00",
                    "2015-08-17T17:24:00",
                    "2015-08-17T17:25:00",
                    "2015-08-17T17:26:00",
                    "2015-08-17T17:27:00",
                    "2015-08-17T17:28:00",
                    "2015-08-17T17:29:00",
                    "2015-08-17T17:30:00",
                    "2015-08-17T17:31:00",
                    "2015-08-17T17:32:00",
                    "2015-08-17T17:33:00",
                    "2015-08-17T17:34:00",
                    "2015-08-17T17:35:00",
                    "2015-08-17T17:36:00",
                    "2015-08-17T17:37:00",
                    "2015-08-17T17:38:00",
                    "2015-08-17T17:39:00",
                    "2015-08-17T17:40:00",
                    "2015-08-17T17:41:00",
                    "2015-08-17T17:42:00",
                    "2015-08-17T17:43:00",
                    "2015-08-17T17:44:00",
                    "2015-08-17T17:45:00",
                    "2015-08-17T17:46:00",
                    "2015-08-17T17:47:00",
                    "2015-08-17T17:48:00",
                    "2015-08-17T17:49:00",
                    "2015-08-17T17:50:00",
                    "2015-08-17T17:51:00",
                    "2015-08-17T17:52:00",
                    "2015-08-17T17:53:00",
                    "2015-08-17T17:54:00",
                    "2015-08-17T17:55:00",
                    "2015-08-17T17:56:00",
                    "2015-08-17T17:57:00",
                    "2015-08-17T17:58:00",
                    "2015-08-17T17:59:00",
                    "2015-08-17T18:00:00",
                    "2015-08-17T18:01:00",
                    "2015-08-17T18:02:00",
                    "2015-08-17T18:03:00",
                    "2015-08-17T18:04:00",
                    "2015-08-17T18:05:00",
                    "2015-08-17T18:06:00",
                    "2015-08-17T18:07:00",
                    "2015-08-17T18:08:00",
                    "2015-08-17T18:09:00",
                    "2015-08-17T18:10:00",
                    "2015-08-17T18:11:00",
                    "2015-08-17T18:12:00",
                    "2015-08-17T18:13:00",
                    "2015-08-17T18:14:00",
                    "2015-08-17T18:15:00",
                    "2015-08-17T18:16:00",
                    "2015-08-17T18:17:00",
                    "2015-08-17T18:18:00",
                    "2015-08-17T18:19:00",
                    "2015-08-17T18:20:00",
                    "2015-08-17T18:21:00",
                    "2015-08-17T18:22:00",
                    "2015-08-17T18:23:00",
                    "2015-08-17T18:24:00",
                    "2015-08-17T18:25:00",
                    "2015-08-17T18:26:00",
                    "2015-08-17T18:27:00",
                    "2015-08-17T18:28:00",
                    "2015-08-17T18:29:00",
                    "2015-08-17T18:30:00",
                    "2015-08-17T18:31:00",
                    "2015-08-17T18:32:00",
                    "2015-08-17T18:33:00",
                    "2015-08-17T18:34:00",
                    "2015-08-17T18:35:00",
                    "2015-08-17T18:36:00",
                    "2015-08-17T18:37:00",
                    "2015-08-17T18:38:00",
                    "2015-08-17T18:39:00",
                    "2015-08-17T18:40:00",
                    "2015-08-17T18:41:00",
                    "2015-08-17T18:42:00",
                    "2015-08-17T18:43:00",
                    "2015-08-17T18:44:00",
                    "2015-08-17T18:45:00",
                    "2015-08-17T18:46:00",
                    "2015-08-17T18:47:00",
                    "2015-08-17T18:48:00",
                    "2015-08-17T18:49:00",
                    "2015-08-17T18:50:00",
                    "2015-08-17T18:51:00",
                    "2015-08-17T18:52:00",
                    "2015-08-17T18:53:00",
                    "2015-08-17T18:54:00"
                  ],
                  "y": [
                    139,
                    144,
                    140,
                    138,
                    133,
                    132,
                    132,
                    133,
                    136,
                    137,
                    136,
                    137,
                    139,
                    138,
                    141,
                    139,
                    140,
                    140,
                    139,
                    137,
                    139,
                    139,
                    133,
                    120,
                    139,
                    140,
                    135,
                    141,
                    137,
                    129,
                    129,
                    129,
                    129,
                    129,
                    129,
                    129,
                    129,
                    136,
                    138,
                    142,
                    106,
                    106,
                    143,
                    139,
                    149,
                    154,
                    152,
                    150,
                    144,
                    150,
                    149,
                    149,
                    148,
                    144,
                    142,
                    142,
                    142,
                    141,
                    140,
                    140,
                    139,
                    138,
                    137,
                    137,
                    136,
                    137,
                    136,
                    136,
                    136,
                    136,
                    136,
                    136,
                    137,
                    136,
                    136,
                    136,
                    137,
                    137,
                    136,
                    136,
                    134,
                    134,
                    134,
                    133,
                    132,
                    132,
                    132,
                    132,
                    132,
                    133,
                    133,
                    133,
                    133,
                    133,
                    134,
                    134,
                    133,
                    134,
                    134,
                    133,
                    134,
                    134,
                    133,
                    134,
                    134,
                    134,
                    134,
                    134,
                    138,
                    138,
                    132,
                    133,
                    142,
                    139,
                    146,
                    140,
                    136,
                    134,
                    136,
                    131,
                    137,
                    135,
                    137,
                    137,
                    136,
                    140,
                    142,
                    151,
                    146,
                    154,
                    161,
                    158,
                    160,
                    154,
                    154,
                    158,
                    155,
                    150,
                    153,
                    155,
                    158,
                    163,
                    162,
                    162,
                    163,
                    163,
                    160,
                    159,
                    160,
                    159,
                    166,
                    164,
                    161,
                    167,
                    159,
                    152,
                    152,
                    150,
                    151,
                    155,
                    159,
                    154,
                    157,
                    163,
                    158,
                    163,
                    164,
                    166,
                    169,
                    169,
                    170,
                    172,
                    165,
                    163,
                    156,
                    156,
                    161,
                    161,
                    164,
                    160,
                    158,
                    159,
                    154,
                    158,
                    152,
                    160,
                    155,
                    149,
                    151,
                    148,
                    146,
                    154,
                    155,
                    152,
                    152,
                    156,
                    156,
                    153,
                    154,
                    158,
                    155,
                    150,
                    149,
                    148,
                    156,
                    158,
                    159,
                    160,
                    155,
                    155,
                    148,
                    148,
                    152,
                    152,
                    150,
                    153,
                    158,
                    158,
                    154,
                    155,
                    157,
                    159,
                    151,
                    140,
                    140,
                    138
                  ]
                },
                {
                  "marker": {
                    "color": "Orange"
                  },
                  "name": "Next 20 Forecasts",
                  "showlegend": true,
                  "type": "scatter",
                  "x": [
                    "2015-08-17T18:55:00",
                    "2015-08-17T18:56:00",
                    "2015-08-17T18:57:00",
                    "2015-08-17T18:58:00",
                    "2015-08-17T18:59:00",
                    "2015-08-17T19:00:00",
                    "2015-08-17T19:01:00",
                    "2015-08-17T19:02:00",
                    "2015-08-17T19:03:00",
                    "2015-08-17T19:04:00",
                    "2015-08-17T19:05:00",
                    "2015-08-17T19:06:00",
                    "2015-08-17T19:07:00",
                    "2015-08-17T19:08:00",
                    "2015-08-17T19:09:00",
                    "2015-08-17T19:10:00",
                    "2015-08-17T19:11:00",
                    "2015-08-17T19:12:00",
                    "2015-08-17T19:13:00",
                    "2015-08-17T19:14:00"
                  ],
                  "y": [
                    138.1729645103502,
                    136.95190145420682,
                    139.18751771488851,
                    139.55800794034093,
                    138.55858762772414,
                    139.87512769547612,
                    137.24362823810998,
                    136.39984519969826,
                    137.82025347025342,
                    137.3977539782561,
                    137.76522233170434,
                    138.65892165694638,
                    138.14146636949962,
                    136.92040331335627,
                    139.15601957403797,
                    139.52650979949036,
                    138.5270894868736,
                    139.84362955462555,
                    137.21213009725943,
                    136.36834705884772
                  ]
                }
              ],
              "layout": {
                "font": {
                  "color": "white"
                },
                "paper_bgcolor": "black",
                "plot_bgcolor": "black",
                "template": {
                  "data": {
                    "bar": [
                      {
                        "error_x": {
                          "color": "#2a3f5f"
                        },
                        "error_y": {
                          "color": "#2a3f5f"
                        },
                        "marker": {
                          "line": {
                            "color": "#E5ECF6",
                            "width": 0.5
                          },
                          "pattern": {
                            "fillmode": "overlay",
                            "size": 10,
                            "solidity": 0.2
                          }
                        },
                        "type": "bar"
                      }
                    ],
                    "barpolar": [
                      {
                        "marker": {
                          "line": {
                            "color": "#E5ECF6",
                            "width": 0.5
                          },
                          "pattern": {
                            "fillmode": "overlay",
                            "size": 10,
                            "solidity": 0.2
                          }
                        },
                        "type": "barpolar"
                      }
                    ],
                    "carpet": [
                      {
                        "aaxis": {
                          "endlinecolor": "#2a3f5f",
                          "gridcolor": "white",
                          "linecolor": "white",
                          "minorgridcolor": "white",
                          "startlinecolor": "#2a3f5f"
                        },
                        "baxis": {
                          "endlinecolor": "#2a3f5f",
                          "gridcolor": "white",
                          "linecolor": "white",
                          "minorgridcolor": "white",
                          "startlinecolor": "#2a3f5f"
                        },
                        "type": "carpet"
                      }
                    ],
                    "choropleth": [
                      {
                        "colorbar": {
                          "outlinewidth": 0,
                          "ticks": ""
                        },
                        "type": "choropleth"
                      }
                    ],
                    "contour": [
                      {
                        "colorbar": {
                          "outlinewidth": 0,
                          "ticks": ""
                        },
                        "colorscale": [
                          [
                            0,
                            "#0d0887"
                          ],
                          [
                            0.1111111111111111,
                            "#46039f"
                          ],
                          [
                            0.2222222222222222,
                            "#7201a8"
                          ],
                          [
                            0.3333333333333333,
                            "#9c179e"
                          ],
                          [
                            0.4444444444444444,
                            "#bd3786"
                          ],
                          [
                            0.5555555555555556,
                            "#d8576b"
                          ],
                          [
                            0.6666666666666666,
                            "#ed7953"
                          ],
                          [
                            0.7777777777777778,
                            "#fb9f3a"
                          ],
                          [
                            0.8888888888888888,
                            "#fdca26"
                          ],
                          [
                            1,
                            "#f0f921"
                          ]
                        ],
                        "type": "contour"
                      }
                    ],
                    "contourcarpet": [
                      {
                        "colorbar": {
                          "outlinewidth": 0,
                          "ticks": ""
                        },
                        "type": "contourcarpet"
                      }
                    ],
                    "heatmap": [
                      {
                        "colorbar": {
                          "outlinewidth": 0,
                          "ticks": ""
                        },
                        "colorscale": [
                          [
                            0,
                            "#0d0887"
                          ],
                          [
                            0.1111111111111111,
                            "#46039f"
                          ],
                          [
                            0.2222222222222222,
                            "#7201a8"
                          ],
                          [
                            0.3333333333333333,
                            "#9c179e"
                          ],
                          [
                            0.4444444444444444,
                            "#bd3786"
                          ],
                          [
                            0.5555555555555556,
                            "#d8576b"
                          ],
                          [
                            0.6666666666666666,
                            "#ed7953"
                          ],
                          [
                            0.7777777777777778,
                            "#fb9f3a"
                          ],
                          [
                            0.8888888888888888,
                            "#fdca26"
                          ],
                          [
                            1,
                            "#f0f921"
                          ]
                        ],
                        "type": "heatmap"
                      }
                    ],
                    "heatmapgl": [
                      {
                        "colorbar": {
                          "outlinewidth": 0,
                          "ticks": ""
                        },
                        "colorscale": [
                          [
                            0,
                            "#0d0887"
                          ],
                          [
                            0.1111111111111111,
                            "#46039f"
                          ],
                          [
                            0.2222222222222222,
                            "#7201a8"
                          ],
                          [
                            0.3333333333333333,
                            "#9c179e"
                          ],
                          [
                            0.4444444444444444,
                            "#bd3786"
                          ],
                          [
                            0.5555555555555556,
                            "#d8576b"
                          ],
                          [
                            0.6666666666666666,
                            "#ed7953"
                          ],
                          [
                            0.7777777777777778,
                            "#fb9f3a"
                          ],
                          [
                            0.8888888888888888,
                            "#fdca26"
                          ],
                          [
                            1,
                            "#f0f921"
                          ]
                        ],
                        "type": "heatmapgl"
                      }
                    ],
                    "histogram": [
                      {
                        "marker": {
                          "pattern": {
                            "fillmode": "overlay",
                            "size": 10,
                            "solidity": 0.2
                          }
                        },
                        "type": "histogram"
                      }
                    ],
                    "histogram2d": [
                      {
                        "colorbar": {
                          "outlinewidth": 0,
                          "ticks": ""
                        },
                        "colorscale": [
                          [
                            0,
                            "#0d0887"
                          ],
                          [
                            0.1111111111111111,
                            "#46039f"
                          ],
                          [
                            0.2222222222222222,
                            "#7201a8"
                          ],
                          [
                            0.3333333333333333,
                            "#9c179e"
                          ],
                          [
                            0.4444444444444444,
                            "#bd3786"
                          ],
                          [
                            0.5555555555555556,
                            "#d8576b"
                          ],
                          [
                            0.6666666666666666,
                            "#ed7953"
                          ],
                          [
                            0.7777777777777778,
                            "#fb9f3a"
                          ],
                          [
                            0.8888888888888888,
                            "#fdca26"
                          ],
                          [
                            1,
                            "#f0f921"
                          ]
                        ],
                        "type": "histogram2d"
                      }
                    ],
                    "histogram2dcontour": [
                      {
                        "colorbar": {
                          "outlinewidth": 0,
                          "ticks": ""
                        },
                        "colorscale": [
                          [
                            0,
                            "#0d0887"
                          ],
                          [
                            0.1111111111111111,
                            "#46039f"
                          ],
                          [
                            0.2222222222222222,
                            "#7201a8"
                          ],
                          [
                            0.3333333333333333,
                            "#9c179e"
                          ],
                          [
                            0.4444444444444444,
                            "#bd3786"
                          ],
                          [
                            0.5555555555555556,
                            "#d8576b"
                          ],
                          [
                            0.6666666666666666,
                            "#ed7953"
                          ],
                          [
                            0.7777777777777778,
                            "#fb9f3a"
                          ],
                          [
                            0.8888888888888888,
                            "#fdca26"
                          ],
                          [
                            1,
                            "#f0f921"
                          ]
                        ],
                        "type": "histogram2dcontour"
                      }
                    ],
                    "mesh3d": [
                      {
                        "colorbar": {
                          "outlinewidth": 0,
                          "ticks": ""
                        },
                        "type": "mesh3d"
                      }
                    ],
                    "parcoords": [
                      {
                        "line": {
                          "colorbar": {
                            "outlinewidth": 0,
                            "ticks": ""
                          }
                        },
                        "type": "parcoords"
                      }
                    ],
                    "pie": [
                      {
                        "automargin": true,
                        "type": "pie"
                      }
                    ],
                    "scatter": [
                      {
                        "fillpattern": {
                          "fillmode": "overlay",
                          "size": 10,
                          "solidity": 0.2
                        },
                        "type": "scatter"
                      }
                    ],
                    "scatter3d": [
                      {
                        "line": {
                          "colorbar": {
                            "outlinewidth": 0,
                            "ticks": ""
                          }
                        },
                        "marker": {
                          "colorbar": {
                            "outlinewidth": 0,
                            "ticks": ""
                          }
                        },
                        "type": "scatter3d"
                      }
                    ],
                    "scattercarpet": [
                      {
                        "marker": {
                          "colorbar": {
                            "outlinewidth": 0,
                            "ticks": ""
                          }
                        },
                        "type": "scattercarpet"
                      }
                    ],
                    "scattergeo": [
                      {
                        "marker": {
                          "colorbar": {
                            "outlinewidth": 0,
                            "ticks": ""
                          }
                        },
                        "type": "scattergeo"
                      }
                    ],
                    "scattergl": [
                      {
                        "marker": {
                          "colorbar": {
                            "outlinewidth": 0,
                            "ticks": ""
                          }
                        },
                        "type": "scattergl"
                      }
                    ],
                    "scattermapbox": [
                      {
                        "marker": {
                          "colorbar": {
                            "outlinewidth": 0,
                            "ticks": ""
                          }
                        },
                        "type": "scattermapbox"
                      }
                    ],
                    "scatterpolar": [
                      {
                        "marker": {
                          "colorbar": {
                            "outlinewidth": 0,
                            "ticks": ""
                          }
                        },
                        "type": "scatterpolar"
                      }
                    ],
                    "scatterpolargl": [
                      {
                        "marker": {
                          "colorbar": {
                            "outlinewidth": 0,
                            "ticks": ""
                          }
                        },
                        "type": "scatterpolargl"
                      }
                    ],
                    "scatterternary": [
                      {
                        "marker": {
                          "colorbar": {
                            "outlinewidth": 0,
                            "ticks": ""
                          }
                        },
                        "type": "scatterternary"
                      }
                    ],
                    "surface": [
                      {
                        "colorbar": {
                          "outlinewidth": 0,
                          "ticks": ""
                        },
                        "colorscale": [
                          [
                            0,
                            "#0d0887"
                          ],
                          [
                            0.1111111111111111,
                            "#46039f"
                          ],
                          [
                            0.2222222222222222,
                            "#7201a8"
                          ],
                          [
                            0.3333333333333333,
                            "#9c179e"
                          ],
                          [
                            0.4444444444444444,
                            "#bd3786"
                          ],
                          [
                            0.5555555555555556,
                            "#d8576b"
                          ],
                          [
                            0.6666666666666666,
                            "#ed7953"
                          ],
                          [
                            0.7777777777777778,
                            "#fb9f3a"
                          ],
                          [
                            0.8888888888888888,
                            "#fdca26"
                          ],
                          [
                            1,
                            "#f0f921"
                          ]
                        ],
                        "type": "surface"
                      }
                    ],
                    "table": [
                      {
                        "cells": {
                          "fill": {
                            "color": "#EBF0F8"
                          },
                          "line": {
                            "color": "white"
                          }
                        },
                        "header": {
                          "fill": {
                            "color": "#C8D4E3"
                          },
                          "line": {
                            "color": "white"
                          }
                        },
                        "type": "table"
                      }
                    ]
                  },
                  "layout": {
                    "annotationdefaults": {
                      "arrowcolor": "#2a3f5f",
                      "arrowhead": 0,
                      "arrowwidth": 1
                    },
                    "autotypenumbers": "strict",
                    "coloraxis": {
                      "colorbar": {
                        "outlinewidth": 0,
                        "ticks": ""
                      }
                    },
                    "colorscale": {
                      "diverging": [
                        [
                          0,
                          "#8e0152"
                        ],
                        [
                          0.1,
                          "#c51b7d"
                        ],
                        [
                          0.2,
                          "#de77ae"
                        ],
                        [
                          0.3,
                          "#f1b6da"
                        ],
                        [
                          0.4,
                          "#fde0ef"
                        ],
                        [
                          0.5,
                          "#f7f7f7"
                        ],
                        [
                          0.6,
                          "#e6f5d0"
                        ],
                        [
                          0.7,
                          "#b8e186"
                        ],
                        [
                          0.8,
                          "#7fbc41"
                        ],
                        [
                          0.9,
                          "#4d9221"
                        ],
                        [
                          1,
                          "#276419"
                        ]
                      ],
                      "sequential": [
                        [
                          0,
                          "#0d0887"
                        ],
                        [
                          0.1111111111111111,
                          "#46039f"
                        ],
                        [
                          0.2222222222222222,
                          "#7201a8"
                        ],
                        [
                          0.3333333333333333,
                          "#9c179e"
                        ],
                        [
                          0.4444444444444444,
                          "#bd3786"
                        ],
                        [
                          0.5555555555555556,
                          "#d8576b"
                        ],
                        [
                          0.6666666666666666,
                          "#ed7953"
                        ],
                        [
                          0.7777777777777778,
                          "#fb9f3a"
                        ],
                        [
                          0.8888888888888888,
                          "#fdca26"
                        ],
                        [
                          1,
                          "#f0f921"
                        ]
                      ],
                      "sequentialminus": [
                        [
                          0,
                          "#0d0887"
                        ],
                        [
                          0.1111111111111111,
                          "#46039f"
                        ],
                        [
                          0.2222222222222222,
                          "#7201a8"
                        ],
                        [
                          0.3333333333333333,
                          "#9c179e"
                        ],
                        [
                          0.4444444444444444,
                          "#bd3786"
                        ],
                        [
                          0.5555555555555556,
                          "#d8576b"
                        ],
                        [
                          0.6666666666666666,
                          "#ed7953"
                        ],
                        [
                          0.7777777777777778,
                          "#fb9f3a"
                        ],
                        [
                          0.8888888888888888,
                          "#fdca26"
                        ],
                        [
                          1,
                          "#f0f921"
                        ]
                      ]
                    },
                    "colorway": [
                      "#636efa",
                      "#EF553B",
                      "#00cc96",
                      "#ab63fa",
                      "#FFA15A",
                      "#19d3f3",
                      "#FF6692",
                      "#B6E880",
                      "#FF97FF",
                      "#FECB52"
                    ],
                    "font": {
                      "color": "#2a3f5f"
                    },
                    "geo": {
                      "bgcolor": "white",
                      "lakecolor": "white",
                      "landcolor": "#E5ECF6",
                      "showlakes": true,
                      "showland": true,
                      "subunitcolor": "white"
                    },
                    "hoverlabel": {
                      "align": "left"
                    },
                    "hovermode": "closest",
                    "mapbox": {
                      "style": "light"
                    },
                    "paper_bgcolor": "white",
                    "plot_bgcolor": "#E5ECF6",
                    "polar": {
                      "angularaxis": {
                        "gridcolor": "white",
                        "linecolor": "white",
                        "ticks": ""
                      },
                      "bgcolor": "#E5ECF6",
                      "radialaxis": {
                        "gridcolor": "white",
                        "linecolor": "white",
                        "ticks": ""
                      }
                    },
                    "scene": {
                      "xaxis": {
                        "backgroundcolor": "#E5ECF6",
                        "gridcolor": "white",
                        "gridwidth": 2,
                        "linecolor": "white",
                        "showbackground": true,
                        "ticks": "",
                        "zerolinecolor": "white"
                      },
                      "yaxis": {
                        "backgroundcolor": "#E5ECF6",
                        "gridcolor": "white",
                        "gridwidth": 2,
                        "linecolor": "white",
                        "showbackground": true,
                        "ticks": "",
                        "zerolinecolor": "white"
                      },
                      "zaxis": {
                        "backgroundcolor": "#E5ECF6",
                        "gridcolor": "white",
                        "gridwidth": 2,
                        "linecolor": "white",
                        "showbackground": true,
                        "ticks": "",
                        "zerolinecolor": "white"
                      }
                    },
                    "shapedefaults": {
                      "line": {
                        "color": "#2a3f5f"
                      }
                    },
                    "ternary": {
                      "aaxis": {
                        "gridcolor": "white",
                        "linecolor": "white",
                        "ticks": ""
                      },
                      "baxis": {
                        "gridcolor": "white",
                        "linecolor": "white",
                        "ticks": ""
                      },
                      "bgcolor": "#E5ECF6",
                      "caxis": {
                        "gridcolor": "white",
                        "linecolor": "white",
                        "ticks": ""
                      }
                    },
                    "title": {
                      "x": 0.05
                    },
                    "xaxis": {
                      "automargin": true,
                      "gridcolor": "white",
                      "linecolor": "white",
                      "ticks": "",
                      "title": {
                        "standoff": 15
                      },
                      "zerolinecolor": "white",
                      "zerolinewidth": 2
                    },
                    "yaxis": {
                      "automargin": true,
                      "gridcolor": "white",
                      "linecolor": "white",
                      "ticks": "",
                      "title": {
                        "standoff": 15
                      },
                      "zerolinecolor": "white",
                      "zerolinewidth": 2
                    }
                  }
                },
                "title": {
                  "text": "The next 20 predictions",
                  "x": 0.5,
                  "xanchor": "center",
                  "y": 0.9,
                  "yanchor": "top"
                },
                "xaxis": {
                  "gridcolor": "gray",
                  "gridwidth": 1,
                  "showgrid": true
                },
                "yaxis": {
                  "gridcolor": "gray",
                  "gridwidth": 1,
                  "showgrid": true
                }
              }
            }
          },
          "metadata": {},
          "output_type": "display_data"
        }
      ],
      "source": [
        "fig = go.Figure()\n",
        "\n",
        "fig.add_trace(go.Scatter(\n",
        "    x=df['Lifetouch Heart Rate'].index,\n",
        "    y=df['Lifetouch Heart Rate'],\n",
        "    marker=dict(\n",
        "        color=\"red\"\n",
        "    ),\n",
        "    showlegend=True, name='Real Data'\n",
        "))\n",
        "\n",
        "# add line / trace 2 to figure\n",
        "fig.add_trace(go.Scatter(\n",
        "    x=final_SES_predictions.index,\n",
        "    y=final_SES_predictions,\n",
        "    marker=dict(\n",
        "        color=\"Orange\"\n",
        "    ),\n",
        "    showlegend=True, name= 'Next 20 Forecasts'\n",
        "))\n",
        "\n",
        "\n",
        "# Show grid lines\n",
        "fig.update_layout(plot_bgcolor='black',\n",
        "    paper_bgcolor='black',\n",
        "    font=dict(color='white'),\n",
        "    xaxis=dict(showgrid=True, gridcolor='gray', gridwidth=1),\n",
        "    yaxis=dict(showgrid=True, gridcolor='gray', gridwidth=1),\n",
        "    title={\n",
        "        'text': \"The next 20 predictions\",\n",
        "        'y':0.9,\n",
        "        'x':0.5,\n",
        "        'xanchor': 'center',\n",
        "        'yanchor': 'top'\n",
        "    }\n",
        ")\n",
        "\n",
        "fig.show()"
      ]
    },
    {
      "cell_type": "markdown",
      "metadata": {
        "id": "eIi_y9ItZrLv"
      },
      "source": [
        "## Model Evaluation"
      ]
    },
    {
      "cell_type": "code",
      "execution_count": null,
      "metadata": {
        "id": "VDZob4FOZrLv",
        "outputId": "bde8aefc-a637-49dd-f52e-e67e97140fbc"
      },
      "outputs": [
        {
          "name": "stdout",
          "output_type": "stream",
          "text": [
            "8.322931587398356\n",
            "152.1\n",
            "156.76503584330825\n",
            "-4.66503584330826\n"
          ]
        }
      ],
      "source": [
        "print(rmse(test, SES_test_forecast))\n",
        "print(test.mean())\n",
        "print(SES_test_forecast.mean())\n",
        "print(test.mean() - SES_test_forecast.mean())"
      ]
    },
    {
      "cell_type": "code",
      "execution_count": null,
      "metadata": {
        "id": "QZ_tnaZfZrLv",
        "outputId": "695d7471-c647-43aa-be85-a88ea5e7c201"
      },
      "outputs": [
        {
          "data": {
            "image/png": "[encoded data removed]",
            "text/plain": [
              "<Figure size 1400x1200 with 9 Axes>"
            ]
          },
          "metadata": {},
          "output_type": "display_data"
        }
      ],
      "source": [
        "fig, axes = plt.subplots(3, 3, figsize=(14,12), dpi=100)\n",
        "axes[0, 0].plot(df['Lifetouch Heart Rate'], color='r')\n",
        "axes[0, 0].set_title('Original Series')\n",
        "plot_acf(df['Lifetouch Heart Rate'], lags=50, ax=axes[0, 1], color='r')\n",
        "plot_pacf(df['Lifetouch Heart Rate'], lags=50, ax=axes[0, 2], color='r')\n",
        "\n",
        "# 1st Differencing\n",
        "axes[1, 0].plot(df['Lifetouch Heart Rate'].diff(), color='r')\n",
        "axes[1, 0].set_title('1st Order Differencing')\n",
        "plot_acf(df['Lifetouch Heart Rate'].diff().dropna(), ax=axes[1, 1], color='r')\n",
        "plot_pacf(df['Lifetouch Heart Rate'].diff().dropna(), ax=axes[1, 2], color='r')\n",
        "\n",
        "# 2nd Differencing\n",
        "axes[2, 0].plot(df['Lifetouch Heart Rate'].diff().diff(), color='r')\n",
        "axes[2, 0].set_title('2nd Order Differencing')\n",
        "plot_acf(df['Lifetouch Heart Rate'].diff().diff().dropna(), ax=axes[2, 1], color='r')\n",
        "plot_pacf(df['Lifetouch Heart Rate'].diff().diff().dropna(), ax=axes[2, 2], color='r')\n",
        "\n",
        "plt.show();"
      ]
    },
    {
      "cell_type": "markdown",
      "metadata": {
        "id": "XiExvMvXZrLv"
      },
      "source": [
        "## Alhamdulillah"
      ]
    }
  ],
  "metadata": {
    "kernelspec": {
      "display_name": "Python 3",
      "language": "python",
      "name": "python3"
    },
    "language_info": {
      "codemirror_mode": {
        "name": "ipython",
        "version": 3
      },
      "file_extension": ".py",
      "mimetype": "text/x-python",
      "name": "python",
      "nbconvert_exporter": "python",
      "pygments_lexer": "ipython3",
      "version": "3.10.8"
    },
    "orig_nbformat": 4,
    "vscode": {
      "interpreter": {
        "hash": "b0fa6594d8f4cbf19f97940f81e996739fb7646882a419484c72d19e05852a7e"
      }
    },
    "colab": {
      "provenance": []
    }
  },
  "nbformat": 4,
  "nbformat_minor": 0
}